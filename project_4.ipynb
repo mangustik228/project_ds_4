{
 "cells": [
  {
   "cell_type": "markdown",
   "metadata": {},
   "source": [
    "## Содержание <a id=\"main_title\"></a>"
   ]
  },
  {
   "cell_type": "markdown",
   "metadata": {},
   "source": [
    "1. [Исследование объявлений о продаже квартир](#description_project)\n",
    "2. [Открытие файлов, описание столбцов](#open_data)\n",
    "3. [Предъобратка данных](#reprocessing)\n",
    "  - [Дубли](#duplicates)\n",
    "  - [Объединение таблиц](#merging)\n",
    "  - [Работа с пропусками](#isnull)\n",
    "  - [Изменение типов данных и удаление лишнего](#change_type)\n",
    "  - [Добавление колонок](#new_columns)\n",
    "4. [Исследовательский анализ данных](#analyze)\n",
    "  - [Ежегодные статистики](#yearly_statistics)\n",
    "  - [Зависимость от возраста](#older_statistics)\n"
   ]
  },
  {
   "cell_type": "markdown",
   "metadata": {},
   "source": [
    "## Описание проекта <a id=\"description_project\"></a>"
   ]
  },
  {
   "cell_type": "markdown",
   "metadata": {},
   "source": [
    "Описание проекта  \n",
    "Заказчик этого исследования — `Министерство культуры Российской Федерации`.  \n",
    "Вам нужно изучить рынок российского кинопроката и выявить текущие тренды. Уделите внимание фильмам, которые получили государственную поддержку. Попробуйте ответить на вопрос, насколько такие фильмы интересны зрителю.  \n",
    "Набор данных содержит информацию о прокатных удостоверениях, сборах и государственной поддержке фильмов, а также информацию с сайта КиноПоиск."
   ]
  },
  {
   "cell_type": "markdown",
   "metadata": {},
   "source": [
    "Основные цели проекта:\n",
    "- Статистика по годам: сколько ежегодно выходит фильмов?\n",
    "- Найти изменения выручки по годам\n",
    "- Определить, влияет ли возрастные ограничения на сборы. Меняется ли картинка с годами?\n",
    "- Исследовать фильмы с гос.поддержкой(окупаемость и рейтинг)"
   ]
  },
  {
   "cell_type": "markdown",
   "metadata": {},
   "source": [
    "## Открытие файлов, описание столбцов <a id=\"open_data\"></a>"
   ]
  },
  {
   "cell_type": "code",
   "execution_count": 239,
   "metadata": {},
   "outputs": [],
   "source": [
    "import pandas as pd\n",
    "df = pd.read_csv('mkrf_movies.csv')\n",
    "df2 = pd.read_csv('mkrf_shows.csv')"
   ]
  },
  {
   "cell_type": "markdown",
   "metadata": {},
   "source": [
    "Описание столбцов:\n",
    "- `title` — название фильма;\n",
    "- `puNumber` — номер прокатного удостоверения;\n",
    "- `show_start_date` — дата премьеры фильма;\n",
    "- `type` — тип фильма;\n",
    "- `film_studio` — студия-производитель;\n",
    "- `production_country` — страна-производитель;\n",
    "- `director` — режиссёр;\n",
    "- `producer` — продюсер;\n",
    "- `age_restriction` — возрастная категория;\n",
    "- `refundable_support` — объём возвратных средств государственной поддержки;\n",
    "- `nonrefundable_support` — объём невозвратных средств государственной поддержки;\n",
    "- `financing_source` — источник государственного финансирования;\n",
    "- `budget` — общий бюджет фильма;\n",
    "- `ratings` — рейтинг фильма на КиноПоиске;\n",
    "- `genres` — жанр фильма.\n",
    "- `box_office` — сборы в рублях. (из второй базы)\n"
   ]
  },
  {
   "cell_type": "markdown",
   "metadata": {},
   "source": [
    "[Вернуться к содержанию](#main_title)"
   ]
  },
  {
   "cell_type": "markdown",
   "metadata": {},
   "source": [
    "## Предъобратка данных <a id=\"reprocessing\"></a>"
   ]
  },
  {
   "cell_type": "markdown",
   "metadata": {},
   "source": [
    "### Объединение таблиц <a id=\"merging\"></a>"
   ]
  },
  {
   "cell_type": "markdown",
   "metadata": {},
   "source": [
    "Объединение возможно провести только по номеру прокатного удостоверния. следовательно надо убедиться что значения уникальные"
   ]
  },
  {
   "cell_type": "code",
   "execution_count": 240,
   "metadata": {},
   "outputs": [
    {
     "name": "stdout",
     "output_type": "stream",
     "text": [
      "2\n",
      "0\n"
     ]
    }
   ],
   "source": [
    "print(len(df[df['puNumber'].duplicated()]))\n",
    "print(len(df2[df2['puNumber'].duplicated()]))"
   ]
  },
  {
   "cell_type": "code",
   "execution_count": 241,
   "metadata": {},
   "outputs": [],
   "source": [
    "# дубликаты есть, но всего парочка... кикаем\n",
    "df.drop_duplicates(subset='puNumber', inplace=True)"
   ]
  },
  {
   "cell_type": "code",
   "execution_count": 242,
   "metadata": {},
   "outputs": [],
   "source": [
    "# При первой попытке объединить выдал ошибку, разные типы, при попытке перевести в int, выдал оишбку на \"нет\":\n",
    "df = df.query('puNumber != \"нет\"')\n",
    "df['puNumber'] = df['puNumber'].astype(int)\n",
    "df = df.merge(df2, on='puNumber', how='outer')"
   ]
  },
  {
   "cell_type": "code",
   "execution_count": 243,
   "metadata": {},
   "outputs": [],
   "source": [
    "del df2 # Удаляем, чтоб глаза не мазолила в пространстве имен"
   ]
  },
  {
   "cell_type": "markdown",
   "metadata": {},
   "source": [
    "[Вернуться к содержанию](#main_title)"
   ]
  },
  {
   "cell_type": "markdown",
   "metadata": {},
   "source": [
    "### Дубли <a id=\"duplicates\"></a>"
   ]
  },
  {
   "cell_type": "code",
   "execution_count": 244,
   "metadata": {},
   "outputs": [],
   "source": [
    "# Пробежав глазами, видно дубли по названиям... 2разных фильма с одним названием бывают, \n",
    "# а вот чтоб 1 режиссер снял 2фильма с одним названием: нонсанс, поэтому удаляем как удаляем\n",
    "df.drop_duplicates(subset=['title','director'],inplace=True)\n"
   ]
  },
  {
   "cell_type": "markdown",
   "metadata": {},
   "source": [
    "[Вернуться к содержанию](#main_title)"
   ]
  },
  {
   "cell_type": "markdown",
   "metadata": {},
   "source": [
    "### Работа с пропусками <a id=\"isnull\"></a>"
   ]
  },
  {
   "cell_type": "code",
   "execution_count": 245,
   "metadata": {},
   "outputs": [
    {
     "name": "stdout",
     "output_type": "stream",
     "text": [
      "<class 'pandas.core.frame.DataFrame'>\n",
      "Int64Index: 6801 entries, 0 to 7482\n",
      "Data columns (total 16 columns):\n",
      " #   Column                 Non-Null Count  Dtype  \n",
      "---  ------                 --------------  -----  \n",
      " 0   title                  6801 non-null   object \n",
      " 1   puNumber               6801 non-null   int32  \n",
      " 2   show_start_date        6801 non-null   object \n",
      " 3   type                   6801 non-null   object \n",
      " 4   film_studio            6784 non-null   object \n",
      " 5   production_country     6799 non-null   object \n",
      " 6   director               6792 non-null   object \n",
      " 7   producer               6242 non-null   object \n",
      " 8   age_restriction        6801 non-null   object \n",
      " 9   refundable_support     331 non-null    float64\n",
      " 10  nonrefundable_support  331 non-null    float64\n",
      " 11  budget                 331 non-null    float64\n",
      " 12  financing_source       331 non-null    object \n",
      " 13  ratings                5843 non-null   object \n",
      " 14  genres                 5834 non-null   object \n",
      " 15  box_office             3027 non-null   float64\n",
      "dtypes: float64(4), int32(1), object(11)\n",
      "memory usage: 876.7+ KB\n"
     ]
    }
   ],
   "source": [
    "df.info()"
   ]
  },
  {
   "cell_type": "markdown",
   "metadata": {},
   "source": [
    "|Название столбца|Что будем с делать с пропусками|\n",
    "|-----------------------|------------------------------------------------|\n",
    "|`film_studio`| в исследовании не участвует(оставим NaN)|\n",
    "|`production_country`| всего пару пропусков - удалим значения|\n",
    "|`director`| в исследовании не участвует(можно удалить, но зачем то просят выделить фамилию)|\n",
    "|`producer`| в исследовании не участвует(можно удалить)|\n",
    "|`refundable_support`| пропуски заполним нулями*|\n",
    "|`nonrefundable_support`| пропуски заполним нулями|\n",
    "|`budget`| сначало не будем трогать, как до момента бюджета доберемся, уберем все строки с NaN значениями|\n",
    "|`financing_source`| поставим значение \"Без госсподержки\"|\n",
    "|`ratings`| Значение важное и с бухты-барахты поставить нельзя. удаляем довольно большое кол-во строк|\n",
    "|`genres`| Оставим пропуски данных|\n",
    "|`box_office`| Оставим пропуски данных|\n",
    "\n",
    "*Столбцы связанные с гос.бюджетом NaN заполним нулями, т.к. скорее всего это связано с тем что поддержки не было или фильм забугорный и данных об этом нет, в исследовании по гос.поддержки, забугорные фильмы выкинем все равно и будем смотреть только российские\n"
   ]
  },
  {
   "cell_type": "code",
   "execution_count": 246,
   "metadata": {},
   "outputs": [],
   "source": [
    "df.dropna(subset=['production_country'], inplace=True)\n",
    "df.dropna(subset=['ratings'], inplace=True)\n",
    "df['refundable_support'].fillna(0, inplace=True)\n",
    "df['nonrefundable_support'].fillna(0, inplace=True)\n",
    "df['financing_source'].fillna('Без госсподдержки', inplace=True)\n"
   ]
  },
  {
   "cell_type": "markdown",
   "metadata": {},
   "source": [
    "[Вернуться к содержанию](#main_title)"
   ]
  },
  {
   "cell_type": "markdown",
   "metadata": {},
   "source": [
    "### Изменение типов данных и удаление лишнего <a id=\"change_type\"></a>"
   ]
  },
  {
   "cell_type": "code",
   "execution_count": 247,
   "metadata": {},
   "outputs": [
    {
     "data": {
      "text/plain": [
       "Художественный                3716\n",
       " Художественный               1219\n",
       "Анимационный                   514\n",
       "Прочие                         197\n",
       "Документальный                 159\n",
       "Научно-популярный               34\n",
       " Анимационный                    1\n",
       "Музыкально-развлекательный       1\n",
       "Name: type, dtype: int64"
      ]
     },
     "execution_count": 247,
     "metadata": {},
     "output_type": "execute_result"
    }
   ],
   "source": [
    "df['type'].value_counts()"
   ]
  },
  {
   "cell_type": "code",
   "execution_count": 248,
   "metadata": {},
   "outputs": [],
   "source": [
    "change_types = {\n",
    "    ' Художественный' : 'Художественный',\n",
    "    'Научно-популярный' : 'Прочие',\n",
    "    'Музыкально-развлекательный' : 'Прочие',\n",
    "    ' Анимационный' : 'Анимационный',\n",
    "}\n",
    "df['type'] = df['type'].replace(change_types)\n",
    "del change_types"
   ]
  },
  {
   "cell_type": "code",
   "execution_count": 249,
   "metadata": {},
   "outputs": [],
   "source": [
    "df['show_start_date'] = pd.to_datetime(df['show_start_date'], format='%Y-%m-%dT%H:%M:%S').dt.round('1d')\n",
    "df['year'] = df['show_start_date'].dt.year"
   ]
  },
  {
   "cell_type": "code",
   "execution_count": 250,
   "metadata": {},
   "outputs": [],
   "source": [
    "# Вообщем нам больше столбец show_start_date и нужен...\n",
    "df.drop(columns=['show_start_date', 'producer'], inplace=True)"
   ]
  },
  {
   "cell_type": "code",
   "execution_count": 251,
   "metadata": {},
   "outputs": [
    {
     "data": {
      "text/plain": [
       "США                                                                    1716\n",
       "Россия                                                                 1284\n",
       "СССР                                                                    329\n",
       "Франция                                                                 266\n",
       "Великобритания                                                          174\n",
       "                                                                       ... \n",
       "КНР - Сингапур                                                            1\n",
       "Франция - Бельгия - Великобритания - США - Нидерланды - Канада            1\n",
       "США - Россия - Польша - Германия - Пуэрто Рико                            1\n",
       "Франция - Бельгия - Канада                                                1\n",
       "Дания - Канада - Швеция - Франция - Германия - Великобритания - США       1\n",
       "Name: production_country, Length: 873, dtype: int64"
      ]
     },
     "execution_count": 251,
     "metadata": {},
     "output_type": "execute_result"
    }
   ],
   "source": [
    "df['production_country'].value_counts()"
   ]
  },
  {
   "cell_type": "code",
   "execution_count": 252,
   "metadata": {},
   "outputs": [
    {
     "data": {
      "text/plain": [
       "драма                           454\n",
       "комедия                         330\n",
       "мелодрама,комедия               181\n",
       "драма,мелодрама                 170\n",
       "драма,мелодрама,комедия         168\n",
       "                               ... \n",
       "мелодрама,приключения,боевик      1\n",
       "комедия,криминал,биография        1\n",
       "комедия,приключения,история       1\n",
       "боевик,драма,вестерн              1\n",
       "мелодрама,история,драма           1\n",
       "Name: genres, Length: 742, dtype: int64"
      ]
     },
     "execution_count": 252,
     "metadata": {},
     "output_type": "execute_result"
    }
   ],
   "source": [
    "df['genres'].value_counts()"
   ]
  },
  {
   "cell_type": "markdown",
   "metadata": {},
   "source": [
    "[Вернуться к содержанию](#main_title)"
   ]
  },
  {
   "cell_type": "markdown",
   "metadata": {},
   "source": [
    "### Добавления колонок <a id=\"new_columns\"></a>"
   ]
  },
  {
   "cell_type": "code",
   "execution_count": 253,
   "metadata": {},
   "outputs": [
    {
     "name": "stdout",
     "output_type": "stream",
     "text": [
      "мелодрама\n",
      "None\n",
      "мелодрама\n"
     ]
    }
   ],
   "source": [
    "def extraction_genre(row):\n",
    "    try:\n",
    "        row = row.split(',')\n",
    "        return row[0]\n",
    "    except:\n",
    "        return None\n",
    "\n",
    "# Проверка работоспособности функции\n",
    "print(extraction_genre('мелодрама'))\n",
    "print(extraction_genre(None))\n",
    "print(extraction_genre('мелодрама, драма'))"
   ]
  },
  {
   "cell_type": "code",
   "execution_count": 254,
   "metadata": {},
   "outputs": [],
   "source": [
    "df['main_genre'] = df['genres'].apply(extraction_genre)"
   ]
  },
  {
   "cell_type": "code",
   "execution_count": 256,
   "metadata": {},
   "outputs": [],
   "source": [
    "# Сразу переименовываем жанры которые редко встречаются.\n",
    "check_genre = df['main_genre'].value_counts()\n",
    "df['main_genre'].fillna('неизвестно', inplace=True)\n",
    "df['main_genre'] = df['main_genre'].apply(\n",
    "    lambda row: 'другой' if check_genre[row] < 100 else row)\n",
    "del check_genre\n",
    "df.drop(columns=['genres'], inplace=True)\n"
   ]
  },
  {
   "cell_type": "code",
   "execution_count": 257,
   "metadata": {},
   "outputs": [
    {
     "data": {
      "text/plain": [
       "Вуди Аллен                                           13\n",
       "Стивен Содерберг                                     12\n",
       "Ридли Скотт                                          11\n",
       "Л.Гайдай                                             10\n",
       "Люк Бессон                                           10\n",
       "                                                     ..\n",
       "А.Ананикян, В.Рейнгеверц                              1\n",
       "Е.Салабай, Е.Шабанова, А.Соколов, И.Пшонкин и др.     1\n",
       "К.Белевич                                             1\n",
       "В.Крючков                                             1\n",
       "И.Трусов                                              1\n",
       "Name: director, Length: 4150, dtype: int64"
      ]
     },
     "execution_count": 257,
     "metadata": {},
     "output_type": "execute_result"
    }
   ],
   "source": [
    "df['director'].value_counts()"
   ]
  },
  {
   "cell_type": "code",
   "execution_count": 258,
   "metadata": {},
   "outputs": [],
   "source": [
    "df['director'] = df['director'].fillna('неизвестен')"
   ]
  },
  {
   "cell_type": "code",
   "execution_count": 259,
   "metadata": {},
   "outputs": [
    {
     "name": "stdout",
     "output_type": "stream",
     "text": [
      "Е.Салабай,\n",
      "Ридли Скотт\n",
      "Люк\n"
     ]
    }
   ],
   "source": [
    "def extraction_director(row):\n",
    "    row = row.split()\n",
    "    if '.' in row[0]:\n",
    "        return row[0]\n",
    "    if len(row) == 1:\n",
    "        return row[0]\n",
    "    if len(row) >= 2:\n",
    "        return ' '.join(row[:2])\n",
    "    return row\n",
    "    \n",
    "print(extraction_director('Е.Салабай, Е.Шабанова, А.Соколов, И.Пшонкин'))\n",
    "print(extraction_director('Ридли Скотт'))\n",
    "print(extraction_director('Люк'))\n",
    "df['correct_director'] = df['director'].apply(extraction_director)\n",
    "df.drop(columns=['director'], inplace=True)"
   ]
  },
  {
   "cell_type": "code",
   "execution_count": 260,
   "metadata": {},
   "outputs": [],
   "source": [
    "df['part_of_state_budget'] = (df['nonrefundable_support'] + df['refundable_support']) / df['budget']\n",
    "# При деление на ноль возникает inf(бесконечность)... стоит от нее избавиться\n",
    "df =  df.query('part_of_state_budget != inf')"
   ]
  },
  {
   "cell_type": "markdown",
   "metadata": {},
   "source": [
    "[Вернуться к содержанию](#main_title)"
   ]
  },
  {
   "cell_type": "markdown",
   "metadata": {},
   "source": [
    "#### Вывод по обработке:\n",
    "Удалены столбцы которые не нужны будут в дальнейшем, в категориальных переменных проблема, в том что есть записи из разряда `Россия - Бельгия - Польша`\n",
    "такая же история со студиями. Студии можно проигнорировать, а вот страны надо будет лемматизировать и доставать Россию.\n",
    "Добавлены столбцы согласно ТЗ"
   ]
  },
  {
   "cell_type": "markdown",
   "metadata": {},
   "source": [
    "[Вернуться к содержанию](#main_title)"
   ]
  },
  {
   "cell_type": "markdown",
   "metadata": {},
   "source": [
    "## Исследовательский анализ данных <a id=\"analyze\"></a>"
   ]
  },
  {
   "cell_type": "markdown",
   "metadata": {},
   "source": [
    "### Ежегодная статистка <a id=\"yearly_statistics\"></a>"
   ]
  },
  {
   "cell_type": "code",
   "execution_count": 261,
   "metadata": {},
   "outputs": [
    {
     "data": {
      "text/plain": [
       "<AxesSubplot:xlabel='year'>"
      ]
     },
     "execution_count": 261,
     "metadata": {},
     "output_type": "execute_result"
    },
    {
     "data": {
      "image/png": "[encoded data removed]",
      "text/plain": [
       "<Figure size 432x288 with 1 Axes>"
      ]
     },
     "metadata": {
      "needs_background": "light"
     },
     "output_type": "display_data"
    }
   ],
   "source": [
    "# Добавил ограничения по y с нуля, иначе очень нерепрезентативно было... \n",
    "df.pivot_table(index='year', values=['type'], aggfunc=['count']).plot(grid=True, ylim=(0,750))\n"
   ]
  },
  {
   "cell_type": "code",
   "execution_count": 288,
   "metadata": {},
   "outputs": [
    {
     "data": {
      "text/html": [
       "<div>\n",
       "<style scoped>\n",
       "    .dataframe tbody tr th:only-of-type {\n",
       "        vertical-align: middle;\n",
       "    }\n",
       "\n",
       "    .dataframe tbody tr th {\n",
       "        vertical-align: top;\n",
       "    }\n",
       "\n",
       "    .dataframe thead tr th {\n",
       "        text-align: left;\n",
       "    }\n",
       "\n",
       "    .dataframe thead tr:last-of-type th {\n",
       "        text-align: right;\n",
       "    }\n",
       "</style>\n",
       "<table border=\"1\" class=\"dataframe\">\n",
       "  <thead>\n",
       "    <tr>\n",
       "      <th></th>\n",
       "      <th>mean</th>\n",
       "      <th>median</th>\n",
       "      <th>count</th>\n",
       "      <th>sum</th>\n",
       "    </tr>\n",
       "    <tr>\n",
       "      <th></th>\n",
       "      <th>box_office</th>\n",
       "      <th>box_office</th>\n",
       "      <th>box_office</th>\n",
       "      <th>box_office</th>\n",
       "    </tr>\n",
       "    <tr>\n",
       "      <th>year</th>\n",
       "      <th></th>\n",
       "      <th></th>\n",
       "      <th></th>\n",
       "      <th></th>\n",
       "    </tr>\n",
       "  </thead>\n",
       "  <tbody>\n",
       "    <tr>\n",
       "      <th>2010</th>\n",
       "      <td>2.780112e+04</td>\n",
       "      <td>1.916000e+03</td>\n",
       "      <td>85</td>\n",
       "      <td>2.363095e+06</td>\n",
       "    </tr>\n",
       "    <tr>\n",
       "      <th>2011</th>\n",
       "      <td>2.041113e+04</td>\n",
       "      <td>3.085000e+03</td>\n",
       "      <td>93</td>\n",
       "      <td>1.898235e+06</td>\n",
       "    </tr>\n",
       "    <tr>\n",
       "      <th>2012</th>\n",
       "      <td>5.792805e+04</td>\n",
       "      <td>6.692500e+03</td>\n",
       "      <td>110</td>\n",
       "      <td>6.372086e+06</td>\n",
       "    </tr>\n",
       "    <tr>\n",
       "      <th>2013</th>\n",
       "      <td>1.713824e+05</td>\n",
       "      <td>3.550000e+03</td>\n",
       "      <td>173</td>\n",
       "      <td>2.964916e+07</td>\n",
       "    </tr>\n",
       "    <tr>\n",
       "      <th>2014</th>\n",
       "      <td>3.014374e+07</td>\n",
       "      <td>1.919000e+04</td>\n",
       "      <td>240</td>\n",
       "      <td>7.234496e+09</td>\n",
       "    </tr>\n",
       "    <tr>\n",
       "      <th>2015</th>\n",
       "      <td>7.832065e+07</td>\n",
       "      <td>4.890556e+06</td>\n",
       "      <td>380</td>\n",
       "      <td>2.976185e+10</td>\n",
       "    </tr>\n",
       "    <tr>\n",
       "      <th>2016</th>\n",
       "      <td>9.257830e+07</td>\n",
       "      <td>4.572892e+06</td>\n",
       "      <td>438</td>\n",
       "      <td>4.054930e+10</td>\n",
       "    </tr>\n",
       "    <tr>\n",
       "      <th>2017</th>\n",
       "      <td>1.390181e+08</td>\n",
       "      <td>1.049589e+07</td>\n",
       "      <td>331</td>\n",
       "      <td>4.601500e+10</td>\n",
       "    </tr>\n",
       "    <tr>\n",
       "      <th>2018</th>\n",
       "      <td>1.016457e+08</td>\n",
       "      <td>1.036995e+07</td>\n",
       "      <td>440</td>\n",
       "      <td>4.472412e+10</td>\n",
       "    </tr>\n",
       "    <tr>\n",
       "      <th>2019</th>\n",
       "      <td>1.011495e+08</td>\n",
       "      <td>5.658057e+06</td>\n",
       "      <td>476</td>\n",
       "      <td>4.814717e+10</td>\n",
       "    </tr>\n",
       "  </tbody>\n",
       "</table>\n",
       "</div>"
      ],
      "text/plain": [
       "              mean        median      count           sum\n",
       "        box_office    box_office box_office    box_office\n",
       "year                                                     \n",
       "2010  2.780112e+04  1.916000e+03         85  2.363095e+06\n",
       "2011  2.041113e+04  3.085000e+03         93  1.898235e+06\n",
       "2012  5.792805e+04  6.692500e+03        110  6.372086e+06\n",
       "2013  1.713824e+05  3.550000e+03        173  2.964916e+07\n",
       "2014  3.014374e+07  1.919000e+04        240  7.234496e+09\n",
       "2015  7.832065e+07  4.890556e+06        380  2.976185e+10\n",
       "2016  9.257830e+07  4.572892e+06        438  4.054930e+10\n",
       "2017  1.390181e+08  1.049589e+07        331  4.601500e+10\n",
       "2018  1.016457e+08  1.036995e+07        440  4.472412e+10\n",
       "2019  1.011495e+08  5.658057e+06        476  4.814717e+10"
      ]
     },
     "execution_count": 288,
     "metadata": {},
     "output_type": "execute_result"
    }
   ],
   "source": [
    "df[df['box_office'].notna()].pivot_table(\n",
    "    index='year', values='box_office', aggfunc=['mean', 'median', 'count', 'sum'])\n"
   ]
  },
  {
   "cell_type": "markdown",
   "metadata": {},
   "source": [
    "Набюдается довольно отчетливые рост в общей выручке и кол-во снимаемых фильмов. Однако стоит отметить, начиная с 2018года средняя и медианные выручки начали падать(при этом медиала в 2019 упала практически в 2раза по сравнению с предществующим годом), это говорит о том, вышло несколько кассовых фильмов, которые компенсировали \"ситуацию по больнице\". \n",
    "Интересно, что для фильмов, у которых выручка неизвестна, кол-во фильмов примерно на одном уровне. но на самом деле если приглядется к первоисточникам, то данные явно имеют очень большое кол-во ошибок(фильмы СССР например относятся к 2014году)"
   ]
  },
  {
   "cell_type": "code",
   "execution_count": 294,
   "metadata": {},
   "outputs": [
    {
     "data": {
      "text/plain": [
       "<AxesSubplot:>"
      ]
     },
     "execution_count": 294,
     "metadata": {},
     "output_type": "execute_result"
    },
    {
     "data": {
      "image/png": "[encoded data removed]",
      "text/plain": [
       "<Figure size 432x288 with 1 Axes>"
      ]
     },
     "metadata": {
      "needs_background": "light"
     },
     "output_type": "display_data"
    }
   ],
   "source": [
    "df.boxplot('box_office')"
   ]
  },
  {
   "cell_type": "markdown",
   "metadata": {},
   "source": [
    "[Вернуться к содержанию](#main_title)"
   ]
  },
  {
   "cell_type": "markdown",
   "metadata": {},
   "source": [
    "### Зависимость от возвраста <a id=\"older_statistics\"></a>"
   ]
  },
  {
   "cell_type": "code",
   "execution_count": 277,
   "metadata": {},
   "outputs": [],
   "source": [
    "# Такой вот \"костыль\" чтоб сортировалось по возрастам в сводной таблице\n",
    "df['age_restriction'] = df['age_restriction'].replace('«6+» - для детей старше 6 лет', '«06+» - для детей старше 6 лет')"
   ]
  },
  {
   "cell_type": "code",
   "execution_count": 292,
   "metadata": {},
   "outputs": [
    {
     "data": {
      "text/html": [
       "<div>\n",
       "<style scoped>\n",
       "    .dataframe tbody tr th:only-of-type {\n",
       "        vertical-align: middle;\n",
       "    }\n",
       "\n",
       "    .dataframe tbody tr th {\n",
       "        vertical-align: top;\n",
       "    }\n",
       "\n",
       "    .dataframe thead tr th {\n",
       "        text-align: left;\n",
       "    }\n",
       "\n",
       "    .dataframe thead tr:last-of-type th {\n",
       "        text-align: right;\n",
       "    }\n",
       "</style>\n",
       "<table border=\"1\" class=\"dataframe\">\n",
       "  <thead>\n",
       "    <tr>\n",
       "      <th></th>\n",
       "      <th>mean</th>\n",
       "      <th>median</th>\n",
       "      <th>sum</th>\n",
       "      <th>count</th>\n",
       "    </tr>\n",
       "    <tr>\n",
       "      <th></th>\n",
       "      <th>box_office</th>\n",
       "      <th>box_office</th>\n",
       "      <th>box_office</th>\n",
       "      <th>box_office</th>\n",
       "    </tr>\n",
       "    <tr>\n",
       "      <th>age_restriction</th>\n",
       "      <th></th>\n",
       "      <th></th>\n",
       "      <th></th>\n",
       "      <th></th>\n",
       "    </tr>\n",
       "  </thead>\n",
       "  <tbody>\n",
       "    <tr>\n",
       "      <th>«0+» - для любой зрительской аудитории</th>\n",
       "      <td>5.642910e+06</td>\n",
       "      <td>40432.50</td>\n",
       "      <td>9.141515e+08</td>\n",
       "      <td>162</td>\n",
       "    </tr>\n",
       "    <tr>\n",
       "      <th>«06+» - для детей старше 6 лет</th>\n",
       "      <td>1.578262e+08</td>\n",
       "      <td>6903398.50</td>\n",
       "      <td>5.350308e+10</td>\n",
       "      <td>339</td>\n",
       "    </tr>\n",
       "    <tr>\n",
       "      <th>«12+» - для детей старше 12 лет</th>\n",
       "      <td>1.219177e+08</td>\n",
       "      <td>1022685.50</td>\n",
       "      <td>5.791092e+10</td>\n",
       "      <td>475</td>\n",
       "    </tr>\n",
       "    <tr>\n",
       "      <th>«16+» - для детей старше 16 лет</th>\n",
       "      <td>6.685048e+07</td>\n",
       "      <td>1806958.00</td>\n",
       "      <td>6.551347e+10</td>\n",
       "      <td>980</td>\n",
       "    </tr>\n",
       "    <tr>\n",
       "      <th>«18+» - запрещено для детей</th>\n",
       "      <td>4.769208e+07</td>\n",
       "      <td>5335160.75</td>\n",
       "      <td>3.863059e+10</td>\n",
       "      <td>810</td>\n",
       "    </tr>\n",
       "  </tbody>\n",
       "</table>\n",
       "</div>"
      ],
      "text/plain": [
       "                                                mean      median  \\\n",
       "                                          box_office  box_office   \n",
       "age_restriction                                                    \n",
       "«0+» - для любой зрительской аудитории  5.642910e+06    40432.50   \n",
       "«06+» - для детей старше 6 лет          1.578262e+08  6903398.50   \n",
       "«12+» - для детей старше 12 лет         1.219177e+08  1022685.50   \n",
       "«16+» - для детей старше 16 лет         6.685048e+07  1806958.00   \n",
       "«18+» - запрещено для детей             4.769208e+07  5335160.75   \n",
       "\n",
       "                                                 sum      count  \n",
       "                                          box_office box_office  \n",
       "age_restriction                                                  \n",
       "«0+» - для любой зрительской аудитории  9.141515e+08        162  \n",
       "«06+» - для детей старше 6 лет          5.350308e+10        339  \n",
       "«12+» - для детей старше 12 лет         5.791092e+10        475  \n",
       "«16+» - для детей старше 16 лет         6.551347e+10        980  \n",
       "«18+» - запрещено для детей             3.863059e+10        810  "
      ]
     },
     "execution_count": 292,
     "metadata": {},
     "output_type": "execute_result"
    }
   ],
   "source": [
    "df[df['box_office'].notna()].pivot_table(\n",
    "    index='age_restriction', values=['box_office'], aggfunc=['mean', 'median', 'sum', 'count']\n",
    ")\n"
   ]
  },
  {
   "cell_type": "markdown",
   "metadata": {},
   "source": [
    "Больше фильмов снимают для категории 16+. Д"
   ]
  },
  {
   "cell_type": "markdown",
   "metadata": {},
   "source": [
    "[Вернуться к содержанию](#main_title)"
   ]
  }
 ],
 "metadata": {
  "interpreter": {
   "hash": "b1a8b63bdf27559490c16144d51d3a6902ecbd7b7872de05b273d065c9a99ab9"
  },
  "kernelspec": {
   "display_name": "Python 3.10.0 64-bit",
   "language": "python",
   "name": "python3"
  },
  "language_info": {
   "codemirror_mode": {
    "name": "ipython",
    "version": 3
   },
   "file_extension": ".py",
   "mimetype": "text/x-python",
   "name": "python",
   "nbconvert_exporter": "python",
   "pygments_lexer": "ipython3",
   "version": "3.9.7"
  },
  "orig_nbformat": 4
 },
 "nbformat": 4,
 "nbformat_minor": 2
}
