{
 "cells": [
  {
   "cell_type": "markdown",
   "metadata": {
    "id": "sIfNaMOxgFyK"
   },
   "source": [
    "## Исследование данных о российском кинопрокате <a id=\"main_title\"></a>"
   ]
  },
  {
   "cell_type": "markdown",
   "metadata": {},
   "source": [
    "### Описание проекта <a id=\"description_project\"></a>"
   ]
  },
  {
   "cell_type": "markdown",
   "metadata": {},
   "source": [
    "Описание проекта  \n",
    "Заказчик этого исследования — `Министерство культуры Российской Федерации`.  \n",
    "Вам нужно изучить рынок российского кинопроката и выявить текущие тренды. Уделите внимание фильмам, которые получили государственную поддержку. Попробуйте ответить на вопрос, насколько такие фильмы интересны зрителю.  \n",
    "Набор данных содержит информацию о прокатных удостоверениях, сборах и государственной поддержке фильмов, а также информацию с сайта КиноПоиск."
   ]
  },
  {
   "cell_type": "markdown",
   "metadata": {},
   "source": [
    "Основные цели проекта:\n",
    "- Статистика по годам: сколько ежегодно выходит фильмов?\n",
    "- Найти изменения выручки по годам\n",
    "- Определить, влияет ли возрастные ограничения на сборы. Меняется ли картинка с годами?\n",
    "- Исследовать фильмы с гос.поддержкой(окупаемость и рейтинг)"
   ]
  },
  {
   "cell_type": "markdown",
   "metadata": {
    "id": "3bSlkCsbgFyL"
   },
   "source": [
    "### Шаг 1. Откройте файлы с данными и объедините их в один датафрейм. "
   ]
  },
  {
   "cell_type": "markdown",
   "metadata": {},
   "source": [
    "Объедините данные таким образом, чтобы все объекты из датасета `mkrf_movies` обязательно вошли в получившийся датафрейм. \n",
    "\n",
    "<div id=\"accordion\">\n",
    "    <div class=\"card\">\n",
    "        <div class=\"card-header\" id=\"headingThree\">\n",
    "            <button class=\"btn btn-link collapsed\" data-toggle=\"collapse\" data-target=\"#collapseHint_0\" aria-expanded=\"false\" aria-controls=\"collapseHint_0\">Подсказка</button>\n",
    "        </div>\n",
    "        <div id=\"collapseHint_0\" class=\"collapse\" aria-labelledby=\"headingThree\" data-parent=\"#accordion\">\n",
    "            <div class=\"card-body\">\n",
    "Обратите внимание на тип данных столбца, по которому будете соединять датафреймы. Тип данных этих столбцов должен быть одинаковым в обоих датафреймах.\n",
    "            </div>\n",
    "        </div>\n",
    "    </div>\n",
    "</div>"
   ]
  },
  {
   "cell_type": "markdown",
   "metadata": {},
   "source": [
    "### Открываем данные, описание столбцов <a id=\"open_data\"></a>"
   ]
  },
  {
   "cell_type": "code",
   "execution_count": 1,
   "metadata": {},
   "outputs": [],
   "source": [
    "import matplotlib\n",
    "import matplotlib.pyplot as plt\n",
    "import plotly.express as px\n",
    "import numpy as np\n",
    "import pandas as pd\n",
    "df = pd.read_csv('mkrf_movies.csv', parse_dates=['show_start_date'])\n",
    "df2 = pd.read_csv('mkrf_shows.csv')\n",
    "matplotlib.style.use('seaborn-pastel') "
   ]
  },
  {
   "cell_type": "markdown",
   "metadata": {},
   "source": [
    "Описание столбцов:\n",
    "- `title` — название фильма;\n",
    "- `puNumber` — номер прокатного удостоверения;\n",
    "- `show_start_date` — дата премьеры фильма;\n",
    "- `type` — тип фильма;\n",
    "- `film_studio` — студия-производитель;\n",
    "- `production_country` — страна-производитель;\n",
    "- `director` — режиссёр;\n",
    "- `producer` — продюсер;\n",
    "- `age_restriction` — возрастная категория;\n",
    "- `refundable_support` — объём возвратных средств государственной поддержки;\n",
    "- `nonrefundable_support` — объём невозвратных средств государственной поддержки;\n",
    "- `financing_source` — источник государственного финансирования;\n",
    "- `budget` — общий бюджет фильма;\n",
    "- `ratings` — рейтинг фильма на КиноПоиске;\n",
    "- `genres` — жанр фильма.\n",
    "- `box_office` — сборы в рублях. (из второй базы)\n"
   ]
  },
  {
   "cell_type": "markdown",
   "metadata": {},
   "source": [
    "[Вернуться к содержанию](#main_title)"
   ]
  },
  {
   "cell_type": "markdown",
   "metadata": {},
   "source": [
    "### Объединение файлов"
   ]
  },
  {
   "cell_type": "code",
   "execution_count": 2,
   "metadata": {},
   "outputs": [
    {
     "name": "stdout",
     "output_type": "stream",
     "text": [
      "2\n",
      "0\n"
     ]
    }
   ],
   "source": [
    "print(len(df[df['puNumber'].duplicated()]))\n",
    "print(len(df2[df2['puNumber'].duplicated()]))"
   ]
  },
  {
   "cell_type": "code",
   "execution_count": 3,
   "metadata": {},
   "outputs": [],
   "source": [
    "# дубликаты по номерам прокатных удостоверений есть, но всего парочка... кикаем\n",
    "df.drop_duplicates(subset='puNumber', inplace=True)"
   ]
  },
  {
   "cell_type": "code",
   "execution_count": 4,
   "metadata": {},
   "outputs": [],
   "source": [
    "# При первой попытке объединить выдал ошибку, разные типы, при попытке перевести в int, выдал оишбку на \"нет\":\n",
    "df = df.query('puNumber != \"нет\"')\n",
    "df['puNumber'] = df['puNumber'].astype(int)\n",
    "df = df.merge(df2, on='puNumber', how='outer')"
   ]
  },
  {
   "cell_type": "code",
   "execution_count": 5,
   "metadata": {},
   "outputs": [],
   "source": [
    "del df2 # Удаляем, чтоб глаза не мазолила в пространстве имен"
   ]
  },
  {
   "cell_type": "markdown",
   "metadata": {
    "id": "KLDGpPG0gFyM"
   },
   "source": [
    "### Шаг 2. Предобработка данных"
   ]
  },
  {
   "cell_type": "markdown",
   "metadata": {
    "id": "ssWwKXsxgFyO"
   },
   "source": [
    "#### Шаг 2.1. Проверьте типы данных\n",
    "\n",
    "- Проверьте типы данных в датафрейме и преобразуйте их там, где это необходимо."
   ]
  },
  {
   "cell_type": "code",
   "execution_count": 6,
   "metadata": {
    "id": "kVGSplJOgFyO"
   },
   "outputs": [
    {
     "name": "stdout",
     "output_type": "stream",
     "text": [
      "<class 'pandas.core.frame.DataFrame'>\n",
      "Int64Index: 7483 entries, 0 to 7482\n",
      "Data columns (total 16 columns):\n",
      " #   Column                 Non-Null Count  Dtype              \n",
      "---  ------                 --------------  -----              \n",
      " 0   title                  7483 non-null   object             \n",
      " 1   puNumber               7483 non-null   int32              \n",
      " 2   show_start_date        7483 non-null   datetime64[ns, UTC]\n",
      " 3   type                   7483 non-null   object             \n",
      " 4   film_studio            7465 non-null   object             \n",
      " 5   production_country     7481 non-null   object             \n",
      " 6   director               7474 non-null   object             \n",
      " 7   producer               6915 non-null   object             \n",
      " 8   age_restriction        7483 non-null   object             \n",
      " 9   refundable_support     332 non-null    float64            \n",
      " 10  nonrefundable_support  332 non-null    float64            \n",
      " 11  budget                 332 non-null    float64            \n",
      " 12  financing_source       332 non-null    object             \n",
      " 13  ratings                6517 non-null   object             \n",
      " 14  genres                 6508 non-null   object             \n",
      " 15  box_office             3158 non-null   float64            \n",
      "dtypes: datetime64[ns, UTC](1), float64(4), int32(1), object(10)\n",
      "memory usage: 964.6+ KB\n"
     ]
    }
   ],
   "source": [
    "df.info()"
   ]
  },
  {
   "cell_type": "markdown",
   "metadata": {
    "id": "i0MOLbF-gFyP"
   },
   "source": [
    "#### Шаг 2.2. Изучите пропуски в датафрейме"
   ]
  },
  {
   "cell_type": "markdown",
   "metadata": {},
   "source": [
    "- Объясните, почему заполнили пропуски определённым образом или почему не стали этого делать."
   ]
  },
  {
   "cell_type": "markdown",
   "metadata": {},
   "source": [
    "|Название столбца |Название фильма |Что будем с делать с пропусками|\n",
    "|-----------------------|----------|--------------------------------------|\n",
    "|`film_studio`|студия-производитель|в исследовании не участвует(оставим NaN)|\n",
    "|`production_country`| страна-производитель | всего пару пропусков - удалим значения|\n",
    "|`director`| режиссёр | в исследовании не участвует(можно удалить, но зачем то просят выделить фамилию)|\n",
    "|`producer`| продюсер | в исследовании не участвует(можно удалить)|\n",
    "|`refundable_support`| объём возвратных средств гос.поддержки | пропуски заполним нулями*|\n",
    "|`nonrefundable_support`| объём невозвратных средств гос.поддержки | пропуски заполним нулями|\n",
    "|`budget`| общий бюджет фильма | сначало не будем трогать, как до момента бюджета доберемся, уберем все строки с NaN значениями|\n",
    "|`financing_source`|источник государственного финансирования| поставим значение \"Без госсподержки\"|\n",
    "|`ratings`| рейтинг фильма на КиноПоиске | Значение важное и с бухты-барахты поставить нельзя. удаляем довольно большое кол-во строк|\n",
    "|`genres`| жанр фильма | Оставим пропуски данных|\n",
    "|`box_office`| box_office| | Заменим выборки на нули|\n",
    "\n",
    "*Столбцы связанные с гос.бюджетом NaN заполним нулями, т.к. скорее всего это связано с тем что поддержки не было или фильм забугорный и данных об этом нет, в исследовании по гос.поддержки, забугорные фильмы выкинем все равно и будем смотреть только российские"
   ]
  },
  {
   "cell_type": "code",
   "execution_count": 7,
   "metadata": {},
   "outputs": [],
   "source": [
    "df.dropna(subset=['production_country'], inplace=True)\n",
    "df.dropna(subset=['ratings'], inplace=True)\n",
    "df['refundable_support'].fillna(0, inplace=True)\n",
    "df['nonrefundable_support'].fillna(0, inplace=True)\n",
    "df['financing_source'].fillna('Без госсподдержки', inplace=True)\n",
    "df['box_office'].fillna(0, inplace=True)"
   ]
  },
  {
   "cell_type": "markdown",
   "metadata": {
    "id": "4c6k1t9ygFyQ"
   },
   "source": [
    "#### Шаг 2.3. Изучите дубликаты в датафрейме\n",
    "- Проверьте, есть ли в данных дубликаты. Опишите причины, которые могли повлиять на появление дублей."
   ]
  },
  {
   "cell_type": "code",
   "execution_count": 8,
   "metadata": {
    "id": "aKck8RIdgFyQ"
   },
   "outputs": [],
   "source": [
    "df_duplicated = df[df['title'].duplicated(keep=False)]"
   ]
  },
  {
   "cell_type": "code",
   "execution_count": 9,
   "metadata": {},
   "outputs": [
    {
     "name": "stdout",
     "output_type": "stream",
     "text": [
      "679\n",
      "704\n",
      "25\n",
      "0\n"
     ]
    }
   ],
   "source": [
    "print(len(df[df['title'].duplicated() & df['director'].duplicated()]))\n",
    "print(len(df[df['title'].duplicated()]))\n",
    "print(len(df[df['title'].duplicated() &  ~ df['director'].duplicated()]))\n",
    "print(len(df[df['puNumber'].duplicated()]))\n",
    "df_duplicated = df_duplicated[~ df_duplicated['director'].duplicated(keep=False)]"
   ]
  },
  {
   "cell_type": "markdown",
   "metadata": {},
   "source": [
    "Тщательно рассмотрев дубликаты, можно увидеть, что прежде всего они связаны с тем что на один фильм может быть несколько прокатных удостоверений, с одной стороны хочется удалить такие дубли, О т.к. несколько сетей кинотеатров брали эти удостоверния, то как правило это фильм высокобюджетный и кассовый, поэтому удалить такие дубли не будем и по ним можно.  \n",
    "В связи с этим дубли пока оставим, но аннализируя какие то параметры надо не забывать об этом"
   ]
  },
  {
   "cell_type": "code",
   "execution_count": 10,
   "metadata": {},
   "outputs": [],
   "source": [
    "del df_duplicated"
   ]
  },
  {
   "cell_type": "markdown",
   "metadata": {
    "id": "52fOPrEBgFyQ"
   },
   "source": [
    "#### Шаг 2.4. Изучите категориальные значения\n",
    "\n",
    "- Посмотрите, какая общая проблема встречается почти во всех категориальных столбцах;\n",
    "- Исправьте проблемные значения в поле `type`.\n",
    "\n",
    "<div id=\"accordion\">\n",
    "    <div class=\"card\">\n",
    "        <div class=\"card-header\" id=\"headingThree\">\n",
    "            <button class=\"btn btn-link collapsed\" data-toggle=\"collapse\" data-target=\"#collapseHint_1\" aria-expanded=\"false\" aria-controls=\"collapseHint_1\">Подсказка</button>\n",
    "        </div>\n",
    "        <div id=\"collapseHint_1\" class=\"collapse\" aria-labelledby=\"headingThree\" data-parent=\"#accordion\">\n",
    "            <div class=\"card-body\">\n",
    "В поле <code>type</code> есть несколько значений, у которых появился пробел в начале строки. Самый простой способ их «починить» -- использовать метод <a href=\"https://pandas.pydata.org/docs/reference/api/pandas.Series.str.strip.html#pandas.Series.str.strip\">.str.strip</a>. Этот метод удаляет все пробелы, которые встречаются в начале и в конце строки. Применяют его таким образом:<br>\n",
    "<code>df['type'].str.strip()</code>\n",
    "            </div>\n",
    "        </div>\n",
    "    </div>\n",
    "</div>"
   ]
  },
  {
   "cell_type": "code",
   "execution_count": 11,
   "metadata": {},
   "outputs": [
    {
     "data": {
      "text/plain": [
       "Художественный                4302\n",
       " Художественный               1234\n",
       "Анимационный                   570\n",
       "Прочие                         210\n",
       "Документальный                 162\n",
       "Научно-популярный               35\n",
       " Анимационный                    1\n",
       "Музыкально-развлекательный       1\n",
       "Name: type, dtype: int64"
      ]
     },
     "execution_count": 11,
     "metadata": {},
     "output_type": "execute_result"
    }
   ],
   "source": [
    "df['type'].value_counts()"
   ]
  },
  {
   "cell_type": "code",
   "execution_count": 12,
   "metadata": {
    "id": "PnXKIVdFgFyR"
   },
   "outputs": [],
   "source": [
    "df['type'] = df['type'].str.strip()\n",
    "\n",
    "# Первональный вариант решения(до открытия доступа к сборному проекту)\n",
    "# change_types = {\n",
    "#     ' Художественный' : 'Художественный',\n",
    "#     'Научно-популярный' : 'Прочие',\n",
    "#     'Музыкально-развлекательный' : 'Прочие',\n",
    "#     ' Анимационный' : 'Анимационный',\n",
    "# }\n",
    "# df['type'] = df['type'].replace(change_types)\n",
    "# del change_types"
   ]
  },
  {
   "cell_type": "code",
   "execution_count": 13,
   "metadata": {},
   "outputs": [
    {
     "data": {
      "text/plain": [
       "Художественный                5536\n",
       "Анимационный                   571\n",
       "Прочие                         210\n",
       "Документальный                 162\n",
       "Научно-популярный               35\n",
       "Музыкально-развлекательный       1\n",
       "Name: type, dtype: int64"
      ]
     },
     "execution_count": 13,
     "metadata": {},
     "output_type": "execute_result"
    }
   ],
   "source": [
    "df['type'].value_counts()"
   ]
  },
  {
   "cell_type": "code",
   "execution_count": 14,
   "metadata": {},
   "outputs": [
    {
     "data": {
      "text/plain": [
       "США                                                                       2103\n",
       "Россия                                                                    1296\n",
       "СССР                                                                       331\n",
       "Франция                                                                    289\n",
       "Великобритания                                                             190\n",
       "                                                                          ... \n",
       "Великобритания - США - Австралия - Ирландия - Германия - Куба - Канада       1\n",
       "Аргентина - Мексика - Бразилия - Франция - США                               1\n",
       "Швеция - США                                                                 1\n",
       "Франция - Германия - Турция - Катар                                          1\n",
       "Дания - Канада - Швеция - Франция - Германия - Великобритания - США          1\n",
       "Name: production_country, Length: 878, dtype: int64"
      ]
     },
     "execution_count": 14,
     "metadata": {},
     "output_type": "execute_result"
    }
   ],
   "source": [
    "df['production_country'].value_counts()"
   ]
  },
  {
   "cell_type": "markdown",
   "metadata": {
    "id": "XFSN5lrEgFyR"
   },
   "source": [
    "#### Шаг 2.5. Проверьте количественные значения\n",
    "\n",
    "- Проверьте, обнаружились ли в таких столбцах подозрительные данные. Как с такими данными лучше поступить?\n",
    "\n",
    "<div id=\"accordion\">\n",
    "    <div class=\"card\">\n",
    "        <div class=\"card-header\" id=\"headingThree\">\n",
    "            <button class=\"btn btn-link collapsed\" data-toggle=\"collapse\" data-target=\"#collapseHint_budget\" aria-expanded=\"false\" aria-controls=\"collapseHint_budget\">Подсказка</button>\n",
    "        </div>\n",
    "        <div id=\"collapseHint_budget\" class=\"collapse\" aria-labelledby=\"headingThree\" data-parent=\"#accordion\">\n",
    "            <div class=\"card-body\">\n",
    "Обратите внимание на описание столбца <code>budget</code>. Как этот столбец соотносится с двумя другими: <code>refundable_support</code> и <code>nonrefundable_support</code>?\n",
    "            </div>\n",
    "        </div>\n",
    "    </div>\n",
    "</div>"
   ]
  },
  {
   "cell_type": "markdown",
   "metadata": {},
   "source": [
    "Есть фильмы в которых не указан бюджет, но есть финансирование. заполним бюджет медианным значением для фильмов, у которых есть финансирование.\n",
    "Также переведем стоимости к инту"
   ]
  },
  {
   "cell_type": "code",
   "execution_count": 15,
   "metadata": {
    "id": "YbzClBxagFyS"
   },
   "outputs": [],
   "source": [
    "df['part_of_state_budget'] = (df['nonrefundable_support'] + df['refundable_support']) / df['budget']\n",
    "df['financing_total'] = df['nonrefundable_support']+df['refundable_support']\n",
    "mean_budget = df.query('financing_total != 0')['part_of_state_budget'].median()\n",
    "df['part_of_state_budget'].replace(np.inf, mean_budget, inplace=True)\n",
    "df['budget'] = df.apply(lambda row: row['budget'] if row['budget'] != 0 else row['financing_total'] / mean_budget, axis=1)\n",
    "del mean_budget"
   ]
  },
  {
   "cell_type": "markdown",
   "metadata": {},
   "source": [
    "### Рейтинг фильмов"
   ]
  },
  {
   "cell_type": "markdown",
   "metadata": {},
   "source": [
    "Была первоначальная идея, что 80% соответствуют рейтингу 8.0, но когда сказка о добре и вре стала первой в рейтинге, понял что что-то тут не то. В итоге принято решение заменить такие рейтинге на Nan\n",
    "Рейтинги указаны в чем попало, поэтому приводим к единной системе, приниципальной разнице какой: нет, поэтому приводим к баллам от 1.0 до 10.0"
   ]
  },
  {
   "cell_type": "code",
   "execution_count": 16,
   "metadata": {},
   "outputs": [],
   "source": [
    "# Первоначальная задумка\n",
    "# df['ratings'] = df['ratings'].str.replace('%', '').astype(float)\n",
    "# df['ratings'] = df['ratings'].apply(lambda row: row/10 if row > 10 else row)\n",
    "\n",
    "df['ratings'] = df['ratings'].apply(lambda row: None if '%' in row else row)\n",
    "df['ratings'] = pd.to_numeric(df['ratings'])"
   ]
  },
  {
   "cell_type": "markdown",
   "metadata": {},
   "source": [
    "Сделал думаю что 85% соответствуют 8.5 баллам"
   ]
  },
  {
   "cell_type": "markdown",
   "metadata": {
    "id": "Eu6oWp2CgFyS"
   },
   "source": [
    "#### Шаг 2.6. Добавьте новые столбцы\n",
    "\n",
    "\n",
    "\n"
   ]
  },
  {
   "cell_type": "code",
   "execution_count": 17,
   "metadata": {},
   "outputs": [],
   "source": [
    "df['is_rus'] = df.apply(lambda row: 1 if 'Россия' in row['production_country'] else 0, axis=1)"
   ]
  },
  {
   "cell_type": "markdown",
   "metadata": {
    "id": "7GgW-UpAgFyS"
   },
   "source": [
    "- Создайте столбец с информацией о годе проката. Выделите год из даты премьеры фильма."
   ]
  },
  {
   "cell_type": "code",
   "execution_count": 18,
   "metadata": {
    "id": "I-yd1DkWgFyT"
   },
   "outputs": [],
   "source": [
    "df['year'] = df['show_start_date'].dt.year\n",
    "# df.drop(columns=['show_start_date', 'producer'], inplace=True)"
   ]
  },
  {
   "cell_type": "markdown",
   "metadata": {
    "id": "nFTDLDYOgFyT"
   },
   "source": [
    "- Создайте два столбца: с именем и фамилией главного режиссёра и основным жанром фильма. В столбцы войдут первые значения из списка режиссёров и жанров соответственно.\n",
    "\n",
    "<div id=\"accordion\">\n",
    "    <div class=\"card\">\n",
    "        <div class=\"card-header\" id=\"headingThree\">\n",
    "            <button class=\"btn btn-link collapsed\" data-toggle=\"collapse\" data-target=\"#collapseHint_2\" aria-expanded=\"false\" aria-controls=\"collapseHint_2\">Подсказка</button>\n",
    "        </div>\n",
    "        <div id=\"collapseHint_2\" class=\"collapse\" aria-labelledby=\"headingThree\" data-parent=\"#accordion\">\n",
    "            <div class=\"card-body\">\n",
    "Чтобы создать такие столбцы, лучше всего использовать собственную функцию. Эту функцию можно применить к двум столбцам сразу. \n",
    "            </div>\n",
    "        </div>\n",
    "    </div>\n",
    "</div>"
   ]
  },
  {
   "cell_type": "code",
   "execution_count": 19,
   "metadata": {},
   "outputs": [
    {
     "data": {
      "text/plain": [
       "драма                           476\n",
       "комедия                         352\n",
       "мелодрама,комедия               222\n",
       "драма,мелодрама,комедия         189\n",
       "драма,мелодрама                 183\n",
       "                               ... \n",
       "мюзикл,фэнтези,семейный           1\n",
       "мюзикл,мелодрама,фэнтези          1\n",
       "документальный,новости,драма      1\n",
       "семейный,детектив,детский         1\n",
       "мелодрама,история,драма           1\n",
       "Name: genres, Length: 742, dtype: int64"
      ]
     },
     "execution_count": 19,
     "metadata": {},
     "output_type": "execute_result"
    }
   ],
   "source": [
    "df['genres'].value_counts()"
   ]
  },
  {
   "cell_type": "code",
   "execution_count": 20,
   "metadata": {},
   "outputs": [
    {
     "name": "stdout",
     "output_type": "stream",
     "text": [
      "мелодрама\n",
      "None\n",
      "мелодрама\n"
     ]
    }
   ],
   "source": [
    "def extraction_genre(row):\n",
    "    try:\n",
    "        row = row.split(',')\n",
    "        return row[0]\n",
    "    except:\n",
    "        return None\n",
    "\n",
    "# Проверка работоспособности функции\n",
    "print(extraction_genre('мелодрама'))\n",
    "print(extraction_genre(None))\n",
    "print(extraction_genre('мелодрама, драма'))"
   ]
  },
  {
   "cell_type": "code",
   "execution_count": 21,
   "metadata": {},
   "outputs": [],
   "source": [
    "df['main_genre'] = df['genres'].apply(extraction_genre)"
   ]
  },
  {
   "cell_type": "markdown",
   "metadata": {},
   "source": [
    "Переименовываем жанры которые редко встречаются:"
   ]
  },
  {
   "cell_type": "code",
   "execution_count": 22,
   "metadata": {},
   "outputs": [],
   "source": [
    "df['main_genre'].fillna('неизвестно', inplace=True)\n",
    "check_genre = df['main_genre'].value_counts()\n",
    "df['main_genre'] = df['main_genre'].apply(\n",
    "    lambda row: 'другой' if check_genre[row] < 100 else row)\n",
    "del check_genre"
   ]
  },
  {
   "cell_type": "code",
   "execution_count": 23,
   "metadata": {},
   "outputs": [],
   "source": [
    "df['director'].value_counts()\n",
    "df['director'] = df['director'].fillna('неизвестен')"
   ]
  },
  {
   "cell_type": "code",
   "execution_count": 24,
   "metadata": {},
   "outputs": [
    {
     "name": "stdout",
     "output_type": "stream",
     "text": [
      "В.В.Путин\n",
      "Главный фашист\n",
      "И.Убийца\n",
      "Слава Украине\n"
     ]
    }
   ],
   "source": [
    "df['director'].value_counts()\n",
    "df['director'] = df['director'].fillna('неизвестен')\n",
    "def extraction_director(row):\n",
    "    '''Функция для получения первой фамилии режиссёра\n",
    "    '''\n",
    "    for index, symbol in enumerate(row):\n",
    "        if symbol == ',' or symbol == '(':\n",
    "            return row[:index].replace('. ', '.').strip()\n",
    "    return row.replace('. ', '.').strip()\n",
    "\n",
    "# Проверка работоспособности функции    \n",
    "print(extraction_director('В.В.Путин, А.Гитлер, Г.Гимлер, Й.Менгеле'))\n",
    "print(extraction_director('Главный фашист (псевдоним: фашист-бесогон)'))\n",
    "print(extraction_director('И. Убийца, Н.Хороший'))\n",
    "print(extraction_director('Слава Украине'))\n",
    "df['correct_director'] = df['director'].apply(extraction_director)\n",
    "df.drop(columns=['director'], inplace=True)"
   ]
  },
  {
   "cell_type": "markdown",
   "metadata": {
    "id": "1FsCXHwdgFyU"
   },
   "source": [
    "- Посчитайте, какую долю от общего бюджета фильма составляет государственная поддержка."
   ]
  },
  {
   "cell_type": "markdown",
   "metadata": {
    "id": "LV6qFuZLgFyV"
   },
   "source": [
    "Добавил в пункте 2.5"
   ]
  },
  {
   "cell_type": "markdown",
   "metadata": {
    "id": "6t4EukPLgFyV"
   },
   "source": [
    "### Шаг 3. Проведите исследовательский анализ данных\n"
   ]
  },
  {
   "cell_type": "markdown",
   "metadata": {
    "id": "vAH8WCzugFyV"
   },
   "source": [
    "- Посмотрите, сколько фильмов выходило в прокат каждый год. Обратите внимание, что данные о прокате в кинотеатрах известны не для всех фильмов. Посчитайте, какую долю составляют фильмы с указанной информацией о прокате в кинотеатрах."
   ]
  },
  {
   "cell_type": "markdown",
   "metadata": {},
   "source": [
    "так как данных до 2015г толкам нет, то выборку по прокатам делаем из фильмов выпущенных с 2015г. "
   ]
  },
  {
   "cell_type": "code",
   "execution_count": 25,
   "metadata": {
    "id": "ABeV47y7gFyW"
   },
   "outputs": [
    {
     "data": {
      "image/png": "[encoded data removed]",
      "text/plain": [
       "<Figure size 720x288 with 1 Axes>"
      ]
     },
     "metadata": {
      "needs_background": "light"
     },
     "output_type": "display_data"
    }
   ],
   "source": [
    "df_for_example = df.copy()\n",
    "df.query('year >= 2015 and box_office > 0').groupby('year')['box_office'].count().plot(\n",
    "    kind='bar', title='Количество фильмов с известными сборам с 2015 по 2019гг', xlabel='количество фильмов',\n",
    "    figsize=(10, 4), grid=True)\n",
    "plt.show()\n"
   ]
  },
  {
   "cell_type": "markdown",
   "metadata": {
    "id": "BEOdcIrIgFyW"
   },
   "source": [
    "- Изучите, как менялась динамика проката по годам. В каком году сумма сборов была минимальной? А максимальной?"
   ]
  },
  {
   "cell_type": "code",
   "execution_count": 26,
   "metadata": {
    "id": "tfEhofYvgFyX"
   },
   "outputs": [],
   "source": [
    "df_group_box = df.query('year >= 2015').groupby('year')['box_office'].sum()\n",
    "df_group_box = df_group_box / 1000000000"
   ]
  },
  {
   "cell_type": "code",
   "execution_count": 27,
   "metadata": {},
   "outputs": [
    {
     "data": {
      "image/png": "[encoded data removed]",
      "text/plain": [
       "<Figure size 720x288 with 1 Axes>"
      ]
     },
     "metadata": {
      "needs_background": "light"
     },
     "output_type": "display_data"
    }
   ],
   "source": [
    "df_group_box.plot(kind='bar', title='Общие сборы в кинотеатрах по годам в млрд. руб', ylim=(30, 50),\n",
    "                  grid=True, figsize=(10, 4))\n",
    "plt.show()\n",
    "del df_group_box"
   ]
  },
  {
   "cell_type": "markdown",
   "metadata": {
    "id": "G-7qS-N-gFyY"
   },
   "source": [
    "- С помощью сводной таблицы посчитайте среднюю и медианную сумму сборов для каждого года."
   ]
  },
  {
   "cell_type": "code",
   "execution_count": 28,
   "metadata": {
    "id": "jmp-rgg9gFyY"
   },
   "outputs": [
    {
     "data": {
      "text/html": [
       "<div>\n",
       "<style scoped>\n",
       "    .dataframe tbody tr th:only-of-type {\n",
       "        vertical-align: middle;\n",
       "    }\n",
       "\n",
       "    .dataframe tbody tr th {\n",
       "        vertical-align: top;\n",
       "    }\n",
       "\n",
       "    .dataframe thead th {\n",
       "        text-align: right;\n",
       "    }\n",
       "</style>\n",
       "<table border=\"1\" class=\"dataframe\">\n",
       "  <thead>\n",
       "    <tr style=\"text-align: right;\">\n",
       "      <th></th>\n",
       "      <th>max</th>\n",
       "      <th>mean</th>\n",
       "      <th>median</th>\n",
       "      <th>min</th>\n",
       "    </tr>\n",
       "    <tr>\n",
       "      <th>year</th>\n",
       "      <th></th>\n",
       "      <th></th>\n",
       "      <th></th>\n",
       "      <th></th>\n",
       "    </tr>\n",
       "  </thead>\n",
       "  <tbody>\n",
       "    <tr>\n",
       "      <th>2015</th>\n",
       "      <td>1658.861425</td>\n",
       "      <td>91.253831</td>\n",
       "      <td>7.188504</td>\n",
       "      <td>0.000100</td>\n",
       "    </tr>\n",
       "    <tr>\n",
       "      <th>2016</th>\n",
       "      <td>2048.126108</td>\n",
       "      <td>98.512120</td>\n",
       "      <td>5.180851</td>\n",
       "      <td>0.000200</td>\n",
       "    </tr>\n",
       "    <tr>\n",
       "      <th>2017</th>\n",
       "      <td>2779.686144</td>\n",
       "      <td>138.500194</td>\n",
       "      <td>10.598124</td>\n",
       "      <td>0.024310</td>\n",
       "    </tr>\n",
       "    <tr>\n",
       "      <th>2018</th>\n",
       "      <td>2271.754005</td>\n",
       "      <td>105.454668</td>\n",
       "      <td>10.483426</td>\n",
       "      <td>0.046260</td>\n",
       "    </tr>\n",
       "    <tr>\n",
       "      <th>2019</th>\n",
       "      <td>3073.568691</td>\n",
       "      <td>101.039815</td>\n",
       "      <td>5.658057</td>\n",
       "      <td>0.004398</td>\n",
       "    </tr>\n",
       "  </tbody>\n",
       "</table>\n",
       "</div>"
      ],
      "text/plain": [
       "              max        mean     median       min\n",
       "year                                              \n",
       "2015  1658.861425   91.253831   7.188504  0.000100\n",
       "2016  2048.126108   98.512120   5.180851  0.000200\n",
       "2017  2779.686144  138.500194  10.598124  0.024310\n",
       "2018  2271.754005  105.454668  10.483426  0.046260\n",
       "2019  3073.568691  101.039815   5.658057  0.004398"
      ]
     },
     "execution_count": 28,
     "metadata": {},
     "output_type": "execute_result"
    }
   ],
   "source": [
    "# поделил на млн, чтоб смотреть на миллионы. так удобнее.\n",
    "df.query('year >= 2015 and box_office > 0').pivot_table(values='box_office',index='year', aggfunc=('mean', 'median', 'min', 'max'))/1000000"
   ]
  },
  {
   "cell_type": "markdown",
   "metadata": {
    "id": "Ok89WFwJgFyZ"
   },
   "source": [
    "- Определите, влияет ли возрастное ограничение аудитории («6+», «12+», «16+», «18+» и т. д.) на сборы фильма в прокате в период с 2015 по 2019 год? Фильмы с каким возрастным ограничением собрали больше всего денег в прокате? Меняется ли картина в зависимости от года? Если да, предположите, с чем это может быть связано."
   ]
  },
  {
   "cell_type": "code",
   "execution_count": 29,
   "metadata": {
    "id": "jsSbEqfjgFya"
   },
   "outputs": [],
   "source": [
    "df['age_restriction'] = df['age_restriction'].replace('«6+» - для детей старше 6 лет', '«06+» - для детей старше 6 лет')"
   ]
  },
  {
   "cell_type": "code",
   "execution_count": 30,
   "metadata": {},
   "outputs": [
    {
     "data": {
      "text/html": [
       "<div>\n",
       "<style scoped>\n",
       "    .dataframe tbody tr th:only-of-type {\n",
       "        vertical-align: middle;\n",
       "    }\n",
       "\n",
       "    .dataframe tbody tr th {\n",
       "        vertical-align: top;\n",
       "    }\n",
       "\n",
       "    .dataframe thead tr th {\n",
       "        text-align: left;\n",
       "    }\n",
       "\n",
       "    .dataframe thead tr:last-of-type th {\n",
       "        text-align: right;\n",
       "    }\n",
       "</style>\n",
       "<table border=\"1\" class=\"dataframe\">\n",
       "  <thead>\n",
       "    <tr>\n",
       "      <th></th>\n",
       "      <th>mean</th>\n",
       "      <th>median</th>\n",
       "      <th>sum</th>\n",
       "      <th>count</th>\n",
       "    </tr>\n",
       "    <tr>\n",
       "      <th></th>\n",
       "      <th>box_office</th>\n",
       "      <th>box_office</th>\n",
       "      <th>box_office</th>\n",
       "      <th>box_office</th>\n",
       "    </tr>\n",
       "    <tr>\n",
       "      <th>age_restriction</th>\n",
       "      <th></th>\n",
       "      <th></th>\n",
       "      <th></th>\n",
       "      <th></th>\n",
       "    </tr>\n",
       "  </thead>\n",
       "  <tbody>\n",
       "    <tr>\n",
       "      <th>«0+» - для любой зрительской аудитории</th>\n",
       "      <td>1.521056e+07</td>\n",
       "      <td>1.950019e+06</td>\n",
       "      <td>6.540543e+08</td>\n",
       "      <td>43</td>\n",
       "    </tr>\n",
       "    <tr>\n",
       "      <th>«06+» - для детей старше 6 лет</th>\n",
       "      <td>1.848360e+08</td>\n",
       "      <td>1.887846e+07</td>\n",
       "      <td>5.267825e+10</td>\n",
       "      <td>285</td>\n",
       "    </tr>\n",
       "    <tr>\n",
       "      <th>«12+» - для детей старше 12 лет</th>\n",
       "      <td>1.969292e+08</td>\n",
       "      <td>1.257782e+07</td>\n",
       "      <td>5.829106e+10</td>\n",
       "      <td>296</td>\n",
       "    </tr>\n",
       "    <tr>\n",
       "      <th>«16+» - для детей старше 16 лет</th>\n",
       "      <td>9.707133e+07</td>\n",
       "      <td>6.774523e+06</td>\n",
       "      <td>7.309471e+10</td>\n",
       "      <td>753</td>\n",
       "    </tr>\n",
       "    <tr>\n",
       "      <th>«18+» - запрещено для детей</th>\n",
       "      <td>5.318480e+07</td>\n",
       "      <td>6.615812e+06</td>\n",
       "      <td>4.047363e+10</td>\n",
       "      <td>761</td>\n",
       "    </tr>\n",
       "  </tbody>\n",
       "</table>\n",
       "</div>"
      ],
      "text/plain": [
       "                                                mean        median  \\\n",
       "                                          box_office    box_office   \n",
       "age_restriction                                                      \n",
       "«0+» - для любой зрительской аудитории  1.521056e+07  1.950019e+06   \n",
       "«06+» - для детей старше 6 лет          1.848360e+08  1.887846e+07   \n",
       "«12+» - для детей старше 12 лет         1.969292e+08  1.257782e+07   \n",
       "«16+» - для детей старше 16 лет         9.707133e+07  6.774523e+06   \n",
       "«18+» - запрещено для детей             5.318480e+07  6.615812e+06   \n",
       "\n",
       "                                                 sum      count  \n",
       "                                          box_office box_office  \n",
       "age_restriction                                                  \n",
       "«0+» - для любой зрительской аудитории  6.540543e+08         43  \n",
       "«06+» - для детей старше 6 лет          5.267825e+10        285  \n",
       "«12+» - для детей старше 12 лет         5.829106e+10        296  \n",
       "«16+» - для детей старше 16 лет         7.309471e+10        753  \n",
       "«18+» - запрещено для детей             4.047363e+10        761  "
      ]
     },
     "execution_count": 30,
     "metadata": {},
     "output_type": "execute_result"
    }
   ],
   "source": [
    "df = df.query('year >= 2015 and box_office > 0')\n",
    "df_group_all = df.pivot_table(\n",
    "    index='age_restriction', values=['box_office'], aggfunc=['mean', 'median', 'sum', 'count']\n",
    ")\n",
    "df_group_all\n"
   ]
  },
  {
   "cell_type": "code",
   "execution_count": 31,
   "metadata": {},
   "outputs": [
    {
     "data": {
      "text/html": [
       "<div>\n",
       "<style scoped>\n",
       "    .dataframe tbody tr th:only-of-type {\n",
       "        vertical-align: middle;\n",
       "    }\n",
       "\n",
       "    .dataframe tbody tr th {\n",
       "        vertical-align: top;\n",
       "    }\n",
       "\n",
       "    .dataframe thead th {\n",
       "        text-align: right;\n",
       "    }\n",
       "</style>\n",
       "<table border=\"1\" class=\"dataframe\">\n",
       "  <thead>\n",
       "    <tr style=\"text-align: right;\">\n",
       "      <th></th>\n",
       "      <th></th>\n",
       "      <th>mean</th>\n",
       "      <th>median</th>\n",
       "      <th>sum</th>\n",
       "      <th>count</th>\n",
       "    </tr>\n",
       "    <tr>\n",
       "      <th>age_restriction</th>\n",
       "      <th>year</th>\n",
       "      <th></th>\n",
       "      <th></th>\n",
       "      <th></th>\n",
       "      <th></th>\n",
       "    </tr>\n",
       "  </thead>\n",
       "  <tbody>\n",
       "    <tr>\n",
       "      <th rowspan=\"5\" valign=\"top\">«0+» - для любой зрительской аудитории</th>\n",
       "      <th>2015</th>\n",
       "      <td>1.559892e+07</td>\n",
       "      <td>2.943319e+06</td>\n",
       "      <td>3.275774e+08</td>\n",
       "      <td>21</td>\n",
       "    </tr>\n",
       "    <tr>\n",
       "      <th>2016</th>\n",
       "      <td>4.701659e+06</td>\n",
       "      <td>2.930660e+05</td>\n",
       "      <td>7.992821e+07</td>\n",
       "      <td>17</td>\n",
       "    </tr>\n",
       "    <tr>\n",
       "      <th>2017</th>\n",
       "      <td>1.143286e+08</td>\n",
       "      <td>1.143286e+08</td>\n",
       "      <td>2.286571e+08</td>\n",
       "      <td>2</td>\n",
       "    </tr>\n",
       "    <tr>\n",
       "      <th>2018</th>\n",
       "      <td>2.055951e+06</td>\n",
       "      <td>2.055951e+06</td>\n",
       "      <td>4.111901e+06</td>\n",
       "      <td>2</td>\n",
       "    </tr>\n",
       "    <tr>\n",
       "      <th>2019</th>\n",
       "      <td>1.377963e+07</td>\n",
       "      <td>1.377963e+07</td>\n",
       "      <td>1.377963e+07</td>\n",
       "      <td>1</td>\n",
       "    </tr>\n",
       "    <tr>\n",
       "      <th rowspan=\"5\" valign=\"top\">«06+» - для детей старше 6 лет</th>\n",
       "      <th>2015</th>\n",
       "      <td>1.573160e+08</td>\n",
       "      <td>2.312598e+07</td>\n",
       "      <td>7.865802e+09</td>\n",
       "      <td>50</td>\n",
       "    </tr>\n",
       "    <tr>\n",
       "      <th>2016</th>\n",
       "      <td>1.772429e+08</td>\n",
       "      <td>4.475530e+06</td>\n",
       "      <td>1.081181e+10</td>\n",
       "      <td>61</td>\n",
       "    </tr>\n",
       "    <tr>\n",
       "      <th>2017</th>\n",
       "      <td>2.840657e+08</td>\n",
       "      <td>5.199210e+07</td>\n",
       "      <td>1.107856e+10</td>\n",
       "      <td>39</td>\n",
       "    </tr>\n",
       "    <tr>\n",
       "      <th>2018</th>\n",
       "      <td>1.602836e+08</td>\n",
       "      <td>2.128211e+07</td>\n",
       "      <td>1.009787e+10</td>\n",
       "      <td>63</td>\n",
       "    </tr>\n",
       "    <tr>\n",
       "      <th>2019</th>\n",
       "      <td>1.781139e+08</td>\n",
       "      <td>2.522082e+07</td>\n",
       "      <td>1.282420e+10</td>\n",
       "      <td>72</td>\n",
       "    </tr>\n",
       "    <tr>\n",
       "      <th rowspan=\"5\" valign=\"top\">«12+» - для детей старше 12 лет</th>\n",
       "      <th>2015</th>\n",
       "      <td>2.094695e+08</td>\n",
       "      <td>2.234363e+07</td>\n",
       "      <td>1.361551e+10</td>\n",
       "      <td>65</td>\n",
       "    </tr>\n",
       "    <tr>\n",
       "      <th>2016</th>\n",
       "      <td>1.692740e+08</td>\n",
       "      <td>1.200571e+07</td>\n",
       "      <td>1.218773e+10</td>\n",
       "      <td>72</td>\n",
       "    </tr>\n",
       "    <tr>\n",
       "      <th>2017</th>\n",
       "      <td>2.161780e+08</td>\n",
       "      <td>1.953190e+07</td>\n",
       "      <td>7.350053e+09</td>\n",
       "      <td>34</td>\n",
       "    </tr>\n",
       "    <tr>\n",
       "      <th>2018</th>\n",
       "      <td>2.227076e+08</td>\n",
       "      <td>1.260969e+07</td>\n",
       "      <td>1.247162e+10</td>\n",
       "      <td>56</td>\n",
       "    </tr>\n",
       "    <tr>\n",
       "      <th>2019</th>\n",
       "      <td>1.835672e+08</td>\n",
       "      <td>4.765560e+06</td>\n",
       "      <td>1.266614e+10</td>\n",
       "      <td>69</td>\n",
       "    </tr>\n",
       "    <tr>\n",
       "      <th rowspan=\"5\" valign=\"top\">«16+» - для детей старше 16 лет</th>\n",
       "      <th>2015</th>\n",
       "      <td>6.957870e+07</td>\n",
       "      <td>6.457303e+06</td>\n",
       "      <td>1.106301e+10</td>\n",
       "      <td>159</td>\n",
       "    </tr>\n",
       "    <tr>\n",
       "      <th>2016</th>\n",
       "      <td>9.387917e+07</td>\n",
       "      <td>5.524593e+06</td>\n",
       "      <td>1.595946e+10</td>\n",
       "      <td>170</td>\n",
       "    </tr>\n",
       "    <tr>\n",
       "      <th>2017</th>\n",
       "      <td>1.538165e+08</td>\n",
       "      <td>1.015010e+07</td>\n",
       "      <td>1.784271e+10</td>\n",
       "      <td>116</td>\n",
       "    </tr>\n",
       "    <tr>\n",
       "      <th>2018</th>\n",
       "      <td>1.055027e+08</td>\n",
       "      <td>1.009767e+07</td>\n",
       "      <td>1.550890e+10</td>\n",
       "      <td>147</td>\n",
       "    </tr>\n",
       "    <tr>\n",
       "      <th>2019</th>\n",
       "      <td>7.901012e+07</td>\n",
       "      <td>4.293650e+06</td>\n",
       "      <td>1.272063e+10</td>\n",
       "      <td>161</td>\n",
       "    </tr>\n",
       "    <tr>\n",
       "      <th rowspan=\"5\" valign=\"top\">«18+» - запрещено для детей</th>\n",
       "      <th>2015</th>\n",
       "      <td>4.286336e+07</td>\n",
       "      <td>5.034342e+06</td>\n",
       "      <td>5.272193e+09</td>\n",
       "      <td>123</td>\n",
       "    </tr>\n",
       "    <tr>\n",
       "      <th>2016</th>\n",
       "      <td>4.668420e+07</td>\n",
       "      <td>6.375092e+06</td>\n",
       "      <td>6.769209e+09</td>\n",
       "      <td>145</td>\n",
       "    </tr>\n",
       "    <tr>\n",
       "      <th>2017</th>\n",
       "      <td>6.775058e+07</td>\n",
       "      <td>8.561996e+06</td>\n",
       "      <td>9.620582e+09</td>\n",
       "      <td>142</td>\n",
       "    </tr>\n",
       "    <tr>\n",
       "      <th>2018</th>\n",
       "      <td>4.965551e+07</td>\n",
       "      <td>7.604029e+06</td>\n",
       "      <td>8.739369e+09</td>\n",
       "      <td>176</td>\n",
       "    </tr>\n",
       "    <tr>\n",
       "      <th>2019</th>\n",
       "      <td>5.755589e+07</td>\n",
       "      <td>5.712898e+06</td>\n",
       "      <td>1.007228e+10</td>\n",
       "      <td>175</td>\n",
       "    </tr>\n",
       "  </tbody>\n",
       "</table>\n",
       "</div>"
      ],
      "text/plain": [
       "                                                     mean        median  \\\n",
       "age_restriction                        year                               \n",
       "«0+» - для любой зрительской аудитории 2015  1.559892e+07  2.943319e+06   \n",
       "                                       2016  4.701659e+06  2.930660e+05   \n",
       "                                       2017  1.143286e+08  1.143286e+08   \n",
       "                                       2018  2.055951e+06  2.055951e+06   \n",
       "                                       2019  1.377963e+07  1.377963e+07   \n",
       "«06+» - для детей старше 6 лет         2015  1.573160e+08  2.312598e+07   \n",
       "                                       2016  1.772429e+08  4.475530e+06   \n",
       "                                       2017  2.840657e+08  5.199210e+07   \n",
       "                                       2018  1.602836e+08  2.128211e+07   \n",
       "                                       2019  1.781139e+08  2.522082e+07   \n",
       "«12+» - для детей старше 12 лет        2015  2.094695e+08  2.234363e+07   \n",
       "                                       2016  1.692740e+08  1.200571e+07   \n",
       "                                       2017  2.161780e+08  1.953190e+07   \n",
       "                                       2018  2.227076e+08  1.260969e+07   \n",
       "                                       2019  1.835672e+08  4.765560e+06   \n",
       "«16+» - для детей старше 16 лет        2015  6.957870e+07  6.457303e+06   \n",
       "                                       2016  9.387917e+07  5.524593e+06   \n",
       "                                       2017  1.538165e+08  1.015010e+07   \n",
       "                                       2018  1.055027e+08  1.009767e+07   \n",
       "                                       2019  7.901012e+07  4.293650e+06   \n",
       "«18+» - запрещено для детей            2015  4.286336e+07  5.034342e+06   \n",
       "                                       2016  4.668420e+07  6.375092e+06   \n",
       "                                       2017  6.775058e+07  8.561996e+06   \n",
       "                                       2018  4.965551e+07  7.604029e+06   \n",
       "                                       2019  5.755589e+07  5.712898e+06   \n",
       "\n",
       "                                                      sum  count  \n",
       "age_restriction                        year                       \n",
       "«0+» - для любой зрительской аудитории 2015  3.275774e+08     21  \n",
       "                                       2016  7.992821e+07     17  \n",
       "                                       2017  2.286571e+08      2  \n",
       "                                       2018  4.111901e+06      2  \n",
       "                                       2019  1.377963e+07      1  \n",
       "«06+» - для детей старше 6 лет         2015  7.865802e+09     50  \n",
       "                                       2016  1.081181e+10     61  \n",
       "                                       2017  1.107856e+10     39  \n",
       "                                       2018  1.009787e+10     63  \n",
       "                                       2019  1.282420e+10     72  \n",
       "«12+» - для детей старше 12 лет        2015  1.361551e+10     65  \n",
       "                                       2016  1.218773e+10     72  \n",
       "                                       2017  7.350053e+09     34  \n",
       "                                       2018  1.247162e+10     56  \n",
       "                                       2019  1.266614e+10     69  \n",
       "«16+» - для детей старше 16 лет        2015  1.106301e+10    159  \n",
       "                                       2016  1.595946e+10    170  \n",
       "                                       2017  1.784271e+10    116  \n",
       "                                       2018  1.550890e+10    147  \n",
       "                                       2019  1.272063e+10    161  \n",
       "«18+» - запрещено для детей            2015  5.272193e+09    123  \n",
       "                                       2016  6.769209e+09    145  \n",
       "                                       2017  9.620582e+09    142  \n",
       "                                       2018  8.739369e+09    176  \n",
       "                                       2019  1.007228e+10    175  "
      ]
     },
     "execution_count": 31,
     "metadata": {},
     "output_type": "execute_result"
    }
   ],
   "source": [
    "df_group = df.pivot_table(\n",
    "    index=['age_restriction', 'year'], values=['box_office'], aggfunc=['mean', 'median', 'sum', 'count'], margins=False\n",
    ")\n",
    "\n",
    "df_group.columns = ['mean', 'median', 'sum', 'count']\n",
    "df_group\n"
   ]
  },
  {
   "cell_type": "code",
   "execution_count": 32,
   "metadata": {},
   "outputs": [],
   "source": [
    "def set_columns(row):\n",
    "    row['year'] = row.name[1]\n",
    "    row['age_restraction'] = row.name[0]\n",
    "    return row\n",
    "    \n",
    "df_group.apply(set_columns, axis=1)\n",
    "df_group.reset_index(inplace=True)\n"
   ]
  },
  {
   "cell_type": "code",
   "execution_count": 34,
   "metadata": {},
   "outputs": [
    {
     "data": {
      "application/vnd.plotly.v1+json": {
       "config": {
        "plotlyServerURL": "https://plot.ly"
       },
       "data": [
        {
         "hovertemplate": "age_restriction=«0+» - для любой зрительской аудитории<br>year=%{x}<br>median=%{y}<extra></extra>",
         "legendgroup": "«0+» - для любой зрительской аудитории",
         "line": {
          "color": "#636efa",
          "dash": "solid"
         },
         "marker": {
          "symbol": "circle"
         },
         "mode": "lines",
         "name": "«0+» - для любой зрительской аудитории",
         "orientation": "v",
         "showlegend": true,
         "type": "scatter",
         "x": [
          2015,
          2016,
          2017,
          2018,
          2019
         ],
         "xaxis": "x",
         "y": [
          2943318.7,
          293066,
          114328571,
          2055950.64,
          13779632.32
         ],
         "yaxis": "y"
        },
        {
         "hovertemplate": "age_restriction=«06+» - для детей старше 6 лет<br>year=%{x}<br>median=%{y}<extra></extra>",
         "legendgroup": "«06+» - для детей старше 6 лет",
         "line": {
          "color": "#EF553B",
          "dash": "solid"
         },
         "marker": {
          "symbol": "circle"
         },
         "mode": "lines",
         "name": "«06+» - для детей старше 6 лет",
         "orientation": "v",
         "showlegend": true,
         "type": "scatter",
         "x": [
          2015,
          2016,
          2017,
          2018,
          2019
         ],
         "xaxis": "x",
         "y": [
          23125984.7,
          4475530,
          51992103,
          21282107.64,
          25220815.07
         ],
         "yaxis": "y"
        },
        {
         "hovertemplate": "age_restriction=«12+» - для детей старше 12 лет<br>year=%{x}<br>median=%{y}<extra></extra>",
         "legendgroup": "«12+» - для детей старше 12 лет",
         "line": {
          "color": "#00cc96",
          "dash": "solid"
         },
         "marker": {
          "symbol": "circle"
         },
         "mode": "lines",
         "name": "«12+» - для детей старше 12 лет",
         "orientation": "v",
         "showlegend": true,
         "type": "scatter",
         "x": [
          2015,
          2016,
          2017,
          2018,
          2019
         ],
         "xaxis": "x",
         "y": [
          22343626,
          12005709.27,
          19531901,
          12609693.059999999,
          4765559.5
         ],
         "yaxis": "y"
        },
        {
         "hovertemplate": "age_restriction=«16+» - для детей старше 16 лет<br>year=%{x}<br>median=%{y}<extra></extra>",
         "legendgroup": "«16+» - для детей старше 16 лет",
         "line": {
          "color": "#ab63fa",
          "dash": "solid"
         },
         "marker": {
          "symbol": "circle"
         },
         "mode": "lines",
         "name": "«16+» - для детей старше 16 лет",
         "orientation": "v",
         "showlegend": true,
         "type": "scatter",
         "x": [
          2015,
          2016,
          2017,
          2018,
          2019
         ],
         "xaxis": "x",
         "y": [
          6457303.02,
          5524592.85,
          10150100.5,
          10097673.5,
          4293649.51
         ],
         "yaxis": "y"
        },
        {
         "hovertemplate": "age_restriction=«18+» - запрещено для детей<br>year=%{x}<br>median=%{y}<extra></extra>",
         "legendgroup": "«18+» - запрещено для детей",
         "line": {
          "color": "#FFA15A",
          "dash": "solid"
         },
         "marker": {
          "symbol": "circle"
         },
         "mode": "lines",
         "name": "«18+» - запрещено для детей",
         "orientation": "v",
         "showlegend": true,
         "type": "scatter",
         "x": [
          2015,
          2016,
          2017,
          2018,
          2019
         ],
         "xaxis": "x",
         "y": [
          5034342.4,
          6375092,
          8561996.5,
          7604029,
          5712897.7
         ],
         "yaxis": "y"
        }
       ],
       "layout": {
        "legend": {
         "title": {
          "text": "age_restriction"
         },
         "tracegroupgap": 0
        },
        "template": {
         "data": {
          "bar": [
           {
            "error_x": {
             "color": "#2a3f5f"
            },
            "error_y": {
             "color": "#2a3f5f"
            },
            "marker": {
             "line": {
              "color": "#E5ECF6",
              "width": 0.5
             },
             "pattern": {
              "fillmode": "overlay",
              "size": 10,
              "solidity": 0.2
             }
            },
            "type": "bar"
           }
          ],
          "barpolar": [
           {
            "marker": {
             "line": {
              "color": "#E5ECF6",
              "width": 0.5
             },
             "pattern": {
              "fillmode": "overlay",
              "size": 10,
              "solidity": 0.2
             }
            },
            "type": "barpolar"
           }
          ],
          "carpet": [
           {
            "aaxis": {
             "endlinecolor": "#2a3f5f",
             "gridcolor": "white",
             "linecolor": "white",
             "minorgridcolor": "white",
             "startlinecolor": "#2a3f5f"
            },
            "baxis": {
             "endlinecolor": "#2a3f5f",
             "gridcolor": "white",
             "linecolor": "white",
             "minorgridcolor": "white",
             "startlinecolor": "#2a3f5f"
            },
            "type": "carpet"
           }
          ],
          "choropleth": [
           {
            "colorbar": {
             "outlinewidth": 0,
             "ticks": ""
            },
            "type": "choropleth"
           }
          ],
          "contour": [
           {
            "colorbar": {
             "outlinewidth": 0,
             "ticks": ""
            },
            "colorscale": [
             [
              0,
              "#0d0887"
             ],
             [
              0.1111111111111111,
              "#46039f"
             ],
             [
              0.2222222222222222,
              "#7201a8"
             ],
             [
              0.3333333333333333,
              "#9c179e"
             ],
             [
              0.4444444444444444,
              "#bd3786"
             ],
             [
              0.5555555555555556,
              "#d8576b"
             ],
             [
              0.6666666666666666,
              "#ed7953"
             ],
             [
              0.7777777777777778,
              "#fb9f3a"
             ],
             [
              0.8888888888888888,
              "#fdca26"
             ],
             [
              1,
              "#f0f921"
             ]
            ],
            "type": "contour"
           }
          ],
          "contourcarpet": [
           {
            "colorbar": {
             "outlinewidth": 0,
             "ticks": ""
            },
            "type": "contourcarpet"
           }
          ],
          "heatmap": [
           {
            "colorbar": {
             "outlinewidth": 0,
             "ticks": ""
            },
            "colorscale": [
             [
              0,
              "#0d0887"
             ],
             [
              0.1111111111111111,
              "#46039f"
             ],
             [
              0.2222222222222222,
              "#7201a8"
             ],
             [
              0.3333333333333333,
              "#9c179e"
             ],
             [
              0.4444444444444444,
              "#bd3786"
             ],
             [
              0.5555555555555556,
              "#d8576b"
             ],
             [
              0.6666666666666666,
              "#ed7953"
             ],
             [
              0.7777777777777778,
              "#fb9f3a"
             ],
             [
              0.8888888888888888,
              "#fdca26"
             ],
             [
              1,
              "#f0f921"
             ]
            ],
            "type": "heatmap"
           }
          ],
          "heatmapgl": [
           {
            "colorbar": {
             "outlinewidth": 0,
             "ticks": ""
            },
            "colorscale": [
             [
              0,
              "#0d0887"
             ],
             [
              0.1111111111111111,
              "#46039f"
             ],
             [
              0.2222222222222222,
              "#7201a8"
             ],
             [
              0.3333333333333333,
              "#9c179e"
             ],
             [
              0.4444444444444444,
              "#bd3786"
             ],
             [
              0.5555555555555556,
              "#d8576b"
             ],
             [
              0.6666666666666666,
              "#ed7953"
             ],
             [
              0.7777777777777778,
              "#fb9f3a"
             ],
             [
              0.8888888888888888,
              "#fdca26"
             ],
             [
              1,
              "#f0f921"
             ]
            ],
            "type": "heatmapgl"
           }
          ],
          "histogram": [
           {
            "marker": {
             "pattern": {
              "fillmode": "overlay",
              "size": 10,
              "solidity": 0.2
             }
            },
            "type": "histogram"
           }
          ],
          "histogram2d": [
           {
            "colorbar": {
             "outlinewidth": 0,
             "ticks": ""
            },
            "colorscale": [
             [
              0,
              "#0d0887"
             ],
             [
              0.1111111111111111,
              "#46039f"
             ],
             [
              0.2222222222222222,
              "#7201a8"
             ],
             [
              0.3333333333333333,
              "#9c179e"
             ],
             [
              0.4444444444444444,
              "#bd3786"
             ],
             [
              0.5555555555555556,
              "#d8576b"
             ],
             [
              0.6666666666666666,
              "#ed7953"
             ],
             [
              0.7777777777777778,
              "#fb9f3a"
             ],
             [
              0.8888888888888888,
              "#fdca26"
             ],
             [
              1,
              "#f0f921"
             ]
            ],
            "type": "histogram2d"
           }
          ],
          "histogram2dcontour": [
           {
            "colorbar": {
             "outlinewidth": 0,
             "ticks": ""
            },
            "colorscale": [
             [
              0,
              "#0d0887"
             ],
             [
              0.1111111111111111,
              "#46039f"
             ],
             [
              0.2222222222222222,
              "#7201a8"
             ],
             [
              0.3333333333333333,
              "#9c179e"
             ],
             [
              0.4444444444444444,
              "#bd3786"
             ],
             [
              0.5555555555555556,
              "#d8576b"
             ],
             [
              0.6666666666666666,
              "#ed7953"
             ],
             [
              0.7777777777777778,
              "#fb9f3a"
             ],
             [
              0.8888888888888888,
              "#fdca26"
             ],
             [
              1,
              "#f0f921"
             ]
            ],
            "type": "histogram2dcontour"
           }
          ],
          "mesh3d": [
           {
            "colorbar": {
             "outlinewidth": 0,
             "ticks": ""
            },
            "type": "mesh3d"
           }
          ],
          "parcoords": [
           {
            "line": {
             "colorbar": {
              "outlinewidth": 0,
              "ticks": ""
             }
            },
            "type": "parcoords"
           }
          ],
          "pie": [
           {
            "automargin": true,
            "type": "pie"
           }
          ],
          "scatter": [
           {
            "marker": {
             "colorbar": {
              "outlinewidth": 0,
              "ticks": ""
             }
            },
            "type": "scatter"
           }
          ],
          "scatter3d": [
           {
            "line": {
             "colorbar": {
              "outlinewidth": 0,
              "ticks": ""
             }
            },
            "marker": {
             "colorbar": {
              "outlinewidth": 0,
              "ticks": ""
             }
            },
            "type": "scatter3d"
           }
          ],
          "scattercarpet": [
           {
            "marker": {
             "colorbar": {
              "outlinewidth": 0,
              "ticks": ""
             }
            },
            "type": "scattercarpet"
           }
          ],
          "scattergeo": [
           {
            "marker": {
             "colorbar": {
              "outlinewidth": 0,
              "ticks": ""
             }
            },
            "type": "scattergeo"
           }
          ],
          "scattergl": [
           {
            "marker": {
             "colorbar": {
              "outlinewidth": 0,
              "ticks": ""
             }
            },
            "type": "scattergl"
           }
          ],
          "scattermapbox": [
           {
            "marker": {
             "colorbar": {
              "outlinewidth": 0,
              "ticks": ""
             }
            },
            "type": "scattermapbox"
           }
          ],
          "scatterpolar": [
           {
            "marker": {
             "colorbar": {
              "outlinewidth": 0,
              "ticks": ""
             }
            },
            "type": "scatterpolar"
           }
          ],
          "scatterpolargl": [
           {
            "marker": {
             "colorbar": {
              "outlinewidth": 0,
              "ticks": ""
             }
            },
            "type": "scatterpolargl"
           }
          ],
          "scatterternary": [
           {
            "marker": {
             "colorbar": {
              "outlinewidth": 0,
              "ticks": ""
             }
            },
            "type": "scatterternary"
           }
          ],
          "surface": [
           {
            "colorbar": {
             "outlinewidth": 0,
             "ticks": ""
            },
            "colorscale": [
             [
              0,
              "#0d0887"
             ],
             [
              0.1111111111111111,
              "#46039f"
             ],
             [
              0.2222222222222222,
              "#7201a8"
             ],
             [
              0.3333333333333333,
              "#9c179e"
             ],
             [
              0.4444444444444444,
              "#bd3786"
             ],
             [
              0.5555555555555556,
              "#d8576b"
             ],
             [
              0.6666666666666666,
              "#ed7953"
             ],
             [
              0.7777777777777778,
              "#fb9f3a"
             ],
             [
              0.8888888888888888,
              "#fdca26"
             ],
             [
              1,
              "#f0f921"
             ]
            ],
            "type": "surface"
           }
          ],
          "table": [
           {
            "cells": {
             "fill": {
              "color": "#EBF0F8"
             },
             "line": {
              "color": "white"
             }
            },
            "header": {
             "fill": {
              "color": "#C8D4E3"
             },
             "line": {
              "color": "white"
             }
            },
            "type": "table"
           }
          ]
         },
         "layout": {
          "annotationdefaults": {
           "arrowcolor": "#2a3f5f",
           "arrowhead": 0,
           "arrowwidth": 1
          },
          "autotypenumbers": "strict",
          "coloraxis": {
           "colorbar": {
            "outlinewidth": 0,
            "ticks": ""
           }
          },
          "colorscale": {
           "diverging": [
            [
             0,
             "#8e0152"
            ],
            [
             0.1,
             "#c51b7d"
            ],
            [
             0.2,
             "#de77ae"
            ],
            [
             0.3,
             "#f1b6da"
            ],
            [
             0.4,
             "#fde0ef"
            ],
            [
             0.5,
             "#f7f7f7"
            ],
            [
             0.6,
             "#e6f5d0"
            ],
            [
             0.7,
             "#b8e186"
            ],
            [
             0.8,
             "#7fbc41"
            ],
            [
             0.9,
             "#4d9221"
            ],
            [
             1,
             "#276419"
            ]
           ],
           "sequential": [
            [
             0,
             "#0d0887"
            ],
            [
             0.1111111111111111,
             "#46039f"
            ],
            [
             0.2222222222222222,
             "#7201a8"
            ],
            [
             0.3333333333333333,
             "#9c179e"
            ],
            [
             0.4444444444444444,
             "#bd3786"
            ],
            [
             0.5555555555555556,
             "#d8576b"
            ],
            [
             0.6666666666666666,
             "#ed7953"
            ],
            [
             0.7777777777777778,
             "#fb9f3a"
            ],
            [
             0.8888888888888888,
             "#fdca26"
            ],
            [
             1,
             "#f0f921"
            ]
           ],
           "sequentialminus": [
            [
             0,
             "#0d0887"
            ],
            [
             0.1111111111111111,
             "#46039f"
            ],
            [
             0.2222222222222222,
             "#7201a8"
            ],
            [
             0.3333333333333333,
             "#9c179e"
            ],
            [
             0.4444444444444444,
             "#bd3786"
            ],
            [
             0.5555555555555556,
             "#d8576b"
            ],
            [
             0.6666666666666666,
             "#ed7953"
            ],
            [
             0.7777777777777778,
             "#fb9f3a"
            ],
            [
             0.8888888888888888,
             "#fdca26"
            ],
            [
             1,
             "#f0f921"
            ]
           ]
          },
          "colorway": [
           "#636efa",
           "#EF553B",
           "#00cc96",
           "#ab63fa",
           "#FFA15A",
           "#19d3f3",
           "#FF6692",
           "#B6E880",
           "#FF97FF",
           "#FECB52"
          ],
          "font": {
           "color": "#2a3f5f"
          },
          "geo": {
           "bgcolor": "white",
           "lakecolor": "white",
           "landcolor": "#E5ECF6",
           "showlakes": true,
           "showland": true,
           "subunitcolor": "white"
          },
          "hoverlabel": {
           "align": "left"
          },
          "hovermode": "closest",
          "mapbox": {
           "style": "light"
          },
          "paper_bgcolor": "white",
          "plot_bgcolor": "#E5ECF6",
          "polar": {
           "angularaxis": {
            "gridcolor": "white",
            "linecolor": "white",
            "ticks": ""
           },
           "bgcolor": "#E5ECF6",
           "radialaxis": {
            "gridcolor": "white",
            "linecolor": "white",
            "ticks": ""
           }
          },
          "scene": {
           "xaxis": {
            "backgroundcolor": "#E5ECF6",
            "gridcolor": "white",
            "gridwidth": 2,
            "linecolor": "white",
            "showbackground": true,
            "ticks": "",
            "zerolinecolor": "white"
           },
           "yaxis": {
            "backgroundcolor": "#E5ECF6",
            "gridcolor": "white",
            "gridwidth": 2,
            "linecolor": "white",
            "showbackground": true,
            "ticks": "",
            "zerolinecolor": "white"
           },
           "zaxis": {
            "backgroundcolor": "#E5ECF6",
            "gridcolor": "white",
            "gridwidth": 2,
            "linecolor": "white",
            "showbackground": true,
            "ticks": "",
            "zerolinecolor": "white"
           }
          },
          "shapedefaults": {
           "line": {
            "color": "#2a3f5f"
           }
          },
          "ternary": {
           "aaxis": {
            "gridcolor": "white",
            "linecolor": "white",
            "ticks": ""
           },
           "baxis": {
            "gridcolor": "white",
            "linecolor": "white",
            "ticks": ""
           },
           "bgcolor": "#E5ECF6",
           "caxis": {
            "gridcolor": "white",
            "linecolor": "white",
            "ticks": ""
           }
          },
          "title": {
           "x": 0.05
          },
          "xaxis": {
           "automargin": true,
           "gridcolor": "white",
           "linecolor": "white",
           "ticks": "",
           "title": {
            "standoff": 15
           },
           "zerolinecolor": "white",
           "zerolinewidth": 2
          },
          "yaxis": {
           "automargin": true,
           "gridcolor": "white",
           "linecolor": "white",
           "ticks": "",
           "title": {
            "standoff": 15
           },
           "zerolinecolor": "white",
           "zerolinewidth": 2
          }
         }
        },
        "title": {
         "text": "Медианое кол-во сборов по годам для разных категорий"
        },
        "xaxis": {
         "anchor": "y",
         "domain": [
          0,
          1
         ],
         "title": {
          "text": "year"
         }
        },
        "yaxis": {
         "anchor": "x",
         "domain": [
          0,
          1
         ],
         "title": {
          "text": "median"
         }
        }
       }
      }
     },
     "metadata": {},
     "output_type": "display_data"
    },
    {
     "data": {
      "application/vnd.plotly.v1+json": {
       "config": {
        "plotlyServerURL": "https://plot.ly"
       },
       "data": [
        {
         "hovertemplate": "age_restriction=«0+» - для любой зрительской аудитории<br>year=%{x}<br>count=%{y}<extra></extra>",
         "legendgroup": "«0+» - для любой зрительской аудитории",
         "line": {
          "color": "#636efa",
          "dash": "solid"
         },
         "marker": {
          "symbol": "circle"
         },
         "mode": "lines",
         "name": "«0+» - для любой зрительской аудитории",
         "orientation": "v",
         "showlegend": true,
         "type": "scatter",
         "x": [
          2015,
          2016,
          2017,
          2018,
          2019
         ],
         "xaxis": "x",
         "y": [
          21,
          17,
          2,
          2,
          1
         ],
         "yaxis": "y"
        },
        {
         "hovertemplate": "age_restriction=«06+» - для детей старше 6 лет<br>year=%{x}<br>count=%{y}<extra></extra>",
         "legendgroup": "«06+» - для детей старше 6 лет",
         "line": {
          "color": "#EF553B",
          "dash": "solid"
         },
         "marker": {
          "symbol": "circle"
         },
         "mode": "lines",
         "name": "«06+» - для детей старше 6 лет",
         "orientation": "v",
         "showlegend": true,
         "type": "scatter",
         "x": [
          2015,
          2016,
          2017,
          2018,
          2019
         ],
         "xaxis": "x",
         "y": [
          50,
          61,
          39,
          63,
          72
         ],
         "yaxis": "y"
        },
        {
         "hovertemplate": "age_restriction=«12+» - для детей старше 12 лет<br>year=%{x}<br>count=%{y}<extra></extra>",
         "legendgroup": "«12+» - для детей старше 12 лет",
         "line": {
          "color": "#00cc96",
          "dash": "solid"
         },
         "marker": {
          "symbol": "circle"
         },
         "mode": "lines",
         "name": "«12+» - для детей старше 12 лет",
         "orientation": "v",
         "showlegend": true,
         "type": "scatter",
         "x": [
          2015,
          2016,
          2017,
          2018,
          2019
         ],
         "xaxis": "x",
         "y": [
          65,
          72,
          34,
          56,
          69
         ],
         "yaxis": "y"
        },
        {
         "hovertemplate": "age_restriction=«16+» - для детей старше 16 лет<br>year=%{x}<br>count=%{y}<extra></extra>",
         "legendgroup": "«16+» - для детей старше 16 лет",
         "line": {
          "color": "#ab63fa",
          "dash": "solid"
         },
         "marker": {
          "symbol": "circle"
         },
         "mode": "lines",
         "name": "«16+» - для детей старше 16 лет",
         "orientation": "v",
         "showlegend": true,
         "type": "scatter",
         "x": [
          2015,
          2016,
          2017,
          2018,
          2019
         ],
         "xaxis": "x",
         "y": [
          159,
          170,
          116,
          147,
          161
         ],
         "yaxis": "y"
        },
        {
         "hovertemplate": "age_restriction=«18+» - запрещено для детей<br>year=%{x}<br>count=%{y}<extra></extra>",
         "legendgroup": "«18+» - запрещено для детей",
         "line": {
          "color": "#FFA15A",
          "dash": "solid"
         },
         "marker": {
          "symbol": "circle"
         },
         "mode": "lines",
         "name": "«18+» - запрещено для детей",
         "orientation": "v",
         "showlegend": true,
         "type": "scatter",
         "x": [
          2015,
          2016,
          2017,
          2018,
          2019
         ],
         "xaxis": "x",
         "y": [
          123,
          145,
          142,
          176,
          175
         ],
         "yaxis": "y"
        }
       ],
       "layout": {
        "legend": {
         "title": {
          "text": "age_restriction"
         },
         "tracegroupgap": 0
        },
        "template": {
         "data": {
          "bar": [
           {
            "error_x": {
             "color": "#2a3f5f"
            },
            "error_y": {
             "color": "#2a3f5f"
            },
            "marker": {
             "line": {
              "color": "#E5ECF6",
              "width": 0.5
             },
             "pattern": {
              "fillmode": "overlay",
              "size": 10,
              "solidity": 0.2
             }
            },
            "type": "bar"
           }
          ],
          "barpolar": [
           {
            "marker": {
             "line": {
              "color": "#E5ECF6",
              "width": 0.5
             },
             "pattern": {
              "fillmode": "overlay",
              "size": 10,
              "solidity": 0.2
             }
            },
            "type": "barpolar"
           }
          ],
          "carpet": [
           {
            "aaxis": {
             "endlinecolor": "#2a3f5f",
             "gridcolor": "white",
             "linecolor": "white",
             "minorgridcolor": "white",
             "startlinecolor": "#2a3f5f"
            },
            "baxis": {
             "endlinecolor": "#2a3f5f",
             "gridcolor": "white",
             "linecolor": "white",
             "minorgridcolor": "white",
             "startlinecolor": "#2a3f5f"
            },
            "type": "carpet"
           }
          ],
          "choropleth": [
           {
            "colorbar": {
             "outlinewidth": 0,
             "ticks": ""
            },
            "type": "choropleth"
           }
          ],
          "contour": [
           {
            "colorbar": {
             "outlinewidth": 0,
             "ticks": ""
            },
            "colorscale": [
             [
              0,
              "#0d0887"
             ],
             [
              0.1111111111111111,
              "#46039f"
             ],
             [
              0.2222222222222222,
              "#7201a8"
             ],
             [
              0.3333333333333333,
              "#9c179e"
             ],
             [
              0.4444444444444444,
              "#bd3786"
             ],
             [
              0.5555555555555556,
              "#d8576b"
             ],
             [
              0.6666666666666666,
              "#ed7953"
             ],
             [
              0.7777777777777778,
              "#fb9f3a"
             ],
             [
              0.8888888888888888,
              "#fdca26"
             ],
             [
              1,
              "#f0f921"
             ]
            ],
            "type": "contour"
           }
          ],
          "contourcarpet": [
           {
            "colorbar": {
             "outlinewidth": 0,
             "ticks": ""
            },
            "type": "contourcarpet"
           }
          ],
          "heatmap": [
           {
            "colorbar": {
             "outlinewidth": 0,
             "ticks": ""
            },
            "colorscale": [
             [
              0,
              "#0d0887"
             ],
             [
              0.1111111111111111,
              "#46039f"
             ],
             [
              0.2222222222222222,
              "#7201a8"
             ],
             [
              0.3333333333333333,
              "#9c179e"
             ],
             [
              0.4444444444444444,
              "#bd3786"
             ],
             [
              0.5555555555555556,
              "#d8576b"
             ],
             [
              0.6666666666666666,
              "#ed7953"
             ],
             [
              0.7777777777777778,
              "#fb9f3a"
             ],
             [
              0.8888888888888888,
              "#fdca26"
             ],
             [
              1,
              "#f0f921"
             ]
            ],
            "type": "heatmap"
           }
          ],
          "heatmapgl": [
           {
            "colorbar": {
             "outlinewidth": 0,
             "ticks": ""
            },
            "colorscale": [
             [
              0,
              "#0d0887"
             ],
             [
              0.1111111111111111,
              "#46039f"
             ],
             [
              0.2222222222222222,
              "#7201a8"
             ],
             [
              0.3333333333333333,
              "#9c179e"
             ],
             [
              0.4444444444444444,
              "#bd3786"
             ],
             [
              0.5555555555555556,
              "#d8576b"
             ],
             [
              0.6666666666666666,
              "#ed7953"
             ],
             [
              0.7777777777777778,
              "#fb9f3a"
             ],
             [
              0.8888888888888888,
              "#fdca26"
             ],
             [
              1,
              "#f0f921"
             ]
            ],
            "type": "heatmapgl"
           }
          ],
          "histogram": [
           {
            "marker": {
             "pattern": {
              "fillmode": "overlay",
              "size": 10,
              "solidity": 0.2
             }
            },
            "type": "histogram"
           }
          ],
          "histogram2d": [
           {
            "colorbar": {
             "outlinewidth": 0,
             "ticks": ""
            },
            "colorscale": [
             [
              0,
              "#0d0887"
             ],
             [
              0.1111111111111111,
              "#46039f"
             ],
             [
              0.2222222222222222,
              "#7201a8"
             ],
             [
              0.3333333333333333,
              "#9c179e"
             ],
             [
              0.4444444444444444,
              "#bd3786"
             ],
             [
              0.5555555555555556,
              "#d8576b"
             ],
             [
              0.6666666666666666,
              "#ed7953"
             ],
             [
              0.7777777777777778,
              "#fb9f3a"
             ],
             [
              0.8888888888888888,
              "#fdca26"
             ],
             [
              1,
              "#f0f921"
             ]
            ],
            "type": "histogram2d"
           }
          ],
          "histogram2dcontour": [
           {
            "colorbar": {
             "outlinewidth": 0,
             "ticks": ""
            },
            "colorscale": [
             [
              0,
              "#0d0887"
             ],
             [
              0.1111111111111111,
              "#46039f"
             ],
             [
              0.2222222222222222,
              "#7201a8"
             ],
             [
              0.3333333333333333,
              "#9c179e"
             ],
             [
              0.4444444444444444,
              "#bd3786"
             ],
             [
              0.5555555555555556,
              "#d8576b"
             ],
             [
              0.6666666666666666,
              "#ed7953"
             ],
             [
              0.7777777777777778,
              "#fb9f3a"
             ],
             [
              0.8888888888888888,
              "#fdca26"
             ],
             [
              1,
              "#f0f921"
             ]
            ],
            "type": "histogram2dcontour"
           }
          ],
          "mesh3d": [
           {
            "colorbar": {
             "outlinewidth": 0,
             "ticks": ""
            },
            "type": "mesh3d"
           }
          ],
          "parcoords": [
           {
            "line": {
             "colorbar": {
              "outlinewidth": 0,
              "ticks": ""
             }
            },
            "type": "parcoords"
           }
          ],
          "pie": [
           {
            "automargin": true,
            "type": "pie"
           }
          ],
          "scatter": [
           {
            "marker": {
             "colorbar": {
              "outlinewidth": 0,
              "ticks": ""
             }
            },
            "type": "scatter"
           }
          ],
          "scatter3d": [
           {
            "line": {
             "colorbar": {
              "outlinewidth": 0,
              "ticks": ""
             }
            },
            "marker": {
             "colorbar": {
              "outlinewidth": 0,
              "ticks": ""
             }
            },
            "type": "scatter3d"
           }
          ],
          "scattercarpet": [
           {
            "marker": {
             "colorbar": {
              "outlinewidth": 0,
              "ticks": ""
             }
            },
            "type": "scattercarpet"
           }
          ],
          "scattergeo": [
           {
            "marker": {
             "colorbar": {
              "outlinewidth": 0,
              "ticks": ""
             }
            },
            "type": "scattergeo"
           }
          ],
          "scattergl": [
           {
            "marker": {
             "colorbar": {
              "outlinewidth": 0,
              "ticks": ""
             }
            },
            "type": "scattergl"
           }
          ],
          "scattermapbox": [
           {
            "marker": {
             "colorbar": {
              "outlinewidth": 0,
              "ticks": ""
             }
            },
            "type": "scattermapbox"
           }
          ],
          "scatterpolar": [
           {
            "marker": {
             "colorbar": {
              "outlinewidth": 0,
              "ticks": ""
             }
            },
            "type": "scatterpolar"
           }
          ],
          "scatterpolargl": [
           {
            "marker": {
             "colorbar": {
              "outlinewidth": 0,
              "ticks": ""
             }
            },
            "type": "scatterpolargl"
           }
          ],
          "scatterternary": [
           {
            "marker": {
             "colorbar": {
              "outlinewidth": 0,
              "ticks": ""
             }
            },
            "type": "scatterternary"
           }
          ],
          "surface": [
           {
            "colorbar": {
             "outlinewidth": 0,
             "ticks": ""
            },
            "colorscale": [
             [
              0,
              "#0d0887"
             ],
             [
              0.1111111111111111,
              "#46039f"
             ],
             [
              0.2222222222222222,
              "#7201a8"
             ],
             [
              0.3333333333333333,
              "#9c179e"
             ],
             [
              0.4444444444444444,
              "#bd3786"
             ],
             [
              0.5555555555555556,
              "#d8576b"
             ],
             [
              0.6666666666666666,
              "#ed7953"
             ],
             [
              0.7777777777777778,
              "#fb9f3a"
             ],
             [
              0.8888888888888888,
              "#fdca26"
             ],
             [
              1,
              "#f0f921"
             ]
            ],
            "type": "surface"
           }
          ],
          "table": [
           {
            "cells": {
             "fill": {
              "color": "#EBF0F8"
             },
             "line": {
              "color": "white"
             }
            },
            "header": {
             "fill": {
              "color": "#C8D4E3"
             },
             "line": {
              "color": "white"
             }
            },
            "type": "table"
           }
          ]
         },
         "layout": {
          "annotationdefaults": {
           "arrowcolor": "#2a3f5f",
           "arrowhead": 0,
           "arrowwidth": 1
          },
          "autotypenumbers": "strict",
          "coloraxis": {
           "colorbar": {
            "outlinewidth": 0,
            "ticks": ""
           }
          },
          "colorscale": {
           "diverging": [
            [
             0,
             "#8e0152"
            ],
            [
             0.1,
             "#c51b7d"
            ],
            [
             0.2,
             "#de77ae"
            ],
            [
             0.3,
             "#f1b6da"
            ],
            [
             0.4,
             "#fde0ef"
            ],
            [
             0.5,
             "#f7f7f7"
            ],
            [
             0.6,
             "#e6f5d0"
            ],
            [
             0.7,
             "#b8e186"
            ],
            [
             0.8,
             "#7fbc41"
            ],
            [
             0.9,
             "#4d9221"
            ],
            [
             1,
             "#276419"
            ]
           ],
           "sequential": [
            [
             0,
             "#0d0887"
            ],
            [
             0.1111111111111111,
             "#46039f"
            ],
            [
             0.2222222222222222,
             "#7201a8"
            ],
            [
             0.3333333333333333,
             "#9c179e"
            ],
            [
             0.4444444444444444,
             "#bd3786"
            ],
            [
             0.5555555555555556,
             "#d8576b"
            ],
            [
             0.6666666666666666,
             "#ed7953"
            ],
            [
             0.7777777777777778,
             "#fb9f3a"
            ],
            [
             0.8888888888888888,
             "#fdca26"
            ],
            [
             1,
             "#f0f921"
            ]
           ],
           "sequentialminus": [
            [
             0,
             "#0d0887"
            ],
            [
             0.1111111111111111,
             "#46039f"
            ],
            [
             0.2222222222222222,
             "#7201a8"
            ],
            [
             0.3333333333333333,
             "#9c179e"
            ],
            [
             0.4444444444444444,
             "#bd3786"
            ],
            [
             0.5555555555555556,
             "#d8576b"
            ],
            [
             0.6666666666666666,
             "#ed7953"
            ],
            [
             0.7777777777777778,
             "#fb9f3a"
            ],
            [
             0.8888888888888888,
             "#fdca26"
            ],
            [
             1,
             "#f0f921"
            ]
           ]
          },
          "colorway": [
           "#636efa",
           "#EF553B",
           "#00cc96",
           "#ab63fa",
           "#FFA15A",
           "#19d3f3",
           "#FF6692",
           "#B6E880",
           "#FF97FF",
           "#FECB52"
          ],
          "font": {
           "color": "#2a3f5f"
          },
          "geo": {
           "bgcolor": "white",
           "lakecolor": "white",
           "landcolor": "#E5ECF6",
           "showlakes": true,
           "showland": true,
           "subunitcolor": "white"
          },
          "hoverlabel": {
           "align": "left"
          },
          "hovermode": "closest",
          "mapbox": {
           "style": "light"
          },
          "paper_bgcolor": "white",
          "plot_bgcolor": "#E5ECF6",
          "polar": {
           "angularaxis": {
            "gridcolor": "white",
            "linecolor": "white",
            "ticks": ""
           },
           "bgcolor": "#E5ECF6",
           "radialaxis": {
            "gridcolor": "white",
            "linecolor": "white",
            "ticks": ""
           }
          },
          "scene": {
           "xaxis": {
            "backgroundcolor": "#E5ECF6",
            "gridcolor": "white",
            "gridwidth": 2,
            "linecolor": "white",
            "showbackground": true,
            "ticks": "",
            "zerolinecolor": "white"
           },
           "yaxis": {
            "backgroundcolor": "#E5ECF6",
            "gridcolor": "white",
            "gridwidth": 2,
            "linecolor": "white",
            "showbackground": true,
            "ticks": "",
            "zerolinecolor": "white"
           },
           "zaxis": {
            "backgroundcolor": "#E5ECF6",
            "gridcolor": "white",
            "gridwidth": 2,
            "linecolor": "white",
            "showbackground": true,
            "ticks": "",
            "zerolinecolor": "white"
           }
          },
          "shapedefaults": {
           "line": {
            "color": "#2a3f5f"
           }
          },
          "ternary": {
           "aaxis": {
            "gridcolor": "white",
            "linecolor": "white",
            "ticks": ""
           },
           "baxis": {
            "gridcolor": "white",
            "linecolor": "white",
            "ticks": ""
           },
           "bgcolor": "#E5ECF6",
           "caxis": {
            "gridcolor": "white",
            "linecolor": "white",
            "ticks": ""
           }
          },
          "title": {
           "x": 0.05
          },
          "xaxis": {
           "automargin": true,
           "gridcolor": "white",
           "linecolor": "white",
           "ticks": "",
           "title": {
            "standoff": 15
           },
           "zerolinecolor": "white",
           "zerolinewidth": 2
          },
          "yaxis": {
           "automargin": true,
           "gridcolor": "white",
           "linecolor": "white",
           "ticks": "",
           "title": {
            "standoff": 15
           },
           "zerolinecolor": "white",
           "zerolinewidth": 2
          }
         }
        },
        "title": {
         "text": "Количество выпущенных фильмов по годам"
        },
        "xaxis": {
         "anchor": "y",
         "domain": [
          0,
          1
         ],
         "title": {
          "text": "year"
         }
        },
        "yaxis": {
         "anchor": "x",
         "domain": [
          0,
          1
         ],
         "title": {
          "text": "count"
         }
        }
       }
      }
     },
     "metadata": {},
     "output_type": "display_data"
    },
    {
     "data": {
      "application/vnd.plotly.v1+json": {
       "config": {
        "plotlyServerURL": "https://plot.ly"
       },
       "data": [
        {
         "hovertemplate": "age_restriction=«0+» - для любой зрительской аудитории<br>year=%{x}<br>mean=%{y}<extra></extra>",
         "legendgroup": "«0+» - для любой зрительской аудитории",
         "line": {
          "color": "#636efa",
          "dash": "solid"
         },
         "marker": {
          "symbol": "circle"
         },
         "mode": "lines",
         "name": "«0+» - для любой зрительской аудитории",
         "orientation": "v",
         "showlegend": true,
         "type": "scatter",
         "x": [
          2015,
          2016,
          2017,
          2018,
          2019
         ],
         "xaxis": "x",
         "y": [
          15598922.154285714,
          4701659.444705882,
          114328571,
          2055950.64,
          13779632.32
         ],
         "yaxis": "y"
        },
        {
         "hovertemplate": "age_restriction=«06+» - для детей старше 6 лет<br>year=%{x}<br>mean=%{y}<extra></extra>",
         "legendgroup": "«06+» - для детей старше 6 лет",
         "line": {
          "color": "#EF553B",
          "dash": "solid"
         },
         "marker": {
          "symbol": "circle"
         },
         "mode": "lines",
         "name": "«06+» - для детей старше 6 лет",
         "orientation": "v",
         "showlegend": true,
         "type": "scatter",
         "x": [
          2015,
          2016,
          2017,
          2018,
          2019
         ],
         "xaxis": "x",
         "y": [
          157316037.5822,
          177242855.1285246,
          284065697.0964103,
          160283579.14380953,
          178113944.5773611
         ],
         "yaxis": "y"
        },
        {
         "hovertemplate": "age_restriction=«12+» - для детей старше 12 лет<br>year=%{x}<br>mean=%{y}<extra></extra>",
         "legendgroup": "«12+» - для детей старше 12 лет",
         "line": {
          "color": "#00cc96",
          "dash": "solid"
         },
         "marker": {
          "symbol": "circle"
         },
         "mode": "lines",
         "name": "«12+» - для детей старше 12 лет",
         "orientation": "v",
         "showlegend": true,
         "type": "scatter",
         "x": [
          2015,
          2016,
          2017,
          2018,
          2019
         ],
         "xaxis": "x",
         "y": [
          209469458.24476922,
          169273969.3548611,
          216178029.6664706,
          222707587.72571427,
          183567223.5257971
         ],
         "yaxis": "y"
        },
        {
         "hovertemplate": "age_restriction=«16+» - для детей старше 16 лет<br>year=%{x}<br>mean=%{y}<extra></extra>",
         "legendgroup": "«16+» - для детей старше 16 лет",
         "line": {
          "color": "#ab63fa",
          "dash": "solid"
         },
         "marker": {
          "symbol": "circle"
         },
         "mode": "lines",
         "name": "«16+» - для детей старше 16 лет",
         "orientation": "v",
         "showlegend": true,
         "type": "scatter",
         "x": [
          2015,
          2016,
          2017,
          2018,
          2019
         ],
         "xaxis": "x",
         "y": [
          69578703.34069182,
          93879168.17358823,
          153816466.6384483,
          105502729.26816326,
          79010115.99080746
         ],
         "yaxis": "y"
        },
        {
         "hovertemplate": "age_restriction=«18+» - запрещено для детей<br>year=%{x}<br>mean=%{y}<extra></extra>",
         "legendgroup": "«18+» - запрещено для детей",
         "line": {
          "color": "#FFA15A",
          "dash": "solid"
         },
         "marker": {
          "symbol": "circle"
         },
         "mode": "lines",
         "name": "«18+» - запрещено для детей",
         "orientation": "v",
         "showlegend": true,
         "type": "scatter",
         "x": [
          2015,
          2016,
          2017,
          2018,
          2019
         ],
         "xaxis": "x",
         "y": [
          42863360.156422764,
          46684199.36758621,
          67750578.61985916,
          49655505.901022725,
          57555891.26428571
         ],
         "yaxis": "y"
        }
       ],
       "layout": {
        "legend": {
         "title": {
          "text": "age_restriction"
         },
         "tracegroupgap": 0
        },
        "template": {
         "data": {
          "bar": [
           {
            "error_x": {
             "color": "#2a3f5f"
            },
            "error_y": {
             "color": "#2a3f5f"
            },
            "marker": {
             "line": {
              "color": "#E5ECF6",
              "width": 0.5
             },
             "pattern": {
              "fillmode": "overlay",
              "size": 10,
              "solidity": 0.2
             }
            },
            "type": "bar"
           }
          ],
          "barpolar": [
           {
            "marker": {
             "line": {
              "color": "#E5ECF6",
              "width": 0.5
             },
             "pattern": {
              "fillmode": "overlay",
              "size": 10,
              "solidity": 0.2
             }
            },
            "type": "barpolar"
           }
          ],
          "carpet": [
           {
            "aaxis": {
             "endlinecolor": "#2a3f5f",
             "gridcolor": "white",
             "linecolor": "white",
             "minorgridcolor": "white",
             "startlinecolor": "#2a3f5f"
            },
            "baxis": {
             "endlinecolor": "#2a3f5f",
             "gridcolor": "white",
             "linecolor": "white",
             "minorgridcolor": "white",
             "startlinecolor": "#2a3f5f"
            },
            "type": "carpet"
           }
          ],
          "choropleth": [
           {
            "colorbar": {
             "outlinewidth": 0,
             "ticks": ""
            },
            "type": "choropleth"
           }
          ],
          "contour": [
           {
            "colorbar": {
             "outlinewidth": 0,
             "ticks": ""
            },
            "colorscale": [
             [
              0,
              "#0d0887"
             ],
             [
              0.1111111111111111,
              "#46039f"
             ],
             [
              0.2222222222222222,
              "#7201a8"
             ],
             [
              0.3333333333333333,
              "#9c179e"
             ],
             [
              0.4444444444444444,
              "#bd3786"
             ],
             [
              0.5555555555555556,
              "#d8576b"
             ],
             [
              0.6666666666666666,
              "#ed7953"
             ],
             [
              0.7777777777777778,
              "#fb9f3a"
             ],
             [
              0.8888888888888888,
              "#fdca26"
             ],
             [
              1,
              "#f0f921"
             ]
            ],
            "type": "contour"
           }
          ],
          "contourcarpet": [
           {
            "colorbar": {
             "outlinewidth": 0,
             "ticks": ""
            },
            "type": "contourcarpet"
           }
          ],
          "heatmap": [
           {
            "colorbar": {
             "outlinewidth": 0,
             "ticks": ""
            },
            "colorscale": [
             [
              0,
              "#0d0887"
             ],
             [
              0.1111111111111111,
              "#46039f"
             ],
             [
              0.2222222222222222,
              "#7201a8"
             ],
             [
              0.3333333333333333,
              "#9c179e"
             ],
             [
              0.4444444444444444,
              "#bd3786"
             ],
             [
              0.5555555555555556,
              "#d8576b"
             ],
             [
              0.6666666666666666,
              "#ed7953"
             ],
             [
              0.7777777777777778,
              "#fb9f3a"
             ],
             [
              0.8888888888888888,
              "#fdca26"
             ],
             [
              1,
              "#f0f921"
             ]
            ],
            "type": "heatmap"
           }
          ],
          "heatmapgl": [
           {
            "colorbar": {
             "outlinewidth": 0,
             "ticks": ""
            },
            "colorscale": [
             [
              0,
              "#0d0887"
             ],
             [
              0.1111111111111111,
              "#46039f"
             ],
             [
              0.2222222222222222,
              "#7201a8"
             ],
             [
              0.3333333333333333,
              "#9c179e"
             ],
             [
              0.4444444444444444,
              "#bd3786"
             ],
             [
              0.5555555555555556,
              "#d8576b"
             ],
             [
              0.6666666666666666,
              "#ed7953"
             ],
             [
              0.7777777777777778,
              "#fb9f3a"
             ],
             [
              0.8888888888888888,
              "#fdca26"
             ],
             [
              1,
              "#f0f921"
             ]
            ],
            "type": "heatmapgl"
           }
          ],
          "histogram": [
           {
            "marker": {
             "pattern": {
              "fillmode": "overlay",
              "size": 10,
              "solidity": 0.2
             }
            },
            "type": "histogram"
           }
          ],
          "histogram2d": [
           {
            "colorbar": {
             "outlinewidth": 0,
             "ticks": ""
            },
            "colorscale": [
             [
              0,
              "#0d0887"
             ],
             [
              0.1111111111111111,
              "#46039f"
             ],
             [
              0.2222222222222222,
              "#7201a8"
             ],
             [
              0.3333333333333333,
              "#9c179e"
             ],
             [
              0.4444444444444444,
              "#bd3786"
             ],
             [
              0.5555555555555556,
              "#d8576b"
             ],
             [
              0.6666666666666666,
              "#ed7953"
             ],
             [
              0.7777777777777778,
              "#fb9f3a"
             ],
             [
              0.8888888888888888,
              "#fdca26"
             ],
             [
              1,
              "#f0f921"
             ]
            ],
            "type": "histogram2d"
           }
          ],
          "histogram2dcontour": [
           {
            "colorbar": {
             "outlinewidth": 0,
             "ticks": ""
            },
            "colorscale": [
             [
              0,
              "#0d0887"
             ],
             [
              0.1111111111111111,
              "#46039f"
             ],
             [
              0.2222222222222222,
              "#7201a8"
             ],
             [
              0.3333333333333333,
              "#9c179e"
             ],
             [
              0.4444444444444444,
              "#bd3786"
             ],
             [
              0.5555555555555556,
              "#d8576b"
             ],
             [
              0.6666666666666666,
              "#ed7953"
             ],
             [
              0.7777777777777778,
              "#fb9f3a"
             ],
             [
              0.8888888888888888,
              "#fdca26"
             ],
             [
              1,
              "#f0f921"
             ]
            ],
            "type": "histogram2dcontour"
           }
          ],
          "mesh3d": [
           {
            "colorbar": {
             "outlinewidth": 0,
             "ticks": ""
            },
            "type": "mesh3d"
           }
          ],
          "parcoords": [
           {
            "line": {
             "colorbar": {
              "outlinewidth": 0,
              "ticks": ""
             }
            },
            "type": "parcoords"
           }
          ],
          "pie": [
           {
            "automargin": true,
            "type": "pie"
           }
          ],
          "scatter": [
           {
            "marker": {
             "colorbar": {
              "outlinewidth": 0,
              "ticks": ""
             }
            },
            "type": "scatter"
           }
          ],
          "scatter3d": [
           {
            "line": {
             "colorbar": {
              "outlinewidth": 0,
              "ticks": ""
             }
            },
            "marker": {
             "colorbar": {
              "outlinewidth": 0,
              "ticks": ""
             }
            },
            "type": "scatter3d"
           }
          ],
          "scattercarpet": [
           {
            "marker": {
             "colorbar": {
              "outlinewidth": 0,
              "ticks": ""
             }
            },
            "type": "scattercarpet"
           }
          ],
          "scattergeo": [
           {
            "marker": {
             "colorbar": {
              "outlinewidth": 0,
              "ticks": ""
             }
            },
            "type": "scattergeo"
           }
          ],
          "scattergl": [
           {
            "marker": {
             "colorbar": {
              "outlinewidth": 0,
              "ticks": ""
             }
            },
            "type": "scattergl"
           }
          ],
          "scattermapbox": [
           {
            "marker": {
             "colorbar": {
              "outlinewidth": 0,
              "ticks": ""
             }
            },
            "type": "scattermapbox"
           }
          ],
          "scatterpolar": [
           {
            "marker": {
             "colorbar": {
              "outlinewidth": 0,
              "ticks": ""
             }
            },
            "type": "scatterpolar"
           }
          ],
          "scatterpolargl": [
           {
            "marker": {
             "colorbar": {
              "outlinewidth": 0,
              "ticks": ""
             }
            },
            "type": "scatterpolargl"
           }
          ],
          "scatterternary": [
           {
            "marker": {
             "colorbar": {
              "outlinewidth": 0,
              "ticks": ""
             }
            },
            "type": "scatterternary"
           }
          ],
          "surface": [
           {
            "colorbar": {
             "outlinewidth": 0,
             "ticks": ""
            },
            "colorscale": [
             [
              0,
              "#0d0887"
             ],
             [
              0.1111111111111111,
              "#46039f"
             ],
             [
              0.2222222222222222,
              "#7201a8"
             ],
             [
              0.3333333333333333,
              "#9c179e"
             ],
             [
              0.4444444444444444,
              "#bd3786"
             ],
             [
              0.5555555555555556,
              "#d8576b"
             ],
             [
              0.6666666666666666,
              "#ed7953"
             ],
             [
              0.7777777777777778,
              "#fb9f3a"
             ],
             [
              0.8888888888888888,
              "#fdca26"
             ],
             [
              1,
              "#f0f921"
             ]
            ],
            "type": "surface"
           }
          ],
          "table": [
           {
            "cells": {
             "fill": {
              "color": "#EBF0F8"
             },
             "line": {
              "color": "white"
             }
            },
            "header": {
             "fill": {
              "color": "#C8D4E3"
             },
             "line": {
              "color": "white"
             }
            },
            "type": "table"
           }
          ]
         },
         "layout": {
          "annotationdefaults": {
           "arrowcolor": "#2a3f5f",
           "arrowhead": 0,
           "arrowwidth": 1
          },
          "autotypenumbers": "strict",
          "coloraxis": {
           "colorbar": {
            "outlinewidth": 0,
            "ticks": ""
           }
          },
          "colorscale": {
           "diverging": [
            [
             0,
             "#8e0152"
            ],
            [
             0.1,
             "#c51b7d"
            ],
            [
             0.2,
             "#de77ae"
            ],
            [
             0.3,
             "#f1b6da"
            ],
            [
             0.4,
             "#fde0ef"
            ],
            [
             0.5,
             "#f7f7f7"
            ],
            [
             0.6,
             "#e6f5d0"
            ],
            [
             0.7,
             "#b8e186"
            ],
            [
             0.8,
             "#7fbc41"
            ],
            [
             0.9,
             "#4d9221"
            ],
            [
             1,
             "#276419"
            ]
           ],
           "sequential": [
            [
             0,
             "#0d0887"
            ],
            [
             0.1111111111111111,
             "#46039f"
            ],
            [
             0.2222222222222222,
             "#7201a8"
            ],
            [
             0.3333333333333333,
             "#9c179e"
            ],
            [
             0.4444444444444444,
             "#bd3786"
            ],
            [
             0.5555555555555556,
             "#d8576b"
            ],
            [
             0.6666666666666666,
             "#ed7953"
            ],
            [
             0.7777777777777778,
             "#fb9f3a"
            ],
            [
             0.8888888888888888,
             "#fdca26"
            ],
            [
             1,
             "#f0f921"
            ]
           ],
           "sequentialminus": [
            [
             0,
             "#0d0887"
            ],
            [
             0.1111111111111111,
             "#46039f"
            ],
            [
             0.2222222222222222,
             "#7201a8"
            ],
            [
             0.3333333333333333,
             "#9c179e"
            ],
            [
             0.4444444444444444,
             "#bd3786"
            ],
            [
             0.5555555555555556,
             "#d8576b"
            ],
            [
             0.6666666666666666,
             "#ed7953"
            ],
            [
             0.7777777777777778,
             "#fb9f3a"
            ],
            [
             0.8888888888888888,
             "#fdca26"
            ],
            [
             1,
             "#f0f921"
            ]
           ]
          },
          "colorway": [
           "#636efa",
           "#EF553B",
           "#00cc96",
           "#ab63fa",
           "#FFA15A",
           "#19d3f3",
           "#FF6692",
           "#B6E880",
           "#FF97FF",
           "#FECB52"
          ],
          "font": {
           "color": "#2a3f5f"
          },
          "geo": {
           "bgcolor": "white",
           "lakecolor": "white",
           "landcolor": "#E5ECF6",
           "showlakes": true,
           "showland": true,
           "subunitcolor": "white"
          },
          "hoverlabel": {
           "align": "left"
          },
          "hovermode": "closest",
          "mapbox": {
           "style": "light"
          },
          "paper_bgcolor": "white",
          "plot_bgcolor": "#E5ECF6",
          "polar": {
           "angularaxis": {
            "gridcolor": "white",
            "linecolor": "white",
            "ticks": ""
           },
           "bgcolor": "#E5ECF6",
           "radialaxis": {
            "gridcolor": "white",
            "linecolor": "white",
            "ticks": ""
           }
          },
          "scene": {
           "xaxis": {
            "backgroundcolor": "#E5ECF6",
            "gridcolor": "white",
            "gridwidth": 2,
            "linecolor": "white",
            "showbackground": true,
            "ticks": "",
            "zerolinecolor": "white"
           },
           "yaxis": {
            "backgroundcolor": "#E5ECF6",
            "gridcolor": "white",
            "gridwidth": 2,
            "linecolor": "white",
            "showbackground": true,
            "ticks": "",
            "zerolinecolor": "white"
           },
           "zaxis": {
            "backgroundcolor": "#E5ECF6",
            "gridcolor": "white",
            "gridwidth": 2,
            "linecolor": "white",
            "showbackground": true,
            "ticks": "",
            "zerolinecolor": "white"
           }
          },
          "shapedefaults": {
           "line": {
            "color": "#2a3f5f"
           }
          },
          "ternary": {
           "aaxis": {
            "gridcolor": "white",
            "linecolor": "white",
            "ticks": ""
           },
           "baxis": {
            "gridcolor": "white",
            "linecolor": "white",
            "ticks": ""
           },
           "bgcolor": "#E5ECF6",
           "caxis": {
            "gridcolor": "white",
            "linecolor": "white",
            "ticks": ""
           }
          },
          "title": {
           "x": 0.05
          },
          "xaxis": {
           "automargin": true,
           "gridcolor": "white",
           "linecolor": "white",
           "ticks": "",
           "title": {
            "standoff": 15
           },
           "zerolinecolor": "white",
           "zerolinewidth": 2
          },
          "yaxis": {
           "automargin": true,
           "gridcolor": "white",
           "linecolor": "white",
           "ticks": "",
           "title": {
            "standoff": 15
           },
           "zerolinecolor": "white",
           "zerolinewidth": 2
          }
         }
        },
        "title": {
         "text": "Средняя сумма сборов по годам для разных категорий"
        },
        "xaxis": {
         "anchor": "y",
         "domain": [
          0,
          1
         ],
         "title": {
          "text": "year"
         }
        },
        "yaxis": {
         "anchor": "x",
         "domain": [
          0,
          1
         ],
         "title": {
          "text": "mean"
         }
        }
       }
      }
     },
     "metadata": {},
     "output_type": "display_data"
    }
   ],
   "source": [
    "fig = px.line(df_group, x='year', y='median', color='age_restriction', title='Медианое кол-во сборов по годам для разных категорий')\n",
    "fig.show()\n",
    "fig = px.line(df_group, x='year', y='count', color='age_restriction', title='Количество выпущенных фильмов по годам')\n",
    "fig.show()\n",
    "fig = px.line(df_group, x='year', y='mean', color='age_restriction', title='Средняя сумма сборов по годам для разных категорий')\n",
    "fig.show()\n",
    "del df_group, fig"
   ]
  },
  {
   "cell_type": "code",
   "execution_count": 35,
   "metadata": {},
   "outputs": [
    {
     "data": {
      "application/vnd.plotly.v1+json": {
       "config": {
        "plotlyServerURL": "https://plot.ly"
       },
       "data": [
        {
         "alignmentgroup": "True",
         "hovertemplate": "<b>%{hovertext}</b><br><br>age_restriction=%{x}<br>box_office=%{y}<extra></extra>",
         "hovertext": [
          "МУЛЬТ в кино. Выпуск № 27",
          "Космическая станция 3D_",
          "Снежные приключения Солана и Людвига",
          "Остров лемуров: Мадагаскар 3D.",
          "Рожденные на воле 3D.",
          "Тайны подводного мира 3D.",
          "Хаббл 3D_",
          "Урфин Джюс и его деревянные солдаты",
          "Панды",
          "Снупи и мелочь пузатая в кино",
          "Снупи и мелочь пузатая в кино",
          "На глубине морской 3D.",
          "Мульт в кино. Выпуск № 1",
          "МУЛЬТ в кино. Выпуск № 29",
          "МУЛЬТ в кино. Выпуск № 20",
          "Зеленая планета",
          "МУЛЬТ в кино. Выпуск № 23",
          "Пингвиненок Пороро: Большие гонки",
          "Пингвиненок Пороро: Большие гонки",
          "МУЛЬТ в кино. Выпуск № 4",
          "Спасатели (2014)",
          "Волшебное королевство Щелкунчика",
          "Большой собачий побег",
          "Кокоша - маленький дракон /По одноименному произведению Инго Зигнера/",
          "Звериный отряд",
          "Прекрасная планета 3D",
          "Детский юмористический киножурнал \"Ералаш\", выпуски 300 - 311",
          "Букашки 2",
          "МУЛЬТ в кино. Выпуск № 2",
          "МУЛЬТ в кино. Выпуск № 3",
          "МУЛЬТ в кино. Выпуск № 5",
          "Мама  _",
          "Галапагосы 3D.",
          "Арло: говорящий поросенок",
          "Небесный верблюд",
          "На волне (режиссерская версия)",
          "Хранитель Луны",
          "МУЛЬТ в кино. Выпуск № 6",
          "Монстры на острове",
          "Колобанга. Привет, Интернет!",
          "Арктика 3D",
          "Волшебное приключение",
          "Новый Гулливер.",
          "Реальная белка 2",
          "Кунг-Фу воин",
          "Малефисента: Владычица тьмы",
          "Собачья жизнь (2017)",
          "Волшебный парк Джун",
          "Ежик Бобби: Колючие приключения",
          "Рыбки",
          "Песнь моря",
          "Песнь моря",
          "Стань легендой! Бигфут младший",
          "Лев Яшин. Вратарь моей мечты",
          "Счастье - это...Часть 2",
          "Богатырша",
          "Его дочь",
          "Пернатая банда",
          "Домовой",
          "Кунг-фу Кролик: Повелитель огня",
          "Потерянное звено",
          "Дамбо",
          "Angry Birds в кино",
          "Большое путешествие",
          "Переполох в джунглях",
          "Ураган: Одиссея ветра",
          "Дозор джунглей",
          "Неподдающиеся",
          "Сестренка",
          "Колесо времени",
          "Тайна Печати Дракона",
          "Миньоны",
          "СПАРК. Герой Вселенной",
          "Смешарики. Легенда о золотом драконе",
          "Смурфики: Затерянная деревня",
          "Кругосветное путешествие Элькано и Магеллана",
          "Руслан и Людмила: Перезагрузка",
          "Angry Birds 2 в кино",
          "Как приручить дракона 3",
          "Город кошек",
          "Эспен в королевстве троллей",
          "Король обезьян (2015)",
          "Ёлки Новые",
          "Босс-Молокосос",
          "Мультфильмы по выходным. Непослушные истории",
          "Экипаж .",
          "Клара и волшебный дракон",
          "Савва. Сердце воина",
          "Норм и Несокрушимые: Ключи от королевства",
          "Далеко на север",
          "Время первых (2017)",
          "Рэтчет и Кланк: Галактические рейнджеры",
          "Супергерои",
          "Фиксики. Большой секрет",
          "Белки в деле",
          "My Little Pony в кино",
          "Упс... Ной уплыл!",
          "Мы - монстры!",
          "Тэд-путешественник и тайна царя Мидаса",
          "Маленький вампир",
          "Аномалия",
          "Королевский корги",
          "Лего Ниндзяго Фильм",
          "Солдатик",
          "Он - Дракон",
          "Волки и овцы: б-е-е-е-зумное превращение",
          "Побег из джунглей",
          "Леонардо. История гения",
          "Норм и Несокрушимые: Большое путешествие",
          "Крутые яйца",
          "Зверополис",
          "Взломать блогеров",
          "Гибби",
          "Зверополис",
          "Где дракон?",
          "Тайная жизнь домашних животных 2",
          "Сказ о Петре и Февронии",
          "В небо... за мечтой",
          "СНЕЖНАЯ КОРОЛЕВА 3. ОГОНЬ И ЛЁД",
          "РОБО",
          "Весёлая ферма",
          "Дед Мороз. Битва Магов",
          "Бременские разбойники",
          "Приключения Пикси",
          "Пит и его дракон",
          "Ледниковый период: Столкновение неизбежно",
          "Подкидыш",
          "Монстр-траки",
          "Балерина",
          "Отважный рыцарь",
          "Подводная эра",
          "Ура! Каникулы!",
          "Жил был кот",
          "Петсон и Финдус. Маленький мучитель - большая дружба",
          "История игрушек 4",
          "Питомец Юрского периода",
          "Синдбад. Пираты семи штормов",
          "Гамба",
          "Queen. Live in Bohemia",
          "Аполлон-11",
          "Космическое приключение",
          "Девять жизней (2016)",
          "Красная черепаха",
          "Петсон и Финдус. Финдус переезжает",
          "Ёлки 5",
          "Урфин Джюс возвращается",
          "Спасти Пушкина",
          "Я вернусь",
          "Он - Дракон 3D",
          "Альдабра: Путешествие по таинственному острову",
          "Кащей бессмертный .",
          "Аисты",
          "Спасибо деду за Победу",
          "Сельма в городе призраков",
          "Гадкий я 3",
          "Тайная жизнь домашних животных",
          "Тайная жизнь домашних животных. Миньоны против газона",
          "Приключения красного самолетика",
          "Спасатели",
          "Пушистый шпион",
          "Принцесса Эмми",
          "Костя.",
          "Приключения Реми",
          "Алиса знает, что делать! Зеленая месть",
          "БЛИЖЕ, ЧЕМ КАЖЕТСЯ.",
          "Эверест",
          "Маугли дикой планеты",
          "Трио в перьях",
          "Лего фильм: Бэтмен",
          "Зверопой",
          "Никита Кожемяка",
          "Необыкновенное путешествие Серафимы",
          "Полярные приключения",
          "КЛАД (2015)",
          "Мой друг Робот",
          "Чудо-юдо",
          "Про Петра и Павла",
          "Принцесса-лягушка: Тайна волшебной комнаты",
          "Люмьеры!",
          "Инопланетяне",
          "Мишки Буни: Тайна цирка",
          "Фердинанд",
          "Витя Глушаков - друг апачей",
          "Норм и Несокрушимые",
          "Тайна семьи монстров",
          "Три богатыря и наследница престола",
          "Энни.",
          "Книга жизни_",
          "Чемпионы: Быстрее. Выше. Сильнее",
          "Волшебная страна_",
          "Джим Пуговка и машинист Лукас",
          "Мэри Поппинс возвращается",
          "Горы",
          "Суперсобаки",
          "Белль и Себастьян: Приключения продолжаются",
          "Битва",
          "Принцесса и дракон",
          "Монстры на каникулах 3: Море зовёт",
          "Королевские каникулы",
          "Маленький большой герой",
          "Эллиот",
          "Иван Царевич и Серый Волк 3",
          "Суперсемейка 2 / Бао",
          "Губка Боб в 3D",
          "Гринч",
          "Человек-паук: Через вселенные",
          "Псы под прикрытием",
          "Суперкоманда",
          "Бамблби",
          "Тайна Снежной королевы",
          "Команда мечты",
          "Распрекрасный принц",
          "Ёлки Последние",
          "Гурвинек. Волшебная игра",
          "Царь зверей",
          "Петсон и Финдус. Лучшее на свете Рождество",
          "Оз: Нашествие летучих обезьян",
          "Главный",
          "Миа и белый лев",
          "Осторожно: Грамп!",
          "Принцесса-лягушка",
          "Ральф против интернета",
          "Спящая принцесса",
          "Кристофер Робин",
          "ЭБИГЕЙЛ",
          "Пришельцы в доме",
          "Робинзон Крузо: Очень обитаемый остров",
          "Иван Царевич и Серый Волк 4",
          "Опасные каникулы",
          "Капитанская дочка .",
          "Крякнутые каникулы",
          "Ужастики 2: Беспокойный Хэллоуин",
          "Лягушонок Риббит",
          "Смолфут",
          "UglyDolls. Куклы с характером",
          "Горе от ума.",
          "Как прогулять школу с пользой",
          "Американская дочь",
          "Тайна магазина игрушек",
          "Неподсуден",
          "Тигриный хвост",
          "Прогулка по Риму",
          "Тайна Сухаревой башни. Чародей равновесия",
          "Тайна Мосли",
          "УРОКИ ВЫЖИВАНИЯ",
          "Щелкунчик и четыре королевства",
          "Призрак_.",
          "Золушка /По сказке Шарля Перро/. Холодное торжество",
          "В поисках йети",
          "Вилли и крутые тачки",
          "Анина: История самого необычного наказания /По произведению Сергио Лопеса Суареса/",
          "Большой кошачий побег",
          "Аргентина",
          "Храброе сердце. Заговор в королевстве",
          "Фиксики против кработов",
          "Белль и Себастьян: друзья навек",
          "Тайная жизнь пингвинов",
          "Птичий дозор",
          "Похитители носков",
          "На край света: В поисках единорога",
          "Барашек Шон.",
          "Роналду против Месси",
          "МОЯ ЖИЗНЬ",
          "Полёт фантазии",
          "Сезон охоты: Байки из леса",
          "Муми-Тролли и зимняя сказка",
          "Поднять якоря!",
          "Головоломка.       Лава",
          "Мэри и ведьмин цветок",
          "Голоса большой страны",
          "Садко",
          "Дора и Затерянный город",
          "Мирай из будущего",
          "Излом времени",
          "Дикие предки",
          "Шерлок Гномс",
          "Кунг-фу Панда 3",
          "Земля: Один потрясающий день",
          "Кролик Питер",
          "44 котёнка",
          "Невероятная история о гигантской груше",
          "Кунг-фу Панда 3",
          "Ковер-самолет",
          "Медведи Буни: Таинственная зима",
          "ЛЕГО Фильм-2",
          "Частное пионерское-2",
          "Тролли",
          "Движение вверх",
          "Тетрадь дружбы Нацумэ",
          "Три богатыря и принцесса Египта",
          "Мой любимый динозавр",
          "Крепость. Щитом и мечом",
          "Кубо. Легенда о самурае",
          "Рожденный стать королем",
          "Плюшевый монстр",
          "Тайная жизнь насекомых",
          "Приключения Паддингтона 2",
          "Стражи Арктики",
          "Невероятный Блинки Билл",
          "Монстры на каникулах 2",
          "Гномы в доме",
          "Трон эльфов",
          "Пэн: Путешествие в Нетландию",
          "Белль и Себастьян",
          "Холодное сердце II",
          "Снежная битва",
          "Астерикс и тайное зелье",
          "Папа-мама гусь",
          "За тридевять земель.",
          "Снежная Королева: Зазеркалье",
          "Кольца мира. Режиссёрская версия",
          "Путь домой",
          "Кольца мира",
          "Прощаться не будем",
          "Элвин и бурундуки: Грандиозное бурундуключение",
          "Маленький принц (2015)",
          "Король Слон",
          "Крик тишины",
          "Дарак Ыры (Песнь древа)",
          "Алиса знает, что делать! Серия \"Зеленая месть\"",
          "Большой злой лис и другие сказки",
          "Слон и Бабочка",
          "Славные пташки",
          "Волки и Овцы: Ход Свиньей",
          "SOS, ДЕД МОРОЗ ИЛИ ВСЁ СБУДЕТСЯ!",
          "Леонардо: Миссия Мона Лиза",
          "Два хвоста",
          "Эспен в поисках золотого замка",
          "Сноуден",
          "В сердце моря",
          "Флоренция и галерея Уффици 3D",
          "Фантастические твари и где они обитают",
          "Имущество с хвостом",
          "Завтра утром",
          "Море в огне",
          "Частное пионерское - 3",
          "Трансформеры: Последний рыцарь",
          "Собачья жизнь 2",
          "Мистер Олимпия",
          "Анна Каренина. История Вронского",
          "Тарзан. Легенда",
          "Охота на монстра",
          "Робот 2.0",
          "Загадай желание (2016)",
          "Большой и добрый великан",
          "Огни большой деревни",
          "Я-Учитель",
          "Контрибуция",
          "Кухня. Последняя битва",
          "Форсаж 8",
          "Мобильный воин Гандам: Нарратив",
          "Добро пожаловать в Рим",
          "АРМЕН и Я",
          "Человек-Паук: Вдали от дома",
          "Элефант",
          "Завтрак у папы",
          "Клуб любителей книг и пирогов из картофельных очистков",
          "Ужастики",
          "Лобановский навсегда",
          "День выборов 2",
          "Новые приключения Аладдина",
          "Форсаж: Хоббс и Шоу",
          "Герой (2015)",
          "Зимняя сказка или Королева, потерявшая имя",
          "Викинг .",
          "Ставка на любовь",
          "BTS: Открой свою душу. Фильм",
          "Звёздные войны: Пробуждение силы",
          "Уедем к чертовой бабушке",
          "Шаг вперед 6: Год танцев",
          "Монах и бес",
          "Весь этот мир",
          "Яна + Янко",
          "Город глазами кота",
          "Дорогой папа",
          "Амундсен",
          "Вурдалаки",
          "Мир Юрского периода 2",
          "Т-34",
          "Черновик",
          "СОБИБОР (SOBIBOR)",
          "Чудеса",
          "Война Анны",
          "Решение о ликвидации",
          "Тренер",
          "Укрась прощальное утро цветами обещания",
          "Танки",
          "Я сражаюсь с великанами",
          "Девушки и танки",
          "Первому игроку приготовиться",
          "Тихоокеанский рубеж 2",
          "Можно только представить",
          "Остров исправления",
          "Однажды в Америке, или Чисто русская сказка",
          "Спасти Ленинград",
          "Мои белые ночи",
          "Сила девяти Богов",
          "Махнем на Луну!",
          "Рубеж",
          "Тим Талер или Проданный смех",
          "Со дна вершины",
          "Первые",
          "Санта и компания",
          "Величайший шоумен",
          "На берегу мечты",
          "Затерянные во льдах",
          "История одного назначения",
          "Новогодний переполох",
          "Киноальманах \"Свидетели\"",
          "Аквамен",
          "Хранители Алтая",
          "Ученик чудовища",
          "Пришелец",
          "Крымский мост. Сделано с любовью",
          "Букшоп",
          "Тайна дома с часами",
          "СУПЕРБОБРОВЫ. НАРОДНЫЕ МСТИТЕЛИ",
          "ГОФМАНИАДА",
          "Агент Джонни Инглиш 3.0",
          "Патрик",
          "Чародейка",
          " Я ПРЕПОД",
          "Фантастические твари: Преступления Грин-де-Вальда",
          "Бергман",
          "Аксель",
          "2001 год: Космическая одиссея",
          "Закону тут не место",
          "Альфа",
          "Человек, который убил Дон Кихота",
          "Одиссея Петра",
          "ПРИБОЙ",
          "Облепиховое лето",
          "ВОДЯНАЯ",
          "Мумиё",
          "Генезис 2.0",
          "Человек-муравей и Оса",
          "Из Неаполя с любовью",
          "Хроники хищных городов",
          "Вечная жизнь Александра Христофорова",
          "Семь ужинов",
          "Везучий случай",
          "Тайный мир Анны",
          "За гранью реальности",
          "Молот",
          "Птица .",
          "Мешок без дна",
          "Танцуй сердцем",
          "Великая стена",
          "Донбасс. Окраина",
          "Фанат (2016)",
          "БОЛЬШОЙ",
          "Любовь не за горами",
          "Ночные стражи",
          "Покемон. Детектив Пикачу",
          "ОСЕНЬЮ 41-го",
          "Притяжение (2016)",
          "Анимированная жизнь",
          "Держи удар, детка!",
          "Это не навсегда",
          "Пеле: Рождение легенды",
          "Любовь и дружба",
          "Доспехи бога: В поисках сокровищ",
          "Венеция зовет",
          "За мечтой",
          "Давай разведемся!",
          "Землетрясение .",
          "Жених (2016)",
          "Люди в черном: Интернэшнл",
          "Защитники",
          "Ледокол",
          "Фантастическая любовь и где ее найти",
          "Наурыз",
          "Три дня до весны.",
          "Несокрушимый",
          "Танцуй со мной (2015)",
          "Доминика",
          "Великий Северный Путь",
          "Чудо",
          "Временные трудности",
          "Легенда о Коловрате",
          "Чайка",
          "Куда течёт море",
          "Здесь была Бритт-Мари",
          "Жили-были",
          "Прощай, Кристофер Робин",
          "Последний богатырь",
          "Салют-7",
          "Родные",
          "Хрустальное небо вчерашнего дня",
          "Напарник",
          "Микеланджело. Бесконечность",
          "Венецианский детектив",
          "Твое имя",
          "Детки напрокат",
          "Валериан и город тысячи планет",
          "Шазам!",
          "Супергерои",
          "Свет надежды",
          "Чудеса в Париже",
          "Эластико",
          "Коридор бессмертия",
          "Аустерлиц (2016)",
          "Скрытые фигуры",
          "Миллиард",
          "Хороший Мальчик",
          "Танцы насмерть",
          "Франкофония",
          "Человек на Луне",
          "Шоколад (2016)",
          "Семейка Аддамс",
          "Прогулка (2015)",
          "До Нового года осталось...",
          "Дорога на Берлин",
          "Батальонъ",
          "ВСЯ НАША НАДЕЖДА...",
          "Война Токов",
          "Queen. Rock Montreal",
          "Приключения французов в Нью-Йорке",
          "Бумажные города /По произведению Джона Грина/",
          "Лунный флаг",
          "Пришельцы 3",
          "Восхождение Юпитер",
          "Маленькие люди",
          "Лунный флаг",
          "Супербобровы",
          "Дивергент, глава 3: За стеной",
          "Связанные миры",
          "Модная штучка",
          "Разлом Сан-Андреас",
          "28 Панфиловцев",
          "Помнишь меня?",
          "Млечный путь (2015)",
          "Дивергент, глава 2: Инсургент",
          "72 часа",
          "Человек-муравей",
          "Такси (2015)",
          "Парень с нашего кладбища",
          "Мир Юрского периода",
          "Леонардо да Винчи. Неизведанные миры",
          "Агенты А.Н.К.Л",
          "Промар",
          "Пиксели",
          "Фантастическая четверка",
          "Yesterday (Вчера)",
          "Тэли и Толи",
          "Контрибуция (короткая версия)",
          "Большая игра / Big Game",
          "Ловушка для привидения",
          "Одной левой.",
          "Джуманджи: Новый уровень",
          "Единичка.",
          "Наруто: Последний фильм",
          "Дети моря",
          "Гнездо дракона",
          "Люди Икс: Апокалипсис",
          "День независимости: Возрождение",
          "Герой",
          "Бунюэль в лабиринте черепах",
          "Трагедия в бухте Роджерс",
          "Мстители: Эра Альтрона",
          "Училка",
          "В погоне за ветром",
          "Территория",
          "Книга джунглей (2016)",
          "Эверест (2015)",
          "Убежать, догнать, влюбиться!",
          "Лабиринты любви.",
          "Эверест. Достигая невозможного",
          "Winx Club: Спасаем животных!",
          "Земля будущего",
          "Гонки по-итальянски",
          "Помню - не помню!",
          "Волшебник",
          "Самба",
          "Битва за Севастополь",
          "Гороскоп на удачу",
          "Коробка.",
          "Закон рынка",
          "Супер Мама",
          "Вдвоем на льдине.",
          "Ромео и Джульетта. Бродвей",
          "Новогодний ремонт",
          "А зори здесь тихие..._",
          "Пираты Эгейского моря",
          "Холоп",
          "8 лучших свиданий",
          "Иллюзия обмана 2",
          "Терминатор: Генезис",
          "Ржев",
          "Сдается дом со всеми неудобствами",
          "Вайолет Эвергарден: вечность и призрак пера",
          "Небо измеряется милями",
          "Союз спасения",
          "Арахисовый сокол",
          "Гарри Поттер и Принц-полукровка /По роману Дж.К.Ролинг/",
          "Не может быть!",
          "Акварель",
          "Хороший динозавр. Санджай и его команда",
          "Сахар",
          "Гарри Поттер и философский камень /По роману Дж.К.Ролинг/",
          "Гарри Поттер и узник Азкабана /По роману Дж.К.Ролинг/",
          "Гарри Поттер и тайная комната /По роману Дж.К.Ролинг/",
          "Дабл трабл",
          "Экспедиция",
          "Встреча на Эльбе",
          "Ближе, чем кажется",
          "Аттестат зрелости",
          "Без границ",
          "Алиса в Зазеркалье (2016)",
          "Отель \"Мэриголд\". Заселение продолжается",
          "Страна чудес",
          "Норвег",
          "Дитя погоды",
          "Соль Земли",
          "Кире",
          "Полицейский с Рублевки. Новогодний Беспредел 2",
          "Гемини",
          "Кавказское трио",
          "Воин (2015)",
          "Маруся (Marussia)",
          "Чудо в Крыму",
          "Варкрафт",
          "Успех",
          "Битва с экстрасенсами",
          "Атлантида",
          "Человек, который спас мир",
          "Приключения Аладдина",
          "Пассажир",
          "Бегущий в лабиринте: Лекарство от смерти",
          "Лови момент",
          "По половому признаку",
          "Мадонна: Рождение легенды",
          "Максимальный удар",
          "Айка",
          "Развод по собственному желанию",
          "На районе",
          "Селфи",
          "Четверо против банка",
          "Счастливого дня смерти",
          "Тварь",
          "Бахубали: Рождение легенды",
          "Клаустрофобы",
          "Алита: Боевой ангел",
          "Здравствуй, папа, Новый год! 2",
          "Полтергейст (2015)",
          "Рассвет",
          "Вдали от обезумевшей толпы /По одноименному произведению Томаса Харди/",
          "Коматозники",
          "Идеальный голос 2 /По произведению Мики Рэпкина/",
          "Дрис ван Нотен",
          "Астрал 4: Последний ключ ",
          "По ту сторону надежды",
          "За пропастью во ржи",
          "Излечить страх",
          "Секретное досье",
          "Наследники (2015)",
          "Райские кущи",
          "Джуманджи: Зов джунглей",
          "Бойся своих желаний",
          "Конец прекрасной эпохи",
          "Тобол",
          "Сделано в Италии",
          "Колесо чудес",
          "Уиджи: Проклятие Вероники",
          "Завод",
          "Все пары делают это",
          "Райские холмы",
          "Громкая связь",
          "Эйфория",
          "Безумный Макс: Дорога ярости",
          "Всё только начинается",
          "Бармен.",
          "Бабушка лёгкого поведения 2",
          "Девушка в тумане",
          "Между нами, девочками",
          "007: Спектр",
          "Место встречи",
          "Девушка с косой",
          "Чего хочет Джульетта",
          "ОРЛЕАН",
          "Отрыв",
          "Дневник горничной /По одноименному роману Октава Мирбо/",
          "Манглхорн",
          "Женщины против мужчин: Крымские каникулы",
          "Черная вода",
          "Сердцеед",
          "Зеленая Карета",
          "Ангелы Чарли",
          "Телохранитель (2015)",
          "СОФИЧКА",
          "Сверхъестественное",
          "SuperЗять",
          "Вне/себя",
          "1+1. Нарушая правила",
          "Реальная любовь в Нью-Йорке",
          "Миссия невыполнима: Племя изгоев",
          "Жених на двоих",
          "Матильда",
          "Бизнесмены",
          "Сирано. Успеть до премьеры",
          "Бабушка легкого поведения",
          "Скандинавский форсаж",
          "Бегущий в лабиринте: Испытание огнем /По произведению Джеймса Дашнера/",
          "Мстители: Финал",
          "Бегущий в лабиринте: Испытание огнем /По произведению Джеймса Дашнера/",
          "Поменяться местами",
          "Сверхлюди",
          "Нежная рука закона",
          "Тайна семи сестер",
          "Брюс Ли: Рождение Дракона",
          "В следующий раз я буду стрелять в сердце /По роману Ивана Стефановича \"Убийца вне подозрений\"/",
          "Извините, мы вас не застали",
          "Юра музыкант",
          "Аванпост",
          "В гостях у Элис",
          "Темная башня",
          "ВЫХОД",
          "Девятая",
          "Ограбление по Фрейду",
          "Бал (2016)",
          "24 снега",
          "Нуреев. Белый ворон",
          "Опасное погружение",
          "Любовь и пингвины",
          "После",
          "Синдром Петрушки",
          "Призрачная красота",
          "Прерванный полет",
          "Вне времени (2014)",
          "Зеленее травы",
          "Пионеры-герои.",
          "Блокбастер",
          "Антиганг",
          "Эликсир.",
          "Охотники",
          "Дюнкерк",
          "Достать ножи",
          "Дом для русалок",
          "Ужас Амитивилля: Пробуждение",
          "АТАКА ТИТАНОВ. ФИЛЬМ ПЕРВЫЙ. ЖЕСТОКИЙ МИР",
          "Грейсфилд",
          "Капитан Марвел",
          "Этот неловкий момент.",
          "Трезвый водитель",
          "Мистер Феличита",
          "За кулисами",
          "О чем говорят мужчины. Продолжение",
          "Афера доктора Нока",
          "Пиковая дама. Зазеркалье",
          "Шедевр",
          "No comment (Нет комментариев)",
          "Шутки в сторону 2: Миссия в Майами",
          "Тор: Рагнарёк",
          "Она",
          "Скрюченный домишко",
          "Ван Гог. С любовью, Винсент",
          "Астрал 3",
          "30 безумных желаний",
          "Факап или Хуже не бывает",
          "Виктория и Абдул",
          "Дело храбрых",
          "Лига справедливости",
          "Под электрическими облаками",
          "Дыши ради нас",
          "Обещание на рассвете",
          "Любовь - морковь по-французски",
          "Праздничный переполох",
          "Другая Бовари",
          "Мадам",
          "Убийство в \"Восточном экспрессе\"",
          "Короткие волны",
          "CitizenFour. Правда Сноудена",
          "Не твоё тело",
          "Терминатор: Темные судьбы",
          "Добро пожаловать в Акапулько",
          "Жизнь впереди",
          "Балканский рубеж",
          "Уотергейт. Крушение Белого дома",
          "Визит (2015)",
          "Между нами горы",
          "Дом моих кошмаров",
          "Борг\\Макинрой",
          "Безбашенные",
          "Виселица",
          "Клинч.",
          "Конверт",
          "Вакантна жизнь шеф-повара",
          "Тень",
          "Завуалируй это",
          "Рок Апокалипсис 3D",
          "Дикарь",
          "На глубине 6 футов",
          "Геошторм",
          "Шанхайский перевозчик",
          "Сеть",
          "Ни минуты покоя",
          "Малыш Джо",
          "Баския: Взрыв реальности",
          "Убежище дьявола",
          "Измена_",
          "Кровавая Леди Батори",
          "Проигранное место",
          "Миссия невыполнима: Последствия",
          "Дуxless 2",
          "Между рядами",
          "Соната",
          "Искатель воды",
          "Помешанный на времени",
          "Моё поколение (My Generation)",
          "Поиск",
          "Романтики 303",
          "Вы умрете или мы вернем вам деньги",
          "Один день лета",
          "Счастливый Лазарь",
          "Темные отражения",
          "Планета зверей",
          "Гоголь. Страшная месть",
          "Проклятие: Начало конца",
          "Голубая игуана",
          "Суперфорсаж",
          "Ведьма .",
          "Мег: Монстр глубины",
          "Вечерняя школа",
          "Встреча с Горбачевым",
          "Паранормальное",
          "Пышка",
          "Сын Хамас /По одноименному произведению Мосаба Хассана Юсефа/",
          "Книжный клуб",
          "Интервью с Богом",
          "Полицейский с рублевки. Новогодний беспредел",
          "Каннингем",
          "8 подруг Оушена",
          "Простушка",
          "Последнее испытание",
          "Рождество на двоих",
          "Попробуй подкати",
          "Днюха!",
          "Полное превращение",
          "Только не они",
          "ОХРАНА",
          "С пяти до семи",
          "Мне по кайфу",
          "Париж. Город Zомби",
          "Форсаж 7",
          "Это чертово сердце",
          "По ту сторону океана",
          "Женщина в черном 2: Ангел смерти",
          "Небоскреб",
          "Робин Гуд: Начало",
          "Джон Леннон и Йоко Оно: Imagine",
          "Гости",
          "Цимбелин",
          "Потерянный остров",
          "Дубликат",
          "Сулейман Гора",
          "Грецкий орешек",
          "Кусама: Бесконечные миры",
          "Лимб",
          "Юморист",
          "Репродукция",
          "Гарри Поттер и Дары Смерти - Часть 2 /По роману Дж.К.Ролинг/",
          "Без меня",
          "Мои парни - животные",
          "Гарри Поттер и Дары Смерти - Часть 1/По роману Дж.К.Ролинг/",
          "Безупречная жизнь",
          "Обыкновенный фашизм",
          "Дикая жизнь",
          "Гарри Поттер и кубок огня /По роману Дж.К.Ролинг/",
          "Я - миллиардер",
          "Беглецы",
          "Веном",
          "Гарри Поттер и орден Феникса /По роману Дж.К.Ролинг/",
          "Закат",
          "Асса",
          "Примадонна",
          "Быть Астрид Линдгрен",
          "Вселенная Стивена Хокинга /По книге Джейн Хокинг/",
          "Бельканто",
          "Ледяной лес",
          "3 дня с Роми Шнайдер",
          "Слендермен",
          "Шпион, который меня кинул",
          "Робот по имени Чаппи",
          "Основано на реальных событиях",
          "Coldplay: A Head Full Of Dreams",
          "Игра",
          "Семь пар нечистых",
          "Магазинные воришки",
          "Диор и я",
          "Непотопляемые",
          "Захочу и соскочу. Супергерои",
          "MAMMA MIA! 2",
          "Странники терпенья",
          "100 лет дизайна",
          "Кин",
          "Непрощенный",
          "Счастья! Здоровья!",
          "Жена",
          "Гнев .",
          "Оцепеневшие от страха",
          "Душа шпиона",
          "МАРИЯ ДО КАЛЛАС ",
          "Выпьем за любовь",
          "Всё или ничего",
          "После Лета",
          "Ну, здравствуй, Оксана Соколова!",
          "Во власти стихии",
          "Проводник",
          "Как я стал русским",
          "Неаполитанские истории",
          "Дорогой диктатор",
          "Холстон",
          "Врата тьмы",
          "Начни сначала",
          "Головар",
          "Холмс и Ватсон",
          "Любить нельзя расстаться",
          "Мария Магдалина",
          "Кто твоя бабушка, чувак?!",
          "Обратный отсчет",
          "ВМаяковский",
          "Ван Гог. На пороге вечности",
          "Наваждение (2015)",
          "Операция \"Шаровая молния\"",
          "Тихое место",
          "Пиковая дама: Черный обряд",
          "Республика Z",
          "Рэмпейдж",
          "В Кейптаунском порту...",
          "Шрам.",
          "Остров Собак",
          "Моя мама",
          "Секрет счастья",
          "Каникулы Президента",
          "Полночное солнце",
          "Погружение",
          "Гоголь. Вий",
          "Ничего себе каникулы!",
          "Лондонские каникулы",
          "Астрал: Новое измерение",
          "BEEF: РУССКИЙ ХИП-ХОП",
          "Красотки в бегах",
          "Я худею",
          "Голодные сердца",
          "До свидания там, наверху",
          "Особо опасна",
          "Бабадук",
          "1915",
          "Ограбление в ураган",
          "Пилигрим",
          "Мидуэй",
          "Лабиринты прошлого",
          "Семья по-быстрому",
          "Tomb Raider: Лара Крофт",
          "Килиманджара",
          "Две матери, две дочери",
          "Чайки",
          "Однажды._",
          "Винчестер. Дом, который построили призраки",
          "Гонка века",
          "Аэронавты",
          "Игра в имитацию",
          "Титан",
          "Слоны могут играть в футбол",
          "Двое",
          "Век Адалин",
          "Находка.",
          "Невероятные приключения Факира",
          "Невидимка",
          "От семьи не убежишь",
          "Невидимый гость",
          "Истории призраков",
          "МЕЖДУ НОТ или тантрическая симфония",
          "Реальные упыри",
          "Большая афера в маленьком городе",
          "Мисс Переполох",
          "Стажер",
          "Русалка. Озеро мертвых",
          "Не чужие",
          "Глубокие реки",
          "Ван Гоги",
          "Газели",
          "Инсомния",
          "Неуловимые .",
          "Приличные люди",
          "Фото на память",
          "Дальняя дорога /По произведению Николаса Спаркса/",
          "Третье убийство",
          "Зеленая книга",
          "Эффект Лазаря",
          "Привидение ",
          "Континуум",
          "Захочу и соскочу. Мастер-класс",
          "Атлантика",
          "Спитак",
          "Крид-2",
          "Правда или действие ",
          "Великолепная",
          "Экспириенс",
          "Статус: Обновлен ",
          "Анон",
          "Стекло",
          "Дыши во мгле",
          "За бортом",
          "Красотка на всю голову",
          "Миссис Хайд",
          "Красавица для чудовища",
          "Мстители: Война бесконечности",
          "Золотой мальчик.",
          "Караваджо: Душа и кровь",
          "Феникс /По роману Юбера Монтейе \"Возвращение из пепла\"/",
          "1+1: Голливудская история",
          "Большая афера",
          "Жил-был Дэдпул",
          "Последние пять лет.",
          "Белое вино из Баббудойу",
          "Братство",
          "Голос монстра",
          "Красивый бандит",
          "Запрос в друзья",
          "Снег",
          "Джек Ричер 2: Никогда не возвращайся",
          "ХОЛОДНОЕ ТАНГО",
          "Угоняя лошадей",
          "Антон Чехов",
          "Три икса: Мировое господство",
          "Без тормозов (2016)",
          "Я умею вязать",
          "Ремнант: Всё ещё вижу тебя",
          "Тайна в их глазах",
          "Призрак дома Бриар",
          "Жертвуя пешкой",
          "Дух Баухауса",
          "Берлинский фейсконтрольщик",
          "По небу босиком",
          "Голодные игры: Сойка-пересмешница. Часть 2",
          "Статус: \"Свободен\"",
          "Семейное ограбление",
          "Память осени",
          "Проклятие Спящей красавицы",
          "Убойная стрижка",
          "Последний поворот (2015)",
          "Колония Дигнидад",
          "Римские свидания",
          "Дипан",
          "Хичкок/Трюффо",
          "ХИТ",
          "Чудо-женщина",
          "Кловерфилд, 10",
          "Из тьмы",
          "Сборник короткого метра. Оскар. Фильмы. 2017",
          "Волна",
          "В тихом омуте",
          "Отряд самоубийц",
          "К звездам",
          "Царство",
          "На гребне волны (2015)",
          "Человек из будущего",
          "Любите Куперов",
          "Врач (2015)",
          "До встречи с тобой",
          "Сила воли",
          "Воскресенье",
          "Стреляйте в пианиста",
          "Космос между нами",
          "Переправа. Часть 1",
          "Выбор (2016)",
          "Супер Брис",
          "Пираты Карибского моря: Мертвецы не рассказывают сказки",
          "Париж подождет",
          "БЫК",
          "СПАРТА",
          "Крид: Наследие Рокки",
          "Сборник короткометражных триллеров",
          "Хани-Мани",
          "Здравствуй, папа, Новый год",
          "Прибытие",
          "Срочно выйду замуж",
          "Путешествие времени",
          "Бруклин",
          "Созданный в Бездне - Рассвет путешествия",
          "Дэвид Линч: Жизнь в искусстве",
          "Возьми меня штурмом",
          "Москва никогда не спит",
          "Королева Испании",
          "Величайший кутюрье",
          "После свадьбы",
          "5-я волна",
          "Петербург. Только по любви",
          "Макбет (2015)",
          "Венецианские львы",
          "Все могу",
          "Тем летом",
          "Красавчик со стажем",
          "Ночной кошмар (2015)",
          "Зачетный препод 2",
          "Отмель",
          "Полтора шпиона",
          "Заложники",
          "Ватиканские записи",
          "КОРОЧЕ",
          "БайБайМэн",
          "Брак за решеткой",
          "Любовь вразнос",
          "И грянул шторм",
          "Красавица и Чудовище (2017)",
          "Сторож",
          "Мы всегда жили в замке",
          "Самый счастливый день в жизни Олли Мяки",
          "Ускорение (2015)",
          "Охотники за привидениями (2016)",
          "Пальмы в снегу",
          "Ленин Неизбежность",
          "Зачинщики",
          "Сафари (2016)",
          "Отпетые напарники",
          "Идеальные незнакомцы",
          "Белоснежка и Охотник 2",
          "Нерв",
          "Паваротти",
          "Ночь в Париже",
          "Сплит (2016)",
          "Ложные признания",
          "Пункт назначения: Смайл ",
          "Конг: Остров черепа",
          "Друзья (2015)",
          "Логин",
          "Вторая жизнь Уве",
          "Ошибка времени",
          "Равные",
          "Месть от кутюр",
          "Проклятые. Противостояние",
          "Болевой порог",
          "Матрица времени",
          "ХАРМС",
          "Эволюция / Evolution",
          "Двое во вселенной",
          "Быть Харви Вайнштейном",
          "Девушки бывают разные",
          "Скрижали судьбы",
          "Любовь не по размеру",
          "Как отмыть миллион",
          "Капитал в XXI веке",
          "Машина времени Сэма Клемке",
          "Невеста .",
          "Комната желаний",
          "Преображение (2015)",
          "Дама Пик",
          "Новая эра Z",
          "Миссия в Майами",
          "Одиссея (2016)",
          "Маменькин сынок",
          "Песнь заката",
          "Сент Амур: Удовольствия любви",
          "Король бельгийцев",
          "Рок",
          "Бэтмен против Супермена: На заре справедливости",
          "Гуляй, Вася !",
          "Пингвин нашего времени",
          "Некромант",
          "Великолепная семерка (2016)",
          "Парижская мечта",
          "Однажды в Германии",
          "Танцовщик",
          "ТЕНЬ",
          "Орбита 9",
          "Захочу и соскочу",
          "Код Гиас: Лелуш Воскресший",
          "Большой Вавилон",
          "Джой (2015)",
          "Почетный гражданин",
          "Москва, я терплю тебя",
          "Рай (2016)",
          "Мистер Холмс",
          "Йоганутые",
          "Одноклассницы: Новый поворот",
          "Безумные соседи",
          "Диего Марадона",
          "Славные парни",
          "Последняя любовь Казановы",
          "Трудности выживания",
          "Дуэлянт",
          "Пятница (2016)",
          "Крым (2017)",
          "ПОБЕГ ЗА МЕЧТОЙ",
          "Первый мститель: Противостояние",
          "Подлец",
          "Страшные истории для рассказа в темноте",
          "Молодость по страховке",
          "Мышеловка. 4Х4",
          "КОД КАИНА",
          "Мухаммад",
          "Конец сезона",
          "Путешествие из Парижа",
          "Синяя бездна 2",
          "Пришествие",
          "Разборка в Маниле",
          "Исцеляющая",
          "Разве плохо искать себе пару в подземелье? - Стрела Ориона",
          "Образцовые семьи",
          "Офелия",
          "Стартрек: Бесконечность",
          "Маршрут построен",
          "Инферно (2016)",
          "Доктор Стрэндж",
          "Автобан",
          "Жена смотрителя зоопарка",
          "Здравствуй, папа, Новый год",
          "Не стучи дважды",
          "Абатуар. Лабиринт страха",
          "Лес призраков",
          "Грех",
          "Война полов",
          "Лев",
          "Разбуди Меня",
          "Акулы",
          "Игры разумов",
          "Рождество, опять",
          "Ла-Ла Ленд",
          "Шпион_",
          "Чудо на Гудзоне",
          "Мысленный волк",
          "Бен-Гур (2016)",
          "Воспоминания о будущем.",
          "Француз",
          "Страшные сказки",
          "Я и ты (2017)",
          "Городские птички.",
          "Битва за Землю",
          "Неуловимые: последний герой",
          "Страна Оз",
          "Дом в конце времен",
          "Мумия (2017)",
          "Крампус",
          "Опасные секреты",
          "Новости с планеты Марс",
          "Рюдзо и семеро бойцов",
          "Искусственный интеллект. Доступ неограничен",
          "Новая жизнь Аманды",
          "Не в моем вкусе",
          "Атака титанов. Фильм второй: Конец света",
          "Я, Дэниел Блэйк",
          "Самый Лучший День",
          "Бой",
          "Пароль H0us3 / Пароль: Хаус ",
          "Без ума от Тиффани",
          "Персональный покупатель",
          "Птичка",
          "Ты умеешь хранить секреты?",
          "Сорокин Трип",
          "30 свиданий",
          "Чистое искусство.",
          "Прощание",
          "Призрачный патруль",
          "Вечер с Беверли Лафф Линн",
          "С вещами на вылет!",
          "Не/смотря ни на что",
          "Шнайдер против Бакса",
          "Планетариум",
          "Зимняя песня",
          "Прекрасные дни в Аранхуэсе",
          "Пассажиры (2016)",
          "В метре друг от друга",
          "SHNIT SHORTS 2019. Анимационная программа",
          "Макс Стил",
          "Любовь с ограничениями",
          "Куда ты пропала, Бернадетт?",
          "Одноклассницы (2016)",
          "Уиджи. Проклятие доски дьявола",
          "Everybody In The Place: Рейв как забастовка",
          "Инкарнация",
          "Курск",
          "Дождливый день в Нью-Йорке",
          "Случайно беременна",
          "ДИГГЕРЫ",
          "Кто эти люди?",
          "Джуди",
          "Счастье быть одной",
          "Инсайт (2015)",
          "Простая история .",
          "Виктор Франкенштейн",
          "К черту на рога",
          "SHNIT SHORTS 2019. Игровое кино",
          "Дом странных детей мисс Перегрин",
          "Гупешка",
          "После тебя",
          "Самокритика буржуазного пса",
          "Добыча",
          "Пятый номер",
          "Шпионский мост",
          "Декамерон (2015)",
          "Виктор Франкенштейн",
          "Глубоководный горизонт",
          "Все о мужчинах",
          "Операция \"Колибри\"",
          "Красная армия",
          "Жизнь Кабачка",
          "Реальная цена моды",
          "Развод по-французски (2016)",
          "Боги Египта",
          "Образцовый самец 2",
          "Жмот",
          "Однажды в Трубчевске",
          "Эдди \"Орёл\"",
          "Образцовый самец 2",
          "Синяя бездна",
          "Последний охотник на ведьм",
          "Падение ангела",
          "Гордость и предубеждение и зомби",
          "Короли интриги",
          "Мустанг (2015)",
          "Вечность (2016)",
          "Свет в океане",
          "Годзилла 2: Король монстров",
          "Шпионы по соседству",
          "Люди Икс: Темный феникс",
          "Планета обезьян: Война",
          "Демоны Джун",
          "Фильмы с севера: Между ними",
          "Переправа. Часть 2",
          "Дама в очках и с ружьем в автомобиле",
          "Терминатор (1984)",
          "Переводчик.",
          "Милый Ханс, дорогой Петр",
          "Я не такой. Я не такая",
          "Коллектор",
          "Перевозчик: Наследие",
          "Кровь моей крови",
          "Приходит дракон",
          "Кредо убийцы",
          "Сборник комедийных короткометражек",
          "Стражи Галактики. Часть 2",
          "Гений (2016)",
          "Человек-паук: Возвращение домой",
          "Франц",
          "По млечному пути",
          "Ночная игра",
          "Анархисты",
          "Любовь и страсть. Далида",
          "Зажигая звезды",
          "Параллели",
          "Простой карандаш",
          "Анна Каренина. Интимный дневник",
          "Скандинавский форсаж: Гонки на льду",
          "Жара",
          "Земля гангстеров",
          "Овердрайв",
          "Сюрприз (2015)",
          "Мистер Штайн идет в онлайн",
          "Бабоньки",
          "Спасение._",
          "Superнянь 2",
          "Варда глазами Аньес",
          "Молодая кровь (2015)",
          "Курманжан Датка. Королева гор",
          "Джейсон Борн",
          "45 лет",
          "Черепашки-ниндзя 2",
          "Страх темноты",
          "Отпетые мошенницы",
          "Зов волка",
          "Мифы",
          "Сомния",
          "По совести",
          "Сфера",
          "Призрак в доспехах (2017)",
          "Обещание (2016)",
          "Меч короля Артура (2017)",
          "Несносные леди",
          "Та, которой не было",
          "Моя большая греческая свадьба 2",
          "Затерянный город Z",
          "Дитя робота",
          "Двойная жизнь",
          "Манифесто",
          "Дылда",
          "Маленькие секреты большой компании",
          "Тачка на миллион",
          "Свет моей жизни",
          "Хэллоуин",
          "РУССКОЕ КРАТКОЕ. Выпуск 1",
          "Проклятие крови",
          "Голоса с того света",
          "Коко-ди, Коко-да",
          "Игра Ганнибала",
          "Галвестон",
          "Девушка, которая застряла в паутине",
          "Колетт",
          "Курьер",
          "Проза бродячих псов. Фильм",
          "Оно-2",
          "Хрусталь",
          "Рожденный после смерти",
          "Дом, который построил Джек",
          "Оверлорд",
          "Один король - одна Франция",
          "Малышка зомби",
          "Капкан",
          "Зеровилль",
          "Черная полоса",
          "Озеро Диких гусей",
          "Три лица",
          "21 мост",
          "Работа без авторства",
          "Созданный в Бездне - Блуждающие сумерки",
          "Хантер Киллер",
          "Догмэн",
          "Море соблазна",
          "МакКуин",
          "Холодная война",
          "Под Сильвер-Лэйк",
          "Сиротский Бруклин",
          "Зубы, писать и в постель",
          "Смерть и жизнь Джона Ф.Донована",
          "Оленья кожа",
          "Лоро",
          "7 социопатов",
          "Суспирия",
          "Ангел мой",
          "Я иду искать",
          "Плюс один",
          "Зверь",
          "Божественная любовь",
          "Кукловод",
          "Богемская рапсодия",
          "Дефолт",
          "Братья Систерс",
          "Вдовы",
          "Нация убийц",
          "Апгрейд",
          "По воле божьей",
          "Близнецы",
          "Вельзевул",
          "Золотая молодежь",
          "Вокс Люкс",
          "Малыш Кид",
          "Частная война",
          "Руководство по сексу на втором свидании",
          "100 вещей и ничего лишнего",
          "Свадебный год",
          "Джон Уик 3",
          "Стертая личность",
          "Гори, гори ясно",
          "Золотая перчатка",
          "Родители легкого поведения",
          "Закатать в асфальт",
          "Красивый, плохой, злой",
          "Наркокурьер",
          "Счастливого нового дня смерти",
          "Игрища престолов",
          "Домино",
          "Боль и слава",
          "Исчезновение",
          "Власть",
          "Верность",
          "Куриоса",
          "Так сказал Чарли",
          "Время возмездия",
          "Большая поэзия",
          "Рокетмен",
          "Кадавр",
          "Джокер",
          "Ядовитая роза",
          "Обитель страха",
          "Омен: Перерождение",
          "Первая любовь",
          "Середина 90-х",
          "Маленькие чудовища",
          "Играй или умри",
          "Отель Мумбаи: Противостояние",
          "Портрет девушки в огне",
          "Код Красный",
          "Бладфест",
          "ОКЕЙ, ЛЕКСИ!",
          "Злой дух",
          "На Париж",
          "Они",
          "Люби их всех",
          "Пираньи Неаполя",
          "Проклятие плачущей",
          "Иные",
          "Кокаиновый барон",
          "Вита и Вирджиния",
          "Синонимы",
          "Игра с огнем",
          "Честный человек",
          "Хеллбой",
          "Проклятые",
          "Аббатство Даунтон",
          "Королева сердец",
          "Звонок мертвецу",
          "Пляжный бездельник",
          "Троица",
          "Три секунды",
          "В объятиях лжи",
          "Дитя тьмы",
          "Другой",
          "Плейбой под прикрытием",
          "Zомбилэнд: Контрольный выстрел",
          "Высшее общество",
          "Мы",
          "Кладбище домашних животных",
          "Белый лебедь",
          "Последствия",
          "Снегоуборщик",
          "Доктор Сон",
          "Капернаум",
          "Одной волшебной ночью",
          "Пирсинг",
          "Искусство обмана",
          "Решала. Нулевые",
          "Коррупционер",
          "Анна",
          "Стриптизёрши",
          "Обитель тьмы",
          "Белый парень Рик",
          "Ибица",
          "Али, рули!",
          "Текст",
          "Паразиты",
          "Мертвые не умирают",
          "Голем: Начало",
          "Соблазн",
          "С любовью, Антоша",
          "Солнцестояние",
          "Белоснежка. Сказка для взрослых",
          "Щегол",
          "Однажды... в Голливуде",
          "Материнский инстинкт",
          "Идеальная западня",
          "До скорой встречи",
          "Собаки не носят штанов",
          "Гив ми либерти",
          "Воспитательница",
          "Видок: Охотник на призраков",
          "Фаворитка",
          "Почему мы креативны?",
          "Маленькое красное платье",
          "Две королевы",
          "Любовь и прочий зоопарк",
          "Человек, время, место и снова человек",
          "Проклятый дом",
          "Отверженные",
          "План побега 3",
          "Тренинг личностного роста",
          "Песнь дьявола",
          "Мой друг Зигмунд Фрейд",
          "Предатель",
          "Хороший лжец",
          "Ма",
          "Ангел",
          "Рэмбо: Последняя кровь",
          "Идеальный пациент",
          "Последний бросок",
          "Последние любовники",
          "Святая Агата",
          "Вернуть Бена",
          "Корпоративные животные",
          "Во все тяжкое",
          "Одесса",
          "Та еще парочка",
          "Присягнувшая тьме",
          "Берлин, я люблю тебя",
          "Однажды в Стокгольме",
          "Русская невеста",
          "Lil Peep: всё для всех",
          "Клуб анонимных киллеров",
          "Химера",
          "Наше время",
          "Время монстров",
          "Матиас и Максим",
          "Проклятие Аннабель-3",
          "Красивый мальчик",
          "Боже мой!",
          "Детские игры",
          "Месть Лиззи Борден",
          "Студия 54",
          "Прекрасная эпоха",
          "Призраки Шэрон Тейт",
          "Точка возврата",
          "Девочка",
          "Проклятие Аннабель: Зарождение зла",
          "На колесах",
          "Лазурный берег",
          "Запретная Зона",
          "Сборник короткометражных фильмов о любви - 3",
          "В центре внимания",
          "По ту сторону двери",
          "Кэрол",
          "Джейн берет ружье",
          "Не дыши",
          "Зоология",
          "Лекарство от здоровья",
          "Манчестер у моря",
          "Живое",
          "Суперплохие",
          "Осколки",
          "Сёстры (2015)",
          "Выстрел в пустоту",
          "Хроники мстителя",
          "Девятая жизнь Луи Дракса",
          "По соображениям совести",
          "Ловушка (2016)",
          "Звонки",
          "Война (2016)",
          "Монстры Юга",
          "Sex Doll / Влюбленные одиночки",
          "Золото (2016)",
          "Идем со мной",
          "Капитан Фантастик",
          "Дочь Бога",
          "Светская жизнь",
          "Она (2016)",
          "Сборник короткометражек Кинотавра 18+",
          "Девушка из Дании",
          "Выживший (2015)",
          "Омерзительная восьмерка (2015)",
          "Преступник (2016)",
          "Топ-модель",
          "ПСИХИ.",
          "Братья из Гримсби",
          "Паранормальное явление 5: Призраки",
          "Рождественская ночь в Барселоне",
          "Коммуна",
          "Ключ от преисподней",
          "Каждому своё",
          "Элвис и Никсон",
          "Помнить",
          "Кто там",
          "Агорафобия",
          "Любовь без обязательств",
          "Ученик",
          "Стив Джобс",
          "Тронутые (2014)",
          "В активном поиске (2016)",
          "Строго на Запад",
          "Ма Ма",
          "Затмение (2015)",
          "Спасение (2015)",
          "Убей своих друзей",
          "Рыцарь кубков",
          "Костяной томагавк",
          "Игра на понижение",
          "Последний обряд",
          "Холодный Фронт",
          "Пятьдесят оттенков черного",
          "Мученицы (2015)",
          "Театр призраков",
          "13 часов: Тайные солдаты Бенгази",
          "Союзники",
          "Плохой Санта 2",
          "Новогодний корпоратив",
          "Семь диких историй",
          "Молчание (2016)",
          "Короткие истории о любви - 4",
          "Киллер поневоле",
          "Ой, мамочки (2017)",
          "Перестрелка (2016)",
          "Наваждение (2017)",
          "Свадебный угар",
          "Вечно молодой/ Все будет рок-н-ролл",
          "SuperАлиби",
          "Могучие рейнджеры",
          "Отцы и дочери",
          "Афера по-английски",
          "На пятьдесят оттенков темнее",
          "Моя девушка - монстр",
          "Танцовщица (2016)",
          "Война против всех",
          "Очень плохие девчонки",
          "Спасатели Малибу",
          "Время псов",
          "Наши любовники",
          "Это всего лишь конец света",
          "Крутые меры",
          "Парни со стволами",
          "Почему он?",
          "Найди меня, если сможешь",
          "День До",
          "Последствия (2017)",
          "Видели ночь",
          "Демон внутри",
          "Иллюзия любви",
          "Закон ночи",
          "Омерзительная восьмерка",
          "Мальчишник в Паттайе",
          "Преисподняя (2016)",
          "Викинг 18+",
          "Трансформация",
          "Послесвадебный разгром",
          "Голос из камня",
          "Механик: Воскрешение",
          "Сборник любовных короткометражек - 2",
          "Чужой: Завет",
          "Логан: Росомаха",
          "Антропоид",
          "ТЕСНОТА",
          "Такса (2016)",
          "Секреты секса и любви",
          "Импульс (2016)",
          "Джульетта (2016)",
          "Полный расколбас",
          "Во всем виноват енот",
          "Клятва (2016)",
          "Под покровом ночи (2016)",
          "Суперстюард",
          "Джимми - покоритель Америки",
          "Человек - швейцарский нож",
          "Роковое влечение (2016)",
          "Расплата (2016)",
          "Тони Эрдманн",
          "Нелюбовь",
          "Детство лидера",
          "Крейсер",
          "Дизлайк",
          "Рыба-мечта",
          "Славные парни (2016)",
          "Соседи. На тропе войны 2",
          "Уйти красиво",
          "Он и она (2017)",
          "Скорость: Автобус 657",
          "Неслабый пол",
          "Последний вагон. Весна",
          "Слендер",
          "Пещера (2014)",
          "Хулиган (2014)",
          "Ганмен",
          "10 000 км.: Любовь на расстоянии",
          "Оно.",
          "Новейший завет",
          "Молодость",
          "Инфекция: Фаза 2",
          "Джеки в царстве женщин",
          "РЕШАЛА-2",
          "Супер Майк XXL",
          "ВСТАВАЙ И БЕЙСЯ",
          "Французский транзит или Француз",
          "Я плюю на ваши могилы 3",
          "Зачистка",
          "Демоны Деборы Логан",
          "Девушка без комплексов",
          "Как заниматься любовью по-английски",
          "Багровый пик",
          "Багровый пик",
          "Сборник любовных короткометражек",
          "Каникулы (2015)",
          "Убрать из друзей",
          "Левша (2015)",
          "Лунная афера",
          "Токийская невеста /По одноименному произведению Амели Нотомб/",
          "Хитмэн: Агент 47",
          "Эми",
          "Реверс 666",
          "Параллельные прямые пересекаются в бесконечности",
          "Мы еще здесь",
          "Выхода нет (2015)",
          "Мученицы",
          "Свадебный разгром",
          "Волшебная страна.",
          "Цена человека /По роману Стефана Амидона \"Человеческий капитал\"/",
          "Пилигрим: Пауло Коэльо",
          "Женщины против мужчин",
          "Короткие истории о любви 2",
          "Убить гонца",
          "Снайпер /По книге Криса Кайла, Скотта МакЭвена и Джима ДеФелиса/",
          "Эверли",
          "Машина времени в джакузи 2",
          "Унижение /По произведению Филипа Рота/",
          "Царство красоты",
          "Поклонник.",
          "Лофт",
          "Между делом",
          "Ночной беглец",
          "Pro любовь",
          "Двойная игра (2014)",
          "Волчье логово",
          "Беглец (2015)",
          "Инфекция (2013)",
          "Белый бог",
          "Кто я",
          "Гость _",
          "Игрок_ ",
          "Неупокоенная",
          "Дикая /По произведению Шерил Стрэйд/",
          "Любовь или секс.",
          "Последние рыцари",
          "Добро пожаловать в рай",
          "Фокус",
          "Иррациональный человек",
          "От звонка до звонка (2013)",
          "128 ударов сердца в минуту",
          "Рок на Востоке",
          "Шеф Адам Джонс",
          "Незваные гости (2015)",
          "Лайф",
          "Дэдпул",
          "Экстрасенсы",
          "Взорвать Гитлера",
          "Трамбо",
          "Мой король",
          "Клан (2015)",
          "Нина навсегда",
          "Да здравствует Цезарь!",
          "Арбузные корки",
          "Сын Саула",
          "Громче, чем бомбы",
          "Джек Стоун",
          "Падение Лондона",
          "Разрушение",
          "Такой же предатель, как и мы",
          "Голограмма для короля",
          "Маргарита",
          "Луна над Турином",
          "Высотка",
          "Убийца (2015)",
          "Три девятки",
          "Мой друг Борис Немцов",
          "Хардкор",
          "Финансовый монстр",
          "Черные праздники",
          "Всё, что у меня есть",
          "Западня (2015)",
          "Чужая страна (2015)",
          "Большой всплеск",
          "Антураж",
          "Голос улиц",
          "Игра на выживание__",
          "Виктория_",
          "Третий лишний 2",
          "Тряпичный союз",
          "Стрингер (2014)",
          "Голубь сидел на ветке, размышляя о бытии",
          "Монстры 2: Темный континент",
          "Эшби",
          "Рики и Флэш",
          "Джентльмен-грабитель",
          "Не видать нам Париж, как своих ушей",
          "Похищение Фредди Хайнекена /По книге Петера Р. де Фриза/",
          "Из темноты",
          "Второй шанс_",
          "Как поймать монстра",
          "С 5 до 7. Время любовников",
          "Наступит ночь",
          "Лицо ангела",
          "Синистер 2",
          "Паранормальное явление 5: Призраки в 3 D",
          "Скауты против зомби",
          "Родина .",
          "Хозяин джунглей",
          "Ультраамериканцы",
          "Страшная воля богов",
          "Подарок .",
          "Гордость_",
          "Легенда (2015)",
          "Половое воспитание",
          "Форс-мажор.",
          "Кутис",
          "Драйвер на ночь",
          "Его собачье дело",
          "Gimme Danger. История Игги и The Stooges",
          "Поезд в Пусан",
          "ДВА БИЛЕТА ДОМОЙ",
          "Свинья",
          "Моя бывшая подружка ",
          "Точка невозврата",
          "Вествуд: панк, икона, активист",
          "Я заберу твои деньги",
          "Логово монстра",
          "Голодные Z",
          "Старое ружье",
          "Лицо",
          "Муза смерти",
          "Кислота",
          "Такси 5",
          "Истерия",
          "Жажда смерти",
          "Как разговаривать с девушками на вечеринках",
          "Дэдпул 2",
          "Красный воробей",
          "Реинкарнация",
          "Секса не будет!!!",
          "Хот-Дог",
          "Круги дьявола",
          "Русский бес",
          "Мектуб, моя любовь",
          "Лето (Leto)",
          "Подбросы",
          "Кто есть кто или ограбление по...",
          "Сердце мира",
          "50 весенних дней",
          "Фокстрот",
          "Конченая",
          "Взрослые игры",
          "Не в себе",
          "Твой выход, детка!",
          "Три билборда на границе Эббинга, Миссури",
          "Тоня против всех",
          "Пятьдесят оттенков свободы",
          "ЗОМБОЯЩИК (ZОМБОЯЩИК)",
          "Скиф",
          "Побег из Рио",
          "Охота на воров",
          "Призрачная нить",
          "На пределе",
          "Убийство священного оленя",
          "Дикий",
          "12 мелодий любви",
          "Кикбоксер возвращается",
          "Журналист",
          "Недруги",
          "Мама навсегда",
          "Ночные игры",
          "Незнакомцы: Жестокие игры",
          "Опасный бизнес",
          "Третья волна зомби",
          "Отпетый мачо",
          "Селфи из ада",
          "Подлинный Вермеер",
          "Ночная смена",
          "Тебя никогда здесь не было",
          "Страна призраков",
          "Редкая бабочка",
          "Проект Флорида",
          "Ева",
          "Купи меня",
          "Все деньги мира",
          "Кавалерия",
          "Мир будущего",
          "Сага о чудовище. Сумерки",
          "Аферисты поневоле",
          "Как женить холостяка",
          "Мара. Пожиратель снов ",
          "Мир принадлежит тебе",
          "То, что никто не видит",
          "Девица",
          "Черный клановец",
          "Игрушки для взрослых",
          "Экстаз ",
          "Клуб \"Школа\"",
          "Великий уравнитель 2",
          "Мэнди",
          "Хищник",
          "Багровая мята",
          "Проклятие монахини",
          "Шестой пост",
          "Человек, который удивил всех",
          "Бои без правил",
          "Газгольдер. Клубаре",
          "Школа",
          "Хэллфест",
          "Ничего хорошего в отеле \"Эль Рояль\"",
          "Зимние братья",
          "Звезда родилась",
          "Отель \"Артемида\"",
          "Любовник моей жены",
          "ПАПА, СДОХНИ",
          "Профессионал",
          "На границе миров",
          "Мотылёк",
          "Простая просьба",
          "Лондонские поля",
          "СКВОЗЬ ЧЕРНОЕ СТЕКЛО",
          "Короче",
          "Амбивалентность",
          "Шоу Мистико",
          "Эскобар",
          "Фобия",
          "Обитатели",
          "Проклятие. Кукла ведьмы",
          "Ведьмы",
          "Подвал",
          "План побега 2",
          "Ты водишь!",
          "Убийца 2. Против всех",
          "Зверь",
          "Талли",
          "Пылающий",
          "Офисный беспредел",
          "Выжившие",
          "Жаркие летние ночи",
          "Зло",
          "Клуб миллиардеров",
          "Не волнуйся, он далеко не уйдет",
          "22 мили",
          "Кровь",
          "Нас не догонят",
          "Последний беспредел",
          "Судная ночь. Начало",
          "СЕКС МОДА ДИСКО",
          "Фагот",
          "Шпионская игра",
          "Опасная игра Слоун",
          "Между нами музыка",
          "Зои",
          "Опасное задание",
          "Мальчишник в Европе",
          "Кодекс Готти",
          "Кое-что на день рождения",
          "Хэппи-энд",
          "День мертвецов: Злая кровь",
          "Лунный свет (2016)",
          "Т2 Трейнспоттинг /На игле 2/",
          "Уна",
          "Гиппопотам",
          "Рейд: Пуля в голове",
          "Идеаль",
          "Охотник с Уолл-стрит",
          "И гаснет свет...",
          "Судная ночь 3",
          "В постели с Викторией",
          "Ке-ды",
          "Мобильник",
          "Сборник романтических комедий",
          "31: Праздник смерти",
          "Ведьма из Блэр: Новая глава",
          "Куда бы еще вторгнуться?",
          "Еще один мальчишник",
          "Мой ангел",
          "Оно приходит ночью",
          "Ветреная река",
          "Взрывная блондинка",
          "Малыш на драйве",
          "Хорошее время",
          "Заклятие-2",
          "Охранник",
          "Дикая история",
          "Если б я была мужчиной",
          "Горные огни",
          "Мотылёк.",
          "Джеки",
          "Миссия: Неадекватна",
          "Роковое искушение",
          "Леди Макбет",
          "Пазманский дьявол",
          "Хуже, чем ложь",
          "Секретный агент (2017)",
          "Призраки Элоиз",
          "Обитель зла: последняя глава",
          "Черная бабочка",
          "Другой мир: Войны крови",
          "Бегущая от реальности",
          "Вирус (2016)",
          "Дорога чести (2014)",
          "Коммивояжер",
          "Берлинский синдром",
          "Афера под прикрытием",
          "Очень плохие мамочки",
          "Прочь",
          "Эксперимент \"Офис\"",
          "Институт Роузвуд",
          "Неизвестная",
          "Дары смерти",
          "В фокусе",
          "Дом напротив (2016)",
          "Американская пастораль",
          "Девушка в поезде",
          "Абсолютная власть",
          "Неоновый демон",
          "Бриджит Джонс 3",
          "Морган",
          "Убийца .",
          "11 минут",
          "Любой ценой (2016)",
          "Районы",
          "Патерсон",
          "Джон Уик 2",
          "Служанка (2016)",
          "Лукас",
          "Похищение",
          "Телохранитель киллера",
          "Пила 8",
          "Молодой Годар",
          "Ужин",
          "Убить за лайк",
          "Не оставляй меня",
          "Хулиганьё",
          "Джиперс Криперс 3",
          "Женись на мне, чувак",
          "Субурбикон",
          "Снеговик",
          "Обитель теней",
          "Исповедь содержанки",
          "Тельма",
          "Обет молчания",
          "Натуральные упыри",
          "И смех и грех",
          "Сука-судьба",
          "Форма воды",
          "Большая игра",
          "Последний портрет",
          "Сламбер: Лабиринты сна",
          "Кто наш папа, чувак?",
          "Молодая женщина",
          "Свингер",
          "Отступник",
          "Новизна",
          "Полуночный человек",
          "Вижу лишь тебя",
          "Цепной пес",
          "Страсть и верность",
          "Очень плохие мамочки 2",
          "Вечеринка",
          "Сусана, ты меня убиваешь",
          "Джунгли",
          "Кроткая",
          "Тюльпанная лихорадка",
          "Терминатор 2: Судный день 3D",
          "Над глубиной: хроника выживания",
          "Про любовь. Только для взрослых",
          "Секс-Трип",
          "Квест",
          "Сделано в Америке",
          "Статус Брэда",
          "Министр",
          "Козни. Последний сюжет Пазолини ",
          "Оно",
          "Квадрат",
          "Клаустрофобия",
          "Kingsman: Золотое кольцо",
          "Мама!",
          "Хранилище",
          "Роден",
          "Битва полов",
          "Реальный Рокки",
          "Голем",
          "Заклятье. Наши дни",
          "Гангстердам",
          "Двуличный любовник",
          "24 часа на жизнь",
          "Дом призраков",
          "Иностранец",
          "Наемник",
          "Бегущий по лезвию 2049",
          "Мой сын",
          "Техасская резня бензопилой: Кожаное лицо",
          "О теле и душе",
          "Скайлайн 2",
          "Черное Рождество"
         ],
         "legendgroup": "",
         "marker": {
          "color": "#636efa"
         },
         "name": "",
         "notched": false,
         "offsetgroup": "",
         "orientation": "v",
         "showlegend": false,
         "type": "box",
         "x": [
          "«0+» - для любой зрительской аудитории",
          "«0+» - для любой зрительской аудитории",
          "«0+» - для любой зрительской аудитории",
          "«0+» - для любой зрительской аудитории",
          "«0+» - для любой зрительской аудитории",
          "«0+» - для любой зрительской аудитории",
          "«0+» - для любой зрительской аудитории",
          "«0+» - для любой зрительской аудитории",
          "«0+» - для любой зрительской аудитории",
          "«0+» - для любой зрительской аудитории",
          "«0+» - для любой зрительской аудитории",
          "«0+» - для любой зрительской аудитории",
          "«0+» - для любой зрительской аудитории",
          "«0+» - для любой зрительской аудитории",
          "«0+» - для любой зрительской аудитории",
          "«0+» - для любой зрительской аудитории",
          "«0+» - для любой зрительской аудитории",
          "«0+» - для любой зрительской аудитории",
          "«0+» - для любой зрительской аудитории",
          "«0+» - для любой зрительской аудитории",
          "«0+» - для любой зрительской аудитории",
          "«0+» - для любой зрительской аудитории",
          "«0+» - для любой зрительской аудитории",
          "«0+» - для любой зрительской аудитории",
          "«0+» - для любой зрительской аудитории",
          "«0+» - для любой зрительской аудитории",
          "«0+» - для любой зрительской аудитории",
          "«0+» - для любой зрительской аудитории",
          "«0+» - для любой зрительской аудитории",
          "«0+» - для любой зрительской аудитории",
          "«0+» - для любой зрительской аудитории",
          "«0+» - для любой зрительской аудитории",
          "«0+» - для любой зрительской аудитории",
          "«0+» - для любой зрительской аудитории",
          "«0+» - для любой зрительской аудитории",
          "«0+» - для любой зрительской аудитории",
          "«0+» - для любой зрительской аудитории",
          "«0+» - для любой зрительской аудитории",
          "«0+» - для любой зрительской аудитории",
          "«0+» - для любой зрительской аудитории",
          "«0+» - для любой зрительской аудитории",
          "«0+» - для любой зрительской аудитории",
          "«0+» - для любой зрительской аудитории",
          "«06+» - для детей старше 6 лет",
          "«06+» - для детей старше 6 лет",
          "«06+» - для детей старше 6 лет",
          "«06+» - для детей старше 6 лет",
          "«06+» - для детей старше 6 лет",
          "«06+» - для детей старше 6 лет",
          "«06+» - для детей старше 6 лет",
          "«06+» - для детей старше 6 лет",
          "«06+» - для детей старше 6 лет",
          "«06+» - для детей старше 6 лет",
          "«06+» - для детей старше 6 лет",
          "«06+» - для детей старше 6 лет",
          "«06+» - для детей старше 6 лет",
          "«06+» - для детей старше 6 лет",
          "«06+» - для детей старше 6 лет",
          "«06+» - для детей старше 6 лет",
          "«06+» - для детей старше 6 лет",
          "«06+» - для детей старше 6 лет",
          "«06+» - для детей старше 6 лет",
          "«06+» - для детей старше 6 лет",
          "«06+» - для детей старше 6 лет",
          "«06+» - для детей старше 6 лет",
          "«06+» - для детей старше 6 лет",
          "«06+» - для детей старше 6 лет",
          "«06+» - для детей старше 6 лет",
          "«06+» - для детей старше 6 лет",
          "«06+» - для детей старше 6 лет",
          "«06+» - для детей старше 6 лет",
          "«06+» - для детей старше 6 лет",
          "«06+» - для детей старше 6 лет",
          "«06+» - для детей старше 6 лет",
          "«06+» - для детей старше 6 лет",
          "«06+» - для детей старше 6 лет",
          "«06+» - для детей старше 6 лет",
          "«06+» - для детей старше 6 лет",
          "«06+» - для детей старше 6 лет",
          "«06+» - для детей старше 6 лет",
          "«06+» - для детей старше 6 лет",
          "«06+» - для детей старше 6 лет",
          "«06+» - для детей старше 6 лет",
          "«06+» - для детей старше 6 лет",
          "«06+» - для детей старше 6 лет",
          "«06+» - для детей старше 6 лет",
          "«06+» - для детей старше 6 лет",
          "«06+» - для детей старше 6 лет",
          "«06+» - для детей старше 6 лет",
          "«06+» - для детей старше 6 лет",
          "«06+» - для детей старше 6 лет",
          "«06+» - для детей старше 6 лет",
          "«06+» - для детей старше 6 лет",
          "«06+» - для детей старше 6 лет",
          "«06+» - для детей старше 6 лет",
          "«06+» - для детей старше 6 лет",
          "«06+» - для детей старше 6 лет",
          "«06+» - для детей старше 6 лет",
          "«06+» - для детей старше 6 лет",
          "«06+» - для детей старше 6 лет",
          "«06+» - для детей старше 6 лет",
          "«06+» - для детей старше 6 лет",
          "«06+» - для детей старше 6 лет",
          "«06+» - для детей старше 6 лет",
          "«06+» - для детей старше 6 лет",
          "«06+» - для детей старше 6 лет",
          "«06+» - для детей старше 6 лет",
          "«06+» - для детей старше 6 лет",
          "«06+» - для детей старше 6 лет",
          "«06+» - для детей старше 6 лет",
          "«06+» - для детей старше 6 лет",
          "«06+» - для детей старше 6 лет",
          "«06+» - для детей старше 6 лет",
          "«06+» - для детей старше 6 лет",
          "«06+» - для детей старше 6 лет",
          "«06+» - для детей старше 6 лет",
          "«06+» - для детей старше 6 лет",
          "«06+» - для детей старше 6 лет",
          "«06+» - для детей старше 6 лет",
          "«06+» - для детей старше 6 лет",
          "«06+» - для детей старше 6 лет",
          "«06+» - для детей старше 6 лет",
          "«06+» - для детей старше 6 лет",
          "«06+» - для детей старше 6 лет",
          "«06+» - для детей старше 6 лет",
          "«06+» - для детей старше 6 лет",
          "«06+» - для детей старше 6 лет",
          "«06+» - для детей старше 6 лет",
          "«06+» - для детей старше 6 лет",
          "«06+» - для детей старше 6 лет",
          "«06+» - для детей старше 6 лет",
          "«06+» - для детей старше 6 лет",
          "«06+» - для детей старше 6 лет",
          "«06+» - для детей старше 6 лет",
          "«06+» - для детей старше 6 лет",
          "«06+» - для детей старше 6 лет",
          "«06+» - для детей старше 6 лет",
          "«06+» - для детей старше 6 лет",
          "«06+» - для детей старше 6 лет",
          "«06+» - для детей старше 6 лет",
          "«06+» - для детей старше 6 лет",
          "«06+» - для детей старше 6 лет",
          "«06+» - для детей старше 6 лет",
          "«06+» - для детей старше 6 лет",
          "«06+» - для детей старше 6 лет",
          "«06+» - для детей старше 6 лет",
          "«06+» - для детей старше 6 лет",
          "«06+» - для детей старше 6 лет",
          "«06+» - для детей старше 6 лет",
          "«06+» - для детей старше 6 лет",
          "«06+» - для детей старше 6 лет",
          "«06+» - для детей старше 6 лет",
          "«06+» - для детей старше 6 лет",
          "«06+» - для детей старше 6 лет",
          "«06+» - для детей старше 6 лет",
          "«06+» - для детей старше 6 лет",
          "«06+» - для детей старше 6 лет",
          "«06+» - для детей старше 6 лет",
          "«06+» - для детей старше 6 лет",
          "«06+» - для детей старше 6 лет",
          "«06+» - для детей старше 6 лет",
          "«06+» - для детей старше 6 лет",
          "«06+» - для детей старше 6 лет",
          "«06+» - для детей старше 6 лет",
          "«06+» - для детей старше 6 лет",
          "«06+» - для детей старше 6 лет",
          "«06+» - для детей старше 6 лет",
          "«06+» - для детей старше 6 лет",
          "«06+» - для детей старше 6 лет",
          "«06+» - для детей старше 6 лет",
          "«06+» - для детей старше 6 лет",
          "«06+» - для детей старше 6 лет",
          "«06+» - для детей старше 6 лет",
          "«06+» - для детей старше 6 лет",
          "«06+» - для детей старше 6 лет",
          "«06+» - для детей старше 6 лет",
          "«06+» - для детей старше 6 лет",
          "«06+» - для детей старше 6 лет",
          "«06+» - для детей старше 6 лет",
          "«06+» - для детей старше 6 лет",
          "«06+» - для детей старше 6 лет",
          "«06+» - для детей старше 6 лет",
          "«06+» - для детей старше 6 лет",
          "«06+» - для детей старше 6 лет",
          "«06+» - для детей старше 6 лет",
          "«06+» - для детей старше 6 лет",
          "«06+» - для детей старше 6 лет",
          "«06+» - для детей старше 6 лет",
          "«06+» - для детей старше 6 лет",
          "«06+» - для детей старше 6 лет",
          "«06+» - для детей старше 6 лет",
          "«06+» - для детей старше 6 лет",
          "«06+» - для детей старше 6 лет",
          "«06+» - для детей старше 6 лет",
          "«06+» - для детей старше 6 лет",
          "«06+» - для детей старше 6 лет",
          "«06+» - для детей старше 6 лет",
          "«06+» - для детей старше 6 лет",
          "«06+» - для детей старше 6 лет",
          "«06+» - для детей старше 6 лет",
          "«06+» - для детей старше 6 лет",
          "«06+» - для детей старше 6 лет",
          "«06+» - для детей старше 6 лет",
          "«06+» - для детей старше 6 лет",
          "«06+» - для детей старше 6 лет",
          "«06+» - для детей старше 6 лет",
          "«06+» - для детей старше 6 лет",
          "«06+» - для детей старше 6 лет",
          "«06+» - для детей старше 6 лет",
          "«06+» - для детей старше 6 лет",
          "«06+» - для детей старше 6 лет",
          "«06+» - для детей старше 6 лет",
          "«06+» - для детей старше 6 лет",
          "«06+» - для детей старше 6 лет",
          "«06+» - для детей старше 6 лет",
          "«06+» - для детей старше 6 лет",
          "«06+» - для детей старше 6 лет",
          "«06+» - для детей старше 6 лет",
          "«06+» - для детей старше 6 лет",
          "«06+» - для детей старше 6 лет",
          "«06+» - для детей старше 6 лет",
          "«06+» - для детей старше 6 лет",
          "«06+» - для детей старше 6 лет",
          "«06+» - для детей старше 6 лет",
          "«06+» - для детей старше 6 лет",
          "«06+» - для детей старше 6 лет",
          "«06+» - для детей старше 6 лет",
          "«06+» - для детей старше 6 лет",
          "«06+» - для детей старше 6 лет",
          "«06+» - для детей старше 6 лет",
          "«06+» - для детей старше 6 лет",
          "«06+» - для детей старше 6 лет",
          "«06+» - для детей старше 6 лет",
          "«06+» - для детей старше 6 лет",
          "«06+» - для детей старше 6 лет",
          "«06+» - для детей старше 6 лет",
          "«06+» - для детей старше 6 лет",
          "«06+» - для детей старше 6 лет",
          "«06+» - для детей старше 6 лет",
          "«06+» - для детей старше 6 лет",
          "«06+» - для детей старше 6 лет",
          "«06+» - для детей старше 6 лет",
          "«06+» - для детей старше 6 лет",
          "«06+» - для детей старше 6 лет",
          "«06+» - для детей старше 6 лет",
          "«06+» - для детей старше 6 лет",
          "«06+» - для детей старше 6 лет",
          "«06+» - для детей старше 6 лет",
          "«06+» - для детей старше 6 лет",
          "«06+» - для детей старше 6 лет",
          "«06+» - для детей старше 6 лет",
          "«06+» - для детей старше 6 лет",
          "«06+» - для детей старше 6 лет",
          "«06+» - для детей старше 6 лет",
          "«06+» - для детей старше 6 лет",
          "«06+» - для детей старше 6 лет",
          "«06+» - для детей старше 6 лет",
          "«06+» - для детей старше 6 лет",
          "«06+» - для детей старше 6 лет",
          "«06+» - для детей старше 6 лет",
          "«06+» - для детей старше 6 лет",
          "«06+» - для детей старше 6 лет",
          "«06+» - для детей старше 6 лет",
          "«06+» - для детей старше 6 лет",
          "«06+» - для детей старше 6 лет",
          "«06+» - для детей старше 6 лет",
          "«06+» - для детей старше 6 лет",
          "«06+» - для детей старше 6 лет",
          "«06+» - для детей старше 6 лет",
          "«06+» - для детей старше 6 лет",
          "«06+» - для детей старше 6 лет",
          "«06+» - для детей старше 6 лет",
          "«06+» - для детей старше 6 лет",
          "«06+» - для детей старше 6 лет",
          "«06+» - для детей старше 6 лет",
          "«06+» - для детей старше 6 лет",
          "«06+» - для детей старше 6 лет",
          "«06+» - для детей старше 6 лет",
          "«06+» - для детей старше 6 лет",
          "«06+» - для детей старше 6 лет",
          "«06+» - для детей старше 6 лет",
          "«06+» - для детей старше 6 лет",
          "«06+» - для детей старше 6 лет",
          "«06+» - для детей старше 6 лет",
          "«06+» - для детей старше 6 лет",
          "«06+» - для детей старше 6 лет",
          "«06+» - для детей старше 6 лет",
          "«06+» - для детей старше 6 лет",
          "«06+» - для детей старше 6 лет",
          "«06+» - для детей старше 6 лет",
          "«06+» - для детей старше 6 лет",
          "«06+» - для детей старше 6 лет",
          "«06+» - для детей старше 6 лет",
          "«06+» - для детей старше 6 лет",
          "«06+» - для детей старше 6 лет",
          "«06+» - для детей старше 6 лет",
          "«06+» - для детей старше 6 лет",
          "«06+» - для детей старше 6 лет",
          "«06+» - для детей старше 6 лет",
          "«06+» - для детей старше 6 лет",
          "«06+» - для детей старше 6 лет",
          "«06+» - для детей старше 6 лет",
          "«06+» - для детей старше 6 лет",
          "«06+» - для детей старше 6 лет",
          "«06+» - для детей старше 6 лет",
          "«06+» - для детей старше 6 лет",
          "«06+» - для детей старше 6 лет",
          "«06+» - для детей старше 6 лет",
          "«06+» - для детей старше 6 лет",
          "«06+» - для детей старше 6 лет",
          "«06+» - для детей старше 6 лет",
          "«06+» - для детей старше 6 лет",
          "«06+» - для детей старше 6 лет",
          "«06+» - для детей старше 6 лет",
          "«06+» - для детей старше 6 лет",
          "«06+» - для детей старше 6 лет",
          "«06+» - для детей старше 6 лет",
          "«06+» - для детей старше 6 лет",
          "«06+» - для детей старше 6 лет",
          "«06+» - для детей старше 6 лет",
          "«06+» - для детей старше 6 лет",
          "«06+» - для детей старше 6 лет",
          "«06+» - для детей старше 6 лет",
          "«06+» - для детей старше 6 лет",
          "«06+» - для детей старше 6 лет",
          "«06+» - для детей старше 6 лет",
          "«06+» - для детей старше 6 лет",
          "«06+» - для детей старше 6 лет",
          "«12+» - для детей старше 12 лет",
          "«12+» - для детей старше 12 лет",
          "«12+» - для детей старше 12 лет",
          "«12+» - для детей старше 12 лет",
          "«12+» - для детей старше 12 лет",
          "«12+» - для детей старше 12 лет",
          "«12+» - для детей старше 12 лет",
          "«12+» - для детей старше 12 лет",
          "«12+» - для детей старше 12 лет",
          "«12+» - для детей старше 12 лет",
          "«12+» - для детей старше 12 лет",
          "«12+» - для детей старше 12 лет",
          "«12+» - для детей старше 12 лет",
          "«12+» - для детей старше 12 лет",
          "«12+» - для детей старше 12 лет",
          "«12+» - для детей старше 12 лет",
          "«12+» - для детей старше 12 лет",
          "«12+» - для детей старше 12 лет",
          "«12+» - для детей старше 12 лет",
          "«12+» - для детей старше 12 лет",
          "«12+» - для детей старше 12 лет",
          "«12+» - для детей старше 12 лет",
          "«12+» - для детей старше 12 лет",
          "«12+» - для детей старше 12 лет",
          "«12+» - для детей старше 12 лет",
          "«12+» - для детей старше 12 лет",
          "«12+» - для детей старше 12 лет",
          "«12+» - для детей старше 12 лет",
          "«12+» - для детей старше 12 лет",
          "«12+» - для детей старше 12 лет",
          "«12+» - для детей старше 12 лет",
          "«12+» - для детей старше 12 лет",
          "«12+» - для детей старше 12 лет",
          "«12+» - для детей старше 12 лет",
          "«12+» - для детей старше 12 лет",
          "«12+» - для детей старше 12 лет",
          "«12+» - для детей старше 12 лет",
          "«12+» - для детей старше 12 лет",
          "«12+» - для детей старше 12 лет",
          "«12+» - для детей старше 12 лет",
          "«12+» - для детей старше 12 лет",
          "«12+» - для детей старше 12 лет",
          "«12+» - для детей старше 12 лет",
          "«12+» - для детей старше 12 лет",
          "«12+» - для детей старше 12 лет",
          "«12+» - для детей старше 12 лет",
          "«12+» - для детей старше 12 лет",
          "«12+» - для детей старше 12 лет",
          "«12+» - для детей старше 12 лет",
          "«12+» - для детей старше 12 лет",
          "«12+» - для детей старше 12 лет",
          "«12+» - для детей старше 12 лет",
          "«12+» - для детей старше 12 лет",
          "«12+» - для детей старше 12 лет",
          "«12+» - для детей старше 12 лет",
          "«12+» - для детей старше 12 лет",
          "«12+» - для детей старше 12 лет",
          "«12+» - для детей старше 12 лет",
          "«12+» - для детей старше 12 лет",
          "«12+» - для детей старше 12 лет",
          "«12+» - для детей старше 12 лет",
          "«12+» - для детей старше 12 лет",
          "«12+» - для детей старше 12 лет",
          "«12+» - для детей старше 12 лет",
          "«12+» - для детей старше 12 лет",
          "«12+» - для детей старше 12 лет",
          "«12+» - для детей старше 12 лет",
          "«12+» - для детей старше 12 лет",
          "«12+» - для детей старше 12 лет",
          "«12+» - для детей старше 12 лет",
          "«12+» - для детей старше 12 лет",
          "«12+» - для детей старше 12 лет",
          "«12+» - для детей старше 12 лет",
          "«12+» - для детей старше 12 лет",
          "«12+» - для детей старше 12 лет",
          "«12+» - для детей старше 12 лет",
          "«12+» - для детей старше 12 лет",
          "«12+» - для детей старше 12 лет",
          "«12+» - для детей старше 12 лет",
          "«12+» - для детей старше 12 лет",
          "«12+» - для детей старше 12 лет",
          "«12+» - для детей старше 12 лет",
          "«12+» - для детей старше 12 лет",
          "«12+» - для детей старше 12 лет",
          "«12+» - для детей старше 12 лет",
          "«12+» - для детей старше 12 лет",
          "«12+» - для детей старше 12 лет",
          "«12+» - для детей старше 12 лет",
          "«12+» - для детей старше 12 лет",
          "«12+» - для детей старше 12 лет",
          "«12+» - для детей старше 12 лет",
          "«12+» - для детей старше 12 лет",
          "«12+» - для детей старше 12 лет",
          "«12+» - для детей старше 12 лет",
          "«12+» - для детей старше 12 лет",
          "«12+» - для детей старше 12 лет",
          "«12+» - для детей старше 12 лет",
          "«12+» - для детей старше 12 лет",
          "«12+» - для детей старше 12 лет",
          "«12+» - для детей старше 12 лет",
          "«12+» - для детей старше 12 лет",
          "«12+» - для детей старше 12 лет",
          "«12+» - для детей старше 12 лет",
          "«12+» - для детей старше 12 лет",
          "«12+» - для детей старше 12 лет",
          "«12+» - для детей старше 12 лет",
          "«12+» - для детей старше 12 лет",
          "«12+» - для детей старше 12 лет",
          "«12+» - для детей старше 12 лет",
          "«12+» - для детей старше 12 лет",
          "«12+» - для детей старше 12 лет",
          "«12+» - для детей старше 12 лет",
          "«12+» - для детей старше 12 лет",
          "«12+» - для детей старше 12 лет",
          "«12+» - для детей старше 12 лет",
          "«12+» - для детей старше 12 лет",
          "«12+» - для детей старше 12 лет",
          "«12+» - для детей старше 12 лет",
          "«12+» - для детей старше 12 лет",
          "«12+» - для детей старше 12 лет",
          "«12+» - для детей старше 12 лет",
          "«12+» - для детей старше 12 лет",
          "«12+» - для детей старше 12 лет",
          "«12+» - для детей старше 12 лет",
          "«12+» - для детей старше 12 лет",
          "«12+» - для детей старше 12 лет",
          "«12+» - для детей старше 12 лет",
          "«12+» - для детей старше 12 лет",
          "«12+» - для детей старше 12 лет",
          "«12+» - для детей старше 12 лет",
          "«12+» - для детей старше 12 лет",
          "«12+» - для детей старше 12 лет",
          "«12+» - для детей старше 12 лет",
          "«12+» - для детей старше 12 лет",
          "«12+» - для детей старше 12 лет",
          "«12+» - для детей старше 12 лет",
          "«12+» - для детей старше 12 лет",
          "«12+» - для детей старше 12 лет",
          "«12+» - для детей старше 12 лет",
          "«12+» - для детей старше 12 лет",
          "«12+» - для детей старше 12 лет",
          "«12+» - для детей старше 12 лет",
          "«12+» - для детей старше 12 лет",
          "«12+» - для детей старше 12 лет",
          "«12+» - для детей старше 12 лет",
          "«12+» - для детей старше 12 лет",
          "«12+» - для детей старше 12 лет",
          "«12+» - для детей старше 12 лет",
          "«12+» - для детей старше 12 лет",
          "«12+» - для детей старше 12 лет",
          "«12+» - для детей старше 12 лет",
          "«12+» - для детей старше 12 лет",
          "«12+» - для детей старше 12 лет",
          "«12+» - для детей старше 12 лет",
          "«12+» - для детей старше 12 лет",
          "«12+» - для детей старше 12 лет",
          "«12+» - для детей старше 12 лет",
          "«12+» - для детей старше 12 лет",
          "«12+» - для детей старше 12 лет",
          "«12+» - для детей старше 12 лет",
          "«12+» - для детей старше 12 лет",
          "«12+» - для детей старше 12 лет",
          "«12+» - для детей старше 12 лет",
          "«12+» - для детей старше 12 лет",
          "«12+» - для детей старше 12 лет",
          "«12+» - для детей старше 12 лет",
          "«12+» - для детей старше 12 лет",
          "«12+» - для детей старше 12 лет",
          "«12+» - для детей старше 12 лет",
          "«12+» - для детей старше 12 лет",
          "«12+» - для детей старше 12 лет",
          "«12+» - для детей старше 12 лет",
          "«12+» - для детей старше 12 лет",
          "«12+» - для детей старше 12 лет",
          "«12+» - для детей старше 12 лет",
          "«12+» - для детей старше 12 лет",
          "«12+» - для детей старше 12 лет",
          "«12+» - для детей старше 12 лет",
          "«12+» - для детей старше 12 лет",
          "«12+» - для детей старше 12 лет",
          "«12+» - для детей старше 12 лет",
          "«12+» - для детей старше 12 лет",
          "«12+» - для детей старше 12 лет",
          "«12+» - для детей старше 12 лет",
          "«12+» - для детей старше 12 лет",
          "«12+» - для детей старше 12 лет",
          "«12+» - для детей старше 12 лет",
          "«12+» - для детей старше 12 лет",
          "«12+» - для детей старше 12 лет",
          "«12+» - для детей старше 12 лет",
          "«12+» - для детей старше 12 лет",
          "«12+» - для детей старше 12 лет",
          "«12+» - для детей старше 12 лет",
          "«12+» - для детей старше 12 лет",
          "«12+» - для детей старше 12 лет",
          "«12+» - для детей старше 12 лет",
          "«12+» - для детей старше 12 лет",
          "«12+» - для детей старше 12 лет",
          "«12+» - для детей старше 12 лет",
          "«12+» - для детей старше 12 лет",
          "«12+» - для детей старше 12 лет",
          "«12+» - для детей старше 12 лет",
          "«12+» - для детей старше 12 лет",
          "«12+» - для детей старше 12 лет",
          "«12+» - для детей старше 12 лет",
          "«12+» - для детей старше 12 лет",
          "«12+» - для детей старше 12 лет",
          "«12+» - для детей старше 12 лет",
          "«12+» - для детей старше 12 лет",
          "«12+» - для детей старше 12 лет",
          "«12+» - для детей старше 12 лет",
          "«12+» - для детей старше 12 лет",
          "«12+» - для детей старше 12 лет",
          "«12+» - для детей старше 12 лет",
          "«12+» - для детей старше 12 лет",
          "«12+» - для детей старше 12 лет",
          "«12+» - для детей старше 12 лет",
          "«12+» - для детей старше 12 лет",
          "«12+» - для детей старше 12 лет",
          "«12+» - для детей старше 12 лет",
          "«12+» - для детей старше 12 лет",
          "«12+» - для детей старше 12 лет",
          "«12+» - для детей старше 12 лет",
          "«12+» - для детей старше 12 лет",
          "«12+» - для детей старше 12 лет",
          "«12+» - для детей старше 12 лет",
          "«12+» - для детей старше 12 лет",
          "«12+» - для детей старше 12 лет",
          "«12+» - для детей старше 12 лет",
          "«12+» - для детей старше 12 лет",
          "«12+» - для детей старше 12 лет",
          "«12+» - для детей старше 12 лет",
          "«12+» - для детей старше 12 лет",
          "«12+» - для детей старше 12 лет",
          "«12+» - для детей старше 12 лет",
          "«12+» - для детей старше 12 лет",
          "«12+» - для детей старше 12 лет",
          "«12+» - для детей старше 12 лет",
          "«12+» - для детей старше 12 лет",
          "«12+» - для детей старше 12 лет",
          "«12+» - для детей старше 12 лет",
          "«12+» - для детей старше 12 лет",
          "«12+» - для детей старше 12 лет",
          "«12+» - для детей старше 12 лет",
          "«12+» - для детей старше 12 лет",
          "«12+» - для детей старше 12 лет",
          "«12+» - для детей старше 12 лет",
          "«12+» - для детей старше 12 лет",
          "«12+» - для детей старше 12 лет",
          "«12+» - для детей старше 12 лет",
          "«12+» - для детей старше 12 лет",
          "«12+» - для детей старше 12 лет",
          "«12+» - для детей старше 12 лет",
          "«12+» - для детей старше 12 лет",
          "«12+» - для детей старше 12 лет",
          "«12+» - для детей старше 12 лет",
          "«12+» - для детей старше 12 лет",
          "«12+» - для детей старше 12 лет",
          "«12+» - для детей старше 12 лет",
          "«12+» - для детей старше 12 лет",
          "«12+» - для детей старше 12 лет",
          "«12+» - для детей старше 12 лет",
          "«12+» - для детей старше 12 лет",
          "«12+» - для детей старше 12 лет",
          "«12+» - для детей старше 12 лет",
          "«12+» - для детей старше 12 лет",
          "«12+» - для детей старше 12 лет",
          "«12+» - для детей старше 12 лет",
          "«12+» - для детей старше 12 лет",
          "«12+» - для детей старше 12 лет",
          "«12+» - для детей старше 12 лет",
          "«12+» - для детей старше 12 лет",
          "«12+» - для детей старше 12 лет",
          "«12+» - для детей старше 12 лет",
          "«12+» - для детей старше 12 лет",
          "«12+» - для детей старше 12 лет",
          "«12+» - для детей старше 12 лет",
          "«12+» - для детей старше 12 лет",
          "«12+» - для детей старше 12 лет",
          "«12+» - для детей старше 12 лет",
          "«12+» - для детей старше 12 лет",
          "«12+» - для детей старше 12 лет",
          "«12+» - для детей старше 12 лет",
          "«12+» - для детей старше 12 лет",
          "«12+» - для детей старше 12 лет",
          "«12+» - для детей старше 12 лет",
          "«12+» - для детей старше 12 лет",
          "«12+» - для детей старше 12 лет",
          "«12+» - для детей старше 12 лет",
          "«12+» - для детей старше 12 лет",
          "«12+» - для детей старше 12 лет",
          "«12+» - для детей старше 12 лет",
          "«12+» - для детей старше 12 лет",
          "«12+» - для детей старше 12 лет",
          "«12+» - для детей старше 12 лет",
          "«12+» - для детей старше 12 лет",
          "«16+» - для детей старше 16 лет",
          "«16+» - для детей старше 16 лет",
          "«16+» - для детей старше 16 лет",
          "«16+» - для детей старше 16 лет",
          "«16+» - для детей старше 16 лет",
          "«16+» - для детей старше 16 лет",
          "«16+» - для детей старше 16 лет",
          "«16+» - для детей старше 16 лет",
          "«16+» - для детей старше 16 лет",
          "«16+» - для детей старше 16 лет",
          "«16+» - для детей старше 16 лет",
          "«16+» - для детей старше 16 лет",
          "«16+» - для детей старше 16 лет",
          "«16+» - для детей старше 16 лет",
          "«16+» - для детей старше 16 лет",
          "«16+» - для детей старше 16 лет",
          "«16+» - для детей старше 16 лет",
          "«16+» - для детей старше 16 лет",
          "«16+» - для детей старше 16 лет",
          "«16+» - для детей старше 16 лет",
          "«16+» - для детей старше 16 лет",
          "«16+» - для детей старше 16 лет",
          "«16+» - для детей старше 16 лет",
          "«16+» - для детей старше 16 лет",
          "«16+» - для детей старше 16 лет",
          "«16+» - для детей старше 16 лет",
          "«16+» - для детей старше 16 лет",
          "«16+» - для детей старше 16 лет",
          "«16+» - для детей старше 16 лет",
          "«16+» - для детей старше 16 лет",
          "«16+» - для детей старше 16 лет",
          "«16+» - для детей старше 16 лет",
          "«16+» - для детей старше 16 лет",
          "«16+» - для детей старше 16 лет",
          "«16+» - для детей старше 16 лет",
          "«16+» - для детей старше 16 лет",
          "«16+» - для детей старше 16 лет",
          "«16+» - для детей старше 16 лет",
          "«16+» - для детей старше 16 лет",
          "«16+» - для детей старше 16 лет",
          "«16+» - для детей старше 16 лет",
          "«16+» - для детей старше 16 лет",
          "«16+» - для детей старше 16 лет",
          "«16+» - для детей старше 16 лет",
          "«16+» - для детей старше 16 лет",
          "«16+» - для детей старше 16 лет",
          "«16+» - для детей старше 16 лет",
          "«16+» - для детей старше 16 лет",
          "«16+» - для детей старше 16 лет",
          "«16+» - для детей старше 16 лет",
          "«16+» - для детей старше 16 лет",
          "«16+» - для детей старше 16 лет",
          "«16+» - для детей старше 16 лет",
          "«16+» - для детей старше 16 лет",
          "«16+» - для детей старше 16 лет",
          "«16+» - для детей старше 16 лет",
          "«16+» - для детей старше 16 лет",
          "«16+» - для детей старше 16 лет",
          "«16+» - для детей старше 16 лет",
          "«16+» - для детей старше 16 лет",
          "«16+» - для детей старше 16 лет",
          "«16+» - для детей старше 16 лет",
          "«16+» - для детей старше 16 лет",
          "«16+» - для детей старше 16 лет",
          "«16+» - для детей старше 16 лет",
          "«16+» - для детей старше 16 лет",
          "«16+» - для детей старше 16 лет",
          "«16+» - для детей старше 16 лет",
          "«16+» - для детей старше 16 лет",
          "«16+» - для детей старше 16 лет",
          "«16+» - для детей старше 16 лет",
          "«16+» - для детей старше 16 лет",
          "«16+» - для детей старше 16 лет",
          "«16+» - для детей старше 16 лет",
          "«16+» - для детей старше 16 лет",
          "«16+» - для детей старше 16 лет",
          "«16+» - для детей старше 16 лет",
          "«16+» - для детей старше 16 лет",
          "«16+» - для детей старше 16 лет",
          "«16+» - для детей старше 16 лет",
          "«16+» - для детей старше 16 лет",
          "«16+» - для детей старше 16 лет",
          "«16+» - для детей старше 16 лет",
          "«16+» - для детей старше 16 лет",
          "«16+» - для детей старше 16 лет",
          "«16+» - для детей старше 16 лет",
          "«16+» - для детей старше 16 лет",
          "«16+» - для детей старше 16 лет",
          "«16+» - для детей старше 16 лет",
          "«16+» - для детей старше 16 лет",
          "«16+» - для детей старше 16 лет",
          "«16+» - для детей старше 16 лет",
          "«16+» - для детей старше 16 лет",
          "«16+» - для детей старше 16 лет",
          "«16+» - для детей старше 16 лет",
          "«16+» - для детей старше 16 лет",
          "«16+» - для детей старше 16 лет",
          "«16+» - для детей старше 16 лет",
          "«16+» - для детей старше 16 лет",
          "«16+» - для детей старше 16 лет",
          "«16+» - для детей старше 16 лет",
          "«16+» - для детей старше 16 лет",
          "«16+» - для детей старше 16 лет",
          "«16+» - для детей старше 16 лет",
          "«16+» - для детей старше 16 лет",
          "«16+» - для детей старше 16 лет",
          "«16+» - для детей старше 16 лет",
          "«16+» - для детей старше 16 лет",
          "«16+» - для детей старше 16 лет",
          "«16+» - для детей старше 16 лет",
          "«16+» - для детей старше 16 лет",
          "«16+» - для детей старше 16 лет",
          "«16+» - для детей старше 16 лет",
          "«16+» - для детей старше 16 лет",
          "«16+» - для детей старше 16 лет",
          "«16+» - для детей старше 16 лет",
          "«16+» - для детей старше 16 лет",
          "«16+» - для детей старше 16 лет",
          "«16+» - для детей старше 16 лет",
          "«16+» - для детей старше 16 лет",
          "«16+» - для детей старше 16 лет",
          "«16+» - для детей старше 16 лет",
          "«16+» - для детей старше 16 лет",
          "«16+» - для детей старше 16 лет",
          "«16+» - для детей старше 16 лет",
          "«16+» - для детей старше 16 лет",
          "«16+» - для детей старше 16 лет",
          "«16+» - для детей старше 16 лет",
          "«16+» - для детей старше 16 лет",
          "«16+» - для детей старше 16 лет",
          "«16+» - для детей старше 16 лет",
          "«16+» - для детей старше 16 лет",
          "«16+» - для детей старше 16 лет",
          "«16+» - для детей старше 16 лет",
          "«16+» - для детей старше 16 лет",
          "«16+» - для детей старше 16 лет",
          "«16+» - для детей старше 16 лет",
          "«16+» - для детей старше 16 лет",
          "«16+» - для детей старше 16 лет",
          "«16+» - для детей старше 16 лет",
          "«16+» - для детей старше 16 лет",
          "«16+» - для детей старше 16 лет",
          "«16+» - для детей старше 16 лет",
          "«16+» - для детей старше 16 лет",
          "«16+» - для детей старше 16 лет",
          "«16+» - для детей старше 16 лет",
          "«16+» - для детей старше 16 лет",
          "«16+» - для детей старше 16 лет",
          "«16+» - для детей старше 16 лет",
          "«16+» - для детей старше 16 лет",
          "«16+» - для детей старше 16 лет",
          "«16+» - для детей старше 16 лет",
          "«16+» - для детей старше 16 лет",
          "«16+» - для детей старше 16 лет",
          "«16+» - для детей старше 16 лет",
          "«16+» - для детей старше 16 лет",
          "«16+» - для детей старше 16 лет",
          "«16+» - для детей старше 16 лет",
          "«16+» - для детей старше 16 лет",
          "«16+» - для детей старше 16 лет",
          "«16+» - для детей старше 16 лет",
          "«16+» - для детей старше 16 лет",
          "«16+» - для детей старше 16 лет",
          "«16+» - для детей старше 16 лет",
          "«16+» - для детей старше 16 лет",
          "«16+» - для детей старше 16 лет",
          "«16+» - для детей старше 16 лет",
          "«16+» - для детей старше 16 лет",
          "«16+» - для детей старше 16 лет",
          "«16+» - для детей старше 16 лет",
          "«16+» - для детей старше 16 лет",
          "«16+» - для детей старше 16 лет",
          "«16+» - для детей старше 16 лет",
          "«16+» - для детей старше 16 лет",
          "«16+» - для детей старше 16 лет",
          "«16+» - для детей старше 16 лет",
          "«16+» - для детей старше 16 лет",
          "«16+» - для детей старше 16 лет",
          "«16+» - для детей старше 16 лет",
          "«16+» - для детей старше 16 лет",
          "«16+» - для детей старше 16 лет",
          "«16+» - для детей старше 16 лет",
          "«16+» - для детей старше 16 лет",
          "«16+» - для детей старше 16 лет",
          "«16+» - для детей старше 16 лет",
          "«16+» - для детей старше 16 лет",
          "«16+» - для детей старше 16 лет",
          "«16+» - для детей старше 16 лет",
          "«16+» - для детей старше 16 лет",
          "«16+» - для детей старше 16 лет",
          "«16+» - для детей старше 16 лет",
          "«16+» - для детей старше 16 лет",
          "«16+» - для детей старше 16 лет",
          "«16+» - для детей старше 16 лет",
          "«16+» - для детей старше 16 лет",
          "«16+» - для детей старше 16 лет",
          "«16+» - для детей старше 16 лет",
          "«16+» - для детей старше 16 лет",
          "«16+» - для детей старше 16 лет",
          "«16+» - для детей старше 16 лет",
          "«16+» - для детей старше 16 лет",
          "«16+» - для детей старше 16 лет",
          "«16+» - для детей старше 16 лет",
          "«16+» - для детей старше 16 лет",
          "«16+» - для детей старше 16 лет",
          "«16+» - для детей старше 16 лет",
          "«16+» - для детей старше 16 лет",
          "«16+» - для детей старше 16 лет",
          "«16+» - для детей старше 16 лет",
          "«16+» - для детей старше 16 лет",
          "«16+» - для детей старше 16 лет",
          "«16+» - для детей старше 16 лет",
          "«16+» - для детей старше 16 лет",
          "«16+» - для детей старше 16 лет",
          "«16+» - для детей старше 16 лет",
          "«16+» - для детей старше 16 лет",
          "«16+» - для детей старше 16 лет",
          "«16+» - для детей старше 16 лет",
          "«16+» - для детей старше 16 лет",
          "«16+» - для детей старше 16 лет",
          "«16+» - для детей старше 16 лет",
          "«16+» - для детей старше 16 лет",
          "«16+» - для детей старше 16 лет",
          "«16+» - для детей старше 16 лет",
          "«16+» - для детей старше 16 лет",
          "«16+» - для детей старше 16 лет",
          "«16+» - для детей старше 16 лет",
          "«16+» - для детей старше 16 лет",
          "«16+» - для детей старше 16 лет",
          "«16+» - для детей старше 16 лет",
          "«16+» - для детей старше 16 лет",
          "«16+» - для детей старше 16 лет",
          "«16+» - для детей старше 16 лет",
          "«16+» - для детей старше 16 лет",
          "«16+» - для детей старше 16 лет",
          "«16+» - для детей старше 16 лет",
          "«16+» - для детей старше 16 лет",
          "«16+» - для детей старше 16 лет",
          "«16+» - для детей старше 16 лет",
          "«16+» - для детей старше 16 лет",
          "«16+» - для детей старше 16 лет",
          "«16+» - для детей старше 16 лет",
          "«16+» - для детей старше 16 лет",
          "«16+» - для детей старше 16 лет",
          "«16+» - для детей старше 16 лет",
          "«16+» - для детей старше 16 лет",
          "«16+» - для детей старше 16 лет",
          "«16+» - для детей старше 16 лет",
          "«16+» - для детей старше 16 лет",
          "«16+» - для детей старше 16 лет",
          "«16+» - для детей старше 16 лет",
          "«16+» - для детей старше 16 лет",
          "«16+» - для детей старше 16 лет",
          "«16+» - для детей старше 16 лет",
          "«16+» - для детей старше 16 лет",
          "«16+» - для детей старше 16 лет",
          "«16+» - для детей старше 16 лет",
          "«16+» - для детей старше 16 лет",
          "«16+» - для детей старше 16 лет",
          "«16+» - для детей старше 16 лет",
          "«16+» - для детей старше 16 лет",
          "«16+» - для детей старше 16 лет",
          "«16+» - для детей старше 16 лет",
          "«16+» - для детей старше 16 лет",
          "«16+» - для детей старше 16 лет",
          "«16+» - для детей старше 16 лет",
          "«16+» - для детей старше 16 лет",
          "«16+» - для детей старше 16 лет",
          "«16+» - для детей старше 16 лет",
          "«16+» - для детей старше 16 лет",
          "«16+» - для детей старше 16 лет",
          "«16+» - для детей старше 16 лет",
          "«16+» - для детей старше 16 лет",
          "«16+» - для детей старше 16 лет",
          "«16+» - для детей старше 16 лет",
          "«16+» - для детей старше 16 лет",
          "«16+» - для детей старше 16 лет",
          "«16+» - для детей старше 16 лет",
          "«16+» - для детей старше 16 лет",
          "«16+» - для детей старше 16 лет",
          "«16+» - для детей старше 16 лет",
          "«16+» - для детей старше 16 лет",
          "«16+» - для детей старше 16 лет",
          "«16+» - для детей старше 16 лет",
          "«16+» - для детей старше 16 лет",
          "«16+» - для детей старше 16 лет",
          "«16+» - для детей старше 16 лет",
          "«16+» - для детей старше 16 лет",
          "«16+» - для детей старше 16 лет",
          "«16+» - для детей старше 16 лет",
          "«16+» - для детей старше 16 лет",
          "«16+» - для детей старше 16 лет",
          "«16+» - для детей старше 16 лет",
          "«16+» - для детей старше 16 лет",
          "«16+» - для детей старше 16 лет",
          "«16+» - для детей старше 16 лет",
          "«16+» - для детей старше 16 лет",
          "«16+» - для детей старше 16 лет",
          "«16+» - для детей старше 16 лет",
          "«16+» - для детей старше 16 лет",
          "«16+» - для детей старше 16 лет",
          "«16+» - для детей старше 16 лет",
          "«16+» - для детей старше 16 лет",
          "«16+» - для детей старше 16 лет",
          "«16+» - для детей старше 16 лет",
          "«16+» - для детей старше 16 лет",
          "«16+» - для детей старше 16 лет",
          "«16+» - для детей старше 16 лет",
          "«16+» - для детей старше 16 лет",
          "«16+» - для детей старше 16 лет",
          "«16+» - для детей старше 16 лет",
          "«16+» - для детей старше 16 лет",
          "«16+» - для детей старше 16 лет",
          "«16+» - для детей старше 16 лет",
          "«16+» - для детей старше 16 лет",
          "«16+» - для детей старше 16 лет",
          "«16+» - для детей старше 16 лет",
          "«16+» - для детей старше 16 лет",
          "«16+» - для детей старше 16 лет",
          "«16+» - для детей старше 16 лет",
          "«16+» - для детей старше 16 лет",
          "«16+» - для детей старше 16 лет",
          "«16+» - для детей старше 16 лет",
          "«16+» - для детей старше 16 лет",
          "«16+» - для детей старше 16 лет",
          "«16+» - для детей старше 16 лет",
          "«16+» - для детей старше 16 лет",
          "«16+» - для детей старше 16 лет",
          "«16+» - для детей старше 16 лет",
          "«16+» - для детей старше 16 лет",
          "«16+» - для детей старше 16 лет",
          "«16+» - для детей старше 16 лет",
          "«16+» - для детей старше 16 лет",
          "«16+» - для детей старше 16 лет",
          "«16+» - для детей старше 16 лет",
          "«16+» - для детей старше 16 лет",
          "«16+» - для детей старше 16 лет",
          "«16+» - для детей старше 16 лет",
          "«16+» - для детей старше 16 лет",
          "«16+» - для детей старше 16 лет",
          "«16+» - для детей старше 16 лет",
          "«16+» - для детей старше 16 лет",
          "«16+» - для детей старше 16 лет",
          "«16+» - для детей старше 16 лет",
          "«16+» - для детей старше 16 лет",
          "«16+» - для детей старше 16 лет",
          "«16+» - для детей старше 16 лет",
          "«16+» - для детей старше 16 лет",
          "«16+» - для детей старше 16 лет",
          "«16+» - для детей старше 16 лет",
          "«16+» - для детей старше 16 лет",
          "«16+» - для детей старше 16 лет",
          "«16+» - для детей старше 16 лет",
          "«16+» - для детей старше 16 лет",
          "«16+» - для детей старше 16 лет",
          "«16+» - для детей старше 16 лет",
          "«16+» - для детей старше 16 лет",
          "«16+» - для детей старше 16 лет",
          "«16+» - для детей старше 16 лет",
          "«16+» - для детей старше 16 лет",
          "«16+» - для детей старше 16 лет",
          "«16+» - для детей старше 16 лет",
          "«16+» - для детей старше 16 лет",
          "«16+» - для детей старше 16 лет",
          "«16+» - для детей старше 16 лет",
          "«16+» - для детей старше 16 лет",
          "«16+» - для детей старше 16 лет",
          "«16+» - для детей старше 16 лет",
          "«16+» - для детей старше 16 лет",
          "«16+» - для детей старше 16 лет",
          "«16+» - для детей старше 16 лет",
          "«16+» - для детей старше 16 лет",
          "«16+» - для детей старше 16 лет",
          "«16+» - для детей старше 16 лет",
          "«16+» - для детей старше 16 лет",
          "«16+» - для детей старше 16 лет",
          "«16+» - для детей старше 16 лет",
          "«16+» - для детей старше 16 лет",
          "«16+» - для детей старше 16 лет",
          "«16+» - для детей старше 16 лет",
          "«16+» - для детей старше 16 лет",
          "«16+» - для детей старше 16 лет",
          "«16+» - для детей старше 16 лет",
          "«16+» - для детей старше 16 лет",
          "«16+» - для детей старше 16 лет",
          "«16+» - для детей старше 16 лет",
          "«16+» - для детей старше 16 лет",
          "«16+» - для детей старше 16 лет",
          "«16+» - для детей старше 16 лет",
          "«16+» - для детей старше 16 лет",
          "«16+» - для детей старше 16 лет",
          "«16+» - для детей старше 16 лет",
          "«16+» - для детей старше 16 лет",
          "«16+» - для детей старше 16 лет",
          "«16+» - для детей старше 16 лет",
          "«16+» - для детей старше 16 лет",
          "«16+» - для детей старше 16 лет",
          "«16+» - для детей старше 16 лет",
          "«16+» - для детей старше 16 лет",
          "«16+» - для детей старше 16 лет",
          "«16+» - для детей старше 16 лет",
          "«16+» - для детей старше 16 лет",
          "«16+» - для детей старше 16 лет",
          "«16+» - для детей старше 16 лет",
          "«16+» - для детей старше 16 лет",
          "«16+» - для детей старше 16 лет",
          "«16+» - для детей старше 16 лет",
          "«16+» - для детей старше 16 лет",
          "«16+» - для детей старше 16 лет",
          "«16+» - для детей старше 16 лет",
          "«16+» - для детей старше 16 лет",
          "«16+» - для детей старше 16 лет",
          "«16+» - для детей старше 16 лет",
          "«16+» - для детей старше 16 лет",
          "«16+» - для детей старше 16 лет",
          "«16+» - для детей старше 16 лет",
          "«16+» - для детей старше 16 лет",
          "«16+» - для детей старше 16 лет",
          "«16+» - для детей старше 16 лет",
          "«16+» - для детей старше 16 лет",
          "«16+» - для детей старше 16 лет",
          "«16+» - для детей старше 16 лет",
          "«16+» - для детей старше 16 лет",
          "«16+» - для детей старше 16 лет",
          "«16+» - для детей старше 16 лет",
          "«16+» - для детей старше 16 лет",
          "«16+» - для детей старше 16 лет",
          "«16+» - для детей старше 16 лет",
          "«16+» - для детей старше 16 лет",
          "«16+» - для детей старше 16 лет",
          "«16+» - для детей старше 16 лет",
          "«16+» - для детей старше 16 лет",
          "«16+» - для детей старше 16 лет",
          "«16+» - для детей старше 16 лет",
          "«16+» - для детей старше 16 лет",
          "«16+» - для детей старше 16 лет",
          "«16+» - для детей старше 16 лет",
          "«16+» - для детей старше 16 лет",
          "«16+» - для детей старше 16 лет",
          "«16+» - для детей старше 16 лет",
          "«16+» - для детей старше 16 лет",
          "«16+» - для детей старше 16 лет",
          "«16+» - для детей старше 16 лет",
          "«16+» - для детей старше 16 лет",
          "«16+» - для детей старше 16 лет",
          "«16+» - для детей старше 16 лет",
          "«16+» - для детей старше 16 лет",
          "«16+» - для детей старше 16 лет",
          "«16+» - для детей старше 16 лет",
          "«16+» - для детей старше 16 лет",
          "«16+» - для детей старше 16 лет",
          "«16+» - для детей старше 16 лет",
          "«16+» - для детей старше 16 лет",
          "«16+» - для детей старше 16 лет",
          "«16+» - для детей старше 16 лет",
          "«16+» - для детей старше 16 лет",
          "«16+» - для детей старше 16 лет",
          "«16+» - для детей старше 16 лет",
          "«16+» - для детей старше 16 лет",
          "«16+» - для детей старше 16 лет",
          "«16+» - для детей старше 16 лет",
          "«16+» - для детей старше 16 лет",
          "«16+» - для детей старше 16 лет",
          "«16+» - для детей старше 16 лет",
          "«16+» - для детей старше 16 лет",
          "«16+» - для детей старше 16 лет",
          "«16+» - для детей старше 16 лет",
          "«16+» - для детей старше 16 лет",
          "«16+» - для детей старше 16 лет",
          "«16+» - для детей старше 16 лет",
          "«16+» - для детей старше 16 лет",
          "«16+» - для детей старше 16 лет",
          "«16+» - для детей старше 16 лет",
          "«16+» - для детей старше 16 лет",
          "«16+» - для детей старше 16 лет",
          "«16+» - для детей старше 16 лет",
          "«16+» - для детей старше 16 лет",
          "«16+» - для детей старше 16 лет",
          "«16+» - для детей старше 16 лет",
          "«16+» - для детей старше 16 лет",
          "«16+» - для детей старше 16 лет",
          "«16+» - для детей старше 16 лет",
          "«16+» - для детей старше 16 лет",
          "«16+» - для детей старше 16 лет",
          "«16+» - для детей старше 16 лет",
          "«16+» - для детей старше 16 лет",
          "«16+» - для детей старше 16 лет",
          "«16+» - для детей старше 16 лет",
          "«16+» - для детей старше 16 лет",
          "«16+» - для детей старше 16 лет",
          "«16+» - для детей старше 16 лет",
          "«16+» - для детей старше 16 лет",
          "«16+» - для детей старше 16 лет",
          "«16+» - для детей старше 16 лет",
          "«16+» - для детей старше 16 лет",
          "«16+» - для детей старше 16 лет",
          "«16+» - для детей старше 16 лет",
          "«16+» - для детей старше 16 лет",
          "«16+» - для детей старше 16 лет",
          "«16+» - для детей старше 16 лет",
          "«16+» - для детей старше 16 лет",
          "«16+» - для детей старше 16 лет",
          "«16+» - для детей старше 16 лет",
          "«16+» - для детей старше 16 лет",
          "«16+» - для детей старше 16 лет",
          "«16+» - для детей старше 16 лет",
          "«16+» - для детей старше 16 лет",
          "«16+» - для детей старше 16 лет",
          "«16+» - для детей старше 16 лет",
          "«16+» - для детей старше 16 лет",
          "«16+» - для детей старше 16 лет",
          "«16+» - для детей старше 16 лет",
          "«16+» - для детей старше 16 лет",
          "«16+» - для детей старше 16 лет",
          "«16+» - для детей старше 16 лет",
          "«16+» - для детей старше 16 лет",
          "«16+» - для детей старше 16 лет",
          "«16+» - для детей старше 16 лет",
          "«16+» - для детей старше 16 лет",
          "«16+» - для детей старше 16 лет",
          "«16+» - для детей старше 16 лет",
          "«16+» - для детей старше 16 лет",
          "«16+» - для детей старше 16 лет",
          "«16+» - для детей старше 16 лет",
          "«16+» - для детей старше 16 лет",
          "«16+» - для детей старше 16 лет",
          "«16+» - для детей старше 16 лет",
          "«16+» - для детей старше 16 лет",
          "«16+» - для детей старше 16 лет",
          "«16+» - для детей старше 16 лет",
          "«16+» - для детей старше 16 лет",
          "«16+» - для детей старше 16 лет",
          "«16+» - для детей старше 16 лет",
          "«16+» - для детей старше 16 лет",
          "«16+» - для детей старше 16 лет",
          "«16+» - для детей старше 16 лет",
          "«16+» - для детей старше 16 лет",
          "«16+» - для детей старше 16 лет",
          "«16+» - для детей старше 16 лет",
          "«16+» - для детей старше 16 лет",
          "«16+» - для детей старше 16 лет",
          "«16+» - для детей старше 16 лет",
          "«16+» - для детей старше 16 лет",
          "«16+» - для детей старше 16 лет",
          "«16+» - для детей старше 16 лет",
          "«16+» - для детей старше 16 лет",
          "«16+» - для детей старше 16 лет",
          "«16+» - для детей старше 16 лет",
          "«16+» - для детей старше 16 лет",
          "«16+» - для детей старше 16 лет",
          "«16+» - для детей старше 16 лет",
          "«16+» - для детей старше 16 лет",
          "«16+» - для детей старше 16 лет",
          "«16+» - для детей старше 16 лет",
          "«16+» - для детей старше 16 лет",
          "«16+» - для детей старше 16 лет",
          "«16+» - для детей старше 16 лет",
          "«16+» - для детей старше 16 лет",
          "«16+» - для детей старше 16 лет",
          "«16+» - для детей старше 16 лет",
          "«16+» - для детей старше 16 лет",
          "«16+» - для детей старше 16 лет",
          "«16+» - для детей старше 16 лет",
          "«16+» - для детей старше 16 лет",
          "«16+» - для детей старше 16 лет",
          "«16+» - для детей старше 16 лет",
          "«16+» - для детей старше 16 лет",
          "«16+» - для детей старше 16 лет",
          "«16+» - для детей старше 16 лет",
          "«16+» - для детей старше 16 лет",
          "«16+» - для детей старше 16 лет",
          "«16+» - для детей старше 16 лет",
          "«16+» - для детей старше 16 лет",
          "«16+» - для детей старше 16 лет",
          "«16+» - для детей старше 16 лет",
          "«16+» - для детей старше 16 лет",
          "«16+» - для детей старше 16 лет",
          "«16+» - для детей старше 16 лет",
          "«16+» - для детей старше 16 лет",
          "«16+» - для детей старше 16 лет",
          "«16+» - для детей старше 16 лет",
          "«16+» - для детей старше 16 лет",
          "«16+» - для детей старше 16 лет",
          "«16+» - для детей старше 16 лет",
          "«16+» - для детей старше 16 лет",
          "«16+» - для детей старше 16 лет",
          "«16+» - для детей старше 16 лет",
          "«16+» - для детей старше 16 лет",
          "«16+» - для детей старше 16 лет",
          "«16+» - для детей старше 16 лет",
          "«16+» - для детей старше 16 лет",
          "«16+» - для детей старше 16 лет",
          "«16+» - для детей старше 16 лет",
          "«16+» - для детей старше 16 лет",
          "«16+» - для детей старше 16 лет",
          "«16+» - для детей старше 16 лет",
          "«16+» - для детей старше 16 лет",
          "«16+» - для детей старше 16 лет",
          "«16+» - для детей старше 16 лет",
          "«16+» - для детей старше 16 лет",
          "«16+» - для детей старше 16 лет",
          "«16+» - для детей старше 16 лет",
          "«16+» - для детей старше 16 лет",
          "«16+» - для детей старше 16 лет",
          "«16+» - для детей старше 16 лет",
          "«16+» - для детей старше 16 лет",
          "«16+» - для детей старше 16 лет",
          "«16+» - для детей старше 16 лет",
          "«16+» - для детей старше 16 лет",
          "«16+» - для детей старше 16 лет",
          "«16+» - для детей старше 16 лет",
          "«16+» - для детей старше 16 лет",
          "«16+» - для детей старше 16 лет",
          "«16+» - для детей старше 16 лет",
          "«16+» - для детей старше 16 лет",
          "«16+» - для детей старше 16 лет",
          "«16+» - для детей старше 16 лет",
          "«16+» - для детей старше 16 лет",
          "«16+» - для детей старше 16 лет",
          "«16+» - для детей старше 16 лет",
          "«16+» - для детей старше 16 лет",
          "«16+» - для детей старше 16 лет",
          "«16+» - для детей старше 16 лет",
          "«16+» - для детей старше 16 лет",
          "«16+» - для детей старше 16 лет",
          "«16+» - для детей старше 16 лет",
          "«16+» - для детей старше 16 лет",
          "«16+» - для детей старше 16 лет",
          "«16+» - для детей старше 16 лет",
          "«16+» - для детей старше 16 лет",
          "«16+» - для детей старше 16 лет",
          "«16+» - для детей старше 16 лет",
          "«16+» - для детей старше 16 лет",
          "«16+» - для детей старше 16 лет",
          "«16+» - для детей старше 16 лет",
          "«16+» - для детей старше 16 лет",
          "«16+» - для детей старше 16 лет",
          "«16+» - для детей старше 16 лет",
          "«16+» - для детей старше 16 лет",
          "«16+» - для детей старше 16 лет",
          "«16+» - для детей старше 16 лет",
          "«16+» - для детей старше 16 лет",
          "«16+» - для детей старше 16 лет",
          "«16+» - для детей старше 16 лет",
          "«16+» - для детей старше 16 лет",
          "«16+» - для детей старше 16 лет",
          "«16+» - для детей старше 16 лет",
          "«16+» - для детей старше 16 лет",
          "«16+» - для детей старше 16 лет",
          "«16+» - для детей старше 16 лет",
          "«16+» - для детей старше 16 лет",
          "«16+» - для детей старше 16 лет",
          "«16+» - для детей старше 16 лет",
          "«16+» - для детей старше 16 лет",
          "«16+» - для детей старше 16 лет",
          "«16+» - для детей старше 16 лет",
          "«16+» - для детей старше 16 лет",
          "«16+» - для детей старше 16 лет",
          "«16+» - для детей старше 16 лет",
          "«16+» - для детей старше 16 лет",
          "«16+» - для детей старше 16 лет",
          "«16+» - для детей старше 16 лет",
          "«16+» - для детей старше 16 лет",
          "«16+» - для детей старше 16 лет",
          "«16+» - для детей старше 16 лет",
          "«16+» - для детей старше 16 лет",
          "«16+» - для детей старше 16 лет",
          "«16+» - для детей старше 16 лет",
          "«16+» - для детей старше 16 лет",
          "«16+» - для детей старше 16 лет",
          "«16+» - для детей старше 16 лет",
          "«16+» - для детей старше 16 лет",
          "«16+» - для детей старше 16 лет",
          "«16+» - для детей старше 16 лет",
          "«16+» - для детей старше 16 лет",
          "«16+» - для детей старше 16 лет",
          "«16+» - для детей старше 16 лет",
          "«16+» - для детей старше 16 лет",
          "«16+» - для детей старше 16 лет",
          "«16+» - для детей старше 16 лет",
          "«16+» - для детей старше 16 лет",
          "«16+» - для детей старше 16 лет",
          "«16+» - для детей старше 16 лет",
          "«16+» - для детей старше 16 лет",
          "«16+» - для детей старше 16 лет",
          "«16+» - для детей старше 16 лет",
          "«16+» - для детей старше 16 лет",
          "«16+» - для детей старше 16 лет",
          "«16+» - для детей старше 16 лет",
          "«16+» - для детей старше 16 лет",
          "«16+» - для детей старше 16 лет",
          "«16+» - для детей старше 16 лет",
          "«16+» - для детей старше 16 лет",
          "«16+» - для детей старше 16 лет",
          "«16+» - для детей старше 16 лет",
          "«16+» - для детей старше 16 лет",
          "«16+» - для детей старше 16 лет",
          "«16+» - для детей старше 16 лет",
          "«16+» - для детей старше 16 лет",
          "«16+» - для детей старше 16 лет",
          "«16+» - для детей старше 16 лет",
          "«16+» - для детей старше 16 лет",
          "«16+» - для детей старше 16 лет",
          "«16+» - для детей старше 16 лет",
          "«16+» - для детей старше 16 лет",
          "«16+» - для детей старше 16 лет",
          "«16+» - для детей старше 16 лет",
          "«16+» - для детей старше 16 лет",
          "«16+» - для детей старше 16 лет",
          "«16+» - для детей старше 16 лет",
          "«16+» - для детей старше 16 лет",
          "«16+» - для детей старше 16 лет",
          "«16+» - для детей старше 16 лет",
          "«16+» - для детей старше 16 лет",
          "«16+» - для детей старше 16 лет",
          "«16+» - для детей старше 16 лет",
          "«16+» - для детей старше 16 лет",
          "«16+» - для детей старше 16 лет",
          "«16+» - для детей старше 16 лет",
          "«16+» - для детей старше 16 лет",
          "«16+» - для детей старше 16 лет",
          "«16+» - для детей старше 16 лет",
          "«16+» - для детей старше 16 лет",
          "«16+» - для детей старше 16 лет",
          "«16+» - для детей старше 16 лет",
          "«16+» - для детей старше 16 лет",
          "«16+» - для детей старше 16 лет",
          "«16+» - для детей старше 16 лет",
          "«16+» - для детей старше 16 лет",
          "«16+» - для детей старше 16 лет",
          "«16+» - для детей старше 16 лет",
          "«16+» - для детей старше 16 лет",
          "«16+» - для детей старше 16 лет",
          "«16+» - для детей старше 16 лет",
          "«16+» - для детей старше 16 лет",
          "«16+» - для детей старше 16 лет",
          "«16+» - для детей старше 16 лет",
          "«16+» - для детей старше 16 лет",
          "«16+» - для детей старше 16 лет",
          "«16+» - для детей старше 16 лет",
          "«16+» - для детей старше 16 лет",
          "«16+» - для детей старше 16 лет",
          "«16+» - для детей старше 16 лет",
          "«16+» - для детей старше 16 лет",
          "«16+» - для детей старше 16 лет",
          "«16+» - для детей старше 16 лет",
          "«16+» - для детей старше 16 лет",
          "«16+» - для детей старше 16 лет",
          "«16+» - для детей старше 16 лет",
          "«16+» - для детей старше 16 лет",
          "«16+» - для детей старше 16 лет",
          "«16+» - для детей старше 16 лет",
          "«16+» - для детей старше 16 лет",
          "«18+» - запрещено для детей",
          "«18+» - запрещено для детей",
          "«18+» - запрещено для детей",
          "«18+» - запрещено для детей",
          "«18+» - запрещено для детей",
          "«18+» - запрещено для детей",
          "«18+» - запрещено для детей",
          "«18+» - запрещено для детей",
          "«18+» - запрещено для детей",
          "«18+» - запрещено для детей",
          "«18+» - запрещено для детей",
          "«18+» - запрещено для детей",
          "«18+» - запрещено для детей",
          "«18+» - запрещено для детей",
          "«18+» - запрещено для детей",
          "«18+» - запрещено для детей",
          "«18+» - запрещено для детей",
          "«18+» - запрещено для детей",
          "«18+» - запрещено для детей",
          "«18+» - запрещено для детей",
          "«18+» - запрещено для детей",
          "«18+» - запрещено для детей",
          "«18+» - запрещено для детей",
          "«18+» - запрещено для детей",
          "«18+» - запрещено для детей",
          "«18+» - запрещено для детей",
          "«18+» - запрещено для детей",
          "«18+» - запрещено для детей",
          "«18+» - запрещено для детей",
          "«18+» - запрещено для детей",
          "«18+» - запрещено для детей",
          "«18+» - запрещено для детей",
          "«18+» - запрещено для детей",
          "«18+» - запрещено для детей",
          "«18+» - запрещено для детей",
          "«18+» - запрещено для детей",
          "«18+» - запрещено для детей",
          "«18+» - запрещено для детей",
          "«18+» - запрещено для детей",
          "«18+» - запрещено для детей",
          "«18+» - запрещено для детей",
          "«18+» - запрещено для детей",
          "«18+» - запрещено для детей",
          "«18+» - запрещено для детей",
          "«18+» - запрещено для детей",
          "«18+» - запрещено для детей",
          "«18+» - запрещено для детей",
          "«18+» - запрещено для детей",
          "«18+» - запрещено для детей",
          "«18+» - запрещено для детей",
          "«18+» - запрещено для детей",
          "«18+» - запрещено для детей",
          "«18+» - запрещено для детей",
          "«18+» - запрещено для детей",
          "«18+» - запрещено для детей",
          "«18+» - запрещено для детей",
          "«18+» - запрещено для детей",
          "«18+» - запрещено для детей",
          "«18+» - запрещено для детей",
          "«18+» - запрещено для детей",
          "«18+» - запрещено для детей",
          "«18+» - запрещено для детей",
          "«18+» - запрещено для детей",
          "«18+» - запрещено для детей",
          "«18+» - запрещено для детей",
          "«18+» - запрещено для детей",
          "«18+» - запрещено для детей",
          "«18+» - запрещено для детей",
          "«18+» - запрещено для детей",
          "«18+» - запрещено для детей",
          "«18+» - запрещено для детей",
          "«18+» - запрещено для детей",
          "«18+» - запрещено для детей",
          "«18+» - запрещено для детей",
          "«18+» - запрещено для детей",
          "«18+» - запрещено для детей",
          "«18+» - запрещено для детей",
          "«18+» - запрещено для детей",
          "«18+» - запрещено для детей",
          "«18+» - запрещено для детей",
          "«18+» - запрещено для детей",
          "«18+» - запрещено для детей",
          "«18+» - запрещено для детей",
          "«18+» - запрещено для детей",
          "«18+» - запрещено для детей",
          "«18+» - запрещено для детей",
          "«18+» - запрещено для детей",
          "«18+» - запрещено для детей",
          "«18+» - запрещено для детей",
          "«18+» - запрещено для детей",
          "«18+» - запрещено для детей",
          "«18+» - запрещено для детей",
          "«18+» - запрещено для детей",
          "«18+» - запрещено для детей",
          "«18+» - запрещено для детей",
          "«18+» - запрещено для детей",
          "«18+» - запрещено для детей",
          "«18+» - запрещено для детей",
          "«18+» - запрещено для детей",
          "«18+» - запрещено для детей",
          "«18+» - запрещено для детей",
          "«18+» - запрещено для детей",
          "«18+» - запрещено для детей",
          "«18+» - запрещено для детей",
          "«18+» - запрещено для детей",
          "«18+» - запрещено для детей",
          "«18+» - запрещено для детей",
          "«18+» - запрещено для детей",
          "«18+» - запрещено для детей",
          "«18+» - запрещено для детей",
          "«18+» - запрещено для детей",
          "«18+» - запрещено для детей",
          "«18+» - запрещено для детей",
          "«18+» - запрещено для детей",
          "«18+» - запрещено для детей",
          "«18+» - запрещено для детей",
          "«18+» - запрещено для детей",
          "«18+» - запрещено для детей",
          "«18+» - запрещено для детей",
          "«18+» - запрещено для детей",
          "«18+» - запрещено для детей",
          "«18+» - запрещено для детей",
          "«18+» - запрещено для детей",
          "«18+» - запрещено для детей",
          "«18+» - запрещено для детей",
          "«18+» - запрещено для детей",
          "«18+» - запрещено для детей",
          "«18+» - запрещено для детей",
          "«18+» - запрещено для детей",
          "«18+» - запрещено для детей",
          "«18+» - запрещено для детей",
          "«18+» - запрещено для детей",
          "«18+» - запрещено для детей",
          "«18+» - запрещено для детей",
          "«18+» - запрещено для детей",
          "«18+» - запрещено для детей",
          "«18+» - запрещено для детей",
          "«18+» - запрещено для детей",
          "«18+» - запрещено для детей",
          "«18+» - запрещено для детей",
          "«18+» - запрещено для детей",
          "«18+» - запрещено для детей",
          "«18+» - запрещено для детей",
          "«18+» - запрещено для детей",
          "«18+» - запрещено для детей",
          "«18+» - запрещено для детей",
          "«18+» - запрещено для детей",
          "«18+» - запрещено для детей",
          "«18+» - запрещено для детей",
          "«18+» - запрещено для детей",
          "«18+» - запрещено для детей",
          "«18+» - запрещено для детей",
          "«18+» - запрещено для детей",
          "«18+» - запрещено для детей",
          "«18+» - запрещено для детей",
          "«18+» - запрещено для детей",
          "«18+» - запрещено для детей",
          "«18+» - запрещено для детей",
          "«18+» - запрещено для детей",
          "«18+» - запрещено для детей",
          "«18+» - запрещено для детей",
          "«18+» - запрещено для детей",
          "«18+» - запрещено для детей",
          "«18+» - запрещено для детей",
          "«18+» - запрещено для детей",
          "«18+» - запрещено для детей",
          "«18+» - запрещено для детей",
          "«18+» - запрещено для детей",
          "«18+» - запрещено для детей",
          "«18+» - запрещено для детей",
          "«18+» - запрещено для детей",
          "«18+» - запрещено для детей",
          "«18+» - запрещено для детей",
          "«18+» - запрещено для детей",
          "«18+» - запрещено для детей",
          "«18+» - запрещено для детей",
          "«18+» - запрещено для детей",
          "«18+» - запрещено для детей",
          "«18+» - запрещено для детей",
          "«18+» - запрещено для детей",
          "«18+» - запрещено для детей",
          "«18+» - запрещено для детей",
          "«18+» - запрещено для детей",
          "«18+» - запрещено для детей",
          "«18+» - запрещено для детей",
          "«18+» - запрещено для детей",
          "«18+» - запрещено для детей",
          "«18+» - запрещено для детей",
          "«18+» - запрещено для детей",
          "«18+» - запрещено для детей",
          "«18+» - запрещено для детей",
          "«18+» - запрещено для детей",
          "«18+» - запрещено для детей",
          "«18+» - запрещено для детей",
          "«18+» - запрещено для детей",
          "«18+» - запрещено для детей",
          "«18+» - запрещено для детей",
          "«18+» - запрещено для детей",
          "«18+» - запрещено для детей",
          "«18+» - запрещено для детей",
          "«18+» - запрещено для детей",
          "«18+» - запрещено для детей",
          "«18+» - запрещено для детей",
          "«18+» - запрещено для детей",
          "«18+» - запрещено для детей",
          "«18+» - запрещено для детей",
          "«18+» - запрещено для детей",
          "«18+» - запрещено для детей",
          "«18+» - запрещено для детей",
          "«18+» - запрещено для детей",
          "«18+» - запрещено для детей",
          "«18+» - запрещено для детей",
          "«18+» - запрещено для детей",
          "«18+» - запрещено для детей",
          "«18+» - запрещено для детей",
          "«18+» - запрещено для детей",
          "«18+» - запрещено для детей",
          "«18+» - запрещено для детей",
          "«18+» - запрещено для детей",
          "«18+» - запрещено для детей",
          "«18+» - запрещено для детей",
          "«18+» - запрещено для детей",
          "«18+» - запрещено для детей",
          "«18+» - запрещено для детей",
          "«18+» - запрещено для детей",
          "«18+» - запрещено для детей",
          "«18+» - запрещено для детей",
          "«18+» - запрещено для детей",
          "«18+» - запрещено для детей",
          "«18+» - запрещено для детей",
          "«18+» - запрещено для детей",
          "«18+» - запрещено для детей",
          "«18+» - запрещено для детей",
          "«18+» - запрещено для детей",
          "«18+» - запрещено для детей",
          "«18+» - запрещено для детей",
          "«18+» - запрещено для детей",
          "«18+» - запрещено для детей",
          "«18+» - запрещено для детей",
          "«18+» - запрещено для детей",
          "«18+» - запрещено для детей",
          "«18+» - запрещено для детей",
          "«18+» - запрещено для детей",
          "«18+» - запрещено для детей",
          "«18+» - запрещено для детей",
          "«18+» - запрещено для детей",
          "«18+» - запрещено для детей",
          "«18+» - запрещено для детей",
          "«18+» - запрещено для детей",
          "«18+» - запрещено для детей",
          "«18+» - запрещено для детей",
          "«18+» - запрещено для детей",
          "«18+» - запрещено для детей",
          "«18+» - запрещено для детей",
          "«18+» - запрещено для детей",
          "«18+» - запрещено для детей",
          "«18+» - запрещено для детей",
          "«18+» - запрещено для детей",
          "«18+» - запрещено для детей",
          "«18+» - запрещено для детей",
          "«18+» - запрещено для детей",
          "«18+» - запрещено для детей",
          "«18+» - запрещено для детей",
          "«18+» - запрещено для детей",
          "«18+» - запрещено для детей",
          "«18+» - запрещено для детей",
          "«18+» - запрещено для детей",
          "«18+» - запрещено для детей",
          "«18+» - запрещено для детей",
          "«18+» - запрещено для детей",
          "«18+» - запрещено для детей",
          "«18+» - запрещено для детей",
          "«18+» - запрещено для детей",
          "«18+» - запрещено для детей",
          "«18+» - запрещено для детей",
          "«18+» - запрещено для детей",
          "«18+» - запрещено для детей",
          "«18+» - запрещено для детей",
          "«18+» - запрещено для детей",
          "«18+» - запрещено для детей",
          "«18+» - запрещено для детей",
          "«18+» - запрещено для детей",
          "«18+» - запрещено для детей",
          "«18+» - запрещено для детей",
          "«18+» - запрещено для детей",
          "«18+» - запрещено для детей",
          "«18+» - запрещено для детей",
          "«18+» - запрещено для детей",
          "«18+» - запрещено для детей",
          "«18+» - запрещено для детей",
          "«18+» - запрещено для детей",
          "«18+» - запрещено для детей",
          "«18+» - запрещено для детей",
          "«18+» - запрещено для детей",
          "«18+» - запрещено для детей",
          "«18+» - запрещено для детей",
          "«18+» - запрещено для детей",
          "«18+» - запрещено для детей",
          "«18+» - запрещено для детей",
          "«18+» - запрещено для детей",
          "«18+» - запрещено для детей",
          "«18+» - запрещено для детей",
          "«18+» - запрещено для детей",
          "«18+» - запрещено для детей",
          "«18+» - запрещено для детей",
          "«18+» - запрещено для детей",
          "«18+» - запрещено для детей",
          "«18+» - запрещено для детей",
          "«18+» - запрещено для детей",
          "«18+» - запрещено для детей",
          "«18+» - запрещено для детей",
          "«18+» - запрещено для детей",
          "«18+» - запрещено для детей",
          "«18+» - запрещено для детей",
          "«18+» - запрещено для детей",
          "«18+» - запрещено для детей",
          "«18+» - запрещено для детей",
          "«18+» - запрещено для детей",
          "«18+» - запрещено для детей",
          "«18+» - запрещено для детей",
          "«18+» - запрещено для детей",
          "«18+» - запрещено для детей",
          "«18+» - запрещено для детей",
          "«18+» - запрещено для детей",
          "«18+» - запрещено для детей",
          "«18+» - запрещено для детей",
          "«18+» - запрещено для детей",
          "«18+» - запрещено для детей",
          "«18+» - запрещено для детей",
          "«18+» - запрещено для детей",
          "«18+» - запрещено для детей",
          "«18+» - запрещено для детей",
          "«18+» - запрещено для детей",
          "«18+» - запрещено для детей",
          "«18+» - запрещено для детей",
          "«18+» - запрещено для детей",
          "«18+» - запрещено для детей",
          "«18+» - запрещено для детей",
          "«18+» - запрещено для детей",
          "«18+» - запрещено для детей",
          "«18+» - запрещено для детей",
          "«18+» - запрещено для детей",
          "«18+» - запрещено для детей",
          "«18+» - запрещено для детей",
          "«18+» - запрещено для детей",
          "«18+» - запрещено для детей",
          "«18+» - запрещено для детей",
          "«18+» - запрещено для детей",
          "«18+» - запрещено для детей",
          "«18+» - запрещено для детей",
          "«18+» - запрещено для детей",
          "«18+» - запрещено для детей",
          "«18+» - запрещено для детей",
          "«18+» - запрещено для детей",
          "«18+» - запрещено для детей",
          "«18+» - запрещено для детей",
          "«18+» - запрещено для детей",
          "«18+» - запрещено для детей",
          "«18+» - запрещено для детей",
          "«18+» - запрещено для детей",
          "«18+» - запрещено для детей",
          "«18+» - запрещено для детей",
          "«18+» - запрещено для детей",
          "«18+» - запрещено для детей",
          "«18+» - запрещено для детей",
          "«18+» - запрещено для детей",
          "«18+» - запрещено для детей",
          "«18+» - запрещено для детей",
          "«18+» - запрещено для детей",
          "«18+» - запрещено для детей",
          "«18+» - запрещено для детей",
          "«18+» - запрещено для детей",
          "«18+» - запрещено для детей",
          "«18+» - запрещено для детей",
          "«18+» - запрещено для детей",
          "«18+» - запрещено для детей",
          "«18+» - запрещено для детей",
          "«18+» - запрещено для детей",
          "«18+» - запрещено для детей",
          "«18+» - запрещено для детей",
          "«18+» - запрещено для детей",
          "«18+» - запрещено для детей",
          "«18+» - запрещено для детей",
          "«18+» - запрещено для детей",
          "«18+» - запрещено для детей",
          "«18+» - запрещено для детей",
          "«18+» - запрещено для детей",
          "«18+» - запрещено для детей",
          "«18+» - запрещено для детей",
          "«18+» - запрещено для детей",
          "«18+» - запрещено для детей",
          "«18+» - запрещено для детей",
          "«18+» - запрещено для детей",
          "«18+» - запрещено для детей",
          "«18+» - запрещено для детей",
          "«18+» - запрещено для детей",
          "«18+» - запрещено для детей",
          "«18+» - запрещено для детей",
          "«18+» - запрещено для детей",
          "«18+» - запрещено для детей",
          "«18+» - запрещено для детей",
          "«18+» - запрещено для детей",
          "«18+» - запрещено для детей",
          "«18+» - запрещено для детей",
          "«18+» - запрещено для детей",
          "«18+» - запрещено для детей",
          "«18+» - запрещено для детей",
          "«18+» - запрещено для детей",
          "«18+» - запрещено для детей",
          "«18+» - запрещено для детей",
          "«18+» - запрещено для детей",
          "«18+» - запрещено для детей",
          "«18+» - запрещено для детей",
          "«18+» - запрещено для детей",
          "«18+» - запрещено для детей",
          "«18+» - запрещено для детей",
          "«18+» - запрещено для детей",
          "«18+» - запрещено для детей",
          "«18+» - запрещено для детей",
          "«18+» - запрещено для детей",
          "«18+» - запрещено для детей",
          "«18+» - запрещено для детей",
          "«18+» - запрещено для детей",
          "«18+» - запрещено для детей",
          "«18+» - запрещено для детей",
          "«18+» - запрещено для детей",
          "«18+» - запрещено для детей",
          "«18+» - запрещено для детей",
          "«18+» - запрещено для детей",
          "«18+» - запрещено для детей",
          "«18+» - запрещено для детей",
          "«18+» - запрещено для детей",
          "«18+» - запрещено для детей",
          "«18+» - запрещено для детей",
          "«18+» - запрещено для детей",
          "«18+» - запрещено для детей",
          "«18+» - запрещено для детей",
          "«18+» - запрещено для детей",
          "«18+» - запрещено для детей",
          "«18+» - запрещено для детей",
          "«18+» - запрещено для детей",
          "«18+» - запрещено для детей",
          "«18+» - запрещено для детей",
          "«18+» - запрещено для детей",
          "«18+» - запрещено для детей",
          "«18+» - запрещено для детей",
          "«18+» - запрещено для детей",
          "«18+» - запрещено для детей",
          "«18+» - запрещено для детей",
          "«18+» - запрещено для детей",
          "«18+» - запрещено для детей",
          "«18+» - запрещено для детей",
          "«18+» - запрещено для детей",
          "«18+» - запрещено для детей",
          "«18+» - запрещено для детей",
          "«18+» - запрещено для детей",
          "«18+» - запрещено для детей",
          "«18+» - запрещено для детей",
          "«18+» - запрещено для детей",
          "«18+» - запрещено для детей",
          "«18+» - запрещено для детей",
          "«18+» - запрещено для детей",
          "«18+» - запрещено для детей",
          "«18+» - запрещено для детей",
          "«18+» - запрещено для детей",
          "«18+» - запрещено для детей",
          "«18+» - запрещено для детей",
          "«18+» - запрещено для детей",
          "«18+» - запрещено для детей",
          "«18+» - запрещено для детей",
          "«18+» - запрещено для детей",
          "«18+» - запрещено для детей",
          "«18+» - запрещено для детей",
          "«18+» - запрещено для детей",
          "«18+» - запрещено для детей",
          "«18+» - запрещено для детей",
          "«18+» - запрещено для детей",
          "«18+» - запрещено для детей",
          "«18+» - запрещено для детей",
          "«18+» - запрещено для детей",
          "«18+» - запрещено для детей",
          "«18+» - запрещено для детей",
          "«18+» - запрещено для детей",
          "«18+» - запрещено для детей",
          "«18+» - запрещено для детей",
          "«18+» - запрещено для детей",
          "«18+» - запрещено для детей",
          "«18+» - запрещено для детей",
          "«18+» - запрещено для детей",
          "«18+» - запрещено для детей",
          "«18+» - запрещено для детей",
          "«18+» - запрещено для детей",
          "«18+» - запрещено для детей",
          "«18+» - запрещено для детей",
          "«18+» - запрещено для детей",
          "«18+» - запрещено для детей",
          "«18+» - запрещено для детей",
          "«18+» - запрещено для детей",
          "«18+» - запрещено для детей",
          "«18+» - запрещено для детей",
          "«18+» - запрещено для детей",
          "«18+» - запрещено для детей",
          "«18+» - запрещено для детей",
          "«18+» - запрещено для детей",
          "«18+» - запрещено для детей",
          "«18+» - запрещено для детей",
          "«18+» - запрещено для детей",
          "«18+» - запрещено для детей",
          "«18+» - запрещено для детей",
          "«18+» - запрещено для детей",
          "«18+» - запрещено для детей",
          "«18+» - запрещено для детей",
          "«18+» - запрещено для детей",
          "«18+» - запрещено для детей",
          "«18+» - запрещено для детей",
          "«18+» - запрещено для детей",
          "«18+» - запрещено для детей",
          "«18+» - запрещено для детей",
          "«18+» - запрещено для детей",
          "«18+» - запрещено для детей",
          "«18+» - запрещено для детей",
          "«18+» - запрещено для детей",
          "«18+» - запрещено для детей",
          "«18+» - запрещено для детей",
          "«18+» - запрещено для детей",
          "«18+» - запрещено для детей",
          "«18+» - запрещено для детей",
          "«18+» - запрещено для детей",
          "«18+» - запрещено для детей",
          "«18+» - запрещено для детей",
          "«18+» - запрещено для детей",
          "«18+» - запрещено для детей",
          "«18+» - запрещено для детей",
          "«18+» - запрещено для детей",
          "«18+» - запрещено для детей",
          "«18+» - запрещено для детей",
          "«18+» - запрещено для детей",
          "«18+» - запрещено для детей",
          "«18+» - запрещено для детей",
          "«18+» - запрещено для детей",
          "«18+» - запрещено для детей",
          "«18+» - запрещено для детей",
          "«18+» - запрещено для детей",
          "«18+» - запрещено для детей",
          "«18+» - запрещено для детей",
          "«18+» - запрещено для детей",
          "«18+» - запрещено для детей",
          "«18+» - запрещено для детей",
          "«18+» - запрещено для детей",
          "«18+» - запрещено для детей",
          "«18+» - запрещено для детей",
          "«18+» - запрещено для детей",
          "«18+» - запрещено для детей",
          "«18+» - запрещено для детей",
          "«18+» - запрещено для детей",
          "«18+» - запрещено для детей",
          "«18+» - запрещено для детей",
          "«18+» - запрещено для детей",
          "«18+» - запрещено для детей",
          "«18+» - запрещено для детей",
          "«18+» - запрещено для детей",
          "«18+» - запрещено для детей",
          "«18+» - запрещено для детей",
          "«18+» - запрещено для детей",
          "«18+» - запрещено для детей",
          "«18+» - запрещено для детей",
          "«18+» - запрещено для детей",
          "«18+» - запрещено для детей",
          "«18+» - запрещено для детей",
          "«18+» - запрещено для детей",
          "«18+» - запрещено для детей",
          "«18+» - запрещено для детей",
          "«18+» - запрещено для детей",
          "«18+» - запрещено для детей",
          "«18+» - запрещено для детей",
          "«18+» - запрещено для детей",
          "«18+» - запрещено для детей",
          "«18+» - запрещено для детей",
          "«18+» - запрещено для детей",
          "«18+» - запрещено для детей",
          "«18+» - запрещено для детей",
          "«18+» - запрещено для детей",
          "«18+» - запрещено для детей",
          "«18+» - запрещено для детей",
          "«18+» - запрещено для детей",
          "«18+» - запрещено для детей",
          "«18+» - запрещено для детей",
          "«18+» - запрещено для детей",
          "«18+» - запрещено для детей",
          "«18+» - запрещено для детей",
          "«18+» - запрещено для детей",
          "«18+» - запрещено для детей",
          "«18+» - запрещено для детей",
          "«18+» - запрещено для детей",
          "«18+» - запрещено для детей",
          "«18+» - запрещено для детей",
          "«18+» - запрещено для детей",
          "«18+» - запрещено для детей",
          "«18+» - запрещено для детей",
          "«18+» - запрещено для детей",
          "«18+» - запрещено для детей",
          "«18+» - запрещено для детей",
          "«18+» - запрещено для детей",
          "«18+» - запрещено для детей",
          "«18+» - запрещено для детей",
          "«18+» - запрещено для детей",
          "«18+» - запрещено для детей",
          "«18+» - запрещено для детей",
          "«18+» - запрещено для детей",
          "«18+» - запрещено для детей",
          "«18+» - запрещено для детей",
          "«18+» - запрещено для детей",
          "«18+» - запрещено для детей",
          "«18+» - запрещено для детей",
          "«18+» - запрещено для детей",
          "«18+» - запрещено для детей",
          "«18+» - запрещено для детей",
          "«18+» - запрещено для детей",
          "«18+» - запрещено для детей",
          "«18+» - запрещено для детей",
          "«18+» - запрещено для детей",
          "«18+» - запрещено для детей",
          "«18+» - запрещено для детей",
          "«18+» - запрещено для детей",
          "«18+» - запрещено для детей",
          "«18+» - запрещено для детей",
          "«18+» - запрещено для детей",
          "«18+» - запрещено для детей",
          "«18+» - запрещено для детей",
          "«18+» - запрещено для детей",
          "«18+» - запрещено для детей",
          "«18+» - запрещено для детей",
          "«18+» - запрещено для детей",
          "«18+» - запрещено для детей",
          "«18+» - запрещено для детей",
          "«18+» - запрещено для детей",
          "«18+» - запрещено для детей",
          "«18+» - запрещено для детей",
          "«18+» - запрещено для детей",
          "«18+» - запрещено для детей",
          "«18+» - запрещено для детей",
          "«18+» - запрещено для детей",
          "«18+» - запрещено для детей",
          "«18+» - запрещено для детей",
          "«18+» - запрещено для детей",
          "«18+» - запрещено для детей",
          "«18+» - запрещено для детей",
          "«18+» - запрещено для детей",
          "«18+» - запрещено для детей",
          "«18+» - запрещено для детей",
          "«18+» - запрещено для детей",
          "«18+» - запрещено для детей",
          "«18+» - запрещено для детей",
          "«18+» - запрещено для детей",
          "«18+» - запрещено для детей",
          "«18+» - запрещено для детей",
          "«18+» - запрещено для детей",
          "«18+» - запрещено для детей",
          "«18+» - запрещено для детей",
          "«18+» - запрещено для детей",
          "«18+» - запрещено для детей",
          "«18+» - запрещено для детей",
          "«18+» - запрещено для детей",
          "«18+» - запрещено для детей",
          "«18+» - запрещено для детей",
          "«18+» - запрещено для детей",
          "«18+» - запрещено для детей",
          "«18+» - запрещено для детей",
          "«18+» - запрещено для детей",
          "«18+» - запрещено для детей",
          "«18+» - запрещено для детей",
          "«18+» - запрещено для детей",
          "«18+» - запрещено для детей",
          "«18+» - запрещено для детей",
          "«18+» - запрещено для детей",
          "«18+» - запрещено для детей",
          "«18+» - запрещено для детей",
          "«18+» - запрещено для детей",
          "«18+» - запрещено для детей",
          "«18+» - запрещено для детей",
          "«18+» - запрещено для детей",
          "«18+» - запрещено для детей",
          "«18+» - запрещено для детей",
          "«18+» - запрещено для детей",
          "«18+» - запрещено для детей",
          "«18+» - запрещено для детей",
          "«18+» - запрещено для детей",
          "«18+» - запрещено для детей",
          "«18+» - запрещено для детей",
          "«18+» - запрещено для детей",
          "«18+» - запрещено для детей",
          "«18+» - запрещено для детей",
          "«18+» - запрещено для детей",
          "«18+» - запрещено для детей",
          "«18+» - запрещено для детей",
          "«18+» - запрещено для детей",
          "«18+» - запрещено для детей",
          "«18+» - запрещено для детей",
          "«18+» - запрещено для детей",
          "«18+» - запрещено для детей",
          "«18+» - запрещено для детей",
          "«18+» - запрещено для детей",
          "«18+» - запрещено для детей",
          "«18+» - запрещено для детей",
          "«18+» - запрещено для детей",
          "«18+» - запрещено для детей",
          "«18+» - запрещено для детей",
          "«18+» - запрещено для детей",
          "«18+» - запрещено для детей",
          "«18+» - запрещено для детей",
          "«18+» - запрещено для детей",
          "«18+» - запрещено для детей",
          "«18+» - запрещено для детей",
          "«18+» - запрещено для детей",
          "«18+» - запрещено для детей",
          "«18+» - запрещено для детей",
          "«18+» - запрещено для детей",
          "«18+» - запрещено для детей",
          "«18+» - запрещено для детей",
          "«18+» - запрещено для детей",
          "«18+» - запрещено для детей",
          "«18+» - запрещено для детей",
          "«18+» - запрещено для детей",
          "«18+» - запрещено для детей",
          "«18+» - запрещено для детей",
          "«18+» - запрещено для детей",
          "«18+» - запрещено для детей",
          "«18+» - запрещено для детей",
          "«18+» - запрещено для детей",
          "«18+» - запрещено для детей",
          "«18+» - запрещено для детей",
          "«18+» - запрещено для детей",
          "«18+» - запрещено для детей",
          "«18+» - запрещено для детей",
          "«18+» - запрещено для детей",
          "«18+» - запрещено для детей",
          "«18+» - запрещено для детей",
          "«18+» - запрещено для детей",
          "«18+» - запрещено для детей",
          "«18+» - запрещено для детей",
          "«18+» - запрещено для детей",
          "«18+» - запрещено для детей",
          "«18+» - запрещено для детей",
          "«18+» - запрещено для детей",
          "«18+» - запрещено для детей",
          "«18+» - запрещено для детей",
          "«18+» - запрещено для детей",
          "«18+» - запрещено для детей",
          "«18+» - запрещено для детей",
          "«18+» - запрещено для детей",
          "«18+» - запрещено для детей",
          "«18+» - запрещено для детей",
          "«18+» - запрещено для детей",
          "«18+» - запрещено для детей",
          "«18+» - запрещено для детей",
          "«18+» - запрещено для детей",
          "«18+» - запрещено для детей",
          "«18+» - запрещено для детей",
          "«18+» - запрещено для детей",
          "«18+» - запрещено для детей",
          "«18+» - запрещено для детей"
         ],
         "x0": " ",
         "xaxis": "x",
         "y": [
          3430271,
          293066,
          1212329.5,
          82130,
          64943,
          367404,
          450962,
          206478186,
          3616937.28,
          250,
          91534194.69,
          450488,
          3353333.6,
          3140318,
          28285,
          742164,
          2243108.96,
          14152495.9,
          1360,
          3912457.1,
          20747300.3,
          9716033.99,
          64734023.48,
          7680197.5,
          2233891.5,
          6262239.08,
          457576,
          13779632.32,
          2943318.7,
          4084228,
          2956298.4,
          240,
          102940,
          42860,
          61040,
          494964,
          158025089.1,
          1950019,
          120,
          22178956,
          45300,
          100,
          3200,
          138329559,
          2013404.5,
          1911944865.95,
          100654910,
          220907433.44,
          9288230,
          263010,
          2522400,
          200,
          120700156,
          114090162.74,
          4398.4,
          38334497.27,
          2348425,
          5443603,
          120308430.15,
          36128225.5,
          32011655.55,
          472692133.49,
          710343036.2,
          147606826.51,
          18217830.4,
          478654,
          51992103,
          360,
          27853374.23,
          34992,
          333597059.59,
          1646580645.7,
          22128515,
          242403434.6,
          209616468,
          908580.5,
          29753721.74,
          517116584.52,
          1689540830.24,
          6426560,
          5807856,
          2660830.11,
          855451052,
          1376726723,
          51164,
          1402255390,
          7899828.75,
          184487551.4,
          6252883.58,
          1433981,
          544332260,
          13736207.98,
          8189682.18,
          416349089,
          8448001.68,
          125810499,
          69348521.8,
          93383045,
          43823795,
          39782331,
          388919,
          187892580.14,
          197948108,
          5799073.05,
          110171448.5,
          143817593.8,
          25475357.99,
          909174,
          24966272.15,
          9395970.8,
          2048126108,
          7323648,
          90818,
          850,
          1261445.2,
          1478921168.46,
          48557861,
          407968,
          31517776.73,
          66504721.61,
          1384241,
          53834509.81,
          34899699.18,
          4715932.5,
          208838073.6,
          887099204.6,
          1626889,
          241406432,
          228620767,
          4475530,
          91859405,
          1975132,
          5480410,
          6217963,
          487397070.11,
          5731405.1,
          19027901.76,
          3391682.18,
          2178445.6,
          1385124,
          4521233.86,
          62222504.74,
          4735418,
          3553554,
          308401482.7,
          68549523.47,
          5729521,
          264971,
          3200,
          5484100.4,
          2000,
          313957175.4,
          6903398.5,
          12875350.34,
          1390392637,
          585614,
          1971005085,
          513783.98,
          947288,
          38045964.05,
          1834079.5,
          587178,
          7897741.62,
          70785,
          59635,
          689483900.11,
          26931468.31,
          92186865,
          273999867,
          886614109,
          8100527,
          79208553.7,
          1680265.85,
          435132,
          1564262,
          55108014.76,
          241620,
          3696167,
          1378063,
          12190,
          2232505.12,
          576773365,
          830,
          42761992.59,
          3377378.97,
          577368853.25,
          25870987.2,
          60669755.8,
          168688859.1,
          1171085.6,
          6494174.71,
          224851164.51,
          3802554,
          2255594,
          12093741.91,
          32721103.43,
          83366328.66,
          1125242943.91,
          79605056.95,
          3644365.83,
          14919031.21,
          704928216,
          853370310.26,
          541544657.5,
          988639946.66,
          354447104.73,
          60703175.9,
          59524891.3,
          453503948.86,
          1434072.5,
          18878460.81,
          38432582.68,
          701507030.27,
          30325879.15,
          1550212,
          3536769,
          1085575.5,
          334750,
          34272534.38,
          18655040.19,
          4004861.5,
          739485125.85,
          1252718.5,
          253132971.88,
          104763979.99,
          116831317.07,
          78745572.01,
          501069235,
          1760990,
          2490,
          69693747.93,
          185921616.56,
          4479029.99,
          625157209.55,
          16277926.46,
          197464.5,
          5914481.97,
          300,
          7200148.12,
          420,
          322284,
          2556867.51,
          15078858.6,
          4963920.97,
          2905469.51,
          487588232.9,
          352804320.4,
          528732557.7,
          21282107.64,
          14458669.43,
          489919,
          92795945.78,
          73610,
          4386600.58,
          387590521.72,
          7604945.8,
          10196009.51,
          32198090.69,
          2866852.28,
          5486662.94,
          57395723.1,
          1627095.55,
          2959639.23,
          1623640,
          37926670.82,
          5548199.52,
          2090804.5,
          963742523,
          87194421.31,
          18645525.66,
          67271499.59,
          116870342.06,
          15523879.43,
          332254857.14,
          13596322.7,
          129789102.3,
          750,
          3980140.5,
          505894712.01,
          136958,
          5504026.84,
          824916025.1,
          3196478.46,
          4640706.79,
          212345239.88,
          977480,
          744089095.3,
          2779686144,
          8335973.79,
          759226773,
          1773807,
          72749216.5,
          52288343.07,
          76709327.56,
          57876925.56,
          6607377.87,
          356061708.93,
          38067198.96,
          10980741.86,
          1000157204.4,
          115785026.19,
          7305550.02,
          259204335.6,
          8891102.21,
          1827244672.81,
          20380982.2,
          64396723.21,
          81984322.3,
          2200,
          185318326.02,
          19100,
          151063497.46,
          869148,
          5539973.15,
          216000243.9,
          176063513,
          2312351.5,
          1042023,
          930183,
          1052549,
          2850837.17,
          187973.5,
          39100731.01,
          108195236.2,
          95302304.44,
          13717189.49,
          106514301.03,
          2226966.5,
          69327730.48,
          318936272.3,
          5350538,
          1398264684,
          2353213.5,
          51220,
          323348.5,
          274246,
          876034229,
          181469735.01,
          179239,
          17009688,
          530917936.6,
          3256540,
          2093517,
          915023.06,
          344190718.3,
          4954508,
          1550,
          3792050.52,
          334007366,
          1429976813,
          1280497.5,
          3924123,
          943479,
          1203696013.3,
          1900650.94,
          70790954.1,
          4902848,
          156057948.6,
          122554,
          301074873.8,
          18435638.58,
          1065210005.03,
          81430626.82,
          960353,
          54532167.93,
          24007803.98,
          49588994.97,
          1658861425.5,
          1455562,
          15807297.81,
          4535915.5,
          41696586,
          1802175,
          137200,
          38811307.87,
          4765559.5,
          42933480,
          1096832545.7,
          2271754004.52,
          204158417.05,
          299260193.31,
          2087021,
          16703796.99,
          6133468.51,
          820528005.21,
          14877801.96,
          95755094.88,
          8931965.66,
          3195765,
          738802825.71,
          595604032.22,
          474071.5,
          722415,
          922848,
          194845829.65,
          4743315,
          1022685.5,
          8279477.27,
          87707397.08,
          2150333.22,
          30156174.04,
          8425367.6,
          17423989,
          424048805.24,
          303620,
          16213371.99,
          41003313.49,
          49587309,
          2440533.7,
          1278044179.16,
          317426.5,
          3635744.5,
          13528437.62,
          70798668.9,
          1393898.5,
          207737248.13,
          184731757.62,
          2633655.03,
          175710506.24,
          11167919.06,
          4821362.34,
          145448,
          1520626501.45,
          1182864.5,
          80639550.98,
          11690948.5,
          1699681.5,
          548216762.97,
          11138681,
          78718.5,
          2837319.02,
          988413,
          2453299.34,
          289040,
          789792.5,
          719313953.78,
          2720472,
          421350696.4,
          21293657.44,
          106388226.57,
          123970133,
          866283,
          126713450.16,
          87710161.53,
          607588,
          3648777.5,
          4367482.86,
          576349256,
          10933431.92,
          84370,
          228578204,
          2186272,
          29822146.51,
          481552224.42,
          483403,
          1038321489,
          201949.5,
          37500320.46,
          1279863,
          3915041.02,
          11837905.53,
          34911714,
          944890,
          4732610.1,
          103098290.54,
          188605593.3,
          460714064.4,
          593297732.56,
          262040254,
          337069662.8,
          4845355,
          37960,
          8667192,
          253575226.83,
          618263,
          2094094.96,
          2459667.5,
          21639813,
          96235483.23,
          590405065,
          1252028.5,
          421571.5,
          880463,
          1231902,
          3871491,
          1655037688,
          752679777,
          206188,
          2878199.61,
          137326373,
          6308384.48,
          2662824.5,
          34163829,
          3677875,
          793655711,
          634644321.83,
          463862,
          24310,
          2208849,
          19393384.34,
          44729932.68,
          293011,
          9010548,
          408646665.7,
          71955528.89,
          9680744,
          3776087.56,
          67367964.5,
          12173513.01,
          792451044.86,
          302904460.6,
          434992.5,
          22723575,
          451812221.7,
          35897,
          30672799.21,
          2009311,
          23967.5,
          54982058.2,
          24984169.38,
          17138926.64,
          581522463.1,
          20250,
          24500,
          270538437.9,
          388938913.9,
          2488435.51,
          2171457.5,
          535810483.9,
          363622804.9,
          539250,
          57403543.48,
          490175572.4,
          10355541.11,
          587487039.9,
          687596.5,
          14936676.3,
          1211158990,
          9319951.95,
          573332918.4,
          5966157.5,
          318835822,
          293236641.5,
          46769961.08,
          1301350.5,
          1820081,
          14463770.5,
          12982133.68,
          132984969.1,
          1120026171.85,
          2220979.5,
          22438188.5,
          4390438.01,
          21548913,
          643337593.9,
          408816606.9,
          172871342.04,
          508898.5,
          40050,
          1500989281.9,
          16567774.1,
          1850900,
          72578317.4,
          1216781413,
          630550647.8,
          11740,
          181747,
          515980,
          125178,
          353619952,
          387231,
          15362931.43,
          13848461.92,
          15351562.5,
          401804461.9,
          51862014.2,
          9977812.5,
          710627.01,
          375529,
          4450,
          50672.4,
          3591456.36,
          249166767.7,
          783851,
          3073568690.79,
          159879167.4,
          1021426122,
          1060054283,
          86340133.01,
          55800,
          4012546.5,
          367224,
          717703185.53,
          14910889.98,
          883640,
          1900,
          6330992.5,
          295861890.8,
          1799719.51,
          1948760,
          1125302,
          1093810,
          19654526.3,
          4101781,
          5000,
          42176,
          67500,
          190953419.4,
          603191180.4,
          22343626,
          294590750.6,
          2323980,
          39487690.69,
          5175580.5,
          509707,
          1039706431.83,
          267748808.6,
          42210,
          196572438.4,
          30200,
          32900,
          1307254117,
          3181218,
          6000,
          20954669,
          168050.5,
          4783481.5,
          137330265.84,
          473914546.24,
          17358253.31,
          1892689.5,
          1230644,
          1614105,
          2446886,
          654450,
          75927739.98,
          225196400.03,
          2453149,
          164220663,
          18617156.96,
          5170329,
          214750607.89,
          757864674.99,
          178652162,
          150913371.2,
          53449711.94,
          13507624.3,
          229507962,
          8882107.4,
          3131773,
          370681415.84,
          1320524,
          15207043,
          4972557.9,
          35440402.55,
          194780,
          1184344,
          1246587858,
          33937770.39,
          15020703.5,
          138162876.53,
          2061582.5,
          26968897.39,
          14866371.33,
          36356076.06,
          3692019,
          4654563.09,
          524897298.17,
          3945473.01,
          650165993.51,
          20560267.06,
          67418974.8,
          439776371.25,
          23231819.83,
          1570876.52,
          767274597.9,
          29045830.52,
          2671050,
          558928,
          18780020.9,
          11700861.81,
          1744835,
          2875257.5,
          114925585.76,
          16077204,
          10789124.27,
          2325871.1,
          106125455.62,
          1077536.96,
          168512,
          1492792,
          1801882,
          152779068,
          1123910,
          3143790.5,
          569488830.3,
          9580738,
          511775548,
          1142156.5,
          2399461.5,
          335865039,
          581840,
          484055452.7,
          2576613776.83,
          1900,
          7161494.96,
          10598124,
          2753610.64,
          75754973,
          4483340,
          1208016.5,
          1315843,
          298060,
          163684958.82,
          32074783,
          466423367,
          802765,
          55876887.4,
          1721642.08,
          489652,
          492710.5,
          21390102.93,
          12466638.5,
          342234.5,
          188358506.57,
          12027431,
          177890557.5,
          429369,
          4170249,
          543036.5,
          1109238,
          10739479,
          3443223.9,
          172221,
          82840,
          316040320,
          371749522.96,
          58733.5,
          88601901,
          17265095.2,
          6074068,
          1144426298.04,
          63238149.9,
          214871745.61,
          480077,
          155938,
          389818769.03,
          8727436,
          86371124.57,
          3591049,
          250508,
          18910986.53,
          1229588275,
          2152951,
          9393996,
          38455227,
          282604493,
          4237829.5,
          4280693.5,
          25637112,
          12757153,
          627421971,
          4568857.3,
          6774523,
          2628674.76,
          820051,
          46061688.67,
          3449486,
          12401514,
          866359507,
          1263461.52,
          9616976,
          3206246,
          490745769.35,
          3256960,
          105949130,
          307650644.24,
          6142519,
          37100479.2,
          71173828,
          1097314,
          1381021,
          10741189,
          94940553.4,
          371118,
          7189790,
          1572434.5,
          1773235.5,
          814425,
          1195318,
          9702077,
          4075657,
          564531440,
          1151353,
          351995,
          818004.5,
          912125.4,
          1416635,
          20325794.01,
          1140,
          56505055.6,
          23720901.47,
          517537710.04,
          446163511,
          4080942,
          8656637,
          33247568.7,
          1689958,
          5251755.5,
          47659920.82,
          2236562,
          3365682,
          279013.5,
          1769136.5,
          88306403.33,
          10583414.44,
          453616494.54,
          28656197.9,
          2125748.85,
          23983117.7,
          51907.5,
          868115386.03,
          13565513.72,
          372702.5,
          39241009.81,
          10097673.5,
          255735,
          10390929.84,
          1545358.03,
          1682680039.03,
          2081733,
          409187242.27,
          10682215.9,
          4805348.52,
          190311252.73,
          10675007.49,
          64263342.33,
          11663188,
          61720825.82,
          310738,
          366998,
          1565766,
          2597359,
          1486131019,
          2829548.56,
          8279012.24,
          109146197.1,
          427240422.82,
          253554283.34,
          559464.5,
          31761131.34,
          1608257,
          1386930,
          3587129.82,
          169040.5,
          7292610.09,
          757479.5,
          19450,
          21363842.53,
          145530838.58,
          1017220,
          103134751.12,
          1881097.83,
          745510,
          347596.5,
          150,
          8751895.75,
          843310,
          3243553.8,
          1342679,
          1913257923.06,
          759526,
          976775.5,
          84720,
          9629162,
          2347156,
          39229270.6,
          2764005.51,
          1720747,
          878324.5,
          95167526.89,
          123399519.19,
          398883270.6,
          3082763.02,
          1957365,
          3559301.5,
          807011.5,
          6800228.94,
          1414772.5,
          4943028.64,
          745019.5,
          115402502.81,
          238858,
          1854170,
          13839305.15,
          393279629.43,
          70705339.65,
          8708659.3,
          9767021.5,
          19481299.96,
          1400800,
          782806.5,
          836561,
          93743018.64,
          872839.5,
          80289852.9,
          113812868.86,
          22730244.88,
          119607532.46,
          824167,
          82506,
          116360,
          27984071,
          91001263.44,
          1812034,
          22885382.9,
          623349,
          9269381.5,
          533483,
          25246662,
          4462845.5,
          31581067.27,
          1954807,
          5496568.52,
          321806332.37,
          130430203.9,
          5102191,
          382323772.8,
          1590168.02,
          7180251.5,
          37727251.53,
          655891.5,
          104645,
          44401434.6,
          7386430.23,
          7942259.5,
          450175414.13,
          4125487,
          4321194.6,
          37445187.25,
          23420274.32,
          94000864.1,
          633462266.74,
          1052879.5,
          4351779.49,
          8973210.3,
          23191414,
          636862.5,
          42251788.46,
          4293649.51,
          38460928.47,
          9311592,
          87382668.68,
          419541696.52,
          46319097.4,
          196352.5,
          359980,
          12748398.3,
          54064626.78,
          17506988.57,
          5461209.45,
          143760455.2,
          21064919.46,
          1283251.5,
          1662223,
          37297724.6,
          854334.5,
          1402677,
          12419862.5,
          4814192,
          17232366.47,
          19748347.41,
          3192,
          12102092.5,
          1763212.5,
          42329420.4,
          1602326,
          100874704.69,
          711362.5,
          2188742,
          16507560.58,
          264325,
          19027937.7,
          33005527.3,
          76720211.4,
          35239299.31,
          16184128.2,
          550690,
          573225709.24,
          18061216.9,
          16118254,
          94950250.8,
          1076162.5,
          874498,
          3363230.23,
          126785757.31,
          145820078.94,
          3808487.5,
          36550,
          5667338.21,
          24294621.52,
          643121241.37,
          26003013.88,
          37919335.33,
          154203680.39,
          1685818.5,
          6202270.05,
          1875989712.42,
          504286.5,
          1891021,
          903455,
          21919521.32,
          300,
          44475165.57,
          52495,
          966539,
          46350172.49,
          32935350,
          1463723.97,
          23766252.9,
          256710,
          191082889.4,
          22329257,
          931941,
          1255719,
          551379650,
          18573525,
          801370,
          3332702.5,
          47245168.2,
          3427616,
          8283641.4,
          1228130,
          1170658,
          15913291.5,
          666653511.4,
          153030013.4,
          33438652,
          58500,
          1065448,
          1536756,
          1296267,
          5705974.54,
          9381926.11,
          355677,
          1017545.5,
          129333.5,
          476348021,
          80897104.5,
          8139192.5,
          2322497,
          7196756,
          2883624.01,
          1570380294,
          330490318.8,
          3008230,
          388332666.5,
          122586.5,
          24670851.9,
          456626.5,
          244624727.1,
          2165614,
          716681.5,
          35413,
          32894785,
          4784781.5,
          5180850.5,
          504582,
          2118396119,
          5604702,
          16763623.31,
          31045194.04,
          60057994.01,
          750871,
          350517,
          101700,
          255305185.9,
          72937783.2,
          5477552,
          6754350.01,
          75300,
          2979145,
          9024725,
          9468913.5,
          3139961,
          1485359,
          5192182.2,
          249059512.8,
          16814329.46,
          37212428.6,
          980911,
          32019740.2,
          774210,
          16744334.29,
          59650,
          22021383.71,
          181669329.7,
          85616378.36,
          18746156,
          68937290.9,
          530489,
          12757675,
          89380.5,
          11516459.3,
          217170923.9,
          732287208,
          7093374.3,
          1866460,
          267122,
          19184783.6,
          288508493.4,
          1750742.5,
          1957979.5,
          56688685.61,
          120069,
          27752401,
          52984377,
          214526360.3,
          150674841.8,
          3267514.61,
          4007935,
          533443705,
          1242819,
          37902230.42,
          607225934,
          4609867.51,
          240602.5,
          2256872,
          1105183.5,
          27552066.24,
          6746190.9,
          12352913.62,
          2923602.5,
          21241907,
          1250996,
          94899,
          6131431.3,
          752334.5,
          96830245.58,
          2204898,
          35175923.55,
          4795133.5,
          888182,
          69505,
          175799581,
          54392427.18,
          56800,
          30393100.72,
          30299445.81,
          29485179.69,
          22139435.82,
          557128.5,
          253516,
          1139585.5,
          530473,
          476180,
          809638458.6,
          259099078,
          739938,
          4601033.6,
          198729039.2,
          62300,
          434714,
          5251129,
          322155,
          6861539,
          3194239,
          5422352.53,
          812581,
          36408445.16,
          433831,
          3353677.06,
          51704986,
          5085192.98,
          1191851,
          28345493,
          8292491,
          38330,
          121923565.2,
          1429137,
          24101208.37,
          364285139.6,
          100511807.8,
          342898736,
          86190,
          955507415,
          130053,
          117789747.38,
          5667952,
          3203581.62,
          481011,
          2522174,
          596072,
          262693,
          51609872.85,
          47800,
          2046934.5,
          183350,
          94900,
          763958,
          5131647.53,
          373765787.1,
          52556389.32,
          532354012.8,
          1288356732,
          5600007,
          13666903,
          137409029.8,
          30465095,
          13346455.02,
          30108282.86,
          54243202.71,
          11298281.1,
          17307352,
          335075,
          754257,
          62039039.79,
          1081445,
          318472126,
          392768845.5,
          152082035.7,
          2258384,
          259506847.3,
          886190.5,
          12316723.64,
          30778027.4,
          2591609,
          355567,
          9702037.67,
          11034433.2,
          23463406.9,
          2362304.1,
          871151453,
          67152618.68,
          5956132.53,
          1576405,
          39130,
          7039371.17,
          800069.5,
          1332887,
          2660658.6,
          2309086.11,
          683029061.4,
          740803,
          1170454.5,
          1467311.5,
          4000811,
          152470,
          12343092.21,
          1973137,
          85405423.61,
          6457303.02,
          2617932.5,
          1392473.5,
          369016.5,
          3712390.5,
          12281831,
          295133,
          2986806.91,
          1030010.5,
          1219685,
          415620874.6,
          199396759.12,
          128650,
          23614828.43,
          70299052,
          8887735,
          46877952.08,
          57325797.22,
          419324,
          31130376.01,
          60743504.4,
          88901299.13,
          7378749.21,
          37266709.89,
          1967378,
          3586753,
          1790051,
          100805,
          58720,
          209594785.2,
          5381233.7,
          356127,
          928216745.5,
          195614,
          12260956,
          602682,
          4416590.45,
          7209,
          136105721.4,
          2106938.5,
          1075,
          141365822.7,
          62260863.65,
          1450743,
          353788.5,
          1097913,
          371909,
          2120138,
          670702033,
          33805195.13,
          21675345,
          476537,
          27200398.96,
          66612,
          41066347,
          571224107.2,
          54901055.25,
          31770255.89,
          1154562.5,
          450738,
          3659719.5,
          10598374.19,
          284524397.6,
          98547341.55,
          418607611.6,
          614126089,
          2330104,
          426247.5,
          330529.6,
          1652357,
          844808,
          9200824.5,
          1307120.01,
          5751740.5,
          43922035.7,
          173752385.2,
          550965.5,
          1291533,
          922362215,
          567812,
          1468779681,
          26818936.95,
          867511365,
          6574498.04,
          16058669,
          1988742,
          332371,
          3418891,
          422271,
          6400,
          636264,
          182882.5,
          161086,
          22038632.94,
          327351.5,
          44893740,
          1546580.5,
          4856233,
          220536.51,
          4170660,
          42715503.3,
          379195,
          1444212,
          61987.5,
          233410373.5,
          599420,
          556796281.8,
          2701844,
          344341348.31,
          5056881.33,
          50451949,
          61038012.94,
          547720,
          60006283,
          458015614,
          27197607,
          716241845,
          60531051.94,
          1547413.5,
          1538127.69,
          31478782,
          12985002.93,
          2265781.29,
          8171896,
          27525124.4,
          5356443,
          5400212,
          1683790.5,
          235748882.96,
          603123.5,
          135020,
          6720891.97,
          627891,
          29286455.56,
          2430003,
          139736948.78,
          17541830,
          4540375.73,
          10348980.14,
          1107949704.83,
          4231790,
          2938610.5,
          78923665.91,
          131101067.99,
          2902116.5,
          701958.5,
          147530273.22,
          3787327.94,
          4720682.5,
          820589,
          537157,
          23202909.88,
          4116973.5,
          73700,
          12485763.03,
          2534855.5,
          57202293.85,
          6002856,
          11394436.51,
          8688967.7,
          64137344.99,
          1074815,
          10252284.84,
          2595629.5,
          17873016,
          2527935.85,
          19111517.11,
          4554745,
          120973463.02,
          1541769,
          175003.51,
          1397680,
          5302962,
          1019186336.23,
          1015408.5,
          19204193.49,
          59242029.38,
          17508107.94,
          59431246.03,
          3565967,
          7179466,
          4274680.9,
          292140,
          4929934.5,
          1825288.96,
          1086442.54,
          1577907.9,
          13469793.36,
          1535466,
          438116605.55,
          7150701.5,
          81364262.36,
          3232788,
          34669435.82,
          9553451.83,
          26259140.07,
          124719701.28,
          127365724.05,
          1378306.01,
          2888226.29,
          28535378.46,
          2009266,
          45570116.58,
          97637352.29,
          5901733.46,
          2108793,
          14124059.52,
          1535332.5,
          72795292.56,
          52000551.2,
          1890368076.47,
          8523922.5,
          4883153,
          39555817.36,
          599348,
          16707120.55,
          2497043.7,
          5028070,
          30084581.97,
          4498564.1,
          8356319.71,
          2532606,
          18070147.14,
          1288427,
          9197107.51,
          16853447.16,
          7228655.57,
          2149592,
          143998019.37,
          3280933.02,
          2975488,
          2405108.51,
          7386708.52,
          281077,
          3505648,
          245756613.08,
          4146185.66,
          35447031.9,
          2486673,
          10563113.02,
          34832812.41,
          636446.5,
          10343706.65,
          32893708.17,
          2276644.94,
          14343267.14,
          3695157.08,
          249896477.92,
          9355374.84,
          142196863.98,
          373640084.53,
          2482317,
          23601594.31,
          38824198.52,
          268686876.18,
          8085578.74,
          2631285,
          8203218.52,
          27120188.51,
          16696944.62,
          1490149.5,
          212821214.01,
          175534533.78,
          4972510.48,
          9538379.99,
          16949986.24,
          58351843.08,
          379954258.56,
          108473817.14,
          42898693.12,
          6689235.5,
          8569387.42,
          891517.5,
          54010254.23,
          3064805,
          74778916.1,
          1121948935.25,
          1508877,
          5119114.74,
          17612144.67,
          1281198,
          4288938.5,
          2710315.25,
          41616573.67,
          84636096.26,
          4839873.5,
          2828528,
          52997308.63,
          1012749,
          364844.5,
          2487021.25,
          1342936.5,
          13756282.26,
          463485,
          891760.5,
          3162645,
          2338788.5,
          40822738.4,
          58778318.09,
          5712897.7,
          49649069.06,
          6121824,
          160317,
          1057968,
          3535771,
          2094231.02,
          220728,
          87446283.62,
          83991589.62,
          98174012.32,
          9479265.98,
          5603216.55,
          6434587.4,
          391618,
          12300474.55,
          4229946.52,
          5054311.03,
          1269669.5,
          2815146.25,
          4125676.5,
          349243824.5,
          4193953.88,
          805605,
          56652916.63,
          1861529.5,
          1857607,
          13079651.5,
          911340,
          1253807,
          2823286.5,
          335137159,
          674920,
          13661902.01,
          474952,
          1461209,
          10251855.5,
          53167839.77,
          13128447.63,
          6375444.6,
          131635794.8,
          1030756.5,
          202103407,
          10387327,
          296229480,
          14177647,
          1315402,
          12530627.68,
          12289624,
          237323,
          12637262.27,
          57783155.18,
          4839381,
          176081742,
          804578,
          708331,
          2600822,
          38563421,
          378059,
          9948422.07,
          1735656.2,
          113009869.4,
          15861166.16,
          1104161,
          14761087.58,
          1006737153,
          389144352.5,
          39467510.98,
          1659108.09,
          60161,
          140501616,
          2375,
          2351960,
          885429.5,
          3162713.5,
          3123331,
          2060823,
          1544985.5,
          30701345.4,
          135945,
          1923404,
          15045819.56,
          24463057.19,
          991582,
          152013302.9,
          1183688.85,
          2151825.5,
          16269205.58,
          399304,
          5831860.3,
          193758,
          4467584,
          87902451.41,
          9378604.4,
          2525662.3,
          41380066.83,
          5872718.3,
          501467,
          18439240.55,
          235444487,
          25500264.91,
          262803951.6,
          1025937,
          23050223,
          2266408,
          1139858,
          3663175,
          20486130,
          41010977,
          99530233.94,
          6188067,
          11385317,
          69054802,
          2128955,
          1837312,
          671060369,
          18958074,
          6003344.53,
          8670345.9,
          120553773,
          211016459,
          1324712,
          1561646,
          17156192.12,
          12572951.53,
          264977359.4,
          298134559,
          131572,
          9000,
          12116755,
          695556,
          9876765,
          8216845,
          74550032,
          9585014,
          5596672,
          5462267,
          52494731.9,
          814460,
          5678355,
          3046839,
          192821987.1,
          2146546,
          397025811,
          880511273,
          1639669,
          5561387,
          1268832,
          1330803.5,
          1929078.8,
          18231694.85,
          150542231.8,
          15608905,
          1128682,
          56184560.62,
          356884,
          406271,
          25177029.87,
          1479719.51,
          177431541.4,
          6375092,
          95385289,
          1551191.5,
          15997808.72,
          11066749.18,
          368738,
          19253233.42,
          33887947.04,
          83493770,
          15219359,
          31658644.7,
          2798595,
          61193,
          33495374,
          540328,
          1500411,
          15116062,
          56120,
          19263437,
          26069577.2,
          42190953.9,
          1282382,
          4402502.5,
          24605374.1,
          89271786,
          144040,
          4010421.9,
          5034342.4,
          109320,
          9578673,
          50601989.9,
          19655520.1,
          1200,
          294842966,
          2713337,
          296651399,
          91807583.4,
          72702624.6,
          2284862,
          3981184.5,
          214412030.9,
          6615812.5,
          4654761.4,
          162249,
          1276031,
          3353017.2,
          18600,
          1440,
          3750,
          779637,
          6408600.5,
          126148703.6,
          1429859,
          3965619,
          44279440.2,
          1684717.6,
          16149552.8,
          4011864.5,
          1171189,
          41544550.6,
          36862561.1,
          31048143.4,
          51149467,
          52882302.120000005,
          156861,
          1056040,
          3067727.5,
          1633834,
          730237,
          19808355.6,
          130730,
          68561037.3,
          1057061.9,
          13078460.5,
          78970,
          27803020.2,
          7004030.7,
          534657816.8,
          44077507.8,
          761930,
          36448738.3,
          1337996.9,
          53847272.8,
          7564179.32,
          1735813.31,
          1587516389,
          29941895.14,
          1012970.51,
          3713097.51,
          18496158.01,
          1007437,
          574543,
          65087057.43,
          60132,
          1652882.5,
          2925092.01,
          600,
          136810879.1,
          11915678.6,
          9628144.64,
          25557823.87,
          1237661.01,
          683318,
          38958757.32,
          20252624.3,
          27630900.04,
          36910,
          166576637.9,
          72701485.46,
          3375685,
          493391.5,
          1056703,
          959307,
          15200296.13,
          57025019,
          8171959.8,
          9358511.3,
          1791633,
          310968626.2,
          1957738.51,
          5774690,
          4578468,
          5900,
          4327265.7,
          7759589.8,
          2164404.5,
          996669,
          6144303,
          3481913.6,
          7099294.5,
          1059238.5,
          4808555.1,
          633970,
          744870.5,
          121770114.1,
          182432425.1,
          27668770.7,
          43761962.6,
          47780,
          110883735.5,
          338985.5,
          39628856.6,
          1680757,
          133745461.4,
          2338049.9,
          47005,
          13196732.8,
          2576074.5,
          10897083,
          2273871.01,
          8459304.83,
          1699377,
          1587221.51,
          1594574.5,
          2899547.5,
          2857464,
          236487,
          17771149.88,
          2566376.97,
          143390.5,
          1544473.01,
          4098450.97,
          21522348.2,
          106328891.37,
          15745639.98,
          45679693.36,
          4695386,
          1236762617.32,
          143640918.91,
          44067410.31,
          83186490.08,
          1796963.5,
          2268508.5,
          1530665.48,
          3642053,
          90512398.81,
          1280235.5,
          51280,
          3803518.68,
          1015431.51,
          1262150.5,
          30927770.05,
          2600698,
          38327993.65,
          1529807.5,
          187196927.35,
          20836073,
          681695551.27,
          163684057.79,
          56357980.56,
          1697546.5,
          72896300.44,
          16711722.11,
          1886196.71,
          17174328.05,
          8637197.82,
          956165.5,
          243211,
          295906.5,
          11521237.66,
          46260,
          141896307.26,
          13322618.5,
          38641570.97,
          3860453,
          145974,
          2966703.01,
          1261019.5,
          113743748.3,
          33436954.65,
          15101769.82,
          434117,
          5032782.01,
          5737208.5,
          22154071.04,
          47602971,
          6916502.2,
          6499311,
          5233047.94,
          10482832.26,
          68002109.13,
          27438807.78,
          5129695.51,
          135211,
          1133848,
          11602094,
          13034773.4,
          22882152.25,
          526930,
          200123441.01,
          5096521.97,
          472520804.83,
          14688038.39,
          564602377.68,
          182178,
          6980940,
          7052504,
          37515653.58,
          2469477.5,
          22801547.38,
          160443494.15,
          851489.02,
          170287050.61,
          30384061.87,
          4097465.36,
          2662002.99,
          14054639.01,
          5182537.67,
          34031876.15,
          128011267.6,
          10646513,
          438755.5,
          124478239.21,
          3228504,
          1962266.5,
          60600270.22,
          5313511.94,
          11509082.48,
          2511204.99,
          549050,
          288019.5,
          22783387.32,
          164732068.65,
          21164351.34,
          5544612,
          10484019.76,
          14407891,
          8292672,
          12305202.44,
          9314710.5,
          24872554.03,
          50694541.17,
          11349996,
          37448540.97,
          55685,
          1324522.05,
          588883.5,
          120320169.76,
          907478,
          477775,
          4508064.51,
          48325099.4,
          2249302.5,
          17867055.74,
          2227155.01,
          5675503.5,
          8028592,
          3671674.5,
          6100022.02,
          5324934.5,
          6890293,
          67831700,
          1840199,
          6114615,
          2414891,
          9968340,
          14969857,
          246493212.4,
          44554615.86,
          1928553.82,
          278000,
          8252640.7,
          2686896,
          4148666.6,
          51083368.6,
          268312,
          1243908,
          682090,
          23441120,
          38514546,
          195110029,
          303785635,
          7616924,
          272871725.2,
          1951257,
          4259314,
          1487471,
          4728000.02,
          410058,
          26640937,
          4674744.68,
          42927213,
          8068123,
          9661795,
          2390372,
          24941936,
          19924407,
          331247719,
          1329830,
          208532121.8,
          1339630.5,
          1740504.3,
          87991,
          2428366,
          5517854,
          40843900.62,
          65446600,
          96828842,
          24695840,
          1869220,
          988205.5,
          12129492.85,
          151176,
          6107001.74,
          665442,
          198641319.8,
          823401.8,
          19565350.78,
          197523791.1,
          19614459.37,
          18700,
          457334,
          10113896.93,
          226848,
          23969331,
          333015955,
          11998709.88,
          1220818.5,
          13686591,
          268550254,
          272142477,
          2240087,
          2030904,
          3041967,
          644495,
          153390,
          33890697,
          8907148,
          27476033,
          159937957,
          4929441,
          270497,
          2418702,
          534899,
          160091,
          272316,
          213473,
          133292498.7,
          77806917.35,
          3275833.51,
          18552746.63,
          84984282.58,
          2638395,
          357229,
          152873,
          4178425,
          23773163,
          4522412,
          8212677,
          1925476,
          121042065,
          5345387,
          1327944,
          45101635,
          406436,
          29907635,
          38450576,
          9919415,
          113925353,
          807233,
          11031012,
          190037983,
          13573726,
          1089771,
          647648,
          1036725434,
          10495889,
          26991451,
          675390964,
          138152939,
          7304343,
          1534736,
          1311310,
          67791,
          20381625,
          41437146,
          812149,
          23094240,
          5853559,
          5984473,
          97960998,
          57293208,
          521791823,
          699254,
          11763394,
          2362257,
          35967571,
          18001772.43
         ],
         "y0": " ",
         "yaxis": "y"
        }
       ],
       "layout": {
        "boxmode": "group",
        "legend": {
         "tracegroupgap": 0
        },
        "margin": {
         "t": 60
        },
        "template": {
         "data": {
          "bar": [
           {
            "error_x": {
             "color": "#2a3f5f"
            },
            "error_y": {
             "color": "#2a3f5f"
            },
            "marker": {
             "line": {
              "color": "#E5ECF6",
              "width": 0.5
             },
             "pattern": {
              "fillmode": "overlay",
              "size": 10,
              "solidity": 0.2
             }
            },
            "type": "bar"
           }
          ],
          "barpolar": [
           {
            "marker": {
             "line": {
              "color": "#E5ECF6",
              "width": 0.5
             },
             "pattern": {
              "fillmode": "overlay",
              "size": 10,
              "solidity": 0.2
             }
            },
            "type": "barpolar"
           }
          ],
          "carpet": [
           {
            "aaxis": {
             "endlinecolor": "#2a3f5f",
             "gridcolor": "white",
             "linecolor": "white",
             "minorgridcolor": "white",
             "startlinecolor": "#2a3f5f"
            },
            "baxis": {
             "endlinecolor": "#2a3f5f",
             "gridcolor": "white",
             "linecolor": "white",
             "minorgridcolor": "white",
             "startlinecolor": "#2a3f5f"
            },
            "type": "carpet"
           }
          ],
          "choropleth": [
           {
            "colorbar": {
             "outlinewidth": 0,
             "ticks": ""
            },
            "type": "choropleth"
           }
          ],
          "contour": [
           {
            "colorbar": {
             "outlinewidth": 0,
             "ticks": ""
            },
            "colorscale": [
             [
              0,
              "#0d0887"
             ],
             [
              0.1111111111111111,
              "#46039f"
             ],
             [
              0.2222222222222222,
              "#7201a8"
             ],
             [
              0.3333333333333333,
              "#9c179e"
             ],
             [
              0.4444444444444444,
              "#bd3786"
             ],
             [
              0.5555555555555556,
              "#d8576b"
             ],
             [
              0.6666666666666666,
              "#ed7953"
             ],
             [
              0.7777777777777778,
              "#fb9f3a"
             ],
             [
              0.8888888888888888,
              "#fdca26"
             ],
             [
              1,
              "#f0f921"
             ]
            ],
            "type": "contour"
           }
          ],
          "contourcarpet": [
           {
            "colorbar": {
             "outlinewidth": 0,
             "ticks": ""
            },
            "type": "contourcarpet"
           }
          ],
          "heatmap": [
           {
            "colorbar": {
             "outlinewidth": 0,
             "ticks": ""
            },
            "colorscale": [
             [
              0,
              "#0d0887"
             ],
             [
              0.1111111111111111,
              "#46039f"
             ],
             [
              0.2222222222222222,
              "#7201a8"
             ],
             [
              0.3333333333333333,
              "#9c179e"
             ],
             [
              0.4444444444444444,
              "#bd3786"
             ],
             [
              0.5555555555555556,
              "#d8576b"
             ],
             [
              0.6666666666666666,
              "#ed7953"
             ],
             [
              0.7777777777777778,
              "#fb9f3a"
             ],
             [
              0.8888888888888888,
              "#fdca26"
             ],
             [
              1,
              "#f0f921"
             ]
            ],
            "type": "heatmap"
           }
          ],
          "heatmapgl": [
           {
            "colorbar": {
             "outlinewidth": 0,
             "ticks": ""
            },
            "colorscale": [
             [
              0,
              "#0d0887"
             ],
             [
              0.1111111111111111,
              "#46039f"
             ],
             [
              0.2222222222222222,
              "#7201a8"
             ],
             [
              0.3333333333333333,
              "#9c179e"
             ],
             [
              0.4444444444444444,
              "#bd3786"
             ],
             [
              0.5555555555555556,
              "#d8576b"
             ],
             [
              0.6666666666666666,
              "#ed7953"
             ],
             [
              0.7777777777777778,
              "#fb9f3a"
             ],
             [
              0.8888888888888888,
              "#fdca26"
             ],
             [
              1,
              "#f0f921"
             ]
            ],
            "type": "heatmapgl"
           }
          ],
          "histogram": [
           {
            "marker": {
             "pattern": {
              "fillmode": "overlay",
              "size": 10,
              "solidity": 0.2
             }
            },
            "type": "histogram"
           }
          ],
          "histogram2d": [
           {
            "colorbar": {
             "outlinewidth": 0,
             "ticks": ""
            },
            "colorscale": [
             [
              0,
              "#0d0887"
             ],
             [
              0.1111111111111111,
              "#46039f"
             ],
             [
              0.2222222222222222,
              "#7201a8"
             ],
             [
              0.3333333333333333,
              "#9c179e"
             ],
             [
              0.4444444444444444,
              "#bd3786"
             ],
             [
              0.5555555555555556,
              "#d8576b"
             ],
             [
              0.6666666666666666,
              "#ed7953"
             ],
             [
              0.7777777777777778,
              "#fb9f3a"
             ],
             [
              0.8888888888888888,
              "#fdca26"
             ],
             [
              1,
              "#f0f921"
             ]
            ],
            "type": "histogram2d"
           }
          ],
          "histogram2dcontour": [
           {
            "colorbar": {
             "outlinewidth": 0,
             "ticks": ""
            },
            "colorscale": [
             [
              0,
              "#0d0887"
             ],
             [
              0.1111111111111111,
              "#46039f"
             ],
             [
              0.2222222222222222,
              "#7201a8"
             ],
             [
              0.3333333333333333,
              "#9c179e"
             ],
             [
              0.4444444444444444,
              "#bd3786"
             ],
             [
              0.5555555555555556,
              "#d8576b"
             ],
             [
              0.6666666666666666,
              "#ed7953"
             ],
             [
              0.7777777777777778,
              "#fb9f3a"
             ],
             [
              0.8888888888888888,
              "#fdca26"
             ],
             [
              1,
              "#f0f921"
             ]
            ],
            "type": "histogram2dcontour"
           }
          ],
          "mesh3d": [
           {
            "colorbar": {
             "outlinewidth": 0,
             "ticks": ""
            },
            "type": "mesh3d"
           }
          ],
          "parcoords": [
           {
            "line": {
             "colorbar": {
              "outlinewidth": 0,
              "ticks": ""
             }
            },
            "type": "parcoords"
           }
          ],
          "pie": [
           {
            "automargin": true,
            "type": "pie"
           }
          ],
          "scatter": [
           {
            "marker": {
             "colorbar": {
              "outlinewidth": 0,
              "ticks": ""
             }
            },
            "type": "scatter"
           }
          ],
          "scatter3d": [
           {
            "line": {
             "colorbar": {
              "outlinewidth": 0,
              "ticks": ""
             }
            },
            "marker": {
             "colorbar": {
              "outlinewidth": 0,
              "ticks": ""
             }
            },
            "type": "scatter3d"
           }
          ],
          "scattercarpet": [
           {
            "marker": {
             "colorbar": {
              "outlinewidth": 0,
              "ticks": ""
             }
            },
            "type": "scattercarpet"
           }
          ],
          "scattergeo": [
           {
            "marker": {
             "colorbar": {
              "outlinewidth": 0,
              "ticks": ""
             }
            },
            "type": "scattergeo"
           }
          ],
          "scattergl": [
           {
            "marker": {
             "colorbar": {
              "outlinewidth": 0,
              "ticks": ""
             }
            },
            "type": "scattergl"
           }
          ],
          "scattermapbox": [
           {
            "marker": {
             "colorbar": {
              "outlinewidth": 0,
              "ticks": ""
             }
            },
            "type": "scattermapbox"
           }
          ],
          "scatterpolar": [
           {
            "marker": {
             "colorbar": {
              "outlinewidth": 0,
              "ticks": ""
             }
            },
            "type": "scatterpolar"
           }
          ],
          "scatterpolargl": [
           {
            "marker": {
             "colorbar": {
              "outlinewidth": 0,
              "ticks": ""
             }
            },
            "type": "scatterpolargl"
           }
          ],
          "scatterternary": [
           {
            "marker": {
             "colorbar": {
              "outlinewidth": 0,
              "ticks": ""
             }
            },
            "type": "scatterternary"
           }
          ],
          "surface": [
           {
            "colorbar": {
             "outlinewidth": 0,
             "ticks": ""
            },
            "colorscale": [
             [
              0,
              "#0d0887"
             ],
             [
              0.1111111111111111,
              "#46039f"
             ],
             [
              0.2222222222222222,
              "#7201a8"
             ],
             [
              0.3333333333333333,
              "#9c179e"
             ],
             [
              0.4444444444444444,
              "#bd3786"
             ],
             [
              0.5555555555555556,
              "#d8576b"
             ],
             [
              0.6666666666666666,
              "#ed7953"
             ],
             [
              0.7777777777777778,
              "#fb9f3a"
             ],
             [
              0.8888888888888888,
              "#fdca26"
             ],
             [
              1,
              "#f0f921"
             ]
            ],
            "type": "surface"
           }
          ],
          "table": [
           {
            "cells": {
             "fill": {
              "color": "#EBF0F8"
             },
             "line": {
              "color": "white"
             }
            },
            "header": {
             "fill": {
              "color": "#C8D4E3"
             },
             "line": {
              "color": "white"
             }
            },
            "type": "table"
           }
          ]
         },
         "layout": {
          "annotationdefaults": {
           "arrowcolor": "#2a3f5f",
           "arrowhead": 0,
           "arrowwidth": 1
          },
          "autotypenumbers": "strict",
          "coloraxis": {
           "colorbar": {
            "outlinewidth": 0,
            "ticks": ""
           }
          },
          "colorscale": {
           "diverging": [
            [
             0,
             "#8e0152"
            ],
            [
             0.1,
             "#c51b7d"
            ],
            [
             0.2,
             "#de77ae"
            ],
            [
             0.3,
             "#f1b6da"
            ],
            [
             0.4,
             "#fde0ef"
            ],
            [
             0.5,
             "#f7f7f7"
            ],
            [
             0.6,
             "#e6f5d0"
            ],
            [
             0.7,
             "#b8e186"
            ],
            [
             0.8,
             "#7fbc41"
            ],
            [
             0.9,
             "#4d9221"
            ],
            [
             1,
             "#276419"
            ]
           ],
           "sequential": [
            [
             0,
             "#0d0887"
            ],
            [
             0.1111111111111111,
             "#46039f"
            ],
            [
             0.2222222222222222,
             "#7201a8"
            ],
            [
             0.3333333333333333,
             "#9c179e"
            ],
            [
             0.4444444444444444,
             "#bd3786"
            ],
            [
             0.5555555555555556,
             "#d8576b"
            ],
            [
             0.6666666666666666,
             "#ed7953"
            ],
            [
             0.7777777777777778,
             "#fb9f3a"
            ],
            [
             0.8888888888888888,
             "#fdca26"
            ],
            [
             1,
             "#f0f921"
            ]
           ],
           "sequentialminus": [
            [
             0,
             "#0d0887"
            ],
            [
             0.1111111111111111,
             "#46039f"
            ],
            [
             0.2222222222222222,
             "#7201a8"
            ],
            [
             0.3333333333333333,
             "#9c179e"
            ],
            [
             0.4444444444444444,
             "#bd3786"
            ],
            [
             0.5555555555555556,
             "#d8576b"
            ],
            [
             0.6666666666666666,
             "#ed7953"
            ],
            [
             0.7777777777777778,
             "#fb9f3a"
            ],
            [
             0.8888888888888888,
             "#fdca26"
            ],
            [
             1,
             "#f0f921"
            ]
           ]
          },
          "colorway": [
           "#636efa",
           "#EF553B",
           "#00cc96",
           "#ab63fa",
           "#FFA15A",
           "#19d3f3",
           "#FF6692",
           "#B6E880",
           "#FF97FF",
           "#FECB52"
          ],
          "font": {
           "color": "#2a3f5f"
          },
          "geo": {
           "bgcolor": "white",
           "lakecolor": "white",
           "landcolor": "#E5ECF6",
           "showlakes": true,
           "showland": true,
           "subunitcolor": "white"
          },
          "hoverlabel": {
           "align": "left"
          },
          "hovermode": "closest",
          "mapbox": {
           "style": "light"
          },
          "paper_bgcolor": "white",
          "plot_bgcolor": "#E5ECF6",
          "polar": {
           "angularaxis": {
            "gridcolor": "white",
            "linecolor": "white",
            "ticks": ""
           },
           "bgcolor": "#E5ECF6",
           "radialaxis": {
            "gridcolor": "white",
            "linecolor": "white",
            "ticks": ""
           }
          },
          "scene": {
           "xaxis": {
            "backgroundcolor": "#E5ECF6",
            "gridcolor": "white",
            "gridwidth": 2,
            "linecolor": "white",
            "showbackground": true,
            "ticks": "",
            "zerolinecolor": "white"
           },
           "yaxis": {
            "backgroundcolor": "#E5ECF6",
            "gridcolor": "white",
            "gridwidth": 2,
            "linecolor": "white",
            "showbackground": true,
            "ticks": "",
            "zerolinecolor": "white"
           },
           "zaxis": {
            "backgroundcolor": "#E5ECF6",
            "gridcolor": "white",
            "gridwidth": 2,
            "linecolor": "white",
            "showbackground": true,
            "ticks": "",
            "zerolinecolor": "white"
           }
          },
          "shapedefaults": {
           "line": {
            "color": "#2a3f5f"
           }
          },
          "ternary": {
           "aaxis": {
            "gridcolor": "white",
            "linecolor": "white",
            "ticks": ""
           },
           "baxis": {
            "gridcolor": "white",
            "linecolor": "white",
            "ticks": ""
           },
           "bgcolor": "#E5ECF6",
           "caxis": {
            "gridcolor": "white",
            "linecolor": "white",
            "ticks": ""
           }
          },
          "title": {
           "x": 0.05
          },
          "xaxis": {
           "automargin": true,
           "gridcolor": "white",
           "linecolor": "white",
           "ticks": "",
           "title": {
            "standoff": 15
           },
           "zerolinecolor": "white",
           "zerolinewidth": 2
          },
          "yaxis": {
           "automargin": true,
           "gridcolor": "white",
           "linecolor": "white",
           "ticks": "",
           "title": {
            "standoff": 15
           },
           "zerolinecolor": "white",
           "zerolinewidth": 2
          }
         }
        },
        "xaxis": {
         "anchor": "y",
         "domain": [
          0,
          1
         ],
         "title": {
          "text": "age_restriction"
         }
        },
        "yaxis": {
         "anchor": "x",
         "domain": [
          0,
          1
         ],
         "title": {
          "text": "box_office"
         }
        }
       }
      }
     },
     "metadata": {},
     "output_type": "display_data"
    }
   ],
   "source": [
    "fig = px.box(df.sort_values(by='age_restriction'), x='age_restriction', y='box_office', hover_name='title')\n",
    "fig.show()\n",
    "del fig"
   ]
  },
  {
   "cell_type": "code",
   "execution_count": 36,
   "metadata": {},
   "outputs": [
    {
     "data": {
      "image/png": "[encoded data removed]",
      "text/plain": [
       "<Figure size 1080x288 with 1 Axes>"
      ]
     },
     "metadata": {
      "needs_background": "light"
     },
     "output_type": "display_data"
    },
    {
     "data": {
      "image/png": "[encoded data removed]",
      "text/plain": [
       "<Figure size 1080x288 with 1 Axes>"
      ]
     },
     "metadata": {
      "needs_background": "light"
     },
     "output_type": "display_data"
    }
   ],
   "source": [
    "df_group_all.columns = ['Среднее','Медиана','Сумма','Кол-во']\n",
    "df_group_all[['Среднее', 'Медиана']] = df_group_all[['Среднее', 'Медиана']] / 1e6\n",
    "df_group_all.plot(kind='bar', y='Кол-во', rot=10, figsize=(15, 4),\n",
    "                  title='Кол-во фильмов в период с 2015г по 2019г разных возрастных категорий',\n",
    "                  legend=False)\n",
    "plt.show()\n",
    "df_group_all.plot(kind='bar', y=['Среднее', 'Медиана'], rot=10, figsize=(\n",
    "    15, 4), title='Средние и медианные значения кассовых сборов фильмов в период с 2015г по 2019г в млн. руб')\n",
    "plt.show()\n",
    "del df_group_all\n"
   ]
  },
  {
   "cell_type": "markdown",
   "metadata": {},
   "source": [
    "Больше всего фильмов выпускается 16+ и 18+.\n",
    "Каких то явных тендеций не наблюдается, разве что можно отметить, что медианное значение по общему кол-ву сборов для фильмов с категорией 6+ выше чем для фильмов 16+ и 18+, такая картина наблюдается с 2017г.  \n",
    "Есть заметный всплеск в 2017г. по медианным сборам для фильмов 0+, но доверять ему не стоит, т.к. фильмов 0+ выпускают очень мало в прокат, поэтому можно отнести такой всплеск к погрешности.  \n",
    "Прослеживается очень большая разница между медианными сборами и сборами средними, преположительно это связано с тем что есть кассовые фильмы с большим кол-вом сборов, которые очень сильно правят средние. Если посмотреть на график с боксплотами, то можно увидеть эти фильмы-выбросы, но игнорировать их нельзя."
   ]
  },
  {
   "cell_type": "markdown",
   "metadata": {
    "id": "l_Kg6Ku4gFya"
   },
   "source": [
    "### Шаг 4. Исследуйте фильмы, которые получили государственную поддержку\n",
    "\n",
    "На этом этапе нет конкретных инструкций и заданий — поищите интересные закономерности в данных. Посмотрите, сколько выделяют средств на поддержку кино. Проверьте, хорошо ли окупаются такие фильмы, какой у них рейтинг."
   ]
  },
  {
   "cell_type": "code",
   "execution_count": 37,
   "metadata": {
    "id": "W9QKpjUdgFyb"
   },
   "outputs": [],
   "source": [
    "df = df.query('financing_total > 0')"
   ]
  },
  {
   "cell_type": "code",
   "execution_count": 38,
   "metadata": {},
   "outputs": [
    {
     "data": {
      "text/html": [
       "<div>\n",
       "<style scoped>\n",
       "    .dataframe tbody tr th:only-of-type {\n",
       "        vertical-align: middle;\n",
       "    }\n",
       "\n",
       "    .dataframe tbody tr th {\n",
       "        vertical-align: top;\n",
       "    }\n",
       "\n",
       "    .dataframe thead th {\n",
       "        text-align: right;\n",
       "    }\n",
       "</style>\n",
       "<table border=\"1\" class=\"dataframe\">\n",
       "  <thead>\n",
       "    <tr style=\"text-align: right;\">\n",
       "      <th></th>\n",
       "      <th>title</th>\n",
       "      <th>puNumber</th>\n",
       "      <th>show_start_date</th>\n",
       "      <th>type</th>\n",
       "      <th>film_studio</th>\n",
       "      <th>production_country</th>\n",
       "      <th>producer</th>\n",
       "      <th>age_restriction</th>\n",
       "      <th>refundable_support</th>\n",
       "      <th>nonrefundable_support</th>\n",
       "      <th>...</th>\n",
       "      <th>financing_source</th>\n",
       "      <th>ratings</th>\n",
       "      <th>genres</th>\n",
       "      <th>box_office</th>\n",
       "      <th>part_of_state_budget</th>\n",
       "      <th>financing_total</th>\n",
       "      <th>is_rus</th>\n",
       "      <th>year</th>\n",
       "      <th>main_genre</th>\n",
       "      <th>correct_director</th>\n",
       "    </tr>\n",
       "  </thead>\n",
       "  <tbody>\n",
       "    <tr>\n",
       "      <th>1853</th>\n",
       "      <td>Тайна Сухаревой башни. Чародей равновесия</td>\n",
       "      <td>114000115</td>\n",
       "      <td>2015-02-18 12:00:00+00:00</td>\n",
       "      <td>Анимационный</td>\n",
       "      <td>ООО \"Студия \"Мастер-Фильм\"</td>\n",
       "      <td>Россия</td>\n",
       "      <td>А.Герасимов</td>\n",
       "      <td>«06+» - для детей старше 6 лет</td>\n",
       "      <td>0.0</td>\n",
       "      <td>25000000.0</td>\n",
       "      <td>...</td>\n",
       "      <td>Министерство культуры</td>\n",
       "      <td>6.1</td>\n",
       "      <td>мультфильм,фэнтези,история</td>\n",
       "      <td>15078858.6</td>\n",
       "      <td>0.482160</td>\n",
       "      <td>25000000.0</td>\n",
       "      <td>1</td>\n",
       "      <td>2015</td>\n",
       "      <td>мультфильм</td>\n",
       "      <td>С.Серегин</td>\n",
       "    </tr>\n",
       "    <tr>\n",
       "      <th>1869</th>\n",
       "      <td>А зори здесь тихие..._</td>\n",
       "      <td>111002915</td>\n",
       "      <td>2015-03-16 12:00:00+00:00</td>\n",
       "      <td>Художественный</td>\n",
       "      <td>ООО \"Компания \"Реал-Дакота\"</td>\n",
       "      <td>Россия</td>\n",
       "      <td>NaN</td>\n",
       "      <td>«12+» - для детей старше 12 лет</td>\n",
       "      <td>50000000.0</td>\n",
       "      <td>100000000.0</td>\n",
       "      <td>...</td>\n",
       "      <td>Фонд кино</td>\n",
       "      <td>8.5</td>\n",
       "      <td>драма,военный,история</td>\n",
       "      <td>249166767.7</td>\n",
       "      <td>0.680000</td>\n",
       "      <td>150000000.0</td>\n",
       "      <td>1</td>\n",
       "      <td>2015</td>\n",
       "      <td>драма</td>\n",
       "      <td>Р.Давлетьяров</td>\n",
       "    </tr>\n",
       "    <tr>\n",
       "      <th>1902</th>\n",
       "      <td>Призрак_.</td>\n",
       "      <td>111001815</td>\n",
       "      <td>2015-03-02 12:00:00+00:00</td>\n",
       "      <td>Художественный</td>\n",
       "      <td>ООО \"Водород 2011\"</td>\n",
       "      <td>Россия</td>\n",
       "      <td>С.Сельянов</td>\n",
       "      <td>«06+» - для детей старше 6 лет</td>\n",
       "      <td>0.0</td>\n",
       "      <td>75000000.0</td>\n",
       "      <td>...</td>\n",
       "      <td>Фонд кино</td>\n",
       "      <td>7.0</td>\n",
       "      <td>триллер,боевик,приключения</td>\n",
       "      <td>352804320.4</td>\n",
       "      <td>0.537436</td>\n",
       "      <td>75000000.0</td>\n",
       "      <td>1</td>\n",
       "      <td>2015</td>\n",
       "      <td>триллер</td>\n",
       "      <td>А.Войтинский</td>\n",
       "    </tr>\n",
       "    <tr>\n",
       "      <th>1911</th>\n",
       "      <td>Ведьма .</td>\n",
       "      <td>111002215</td>\n",
       "      <td>2015-03-05 12:00:00+00:00</td>\n",
       "      <td>Художественный</td>\n",
       "      <td>ООО \"Кинокомпания \"Ракурс\"</td>\n",
       "      <td>Россия</td>\n",
       "      <td>В.Сидоренко</td>\n",
       "      <td>«16+» - для детей старше 16 лет</td>\n",
       "      <td>0.0</td>\n",
       "      <td>34000000.0</td>\n",
       "      <td>...</td>\n",
       "      <td>Министерство культуры</td>\n",
       "      <td>7.4</td>\n",
       "      <td>фэнтези,приключения,драма</td>\n",
       "      <td>51907.5</td>\n",
       "      <td>0.700000</td>\n",
       "      <td>34000000.0</td>\n",
       "      <td>1</td>\n",
       "      <td>2015</td>\n",
       "      <td>фэнтези</td>\n",
       "      <td>Д.Федоров</td>\n",
       "    </tr>\n",
       "    <tr>\n",
       "      <th>2057</th>\n",
       "      <td>Дуxless 2</td>\n",
       "      <td>111000415</td>\n",
       "      <td>2015-01-26 12:00:00+00:00</td>\n",
       "      <td>Художественный</td>\n",
       "      <td>ООО \"Киностудия \"Слово\", ООО \"Арт Пикчерс Студия\"</td>\n",
       "      <td>Россия</td>\n",
       "      <td>П.Ануров, Ф.Бондарчук, Д.Рудовский</td>\n",
       "      <td>«16+» - для детей старше 16 лет</td>\n",
       "      <td>0.0</td>\n",
       "      <td>75000000.0</td>\n",
       "      <td>...</td>\n",
       "      <td>Фонд кино</td>\n",
       "      <td>6.6</td>\n",
       "      <td>драма</td>\n",
       "      <td>446163511.0</td>\n",
       "      <td>0.601220</td>\n",
       "      <td>75000000.0</td>\n",
       "      <td>1</td>\n",
       "      <td>2015</td>\n",
       "      <td>драма</td>\n",
       "      <td>Р.Прыгунов</td>\n",
       "    </tr>\n",
       "  </tbody>\n",
       "</table>\n",
       "<p>5 rows × 21 columns</p>\n",
       "</div>"
      ],
      "text/plain": [
       "                                          title   puNumber  \\\n",
       "1853  Тайна Сухаревой башни. Чародей равновесия  114000115   \n",
       "1869                     А зори здесь тихие..._  111002915   \n",
       "1902                                  Призрак_.  111001815   \n",
       "1911                                   Ведьма .  111002215   \n",
       "2057                                  Дуxless 2  111000415   \n",
       "\n",
       "               show_start_date            type  \\\n",
       "1853 2015-02-18 12:00:00+00:00    Анимационный   \n",
       "1869 2015-03-16 12:00:00+00:00  Художественный   \n",
       "1902 2015-03-02 12:00:00+00:00  Художественный   \n",
       "1911 2015-03-05 12:00:00+00:00  Художественный   \n",
       "2057 2015-01-26 12:00:00+00:00  Художественный   \n",
       "\n",
       "                                            film_studio production_country  \\\n",
       "1853                        ООО \"Студия \"Мастер-Фильм\"              Россия   \n",
       "1869                        ООО \"Компания \"Реал-Дакота\"             Россия   \n",
       "1902                                 ООО \"Водород 2011\"             Россия   \n",
       "1911                         ООО \"Кинокомпания \"Ракурс\"             Россия   \n",
       "2057  ООО \"Киностудия \"Слово\", ООО \"Арт Пикчерс Студия\"             Россия   \n",
       "\n",
       "                                producer                  age_restriction  \\\n",
       "1853                         А.Герасимов   «06+» - для детей старше 6 лет   \n",
       "1869                                 NaN  «12+» - для детей старше 12 лет   \n",
       "1902                          С.Сельянов   «06+» - для детей старше 6 лет   \n",
       "1911                         В.Сидоренко  «16+» - для детей старше 16 лет   \n",
       "2057  П.Ануров, Ф.Бондарчук, Д.Рудовский  «16+» - для детей старше 16 лет   \n",
       "\n",
       "      refundable_support  nonrefundable_support  ...       financing_source  \\\n",
       "1853                 0.0             25000000.0  ...  Министерство культуры   \n",
       "1869          50000000.0            100000000.0  ...              Фонд кино   \n",
       "1902                 0.0             75000000.0  ...              Фонд кино   \n",
       "1911                 0.0             34000000.0  ...  Министерство культуры   \n",
       "2057                 0.0             75000000.0  ...              Фонд кино   \n",
       "\n",
       "     ratings                      genres   box_office  part_of_state_budget  \\\n",
       "1853     6.1  мультфильм,фэнтези,история   15078858.6              0.482160   \n",
       "1869     8.5       драма,военный,история  249166767.7              0.680000   \n",
       "1902     7.0  триллер,боевик,приключения  352804320.4              0.537436   \n",
       "1911     7.4   фэнтези,приключения,драма      51907.5              0.700000   \n",
       "2057     6.6                       драма  446163511.0              0.601220   \n",
       "\n",
       "      financing_total  is_rus  year  main_genre correct_director  \n",
       "1853       25000000.0       1  2015  мультфильм        С.Серегин  \n",
       "1869      150000000.0       1  2015       драма    Р.Давлетьяров  \n",
       "1902       75000000.0       1  2015     триллер     А.Войтинский  \n",
       "1911       34000000.0       1  2015     фэнтези        Д.Федоров  \n",
       "2057       75000000.0       1  2015       драма       Р.Прыгунов  \n",
       "\n",
       "[5 rows x 21 columns]"
      ]
     },
     "execution_count": 38,
     "metadata": {},
     "output_type": "execute_result"
    }
   ],
   "source": [
    "df.head(5)"
   ]
  },
  {
   "cell_type": "code",
   "execution_count": 39,
   "metadata": {},
   "outputs": [
    {
     "data": {
      "text/plain": [
       "Россия                                        273\n",
       "Россия, Италия                                  2\n",
       "Россия, Германия                                2\n",
       "Россия-Украина                                  1\n",
       "Россия, Украина, Польша                         1\n",
       "Россия, Германия, Великобритания                1\n",
       "Россия, Армения                                 1\n",
       "Россия-Словакия-Чехия                           1\n",
       "Россия, Латвия, Чешская Республика              1\n",
       "Россия, Германия, Казахстан, Польша, Китай      1\n",
       "Россия, Сербия                                  1\n",
       "Россия-Китай                                    1\n",
       "Name: production_country, dtype: int64"
      ]
     },
     "execution_count": 39,
     "metadata": {},
     "output_type": "execute_result"
    }
   ],
   "source": [
    "df['production_country'].value_counts()"
   ]
  },
  {
   "cell_type": "code",
   "execution_count": 40,
   "metadata": {},
   "outputs": [
    {
     "data": {
      "text/plain": [
       "0.9545454545454546"
      ]
     },
     "execution_count": 40,
     "metadata": {},
     "output_type": "execute_result"
    }
   ],
   "source": [
    "273 / len(df)"
   ]
  },
  {
   "cell_type": "code",
   "execution_count": 41,
   "metadata": {},
   "outputs": [
    {
     "data": {
      "image/png": "[encoded data removed]",
      "text/plain": [
       "<Figure size 504x504 with 1 Axes>"
      ]
     },
     "metadata": {},
     "output_type": "display_data"
    }
   ],
   "source": [
    "df.groupby('main_genre')['title'].count().sort_values().plot(kind='pie', figsize=(7,7))\n",
    "plt.show()"
   ]
  },
  {
   "cell_type": "code",
   "execution_count": 42,
   "metadata": {},
   "outputs": [],
   "source": [
    "df['payback'] = df['box_office'] - df['budget']\n",
    "df['payback_bool'] = df['payback'].apply(lambda row: 'Окупился' if row > 0 else 'Не окупился')"
   ]
  },
  {
   "cell_type": "code",
   "execution_count": 43,
   "metadata": {},
   "outputs": [
    {
     "data": {
      "image/png": "[encoded data removed]",
      "text/plain": [
       "<Figure size 432x288 with 1 Axes>"
      ]
     },
     "metadata": {},
     "output_type": "display_data"
    },
    {
     "data": {
      "text/html": [
       "<div>\n",
       "<style scoped>\n",
       "    .dataframe tbody tr th:only-of-type {\n",
       "        vertical-align: middle;\n",
       "    }\n",
       "\n",
       "    .dataframe tbody tr th {\n",
       "        vertical-align: top;\n",
       "    }\n",
       "\n",
       "    .dataframe thead tr th {\n",
       "        text-align: left;\n",
       "    }\n",
       "\n",
       "    .dataframe thead tr:last-of-type th {\n",
       "        text-align: right;\n",
       "    }\n",
       "</style>\n",
       "<table border=\"1\" class=\"dataframe\">\n",
       "  <thead>\n",
       "    <tr>\n",
       "      <th></th>\n",
       "      <th>count</th>\n",
       "      <th>sum</th>\n",
       "    </tr>\n",
       "    <tr>\n",
       "      <th></th>\n",
       "      <th>payback</th>\n",
       "      <th>payback</th>\n",
       "    </tr>\n",
       "    <tr>\n",
       "      <th>payback_bool</th>\n",
       "      <th></th>\n",
       "      <th></th>\n",
       "    </tr>\n",
       "  </thead>\n",
       "  <tbody>\n",
       "    <tr>\n",
       "      <th>Не окупился</th>\n",
       "      <td>217</td>\n",
       "      <td>-20.130427</td>\n",
       "    </tr>\n",
       "    <tr>\n",
       "      <th>Окупился</th>\n",
       "      <td>69</td>\n",
       "      <td>19.485469</td>\n",
       "    </tr>\n",
       "  </tbody>\n",
       "</table>\n",
       "</div>"
      ],
      "text/plain": [
       "               count        sum\n",
       "             payback    payback\n",
       "payback_bool                   \n",
       "Не окупился      217 -20.130427\n",
       "Окупился          69  19.485469"
      ]
     },
     "metadata": {},
     "output_type": "display_data"
    }
   ],
   "source": [
    "df_pivot = df.pivot_table(values='payback', index='payback_bool', aggfunc=['count', 'sum'])\n",
    "df_pivot.plot(kind='pie', subplots=True, y='count', autopct='%1.0f%%', legend=True, label='')\n",
    "plt.show()\n",
    "df_pivot['sum'] /= 1e9 # В млрд рублей\n",
    "display(df_pivot) \n",
    "del df_pivot"
   ]
  },
  {
   "cell_type": "code",
   "execution_count": 44,
   "metadata": {},
   "outputs": [],
   "source": [
    "pd.options.display.float_format ='{:,.1f}'.format"
   ]
  },
  {
   "cell_type": "code",
   "execution_count": 45,
   "metadata": {},
   "outputs": [
    {
     "data": {
      "text/html": [
       "<div>\n",
       "<style scoped>\n",
       "    .dataframe tbody tr th:only-of-type {\n",
       "        vertical-align: middle;\n",
       "    }\n",
       "\n",
       "    .dataframe tbody tr th {\n",
       "        vertical-align: top;\n",
       "    }\n",
       "\n",
       "    .dataframe thead tr th {\n",
       "        text-align: left;\n",
       "    }\n",
       "\n",
       "    .dataframe thead tr:last-of-type th {\n",
       "        text-align: right;\n",
       "    }\n",
       "</style>\n",
       "<table border=\"1\" class=\"dataframe\">\n",
       "  <thead>\n",
       "    <tr>\n",
       "      <th></th>\n",
       "      <th colspan=\"5\" halign=\"left\">sum</th>\n",
       "      <th colspan=\"5\" halign=\"left\">count</th>\n",
       "    </tr>\n",
       "    <tr>\n",
       "      <th></th>\n",
       "      <th>box_office</th>\n",
       "      <th>budget</th>\n",
       "      <th>nonrefundable_support</th>\n",
       "      <th>payback</th>\n",
       "      <th>refundable_support</th>\n",
       "      <th>box_office</th>\n",
       "      <th>budget</th>\n",
       "      <th>nonrefundable_support</th>\n",
       "      <th>payback</th>\n",
       "      <th>refundable_support</th>\n",
       "    </tr>\n",
       "    <tr>\n",
       "      <th>correct_director</th>\n",
       "      <th></th>\n",
       "      <th></th>\n",
       "      <th></th>\n",
       "      <th></th>\n",
       "      <th></th>\n",
       "      <th></th>\n",
       "      <th></th>\n",
       "      <th></th>\n",
       "      <th></th>\n",
       "      <th></th>\n",
       "    </tr>\n",
       "  </thead>\n",
       "  <tbody>\n",
       "    <tr>\n",
       "      <th>Н.Хомерики</th>\n",
       "      <td>618,142,950.2</td>\n",
       "      <td>983,501,686.8</td>\n",
       "      <td>540,000,000.0</td>\n",
       "      <td>-365,358,736.6</td>\n",
       "      <td>120,000,000.0</td>\n",
       "      <td>3</td>\n",
       "      <td>3</td>\n",
       "      <td>3</td>\n",
       "      <td>3</td>\n",
       "      <td>3</td>\n",
       "    </tr>\n",
       "    <tr>\n",
       "      <th>А.Кравчук</th>\n",
       "      <td>717,703,185.5</td>\n",
       "      <td>980,000,000.0</td>\n",
       "      <td>400,000,000.0</td>\n",
       "      <td>-262,296,814.5</td>\n",
       "      <td>100,000,000.0</td>\n",
       "      <td>1</td>\n",
       "      <td>1</td>\n",
       "      <td>1</td>\n",
       "      <td>1</td>\n",
       "      <td>1</td>\n",
       "    </tr>\n",
       "    <tr>\n",
       "      <th>А.Мегердичев</th>\n",
       "      <td>2,779,686,144.0</td>\n",
       "      <td>590,192,191.0</td>\n",
       "      <td>400,000,000.0</td>\n",
       "      <td>2,189,493,953.0</td>\n",
       "      <td>0.0</td>\n",
       "      <td>1</td>\n",
       "      <td>1</td>\n",
       "      <td>1</td>\n",
       "      <td>1</td>\n",
       "      <td>1</td>\n",
       "    </tr>\n",
       "    <tr>\n",
       "      <th>Н.Лебедев</th>\n",
       "      <td>1,402,255,390.0</td>\n",
       "      <td>635,283,867.0</td>\n",
       "      <td>392,104,482.0</td>\n",
       "      <td>766,971,523.0</td>\n",
       "      <td>50,000,000.0</td>\n",
       "      <td>1</td>\n",
       "      <td>1</td>\n",
       "      <td>1</td>\n",
       "      <td>1</td>\n",
       "      <td>1</td>\n",
       "    </tr>\n",
       "    <tr>\n",
       "      <th>А.Мизгирев</th>\n",
       "      <td>364,285,139.6</td>\n",
       "      <td>684,200,536.0</td>\n",
       "      <td>300,000,000.0</td>\n",
       "      <td>-319,915,396.4</td>\n",
       "      <td>150,000,000.0</td>\n",
       "      <td>1</td>\n",
       "      <td>1</td>\n",
       "      <td>1</td>\n",
       "      <td>1</td>\n",
       "      <td>1</td>\n",
       "    </tr>\n",
       "  </tbody>\n",
       "</table>\n",
       "</div>"
      ],
      "text/plain": [
       "                             sum                                      \\\n",
       "                      box_office        budget nonrefundable_support   \n",
       "correct_director                                                       \n",
       "Н.Хомерики         618,142,950.2 983,501,686.8         540,000,000.0   \n",
       "А.Кравчук          717,703,185.5 980,000,000.0         400,000,000.0   \n",
       "А.Мегердичев     2,779,686,144.0 590,192,191.0         400,000,000.0   \n",
       "Н.Лебедев        1,402,255,390.0 635,283,867.0         392,104,482.0   \n",
       "А.Мизгирев         364,285,139.6 684,200,536.0         300,000,000.0   \n",
       "\n",
       "                                                         count         \\\n",
       "                         payback refundable_support box_office budget   \n",
       "correct_director                                                        \n",
       "Н.Хомерики        -365,358,736.6      120,000,000.0          3      3   \n",
       "А.Кравчук         -262,296,814.5      100,000,000.0          1      1   \n",
       "А.Мегердичев     2,189,493,953.0                0.0          1      1   \n",
       "Н.Лебедев          766,971,523.0       50,000,000.0          1      1   \n",
       "А.Мизгирев        -319,915,396.4      150,000,000.0          1      1   \n",
       "\n",
       "                                                                   \n",
       "                 nonrefundable_support payback refundable_support  \n",
       "correct_director                                                   \n",
       "Н.Хомерики                           3       3                  3  \n",
       "А.Кравчук                            1       1                  1  \n",
       "А.Мегердичев                         1       1                  1  \n",
       "Н.Лебедев                            1       1                  1  \n",
       "А.Мизгирев                           1       1                  1  "
      ]
     },
     "execution_count": 45,
     "metadata": {},
     "output_type": "execute_result"
    }
   ],
   "source": [
    "df.pivot_table(values=['nonrefundable_support', 'refundable_support', 'budget' , 'box_office', 'payback'], \n",
    "               index='correct_director', \n",
    "               aggfunc=['sum', 'count']).sort_values(by=('sum', 'nonrefundable_support'), ascending=False).head(5)"
   ]
  },
  {
   "cell_type": "markdown",
   "metadata": {},
   "source": [
    "no comment"
   ]
  },
  {
   "cell_type": "code",
   "execution_count": 46,
   "metadata": {},
   "outputs": [
    {
     "data": {
      "text/html": [
       "<div>\n",
       "<style scoped>\n",
       "    .dataframe tbody tr th:only-of-type {\n",
       "        vertical-align: middle;\n",
       "    }\n",
       "\n",
       "    .dataframe tbody tr th {\n",
       "        vertical-align: top;\n",
       "    }\n",
       "\n",
       "    .dataframe thead th {\n",
       "        text-align: right;\n",
       "    }\n",
       "</style>\n",
       "<table border=\"1\" class=\"dataframe\">\n",
       "  <thead>\n",
       "    <tr style=\"text-align: right;\">\n",
       "      <th></th>\n",
       "      <th>title</th>\n",
       "      <th>puNumber</th>\n",
       "      <th>show_start_date</th>\n",
       "      <th>type</th>\n",
       "      <th>film_studio</th>\n",
       "      <th>production_country</th>\n",
       "      <th>producer</th>\n",
       "      <th>age_restriction</th>\n",
       "      <th>refundable_support</th>\n",
       "      <th>nonrefundable_support</th>\n",
       "      <th>...</th>\n",
       "      <th>genres</th>\n",
       "      <th>box_office</th>\n",
       "      <th>part_of_state_budget</th>\n",
       "      <th>financing_total</th>\n",
       "      <th>is_rus</th>\n",
       "      <th>year</th>\n",
       "      <th>main_genre</th>\n",
       "      <th>correct_director</th>\n",
       "      <th>payback</th>\n",
       "      <th>payback_bool</th>\n",
       "    </tr>\n",
       "  </thead>\n",
       "  <tbody>\n",
       "    <tr>\n",
       "      <th>1869</th>\n",
       "      <td>А зори здесь тихие..._</td>\n",
       "      <td>111002915</td>\n",
       "      <td>2015-03-16 12:00:00+00:00</td>\n",
       "      <td>Художественный</td>\n",
       "      <td>ООО \"Компания \"Реал-Дакота\"</td>\n",
       "      <td>Россия</td>\n",
       "      <td>NaN</td>\n",
       "      <td>«12+» - для детей старше 12 лет</td>\n",
       "      <td>50,000,000.0</td>\n",
       "      <td>100,000,000.0</td>\n",
       "      <td>...</td>\n",
       "      <td>драма,военный,история</td>\n",
       "      <td>249,166,767.7</td>\n",
       "      <td>0.7</td>\n",
       "      <td>150,000,000.0</td>\n",
       "      <td>1</td>\n",
       "      <td>2015</td>\n",
       "      <td>драма</td>\n",
       "      <td>Р.Давлетьяров</td>\n",
       "      <td>28,578,373.7</td>\n",
       "      <td>Окупился</td>\n",
       "    </tr>\n",
       "    <tr>\n",
       "      <th>2481</th>\n",
       "      <td>Однажды._</td>\n",
       "      <td>111004215</td>\n",
       "      <td>2015-04-15 12:00:00+00:00</td>\n",
       "      <td>Художественный</td>\n",
       "      <td>ООО \"Компания \"РЕАЛ-ДАКОТА\", НП \"Интерфест\"</td>\n",
       "      <td>Россия</td>\n",
       "      <td>Р.Давлетьяров, А.Котелевский</td>\n",
       "      <td>«16+» - для детей старше 16 лет</td>\n",
       "      <td>0.0</td>\n",
       "      <td>97,000,000.0</td>\n",
       "      <td>...</td>\n",
       "      <td>драма,криминал,детектив</td>\n",
       "      <td>12,748,398.3</td>\n",
       "      <td>0.6</td>\n",
       "      <td>97,000,000.0</td>\n",
       "      <td>1</td>\n",
       "      <td>2015</td>\n",
       "      <td>драма</td>\n",
       "      <td>Р.Давлетьяров</td>\n",
       "      <td>-143,612,267.7</td>\n",
       "      <td>Не окупился</td>\n",
       "    </tr>\n",
       "    <tr>\n",
       "      <th>2722</th>\n",
       "      <td>Чистое искусство.</td>\n",
       "      <td>111008715</td>\n",
       "      <td>2015-05-05 12:00:00+00:00</td>\n",
       "      <td>Художественный</td>\n",
       "      <td>ООО \"КОМПАНИЯ \"РЕАЛ-ДАКОТА\"</td>\n",
       "      <td>Россия</td>\n",
       "      <td>Р.Давлетьяров</td>\n",
       "      <td>«16+» - для детей старше 16 лет</td>\n",
       "      <td>15,000,000.0</td>\n",
       "      <td>60,000,000.0</td>\n",
       "      <td>...</td>\n",
       "      <td>триллер,детектив</td>\n",
       "      <td>6,457,303.0</td>\n",
       "      <td>0.7</td>\n",
       "      <td>75,000,000.0</td>\n",
       "      <td>1</td>\n",
       "      <td>2015</td>\n",
       "      <td>триллер</td>\n",
       "      <td>Р.Давлетьяров</td>\n",
       "      <td>-105,278,860.0</td>\n",
       "      <td>Не окупился</td>\n",
       "    </tr>\n",
       "    <tr>\n",
       "      <th>6919</th>\n",
       "      <td>Донбасс. Окраина</td>\n",
       "      <td>111007919</td>\n",
       "      <td>2019-06-12 12:00:00+00:00</td>\n",
       "      <td>Художественный</td>\n",
       "      <td>АНО \"Интерфест\", ООО \"Пропеллер Продакшн\"</td>\n",
       "      <td>Россия</td>\n",
       "      <td>Р.Давлетьяров, Г.Поземельный</td>\n",
       "      <td>«12+» - для детей старше 12 лет</td>\n",
       "      <td>0.0</td>\n",
       "      <td>30,000,000.0</td>\n",
       "      <td>...</td>\n",
       "      <td>драма,военный,триллер</td>\n",
       "      <td>10,933,431.9</td>\n",
       "      <td>0.3</td>\n",
       "      <td>30,000,000.0</td>\n",
       "      <td>1</td>\n",
       "      <td>2019</td>\n",
       "      <td>драма</td>\n",
       "      <td>Р.Давлетьяров</td>\n",
       "      <td>-94,788,092.1</td>\n",
       "      <td>Не окупился</td>\n",
       "    </tr>\n",
       "  </tbody>\n",
       "</table>\n",
       "<p>4 rows × 23 columns</p>\n",
       "</div>"
      ],
      "text/plain": [
       "                       title   puNumber           show_start_date  \\\n",
       "1869  А зори здесь тихие..._  111002915 2015-03-16 12:00:00+00:00   \n",
       "2481               Однажды._  111004215 2015-04-15 12:00:00+00:00   \n",
       "2722       Чистое искусство.  111008715 2015-05-05 12:00:00+00:00   \n",
       "6919        Донбасс. Окраина  111007919 2019-06-12 12:00:00+00:00   \n",
       "\n",
       "                type                                  film_studio  \\\n",
       "1869  Художественный                  ООО \"Компания \"Реал-Дакота\"   \n",
       "2481  Художественный  ООО \"Компания \"РЕАЛ-ДАКОТА\", НП \"Интерфест\"   \n",
       "2722  Художественный                  ООО \"КОМПАНИЯ \"РЕАЛ-ДАКОТА\"   \n",
       "6919  Художественный    АНО \"Интерфест\", ООО \"Пропеллер Продакшн\"   \n",
       "\n",
       "     production_country                      producer  \\\n",
       "1869             Россия                           NaN   \n",
       "2481             Россия  Р.Давлетьяров, А.Котелевский   \n",
       "2722             Россия                 Р.Давлетьяров   \n",
       "6919             Россия  Р.Давлетьяров, Г.Поземельный   \n",
       "\n",
       "                      age_restriction  refundable_support  \\\n",
       "1869  «12+» - для детей старше 12 лет        50,000,000.0   \n",
       "2481  «16+» - для детей старше 16 лет                 0.0   \n",
       "2722  «16+» - для детей старше 16 лет        15,000,000.0   \n",
       "6919  «12+» - для детей старше 12 лет                 0.0   \n",
       "\n",
       "      nonrefundable_support  ...                   genres    box_office  \\\n",
       "1869          100,000,000.0  ...    драма,военный,история 249,166,767.7   \n",
       "2481           97,000,000.0  ...  драма,криминал,детектив  12,748,398.3   \n",
       "2722           60,000,000.0  ...         триллер,детектив   6,457,303.0   \n",
       "6919           30,000,000.0  ...    драма,военный,триллер  10,933,431.9   \n",
       "\n",
       "      part_of_state_budget financing_total  is_rus  year  main_genre  \\\n",
       "1869                   0.7   150,000,000.0       1  2015       драма   \n",
       "2481                   0.6    97,000,000.0       1  2015       драма   \n",
       "2722                   0.7    75,000,000.0       1  2015     триллер   \n",
       "6919                   0.3    30,000,000.0       1  2019       драма   \n",
       "\n",
       "      correct_director        payback payback_bool  \n",
       "1869     Р.Давлетьяров   28,578,373.7     Окупился  \n",
       "2481     Р.Давлетьяров -143,612,267.7  Не окупился  \n",
       "2722     Р.Давлетьяров -105,278,860.0  Не окупился  \n",
       "6919     Р.Давлетьяров  -94,788,092.1  Не окупился  \n",
       "\n",
       "[4 rows x 23 columns]"
      ]
     },
     "execution_count": 46,
     "metadata": {},
     "output_type": "execute_result"
    }
   ],
   "source": [
    "df.query('correct_director == \"Р.Давлетьяров\"')"
   ]
  },
  {
   "cell_type": "code",
   "execution_count": 47,
   "metadata": {},
   "outputs": [
    {
     "data": {
      "text/html": [
       "<div>\n",
       "<style scoped>\n",
       "    .dataframe tbody tr th:only-of-type {\n",
       "        vertical-align: middle;\n",
       "    }\n",
       "\n",
       "    .dataframe tbody tr th {\n",
       "        vertical-align: top;\n",
       "    }\n",
       "\n",
       "    .dataframe thead th {\n",
       "        text-align: right;\n",
       "    }\n",
       "</style>\n",
       "<table border=\"1\" class=\"dataframe\">\n",
       "  <thead>\n",
       "    <tr style=\"text-align: right;\">\n",
       "      <th></th>\n",
       "      <th>box_office</th>\n",
       "      <th>budget</th>\n",
       "      <th>financing_total</th>\n",
       "      <th>nonrefundable_support</th>\n",
       "      <th>payback</th>\n",
       "      <th>refundable_support</th>\n",
       "      <th>count_films</th>\n",
       "    </tr>\n",
       "    <tr>\n",
       "      <th>correct_director</th>\n",
       "      <th></th>\n",
       "      <th></th>\n",
       "      <th></th>\n",
       "      <th></th>\n",
       "      <th></th>\n",
       "      <th></th>\n",
       "      <th></th>\n",
       "    </tr>\n",
       "  </thead>\n",
       "  <tbody>\n",
       "    <tr>\n",
       "      <th>К.Шипенко</th>\n",
       "      <td>3,826,248,467.8</td>\n",
       "      <td>653,733,957.0</td>\n",
       "      <td>285,000,000.0</td>\n",
       "      <td>260,000,000.0</td>\n",
       "      <td>3,172,514,510.8</td>\n",
       "      <td>25,000,000.0</td>\n",
       "      <td>2</td>\n",
       "    </tr>\n",
       "    <tr>\n",
       "      <th>Д.Дьяченко</th>\n",
       "      <td>2,404,898,634.1</td>\n",
       "      <td>780,695,312.0</td>\n",
       "      <td>351,000,000.0</td>\n",
       "      <td>180,000,000.0</td>\n",
       "      <td>1,624,203,322.1</td>\n",
       "      <td>171,000,000.0</td>\n",
       "      <td>4</td>\n",
       "    </tr>\n",
       "    <tr>\n",
       "      <th>Д.Шмидт</th>\n",
       "      <td>1,412,475,637.0</td>\n",
       "      <td>714,163,376.0</td>\n",
       "      <td>215,000,000.0</td>\n",
       "      <td>115,000,000.0</td>\n",
       "      <td>698,312,261.0</td>\n",
       "      <td>100,000,000.0</td>\n",
       "      <td>3</td>\n",
       "    </tr>\n",
       "    <tr>\n",
       "      <th>Д.Киселев</th>\n",
       "      <td>1,399,783,312.0</td>\n",
       "      <td>702,823,899.0</td>\n",
       "      <td>350,000,000.0</td>\n",
       "      <td>225,000,000.0</td>\n",
       "      <td>696,959,413.0</td>\n",
       "      <td>125,000,000.0</td>\n",
       "      <td>2</td>\n",
       "    </tr>\n",
       "    <tr>\n",
       "      <th>Т.Бекмамбетов</th>\n",
       "      <td>1,009,908,513.0</td>\n",
       "      <td>394,871,057.0</td>\n",
       "      <td>250,000,000.0</td>\n",
       "      <td>175,000,000.0</td>\n",
       "      <td>615,037,456.0</td>\n",
       "      <td>75,000,000.0</td>\n",
       "      <td>2</td>\n",
       "    </tr>\n",
       "    <tr>\n",
       "      <th>Р.Прыгунов</th>\n",
       "      <td>854,810,176.7</td>\n",
       "      <td>364,787,583.0</td>\n",
       "      <td>215,000,000.0</td>\n",
       "      <td>215,000,000.0</td>\n",
       "      <td>490,022,593.7</td>\n",
       "      <td>0.0</td>\n",
       "      <td>2</td>\n",
       "    </tr>\n",
       "    <tr>\n",
       "      <th>Р.Гигинеишвили</th>\n",
       "      <td>405,825,165.0</td>\n",
       "      <td>160,273,277.0</td>\n",
       "      <td>90,000,000.0</td>\n",
       "      <td>80,000,000.0</td>\n",
       "      <td>245,551,888.0</td>\n",
       "      <td>10,000,000.0</td>\n",
       "      <td>2</td>\n",
       "    </tr>\n",
       "    <tr>\n",
       "      <th>К.Дружинин</th>\n",
       "      <td>459,377,899.8</td>\n",
       "      <td>225,389,238.0</td>\n",
       "      <td>90,000,000.0</td>\n",
       "      <td>90,000,000.0</td>\n",
       "      <td>233,988,661.8</td>\n",
       "      <td>0.0</td>\n",
       "      <td>2</td>\n",
       "    </tr>\n",
       "    <tr>\n",
       "      <th>Р.Каримов</th>\n",
       "      <td>275,176,282.0</td>\n",
       "      <td>81,252,509.0</td>\n",
       "      <td>53,345,000.0</td>\n",
       "      <td>53,345,000.0</td>\n",
       "      <td>193,923,773.0</td>\n",
       "      <td>0.0</td>\n",
       "      <td>2</td>\n",
       "    </tr>\n",
       "    <tr>\n",
       "      <th>С.Подгаевский</th>\n",
       "      <td>276,674,285.7</td>\n",
       "      <td>92,000,000.0</td>\n",
       "      <td>53,000,000.0</td>\n",
       "      <td>40,000,000.0</td>\n",
       "      <td>184,674,285.7</td>\n",
       "      <td>13,000,000.0</td>\n",
       "      <td>2</td>\n",
       "    </tr>\n",
       "    <tr>\n",
       "      <th>С.Мокрицкий</th>\n",
       "      <td>605,964,429.0</td>\n",
       "      <td>422,067,392.0</td>\n",
       "      <td>202,510,000.0</td>\n",
       "      <td>162,510,000.0</td>\n",
       "      <td>183,897,036.9</td>\n",
       "      <td>40,000,000.0</td>\n",
       "      <td>3</td>\n",
       "    </tr>\n",
       "    <tr>\n",
       "      <th>С.Андреасян</th>\n",
       "      <td>910,430,198.3</td>\n",
       "      <td>752,736,029.0</td>\n",
       "      <td>325,000,000.0</td>\n",
       "      <td>260,000,000.0</td>\n",
       "      <td>157,694,169.3</td>\n",
       "      <td>65,000,000.0</td>\n",
       "      <td>4</td>\n",
       "    </tr>\n",
       "    <tr>\n",
       "      <th>Л.Марголин</th>\n",
       "      <td>177,186,449.4</td>\n",
       "      <td>91,305,313.0</td>\n",
       "      <td>50,000,000.0</td>\n",
       "      <td>40,000,000.0</td>\n",
       "      <td>85,881,136.4</td>\n",
       "      <td>10,000,000.0</td>\n",
       "      <td>2</td>\n",
       "    </tr>\n",
       "    <tr>\n",
       "      <th>А.Волгин</th>\n",
       "      <td>317,331,388.2</td>\n",
       "      <td>240,278,063.0</td>\n",
       "      <td>41,000,000.0</td>\n",
       "      <td>41,000,000.0</td>\n",
       "      <td>77,053,325.2</td>\n",
       "      <td>0.0</td>\n",
       "      <td>2</td>\n",
       "    </tr>\n",
       "    <tr>\n",
       "      <th>А.Войтинский</th>\n",
       "      <td>406,638,830.2</td>\n",
       "      <td>342,035,727.0</td>\n",
       "      <td>175,000,000.0</td>\n",
       "      <td>135,000,000.0</td>\n",
       "      <td>64,603,103.2</td>\n",
       "      <td>40,000,000.0</td>\n",
       "      <td>2</td>\n",
       "    </tr>\n",
       "    <tr>\n",
       "      <th>М.Расходников</th>\n",
       "      <td>115,628,867.6</td>\n",
       "      <td>78,680,858.0</td>\n",
       "      <td>45,000,000.0</td>\n",
       "      <td>45,000,000.0</td>\n",
       "      <td>36,948,009.6</td>\n",
       "      <td>0.0</td>\n",
       "      <td>2</td>\n",
       "    </tr>\n",
       "    <tr>\n",
       "      <th>А.Меликян</th>\n",
       "      <td>166,807,655.1</td>\n",
       "      <td>138,748,412.0</td>\n",
       "      <td>50,000,000.0</td>\n",
       "      <td>50,000,000.0</td>\n",
       "      <td>28,059,243.1</td>\n",
       "      <td>0.0</td>\n",
       "      <td>2</td>\n",
       "    </tr>\n",
       "    <tr>\n",
       "      <th>А.Пармас</th>\n",
       "      <td>119,912,620.0</td>\n",
       "      <td>95,874,375.0</td>\n",
       "      <td>55,000,000.0</td>\n",
       "      <td>55,000,000.0</td>\n",
       "      <td>24,038,245.0</td>\n",
       "      <td>0.0</td>\n",
       "      <td>2</td>\n",
       "    </tr>\n",
       "    <tr>\n",
       "      <th>П.Руминов</th>\n",
       "      <td>156,211,231.4</td>\n",
       "      <td>153,686,500.0</td>\n",
       "      <td>65,000,000.0</td>\n",
       "      <td>40,000,000.0</td>\n",
       "      <td>2,524,731.4</td>\n",
       "      <td>25,000,000.0</td>\n",
       "      <td>2</td>\n",
       "    </tr>\n",
       "    <tr>\n",
       "      <th>В.Ровенский</th>\n",
       "      <td>121,877,232.5</td>\n",
       "      <td>126,409,559.7</td>\n",
       "      <td>76,000,000.0</td>\n",
       "      <td>66,000,000.0</td>\n",
       "      <td>-4,532,327.3</td>\n",
       "      <td>10,000,000.0</td>\n",
       "      <td>2</td>\n",
       "    </tr>\n",
       "    <tr>\n",
       "      <th>А.Аксененко</th>\n",
       "      <td>212,728,819.6</td>\n",
       "      <td>224,667,735.0</td>\n",
       "      <td>90,000,000.0</td>\n",
       "      <td>65,000,000.0</td>\n",
       "      <td>-11,938,915.4</td>\n",
       "      <td>25,000,000.0</td>\n",
       "      <td>3</td>\n",
       "    </tr>\n",
       "    <tr>\n",
       "      <th>Т.Игуменцева</th>\n",
       "      <td>89,083,298.6</td>\n",
       "      <td>125,661,150.0</td>\n",
       "      <td>75,000,000.0</td>\n",
       "      <td>55,000,000.0</td>\n",
       "      <td>-36,577,851.4</td>\n",
       "      <td>20,000,000.0</td>\n",
       "      <td>2</td>\n",
       "    </tr>\n",
       "    <tr>\n",
       "      <th>А.Богуславский</th>\n",
       "      <td>231,477,430.1</td>\n",
       "      <td>291,220,033.0</td>\n",
       "      <td>46,000,000.0</td>\n",
       "      <td>46,000,000.0</td>\n",
       "      <td>-59,742,602.9</td>\n",
       "      <td>0.0</td>\n",
       "      <td>2</td>\n",
       "    </tr>\n",
       "    <tr>\n",
       "      <th>В.Хотиненко</th>\n",
       "      <td>2,152,759.5</td>\n",
       "      <td>65,228,741.0</td>\n",
       "      <td>45,153,119.0</td>\n",
       "      <td>38,000,000.0</td>\n",
       "      <td>-63,075,981.5</td>\n",
       "      <td>7,153,119.0</td>\n",
       "      <td>2</td>\n",
       "    </tr>\n",
       "    <tr>\n",
       "      <th>А.Матисон</th>\n",
       "      <td>69,664,499.5</td>\n",
       "      <td>135,483,233.0</td>\n",
       "      <td>85,904,000.0</td>\n",
       "      <td>42,904,000.0</td>\n",
       "      <td>-65,818,733.5</td>\n",
       "      <td>43,000,000.0</td>\n",
       "      <td>2</td>\n",
       "    </tr>\n",
       "    <tr>\n",
       "      <th>А.Темников</th>\n",
       "      <td>306,193.0</td>\n",
       "      <td>85,332,820.0</td>\n",
       "      <td>58,000,000.0</td>\n",
       "      <td>58,000,000.0</td>\n",
       "      <td>-85,026,627.0</td>\n",
       "      <td>0.0</td>\n",
       "      <td>2</td>\n",
       "    </tr>\n",
       "    <tr>\n",
       "      <th>Д.Месхиев</th>\n",
       "      <td>453,511,598.7</td>\n",
       "      <td>546,437,176.0</td>\n",
       "      <td>116,579,055.0</td>\n",
       "      <td>116,579,055.0</td>\n",
       "      <td>-92,925,577.3</td>\n",
       "      <td>0.0</td>\n",
       "      <td>2</td>\n",
       "    </tr>\n",
       "    <tr>\n",
       "      <th>А.Карпиловский</th>\n",
       "      <td>1,251,726.0</td>\n",
       "      <td>98,714,286.0</td>\n",
       "      <td>55,000,000.0</td>\n",
       "      <td>55,000,000.0</td>\n",
       "      <td>-97,462,560.0</td>\n",
       "      <td>0.0</td>\n",
       "      <td>2</td>\n",
       "    </tr>\n",
       "    <tr>\n",
       "      <th>И.Твердовский</th>\n",
       "      <td>2,310,992.0</td>\n",
       "      <td>100,000,000.0</td>\n",
       "      <td>61,000,000.0</td>\n",
       "      <td>61,000,000.0</td>\n",
       "      <td>-97,689,008.0</td>\n",
       "      <td>0.0</td>\n",
       "      <td>2</td>\n",
       "    </tr>\n",
       "    <tr>\n",
       "      <th>Н.Меркулова</th>\n",
       "      <td>8,783,115.0</td>\n",
       "      <td>129,182,802.0</td>\n",
       "      <td>73,500,000.0</td>\n",
       "      <td>58,500,000.0</td>\n",
       "      <td>-120,399,687.0</td>\n",
       "      <td>15,000,000.0</td>\n",
       "      <td>2</td>\n",
       "    </tr>\n",
       "    <tr>\n",
       "      <th>К.Худяков</th>\n",
       "      <td>1,006,130.0</td>\n",
       "      <td>123,320,376.0</td>\n",
       "      <td>77,346,881.0</td>\n",
       "      <td>70,000,000.0</td>\n",
       "      <td>-122,314,246.0</td>\n",
       "      <td>7,346,881.0</td>\n",
       "      <td>2</td>\n",
       "    </tr>\n",
       "    <tr>\n",
       "      <th>Р.Артемьев</th>\n",
       "      <td>1,749,475.5</td>\n",
       "      <td>125,727,288.0</td>\n",
       "      <td>60,000,000.0</td>\n",
       "      <td>60,000,000.0</td>\n",
       "      <td>-123,977,812.5</td>\n",
       "      <td>0.0</td>\n",
       "      <td>2</td>\n",
       "    </tr>\n",
       "    <tr>\n",
       "      <th>А.Прошкин</th>\n",
       "      <td>19,090,758.9</td>\n",
       "      <td>160,990,606.0</td>\n",
       "      <td>75,000,000.0</td>\n",
       "      <td>75,000,000.0</td>\n",
       "      <td>-141,899,847.1</td>\n",
       "      <td>0.0</td>\n",
       "      <td>2</td>\n",
       "    </tr>\n",
       "    <tr>\n",
       "      <th>М.Волков</th>\n",
       "      <td>211,089,093.4</td>\n",
       "      <td>416,211,215.0</td>\n",
       "      <td>130,000,000.0</td>\n",
       "      <td>100,000,000.0</td>\n",
       "      <td>-205,122,121.6</td>\n",
       "      <td>30,000,000.0</td>\n",
       "      <td>2</td>\n",
       "    </tr>\n",
       "    <tr>\n",
       "      <th>А.Котт</th>\n",
       "      <td>3,473,035.2</td>\n",
       "      <td>251,682,766.0</td>\n",
       "      <td>129,000,000.0</td>\n",
       "      <td>104,000,000.0</td>\n",
       "      <td>-248,209,730.8</td>\n",
       "      <td>25,000,000.0</td>\n",
       "      <td>3</td>\n",
       "    </tr>\n",
       "    <tr>\n",
       "      <th>Д.Тюрин</th>\n",
       "      <td>158,006,449.1</td>\n",
       "      <td>408,842,279.6</td>\n",
       "      <td>270,000,000.0</td>\n",
       "      <td>251,000,000.0</td>\n",
       "      <td>-250,835,830.6</td>\n",
       "      <td>19,000,000.0</td>\n",
       "      <td>2</td>\n",
       "    </tr>\n",
       "    <tr>\n",
       "      <th>К.Белевич</th>\n",
       "      <td>3,027,991.0</td>\n",
       "      <td>261,626,863.0</td>\n",
       "      <td>169,000,000.0</td>\n",
       "      <td>150,000,000.0</td>\n",
       "      <td>-258,598,872.0</td>\n",
       "      <td>19,000,000.0</td>\n",
       "      <td>2</td>\n",
       "    </tr>\n",
       "    <tr>\n",
       "      <th>Ф.Дмитриев</th>\n",
       "      <td>141,298,740.0</td>\n",
       "      <td>438,325,738.0</td>\n",
       "      <td>250,000,000.0</td>\n",
       "      <td>250,000,000.0</td>\n",
       "      <td>-297,026,998.0</td>\n",
       "      <td>0.0</td>\n",
       "      <td>2</td>\n",
       "    </tr>\n",
       "    <tr>\n",
       "      <th>В.Тодоровский</th>\n",
       "      <td>312,569,793.6</td>\n",
       "      <td>620,000,000.0</td>\n",
       "      <td>280,000,000.0</td>\n",
       "      <td>270,000,000.0</td>\n",
       "      <td>-307,430,206.4</td>\n",
       "      <td>10,000,000.0</td>\n",
       "      <td>2</td>\n",
       "    </tr>\n",
       "    <tr>\n",
       "      <th>Р.Давлетьяров</th>\n",
       "      <td>279,305,900.9</td>\n",
       "      <td>594,406,747.0</td>\n",
       "      <td>352,000,000.0</td>\n",
       "      <td>287,000,000.0</td>\n",
       "      <td>-315,100,846.1</td>\n",
       "      <td>65,000,000.0</td>\n",
       "      <td>4</td>\n",
       "    </tr>\n",
       "    <tr>\n",
       "      <th>Н.Хомерики</th>\n",
       "      <td>618,142,950.2</td>\n",
       "      <td>983,501,686.8</td>\n",
       "      <td>660,000,000.0</td>\n",
       "      <td>540,000,000.0</td>\n",
       "      <td>-365,358,736.6</td>\n",
       "      <td>120,000,000.0</td>\n",
       "      <td>3</td>\n",
       "    </tr>\n",
       "    <tr>\n",
       "      <th>А.Цицилин</th>\n",
       "      <td>216,836,102.8</td>\n",
       "      <td>599,672,945.0</td>\n",
       "      <td>280,000,000.0</td>\n",
       "      <td>160,000,000.0</td>\n",
       "      <td>-382,836,842.2</td>\n",
       "      <td>120,000,000.0</td>\n",
       "      <td>2</td>\n",
       "    </tr>\n",
       "    <tr>\n",
       "      <th>П.Лунгин</th>\n",
       "      <td>76,743,273.2</td>\n",
       "      <td>490,850,307.0</td>\n",
       "      <td>280,000,000.0</td>\n",
       "      <td>263,000,000.0</td>\n",
       "      <td>-414,107,033.8</td>\n",
       "      <td>17,000,000.0</td>\n",
       "      <td>2</td>\n",
       "    </tr>\n",
       "    <tr>\n",
       "      <th>А.Михалков</th>\n",
       "      <td>78,251,006.7</td>\n",
       "      <td>888,962,912.0</td>\n",
       "      <td>85,000,000.0</td>\n",
       "      <td>85,000,000.0</td>\n",
       "      <td>-810,711,905.3</td>\n",
       "      <td>0.0</td>\n",
       "      <td>2</td>\n",
       "    </tr>\n",
       "  </tbody>\n",
       "</table>\n",
       "</div>"
      ],
      "text/plain": [
       "                      box_office        budget  financing_total  \\\n",
       "correct_director                                                  \n",
       "К.Шипенко        3,826,248,467.8 653,733,957.0    285,000,000.0   \n",
       "Д.Дьяченко       2,404,898,634.1 780,695,312.0    351,000,000.0   \n",
       "Д.Шмидт          1,412,475,637.0 714,163,376.0    215,000,000.0   \n",
       "Д.Киселев        1,399,783,312.0 702,823,899.0    350,000,000.0   \n",
       "Т.Бекмамбетов    1,009,908,513.0 394,871,057.0    250,000,000.0   \n",
       "Р.Прыгунов         854,810,176.7 364,787,583.0    215,000,000.0   \n",
       "Р.Гигинеишвили     405,825,165.0 160,273,277.0     90,000,000.0   \n",
       "К.Дружинин         459,377,899.8 225,389,238.0     90,000,000.0   \n",
       "Р.Каримов          275,176,282.0  81,252,509.0     53,345,000.0   \n",
       "С.Подгаевский      276,674,285.7  92,000,000.0     53,000,000.0   \n",
       "С.Мокрицкий        605,964,429.0 422,067,392.0    202,510,000.0   \n",
       "С.Андреасян        910,430,198.3 752,736,029.0    325,000,000.0   \n",
       "Л.Марголин         177,186,449.4  91,305,313.0     50,000,000.0   \n",
       "А.Волгин           317,331,388.2 240,278,063.0     41,000,000.0   \n",
       "А.Войтинский       406,638,830.2 342,035,727.0    175,000,000.0   \n",
       "М.Расходников      115,628,867.6  78,680,858.0     45,000,000.0   \n",
       "А.Меликян          166,807,655.1 138,748,412.0     50,000,000.0   \n",
       "А.Пармас           119,912,620.0  95,874,375.0     55,000,000.0   \n",
       "П.Руминов          156,211,231.4 153,686,500.0     65,000,000.0   \n",
       "В.Ровенский        121,877,232.5 126,409,559.7     76,000,000.0   \n",
       "А.Аксененко        212,728,819.6 224,667,735.0     90,000,000.0   \n",
       "Т.Игуменцева        89,083,298.6 125,661,150.0     75,000,000.0   \n",
       "А.Богуславский     231,477,430.1 291,220,033.0     46,000,000.0   \n",
       "В.Хотиненко          2,152,759.5  65,228,741.0     45,153,119.0   \n",
       "А.Матисон           69,664,499.5 135,483,233.0     85,904,000.0   \n",
       "А.Темников             306,193.0  85,332,820.0     58,000,000.0   \n",
       "Д.Месхиев          453,511,598.7 546,437,176.0    116,579,055.0   \n",
       "А.Карпиловский       1,251,726.0  98,714,286.0     55,000,000.0   \n",
       "И.Твердовский        2,310,992.0 100,000,000.0     61,000,000.0   \n",
       "Н.Меркулова          8,783,115.0 129,182,802.0     73,500,000.0   \n",
       "К.Худяков            1,006,130.0 123,320,376.0     77,346,881.0   \n",
       "Р.Артемьев           1,749,475.5 125,727,288.0     60,000,000.0   \n",
       "А.Прошкин           19,090,758.9 160,990,606.0     75,000,000.0   \n",
       "М.Волков           211,089,093.4 416,211,215.0    130,000,000.0   \n",
       "А.Котт               3,473,035.2 251,682,766.0    129,000,000.0   \n",
       "Д.Тюрин            158,006,449.1 408,842,279.6    270,000,000.0   \n",
       "К.Белевич            3,027,991.0 261,626,863.0    169,000,000.0   \n",
       "Ф.Дмитриев         141,298,740.0 438,325,738.0    250,000,000.0   \n",
       "В.Тодоровский      312,569,793.6 620,000,000.0    280,000,000.0   \n",
       "Р.Давлетьяров      279,305,900.9 594,406,747.0    352,000,000.0   \n",
       "Н.Хомерики         618,142,950.2 983,501,686.8    660,000,000.0   \n",
       "А.Цицилин          216,836,102.8 599,672,945.0    280,000,000.0   \n",
       "П.Лунгин            76,743,273.2 490,850,307.0    280,000,000.0   \n",
       "А.Михалков          78,251,006.7 888,962,912.0     85,000,000.0   \n",
       "\n",
       "                  nonrefundable_support         payback  refundable_support  \\\n",
       "correct_director                                                              \n",
       "К.Шипенко                 260,000,000.0 3,172,514,510.8        25,000,000.0   \n",
       "Д.Дьяченко                180,000,000.0 1,624,203,322.1       171,000,000.0   \n",
       "Д.Шмидт                   115,000,000.0   698,312,261.0       100,000,000.0   \n",
       "Д.Киселев                 225,000,000.0   696,959,413.0       125,000,000.0   \n",
       "Т.Бекмамбетов             175,000,000.0   615,037,456.0        75,000,000.0   \n",
       "Р.Прыгунов                215,000,000.0   490,022,593.7                 0.0   \n",
       "Р.Гигинеишвили             80,000,000.0   245,551,888.0        10,000,000.0   \n",
       "К.Дружинин                 90,000,000.0   233,988,661.8                 0.0   \n",
       "Р.Каримов                  53,345,000.0   193,923,773.0                 0.0   \n",
       "С.Подгаевский              40,000,000.0   184,674,285.7        13,000,000.0   \n",
       "С.Мокрицкий               162,510,000.0   183,897,036.9        40,000,000.0   \n",
       "С.Андреасян               260,000,000.0   157,694,169.3        65,000,000.0   \n",
       "Л.Марголин                 40,000,000.0    85,881,136.4        10,000,000.0   \n",
       "А.Волгин                   41,000,000.0    77,053,325.2                 0.0   \n",
       "А.Войтинский              135,000,000.0    64,603,103.2        40,000,000.0   \n",
       "М.Расходников              45,000,000.0    36,948,009.6                 0.0   \n",
       "А.Меликян                  50,000,000.0    28,059,243.1                 0.0   \n",
       "А.Пармас                   55,000,000.0    24,038,245.0                 0.0   \n",
       "П.Руминов                  40,000,000.0     2,524,731.4        25,000,000.0   \n",
       "В.Ровенский                66,000,000.0    -4,532,327.3        10,000,000.0   \n",
       "А.Аксененко                65,000,000.0   -11,938,915.4        25,000,000.0   \n",
       "Т.Игуменцева               55,000,000.0   -36,577,851.4        20,000,000.0   \n",
       "А.Богуславский             46,000,000.0   -59,742,602.9                 0.0   \n",
       "В.Хотиненко                38,000,000.0   -63,075,981.5         7,153,119.0   \n",
       "А.Матисон                  42,904,000.0   -65,818,733.5        43,000,000.0   \n",
       "А.Темников                 58,000,000.0   -85,026,627.0                 0.0   \n",
       "Д.Месхиев                 116,579,055.0   -92,925,577.3                 0.0   \n",
       "А.Карпиловский             55,000,000.0   -97,462,560.0                 0.0   \n",
       "И.Твердовский              61,000,000.0   -97,689,008.0                 0.0   \n",
       "Н.Меркулова                58,500,000.0  -120,399,687.0        15,000,000.0   \n",
       "К.Худяков                  70,000,000.0  -122,314,246.0         7,346,881.0   \n",
       "Р.Артемьев                 60,000,000.0  -123,977,812.5                 0.0   \n",
       "А.Прошкин                  75,000,000.0  -141,899,847.1                 0.0   \n",
       "М.Волков                  100,000,000.0  -205,122,121.6        30,000,000.0   \n",
       "А.Котт                    104,000,000.0  -248,209,730.8        25,000,000.0   \n",
       "Д.Тюрин                   251,000,000.0  -250,835,830.6        19,000,000.0   \n",
       "К.Белевич                 150,000,000.0  -258,598,872.0        19,000,000.0   \n",
       "Ф.Дмитриев                250,000,000.0  -297,026,998.0                 0.0   \n",
       "В.Тодоровский             270,000,000.0  -307,430,206.4        10,000,000.0   \n",
       "Р.Давлетьяров             287,000,000.0  -315,100,846.1        65,000,000.0   \n",
       "Н.Хомерики                540,000,000.0  -365,358,736.6       120,000,000.0   \n",
       "А.Цицилин                 160,000,000.0  -382,836,842.2       120,000,000.0   \n",
       "П.Лунгин                  263,000,000.0  -414,107,033.8        17,000,000.0   \n",
       "А.Михалков                 85,000,000.0  -810,711,905.3                 0.0   \n",
       "\n",
       "                  count_films  \n",
       "correct_director               \n",
       "К.Шипенко                   2  \n",
       "Д.Дьяченко                  4  \n",
       "Д.Шмидт                     3  \n",
       "Д.Киселев                   2  \n",
       "Т.Бекмамбетов               2  \n",
       "Р.Прыгунов                  2  \n",
       "Р.Гигинеишвили              2  \n",
       "К.Дружинин                  2  \n",
       "Р.Каримов                   2  \n",
       "С.Подгаевский               2  \n",
       "С.Мокрицкий                 3  \n",
       "С.Андреасян                 4  \n",
       "Л.Марголин                  2  \n",
       "А.Волгин                    2  \n",
       "А.Войтинский                2  \n",
       "М.Расходников               2  \n",
       "А.Меликян                   2  \n",
       "А.Пармас                    2  \n",
       "П.Руминов                   2  \n",
       "В.Ровенский                 2  \n",
       "А.Аксененко                 3  \n",
       "Т.Игуменцева                2  \n",
       "А.Богуславский              2  \n",
       "В.Хотиненко                 2  \n",
       "А.Матисон                   2  \n",
       "А.Темников                  2  \n",
       "Д.Месхиев                   2  \n",
       "А.Карпиловский              2  \n",
       "И.Твердовский               2  \n",
       "Н.Меркулова                 2  \n",
       "К.Худяков                   2  \n",
       "Р.Артемьев                  2  \n",
       "А.Прошкин                   2  \n",
       "М.Волков                    2  \n",
       "А.Котт                      3  \n",
       "Д.Тюрин                     2  \n",
       "К.Белевич                   2  \n",
       "Ф.Дмитриев                  2  \n",
       "В.Тодоровский               2  \n",
       "Р.Давлетьяров               4  \n",
       "Н.Хомерики                  3  \n",
       "А.Цицилин                   2  \n",
       "П.Лунгин                    2  \n",
       "А.Михалков                  2  "
      ]
     },
     "execution_count": 47,
     "metadata": {},
     "output_type": "execute_result"
    }
   ],
   "source": [
    "df_pivot = df.pivot_table(values=['nonrefundable_support', 'refundable_support', 'budget' , 'box_office', 'payback', 'financing_total'], \n",
    "               index='correct_director', \n",
    "               aggfunc=['sum', 'count']).sort_values(by=('count', 'nonrefundable_support'), ascending=False)\n",
    "df_pivot.drop(columns=[('count', 'budget'),\n",
    "            ('count', 'nonrefundable_support'),\n",
    "            ('count', 'payback'),\n",
    "            ('count', 'financing_total'),\n",
    "            ('count', 'refundable_support')], inplace=True)\n",
    "df_pivot.columns = ['box_office', 'budget','financing_total','nonrefundable_support','payback','refundable_support','count_films']\n",
    "df_pivot.query('count_films >= 2').sort_values(by='payback', ascending=False)"
   ]
  },
  {
   "cell_type": "code",
   "execution_count": 48,
   "metadata": {},
   "outputs": [
    {
     "data": {
      "text/html": [
       "<div>\n",
       "<style scoped>\n",
       "    .dataframe tbody tr th:only-of-type {\n",
       "        vertical-align: middle;\n",
       "    }\n",
       "\n",
       "    .dataframe tbody tr th {\n",
       "        vertical-align: top;\n",
       "    }\n",
       "\n",
       "    .dataframe thead th {\n",
       "        text-align: right;\n",
       "    }\n",
       "</style>\n",
       "<table border=\"1\" class=\"dataframe\">\n",
       "  <thead>\n",
       "    <tr style=\"text-align: right;\">\n",
       "      <th></th>\n",
       "      <th>title</th>\n",
       "      <th>correct_director</th>\n",
       "      <th>payback</th>\n",
       "      <th>financing_total</th>\n",
       "      <th>budget</th>\n",
       "      <th>nonrefundable_support</th>\n",
       "      <th>type</th>\n",
       "      <th>main_genre</th>\n",
       "    </tr>\n",
       "  </thead>\n",
       "  <tbody>\n",
       "    <tr>\n",
       "      <th>7111</th>\n",
       "      <td>Тайна Печати Дракона</td>\n",
       "      <td>О.Степченко</td>\n",
       "      <td>-1,971,477,243.4</td>\n",
       "      <td>270,000,000.0</td>\n",
       "      <td>2,305,074,303.0</td>\n",
       "      <td>90,000,000.0</td>\n",
       "      <td>Художественный</td>\n",
       "      <td>другой</td>\n",
       "    </tr>\n",
       "    <tr>\n",
       "      <th>7168</th>\n",
       "      <td>Грех</td>\n",
       "      <td>А.Михалков</td>\n",
       "      <td>-725,698,762.3</td>\n",
       "      <td>60,000,000.0</td>\n",
       "      <td>779,941,965.0</td>\n",
       "      <td>60,000,000.0</td>\n",
       "      <td>Художественный</td>\n",
       "      <td>драма</td>\n",
       "    </tr>\n",
       "    <tr>\n",
       "      <th>5434</th>\n",
       "      <td>Матильда</td>\n",
       "      <td>А.Учитель</td>\n",
       "      <td>-521,130,409.0</td>\n",
       "      <td>300,000,000.0</td>\n",
       "      <td>1,032,905,957.0</td>\n",
       "      <td>190,000,000.0</td>\n",
       "      <td>Художественный</td>\n",
       "      <td>фэнтези</td>\n",
       "    </tr>\n",
       "    <tr>\n",
       "      <th>2141</th>\n",
       "      <td>Территория</td>\n",
       "      <td>А.Мельник</td>\n",
       "      <td>-427,421,682.6</td>\n",
       "      <td>60,000,000.0</td>\n",
       "      <td>500,000,000.0</td>\n",
       "      <td>30,000,000.0</td>\n",
       "      <td>Художественный</td>\n",
       "      <td>другой</td>\n",
       "    </tr>\n",
       "    <tr>\n",
       "      <th>6884</th>\n",
       "      <td>Девятая</td>\n",
       "      <td>Н.Хомерики</td>\n",
       "      <td>-397,827,778.6</td>\n",
       "      <td>300,000,000.0</td>\n",
       "      <td>453,704,666.0</td>\n",
       "      <td>300,000,000.0</td>\n",
       "      <td>Художественный</td>\n",
       "      <td>другой</td>\n",
       "    </tr>\n",
       "    <tr>\n",
       "      <th>...</th>\n",
       "      <td>...</td>\n",
       "      <td>...</td>\n",
       "      <td>...</td>\n",
       "      <td>...</td>\n",
       "      <td>...</td>\n",
       "      <td>...</td>\n",
       "      <td>...</td>\n",
       "      <td>...</td>\n",
       "    </tr>\n",
       "    <tr>\n",
       "      <th>2919</th>\n",
       "      <td>Экипаж .</td>\n",
       "      <td>Н.Лебедев</td>\n",
       "      <td>766,971,523.0</td>\n",
       "      <td>442,104,482.0</td>\n",
       "      <td>635,283,867.0</td>\n",
       "      <td>392,104,482.0</td>\n",
       "      <td>Художественный</td>\n",
       "      <td>драма</td>\n",
       "    </tr>\n",
       "    <tr>\n",
       "      <th>5502</th>\n",
       "      <td>Последний богатырь</td>\n",
       "      <td>Д.Дьяченко</td>\n",
       "      <td>1,302,560,113.0</td>\n",
       "      <td>100,000,000.0</td>\n",
       "      <td>352,477,575.0</td>\n",
       "      <td>50,000,000.0</td>\n",
       "      <td>Художественный</td>\n",
       "      <td>комедия</td>\n",
       "    </tr>\n",
       "    <tr>\n",
       "      <th>6546</th>\n",
       "      <td>Т-34</td>\n",
       "      <td>А.Сидоров</td>\n",
       "      <td>1,707,969,287.5</td>\n",
       "      <td>180,000,000.0</td>\n",
       "      <td>563,784,717.0</td>\n",
       "      <td>120,000,000.0</td>\n",
       "      <td>Художественный</td>\n",
       "      <td>драма</td>\n",
       "    </tr>\n",
       "    <tr>\n",
       "      <th>5650</th>\n",
       "      <td>Движение вверх</td>\n",
       "      <td>А.Мегердичев</td>\n",
       "      <td>2,189,493,953.0</td>\n",
       "      <td>400,000,000.0</td>\n",
       "      <td>590,192,191.0</td>\n",
       "      <td>400,000,000.0</td>\n",
       "      <td>Художественный</td>\n",
       "      <td>другой</td>\n",
       "    </tr>\n",
       "    <tr>\n",
       "      <th>7453</th>\n",
       "      <td>Холоп</td>\n",
       "      <td>К.Шипенко</td>\n",
       "      <td>2,913,568,690.8</td>\n",
       "      <td>60,000,000.0</td>\n",
       "      <td>160,000,000.0</td>\n",
       "      <td>35,000,000.0</td>\n",
       "      <td>Художественный</td>\n",
       "      <td>комедия</td>\n",
       "    </tr>\n",
       "  </tbody>\n",
       "</table>\n",
       "<p>286 rows × 8 columns</p>\n",
       "</div>"
      ],
      "text/plain": [
       "                     title correct_director          payback  financing_total  \\\n",
       "7111  Тайна Печати Дракона      О.Степченко -1,971,477,243.4    270,000,000.0   \n",
       "7168                  Грех       А.Михалков   -725,698,762.3     60,000,000.0   \n",
       "5434              Матильда        А.Учитель   -521,130,409.0    300,000,000.0   \n",
       "2141            Территория        А.Мельник   -427,421,682.6     60,000,000.0   \n",
       "6884               Девятая       Н.Хомерики   -397,827,778.6    300,000,000.0   \n",
       "...                    ...              ...              ...              ...   \n",
       "2919              Экипаж .        Н.Лебедев    766,971,523.0    442,104,482.0   \n",
       "5502    Последний богатырь       Д.Дьяченко  1,302,560,113.0    100,000,000.0   \n",
       "6546                  Т-34        А.Сидоров  1,707,969,287.5    180,000,000.0   \n",
       "5650        Движение вверх     А.Мегердичев  2,189,493,953.0    400,000,000.0   \n",
       "7453                 Холоп        К.Шипенко  2,913,568,690.8     60,000,000.0   \n",
       "\n",
       "              budget  nonrefundable_support            type main_genre  \n",
       "7111 2,305,074,303.0           90,000,000.0  Художественный     другой  \n",
       "7168   779,941,965.0           60,000,000.0  Художественный      драма  \n",
       "5434 1,032,905,957.0          190,000,000.0  Художественный    фэнтези  \n",
       "2141   500,000,000.0           30,000,000.0  Художественный     другой  \n",
       "6884   453,704,666.0          300,000,000.0  Художественный     другой  \n",
       "...              ...                    ...             ...        ...  \n",
       "2919   635,283,867.0          392,104,482.0  Художественный      драма  \n",
       "5502   352,477,575.0           50,000,000.0  Художественный    комедия  \n",
       "6546   563,784,717.0          120,000,000.0  Художественный      драма  \n",
       "5650   590,192,191.0          400,000,000.0  Художественный     другой  \n",
       "7453   160,000,000.0           35,000,000.0  Художественный    комедия  \n",
       "\n",
       "[286 rows x 8 columns]"
      ]
     },
     "execution_count": 48,
     "metadata": {},
     "output_type": "execute_result"
    }
   ],
   "source": [
    "# Интересно посмотреть было самые косячные фильмы и самые не косячные\n",
    "df.sort_values(by='payback')[['title','correct_director','payback','financing_total','budget','nonrefundable_support', 'type', 'main_genre']]"
   ]
  },
  {
   "cell_type": "code",
   "execution_count": 49,
   "metadata": {},
   "outputs": [
    {
     "data": {
      "text/html": [
       "<div>\n",
       "<style scoped>\n",
       "    .dataframe tbody tr th:only-of-type {\n",
       "        vertical-align: middle;\n",
       "    }\n",
       "\n",
       "    .dataframe tbody tr th {\n",
       "        vertical-align: top;\n",
       "    }\n",
       "\n",
       "    .dataframe thead th {\n",
       "        text-align: right;\n",
       "    }\n",
       "</style>\n",
       "<table border=\"1\" class=\"dataframe\">\n",
       "  <thead>\n",
       "    <tr style=\"text-align: right;\">\n",
       "      <th></th>\n",
       "      <th>title</th>\n",
       "      <th>puNumber</th>\n",
       "      <th>show_start_date</th>\n",
       "      <th>type</th>\n",
       "      <th>film_studio</th>\n",
       "      <th>production_country</th>\n",
       "      <th>producer</th>\n",
       "      <th>age_restriction</th>\n",
       "      <th>refundable_support</th>\n",
       "      <th>nonrefundable_support</th>\n",
       "      <th>...</th>\n",
       "      <th>genres</th>\n",
       "      <th>box_office</th>\n",
       "      <th>part_of_state_budget</th>\n",
       "      <th>financing_total</th>\n",
       "      <th>is_rus</th>\n",
       "      <th>year</th>\n",
       "      <th>main_genre</th>\n",
       "      <th>correct_director</th>\n",
       "      <th>payback</th>\n",
       "      <th>payback_bool</th>\n",
       "    </tr>\n",
       "  </thead>\n",
       "  <tbody>\n",
       "    <tr>\n",
       "      <th>1869</th>\n",
       "      <td>А зори здесь тихие..._</td>\n",
       "      <td>111002915</td>\n",
       "      <td>2015-03-16 12:00:00+00:00</td>\n",
       "      <td>Художественный</td>\n",
       "      <td>ООО \"Компания \"Реал-Дакота\"</td>\n",
       "      <td>Россия</td>\n",
       "      <td>NaN</td>\n",
       "      <td>«12+» - для детей старше 12 лет</td>\n",
       "      <td>50,000,000.0</td>\n",
       "      <td>100,000,000.0</td>\n",
       "      <td>...</td>\n",
       "      <td>драма,военный,история</td>\n",
       "      <td>249,166,767.7</td>\n",
       "      <td>0.7</td>\n",
       "      <td>150,000,000.0</td>\n",
       "      <td>1</td>\n",
       "      <td>2015</td>\n",
       "      <td>драма</td>\n",
       "      <td>Р.Давлетьяров</td>\n",
       "      <td>28,578,373.7</td>\n",
       "      <td>Окупился</td>\n",
       "    </tr>\n",
       "    <tr>\n",
       "      <th>2481</th>\n",
       "      <td>Однажды._</td>\n",
       "      <td>111004215</td>\n",
       "      <td>2015-04-15 12:00:00+00:00</td>\n",
       "      <td>Художественный</td>\n",
       "      <td>ООО \"Компания \"РЕАЛ-ДАКОТА\", НП \"Интерфест\"</td>\n",
       "      <td>Россия</td>\n",
       "      <td>Р.Давлетьяров, А.Котелевский</td>\n",
       "      <td>«16+» - для детей старше 16 лет</td>\n",
       "      <td>0.0</td>\n",
       "      <td>97,000,000.0</td>\n",
       "      <td>...</td>\n",
       "      <td>драма,криминал,детектив</td>\n",
       "      <td>12,748,398.3</td>\n",
       "      <td>0.6</td>\n",
       "      <td>97,000,000.0</td>\n",
       "      <td>1</td>\n",
       "      <td>2015</td>\n",
       "      <td>драма</td>\n",
       "      <td>Р.Давлетьяров</td>\n",
       "      <td>-143,612,267.7</td>\n",
       "      <td>Не окупился</td>\n",
       "    </tr>\n",
       "    <tr>\n",
       "      <th>2722</th>\n",
       "      <td>Чистое искусство.</td>\n",
       "      <td>111008715</td>\n",
       "      <td>2015-05-05 12:00:00+00:00</td>\n",
       "      <td>Художественный</td>\n",
       "      <td>ООО \"КОМПАНИЯ \"РЕАЛ-ДАКОТА\"</td>\n",
       "      <td>Россия</td>\n",
       "      <td>Р.Давлетьяров</td>\n",
       "      <td>«16+» - для детей старше 16 лет</td>\n",
       "      <td>15,000,000.0</td>\n",
       "      <td>60,000,000.0</td>\n",
       "      <td>...</td>\n",
       "      <td>триллер,детектив</td>\n",
       "      <td>6,457,303.0</td>\n",
       "      <td>0.7</td>\n",
       "      <td>75,000,000.0</td>\n",
       "      <td>1</td>\n",
       "      <td>2015</td>\n",
       "      <td>триллер</td>\n",
       "      <td>Р.Давлетьяров</td>\n",
       "      <td>-105,278,860.0</td>\n",
       "      <td>Не окупился</td>\n",
       "    </tr>\n",
       "    <tr>\n",
       "      <th>6919</th>\n",
       "      <td>Донбасс. Окраина</td>\n",
       "      <td>111007919</td>\n",
       "      <td>2019-06-12 12:00:00+00:00</td>\n",
       "      <td>Художественный</td>\n",
       "      <td>АНО \"Интерфест\", ООО \"Пропеллер Продакшн\"</td>\n",
       "      <td>Россия</td>\n",
       "      <td>Р.Давлетьяров, Г.Поземельный</td>\n",
       "      <td>«12+» - для детей старше 12 лет</td>\n",
       "      <td>0.0</td>\n",
       "      <td>30,000,000.0</td>\n",
       "      <td>...</td>\n",
       "      <td>драма,военный,триллер</td>\n",
       "      <td>10,933,431.9</td>\n",
       "      <td>0.3</td>\n",
       "      <td>30,000,000.0</td>\n",
       "      <td>1</td>\n",
       "      <td>2019</td>\n",
       "      <td>драма</td>\n",
       "      <td>Р.Давлетьяров</td>\n",
       "      <td>-94,788,092.1</td>\n",
       "      <td>Не окупился</td>\n",
       "    </tr>\n",
       "  </tbody>\n",
       "</table>\n",
       "<p>4 rows × 23 columns</p>\n",
       "</div>"
      ],
      "text/plain": [
       "                       title   puNumber           show_start_date  \\\n",
       "1869  А зори здесь тихие..._  111002915 2015-03-16 12:00:00+00:00   \n",
       "2481               Однажды._  111004215 2015-04-15 12:00:00+00:00   \n",
       "2722       Чистое искусство.  111008715 2015-05-05 12:00:00+00:00   \n",
       "6919        Донбасс. Окраина  111007919 2019-06-12 12:00:00+00:00   \n",
       "\n",
       "                type                                  film_studio  \\\n",
       "1869  Художественный                  ООО \"Компания \"Реал-Дакота\"   \n",
       "2481  Художественный  ООО \"Компания \"РЕАЛ-ДАКОТА\", НП \"Интерфест\"   \n",
       "2722  Художественный                  ООО \"КОМПАНИЯ \"РЕАЛ-ДАКОТА\"   \n",
       "6919  Художественный    АНО \"Интерфест\", ООО \"Пропеллер Продакшн\"   \n",
       "\n",
       "     production_country                      producer  \\\n",
       "1869             Россия                           NaN   \n",
       "2481             Россия  Р.Давлетьяров, А.Котелевский   \n",
       "2722             Россия                 Р.Давлетьяров   \n",
       "6919             Россия  Р.Давлетьяров, Г.Поземельный   \n",
       "\n",
       "                      age_restriction  refundable_support  \\\n",
       "1869  «12+» - для детей старше 12 лет        50,000,000.0   \n",
       "2481  «16+» - для детей старше 16 лет                 0.0   \n",
       "2722  «16+» - для детей старше 16 лет        15,000,000.0   \n",
       "6919  «12+» - для детей старше 12 лет                 0.0   \n",
       "\n",
       "      nonrefundable_support  ...                   genres    box_office  \\\n",
       "1869          100,000,000.0  ...    драма,военный,история 249,166,767.7   \n",
       "2481           97,000,000.0  ...  драма,криминал,детектив  12,748,398.3   \n",
       "2722           60,000,000.0  ...         триллер,детектив   6,457,303.0   \n",
       "6919           30,000,000.0  ...    драма,военный,триллер  10,933,431.9   \n",
       "\n",
       "      part_of_state_budget financing_total  is_rus  year  main_genre  \\\n",
       "1869                   0.7   150,000,000.0       1  2015       драма   \n",
       "2481                   0.6    97,000,000.0       1  2015       драма   \n",
       "2722                   0.7    75,000,000.0       1  2015     триллер   \n",
       "6919                   0.3    30,000,000.0       1  2019       драма   \n",
       "\n",
       "      correct_director        payback payback_bool  \n",
       "1869     Р.Давлетьяров   28,578,373.7     Окупился  \n",
       "2481     Р.Давлетьяров -143,612,267.7  Не окупился  \n",
       "2722     Р.Давлетьяров -105,278,860.0  Не окупился  \n",
       "6919     Р.Давлетьяров  -94,788,092.1  Не окупился  \n",
       "\n",
       "[4 rows x 23 columns]"
      ]
     },
     "execution_count": 49,
     "metadata": {},
     "output_type": "execute_result"
    }
   ],
   "source": [
    "df.query('correct_director == \"Р.Давлетьяров\"')"
   ]
  },
  {
   "cell_type": "code",
   "execution_count": 50,
   "metadata": {},
   "outputs": [
    {
     "data": {
      "text/html": [
       "<div>\n",
       "<style scoped>\n",
       "    .dataframe tbody tr th:only-of-type {\n",
       "        vertical-align: middle;\n",
       "    }\n",
       "\n",
       "    .dataframe tbody tr th {\n",
       "        vertical-align: top;\n",
       "    }\n",
       "\n",
       "    .dataframe thead tr th {\n",
       "        text-align: left;\n",
       "    }\n",
       "\n",
       "    .dataframe thead tr:last-of-type th {\n",
       "        text-align: right;\n",
       "    }\n",
       "</style>\n",
       "<table border=\"1\" class=\"dataframe\">\n",
       "  <thead>\n",
       "    <tr>\n",
       "      <th></th>\n",
       "      <th colspan=\"2\" halign=\"left\">mean</th>\n",
       "      <th colspan=\"2\" halign=\"left\">sum</th>\n",
       "    </tr>\n",
       "    <tr>\n",
       "      <th></th>\n",
       "      <th>nonrefundable_support</th>\n",
       "      <th>refundable_support</th>\n",
       "      <th>nonrefundable_support</th>\n",
       "      <th>refundable_support</th>\n",
       "    </tr>\n",
       "    <tr>\n",
       "      <th>financing_source</th>\n",
       "      <th></th>\n",
       "      <th></th>\n",
       "      <th></th>\n",
       "      <th></th>\n",
       "    </tr>\n",
       "  </thead>\n",
       "  <tbody>\n",
       "    <tr>\n",
       "      <th>Министерство культуры</th>\n",
       "      <td>30,038,365.7</td>\n",
       "      <td>0.0</td>\n",
       "      <td>4,025,141,000.0</td>\n",
       "      <td>0.0</td>\n",
       "    </tr>\n",
       "    <tr>\n",
       "      <th>Министерство культуры, Фонд кино</th>\n",
       "      <td>36,968,280.8</td>\n",
       "      <td>16,972,222.2</td>\n",
       "      <td>665,429,055.0</td>\n",
       "      <td>305,500,000.0</td>\n",
       "    </tr>\n",
       "    <tr>\n",
       "      <th>Фонд кино</th>\n",
       "      <td>71,815,511.6</td>\n",
       "      <td>25,018,656.7</td>\n",
       "      <td>9,623,278,548.0</td>\n",
       "      <td>3,352,500,000.0</td>\n",
       "    </tr>\n",
       "  </tbody>\n",
       "</table>\n",
       "</div>"
      ],
      "text/plain": [
       "                                                  mean                     \\\n",
       "                                 nonrefundable_support refundable_support   \n",
       "financing_source                                                            \n",
       "Министерство культуры                     30,038,365.7                0.0   \n",
       "Министерство культуры, Фонд кино          36,968,280.8       16,972,222.2   \n",
       "Фонд кино                                 71,815,511.6       25,018,656.7   \n",
       "\n",
       "                                                   sum                     \n",
       "                                 nonrefundable_support refundable_support  \n",
       "financing_source                                                           \n",
       "Министерство культуры                  4,025,141,000.0                0.0  \n",
       "Министерство культуры, Фонд кино         665,429,055.0      305,500,000.0  \n",
       "Фонд кино                              9,623,278,548.0    3,352,500,000.0  "
      ]
     },
     "execution_count": 50,
     "metadata": {},
     "output_type": "execute_result"
    }
   ],
   "source": [
    "df.pivot_table(values=['nonrefundable_support', 'refundable_support'], index='financing_source', aggfunc=['mean', 'sum'])"
   ]
  },
  {
   "cell_type": "code",
   "execution_count": 51,
   "metadata": {},
   "outputs": [
    {
     "data": {
      "text/plain": [
       "main_genre\n",
       "драма        4,843,904,333.0\n",
       "другой       4,082,963,985.0\n",
       "комедия      2,952,435,000.0\n",
       "мультфильм   2,380,000,000.0\n",
       "фэнтези      1,032,900,000.0\n",
       "фантастика     881,000,000.0\n",
       "триллер        769,645,285.0\n",
       "ужасы          355,000,000.0\n",
       "мелодрама      340,000,000.0\n",
       "боевик         334,000,000.0\n",
       "Name: financing_total, dtype: float64"
      ]
     },
     "execution_count": 51,
     "metadata": {},
     "output_type": "execute_result"
    }
   ],
   "source": [
    "df.groupby('main_genre')['financing_total'].sum().sort_values(ascending=False)"
   ]
  },
  {
   "cell_type": "code",
   "execution_count": 52,
   "metadata": {},
   "outputs": [
    {
     "data": {
      "text/html": [
       "<div>\n",
       "<style scoped>\n",
       "    .dataframe tbody tr th:only-of-type {\n",
       "        vertical-align: middle;\n",
       "    }\n",
       "\n",
       "    .dataframe tbody tr th {\n",
       "        vertical-align: top;\n",
       "    }\n",
       "\n",
       "    .dataframe thead th {\n",
       "        text-align: right;\n",
       "    }\n",
       "</style>\n",
       "<table border=\"1\" class=\"dataframe\">\n",
       "  <thead>\n",
       "    <tr style=\"text-align: right;\">\n",
       "      <th></th>\n",
       "      <th>title</th>\n",
       "      <th>main_genre</th>\n",
       "      <th>genres</th>\n",
       "      <th>financing_total</th>\n",
       "    </tr>\n",
       "  </thead>\n",
       "  <tbody>\n",
       "    <tr>\n",
       "      <th>7461</th>\n",
       "      <td>Союз спасения</td>\n",
       "      <td>другой</td>\n",
       "      <td>история,биография,драма</td>\n",
       "      <td>500,000,000.0</td>\n",
       "    </tr>\n",
       "    <tr>\n",
       "      <th>5650</th>\n",
       "      <td>Движение вверх</td>\n",
       "      <td>другой</td>\n",
       "      <td>спорт,драма</td>\n",
       "      <td>400,000,000.0</td>\n",
       "    </tr>\n",
       "    <tr>\n",
       "      <th>5566</th>\n",
       "      <td>Легенда о Коловрате</td>\n",
       "      <td>другой</td>\n",
       "      <td>история,боевик,фэнтези</td>\n",
       "      <td>350,000,000.0</td>\n",
       "    </tr>\n",
       "    <tr>\n",
       "      <th>6884</th>\n",
       "      <td>Девятая</td>\n",
       "      <td>другой</td>\n",
       "      <td>детектив,триллер,криминал</td>\n",
       "      <td>300,000,000.0</td>\n",
       "    </tr>\n",
       "    <tr>\n",
       "      <th>7111</th>\n",
       "      <td>Тайна Печати Дракона</td>\n",
       "      <td>другой</td>\n",
       "      <td>приключения,фэнтези</td>\n",
       "      <td>270,000,000.0</td>\n",
       "    </tr>\n",
       "    <tr>\n",
       "      <th>3254</th>\n",
       "      <td>Время первых (2017)</td>\n",
       "      <td>другой</td>\n",
       "      <td>приключения,триллер,биография</td>\n",
       "      <td>250,000,000.0</td>\n",
       "    </tr>\n",
       "    <tr>\n",
       "      <th>3626</th>\n",
       "      <td>БОЛЬШОЙ</td>\n",
       "      <td>другой</td>\n",
       "      <td>криминал,комедия,боевик</td>\n",
       "      <td>210,000,000.0</td>\n",
       "    </tr>\n",
       "    <tr>\n",
       "      <th>3609</th>\n",
       "      <td>Ёлки 5</td>\n",
       "      <td>другой</td>\n",
       "      <td>семейный,комедия</td>\n",
       "      <td>150,000,000.0</td>\n",
       "    </tr>\n",
       "    <tr>\n",
       "      <th>3163</th>\n",
       "      <td>Герой (2015)</td>\n",
       "      <td>другой</td>\n",
       "      <td>мюзикл,боевик,драма</td>\n",
       "      <td>140,000,000.0</td>\n",
       "    </tr>\n",
       "    <tr>\n",
       "      <th>6696</th>\n",
       "      <td>Тобол</td>\n",
       "      <td>другой</td>\n",
       "      <td>история,драма</td>\n",
       "      <td>130,000,000.0</td>\n",
       "    </tr>\n",
       "    <tr>\n",
       "      <th>3707</th>\n",
       "      <td>Три дня до весны.</td>\n",
       "      <td>другой</td>\n",
       "      <td>военный,детектив</td>\n",
       "      <td>80,000,866.0</td>\n",
       "    </tr>\n",
       "    <tr>\n",
       "      <th>7327</th>\n",
       "      <td>Лев Яшин. Вратарь моей мечты</td>\n",
       "      <td>другой</td>\n",
       "      <td>биография,спорт,драма</td>\n",
       "      <td>60,000,000.0</td>\n",
       "    </tr>\n",
       "    <tr>\n",
       "      <th>5801</th>\n",
       "      <td>Танки</td>\n",
       "      <td>другой</td>\n",
       "      <td>приключения,история,военный</td>\n",
       "      <td>60,000,000.0</td>\n",
       "    </tr>\n",
       "    <tr>\n",
       "      <th>5849</th>\n",
       "      <td>СОБИБОР (SOBIBOR)</td>\n",
       "      <td>другой</td>\n",
       "      <td>военный,драма</td>\n",
       "      <td>60,000,000.0</td>\n",
       "    </tr>\n",
       "    <tr>\n",
       "      <th>2141</th>\n",
       "      <td>Территория</td>\n",
       "      <td>другой</td>\n",
       "      <td>детектив,фэнтези,триллер</td>\n",
       "      <td>60,000,000.0</td>\n",
       "    </tr>\n",
       "  </tbody>\n",
       "</table>\n",
       "</div>"
      ],
      "text/plain": [
       "                             title main_genre                         genres  \\\n",
       "7461                 Союз спасения     другой        история,биография,драма   \n",
       "5650                Движение вверх     другой                    спорт,драма   \n",
       "5566           Легенда о Коловрате     другой         история,боевик,фэнтези   \n",
       "6884                       Девятая     другой      детектив,триллер,криминал   \n",
       "7111          Тайна Печати Дракона     другой            приключения,фэнтези   \n",
       "3254           Время первых (2017)     другой  приключения,триллер,биография   \n",
       "3626                       БОЛЬШОЙ     другой        криминал,комедия,боевик   \n",
       "3609                        Ёлки 5     другой               семейный,комедия   \n",
       "3163                  Герой (2015)     другой            мюзикл,боевик,драма   \n",
       "6696                         Тобол     другой                  история,драма   \n",
       "3707             Три дня до весны.     другой               военный,детектив   \n",
       "7327  Лев Яшин. Вратарь моей мечты     другой          биография,спорт,драма   \n",
       "5801                         Танки     другой    приключения,история,военный   \n",
       "5849             СОБИБОР (SOBIBOR)     другой                  военный,драма   \n",
       "2141                    Территория     другой       детектив,фэнтези,триллер   \n",
       "\n",
       "      financing_total  \n",
       "7461    500,000,000.0  \n",
       "5650    400,000,000.0  \n",
       "5566    350,000,000.0  \n",
       "6884    300,000,000.0  \n",
       "7111    270,000,000.0  \n",
       "3254    250,000,000.0  \n",
       "3626    210,000,000.0  \n",
       "3609    150,000,000.0  \n",
       "3163    140,000,000.0  \n",
       "6696    130,000,000.0  \n",
       "3707     80,000,866.0  \n",
       "7327     60,000,000.0  \n",
       "5801     60,000,000.0  \n",
       "5849     60,000,000.0  \n",
       "2141     60,000,000.0  "
      ]
     },
     "execution_count": 52,
     "metadata": {},
     "output_type": "execute_result"
    }
   ],
   "source": [
    "df.query(\n",
    "    'main_genre == \"другой\"').sort_values(\n",
    "        by='financing_total', ascending=False)[['title','main_genre','genres','financing_total']].head(15)"
   ]
  },
  {
   "cell_type": "code",
   "execution_count": 53,
   "metadata": {},
   "outputs": [
    {
     "data": {
      "image/png": "[encoded data removed]",
      "text/plain": [
       "<Figure size 576x288 with 1 Axes>"
      ]
     },
     "metadata": {
      "needs_background": "light"
     },
     "output_type": "display_data"
    },
    {
     "data": {
      "image/png": "[encoded data removed]",
      "text/plain": [
       "<Figure size 576x288 with 1 Axes>"
      ]
     },
     "metadata": {
      "needs_background": "light"
     },
     "output_type": "display_data"
    }
   ],
   "source": [
    "df.groupby('year')['financing_total'].sum().plot(kind='bar', rot=0, \n",
    "                                                 title='Общее финансирование фильмов в период с 2015г по 2019г в млрд.руб',\n",
    "                                                 figsize=(8,4))\n",
    "plt.show()\n",
    "df.groupby('year')['financing_total'].count().plot(kind='bar', rot=0, \n",
    "                                                 title='Общее количество профинансированных фильмов с 2015г по 2019г',\n",
    "                                                 figsize=(8,4))\n",
    "plt.show()"
   ]
  },
  {
   "cell_type": "code",
   "execution_count": 54,
   "metadata": {},
   "outputs": [
    {
     "data": {
      "image/png": "[encoded data removed]",
      "text/plain": [
       "<Figure size 864x360 with 2 Axes>"
      ]
     },
     "metadata": {
      "needs_background": "light"
     },
     "output_type": "display_data"
    }
   ],
   "source": [
    "df_for_example = df_for_example.query('financing_source == \"Без госсподдержки\" and year >= 2015')\n",
    "df_for_example = df_for_example[df_for_example['production_country'].isin(['Россия'])]\n",
    "df_for_example = df_for_example[df_for_example['ratings'].notnull()]\n",
    "plt.subplot(1,2,1)\n",
    "df_for_example['ratings'].plot(kind='box', title='рейтинг фильмов без гос.поддержки', ylim=(0,10))\n",
    "plt.subplot(1,2,2)\n",
    "df['ratings'].plot(kind='box', figsize=(12,5), title='рейтинг фильмов с гос.поддержкой', ylim=(0,10))\n",
    "plt.show()"
   ]
  },
  {
   "cell_type": "code",
   "execution_count": 55,
   "metadata": {},
   "outputs": [
    {
     "data": {
      "image/png": "[encoded data removed]",
      "text/plain": [
       "<Figure size 432x288 with 1 Axes>"
      ]
     },
     "metadata": {
      "needs_background": "light"
     },
     "output_type": "display_data"
    }
   ],
   "source": [
    "df['ratings'].plot(kind='box')\n",
    "plt.show()"
   ]
  },
  {
   "cell_type": "code",
   "execution_count": 56,
   "metadata": {},
   "outputs": [
    {
     "data": {
      "text/html": [
       "<div>\n",
       "<style scoped>\n",
       "    .dataframe tbody tr th:only-of-type {\n",
       "        vertical-align: middle;\n",
       "    }\n",
       "\n",
       "    .dataframe tbody tr th {\n",
       "        vertical-align: top;\n",
       "    }\n",
       "\n",
       "    .dataframe thead tr th {\n",
       "        text-align: left;\n",
       "    }\n",
       "\n",
       "    .dataframe thead tr:last-of-type th {\n",
       "        text-align: right;\n",
       "    }\n",
       "</style>\n",
       "<table border=\"1\" class=\"dataframe\">\n",
       "  <thead>\n",
       "    <tr>\n",
       "      <th></th>\n",
       "      <th>mean</th>\n",
       "      <th>count</th>\n",
       "    </tr>\n",
       "    <tr>\n",
       "      <th></th>\n",
       "      <th>ratings</th>\n",
       "      <th>ratings</th>\n",
       "    </tr>\n",
       "    <tr>\n",
       "      <th>age_restriction</th>\n",
       "      <th></th>\n",
       "      <th></th>\n",
       "    </tr>\n",
       "  </thead>\n",
       "  <tbody>\n",
       "    <tr>\n",
       "      <th>«18+» - запрещено для детей</th>\n",
       "      <td>6.2</td>\n",
       "      <td>24</td>\n",
       "    </tr>\n",
       "    <tr>\n",
       "      <th>«0+» - для любой зрительской аудитории</th>\n",
       "      <td>6.2</td>\n",
       "      <td>2</td>\n",
       "    </tr>\n",
       "    <tr>\n",
       "      <th>«12+» - для детей старше 12 лет</th>\n",
       "      <td>6.1</td>\n",
       "      <td>88</td>\n",
       "    </tr>\n",
       "    <tr>\n",
       "      <th>«06+» - для детей старше 6 лет</th>\n",
       "      <td>5.9</td>\n",
       "      <td>61</td>\n",
       "    </tr>\n",
       "    <tr>\n",
       "      <th>«16+» - для детей старше 16 лет</th>\n",
       "      <td>5.9</td>\n",
       "      <td>109</td>\n",
       "    </tr>\n",
       "  </tbody>\n",
       "</table>\n",
       "</div>"
      ],
      "text/plain": [
       "                                          mean   count\n",
       "                                       ratings ratings\n",
       "age_restriction                                       \n",
       "«18+» - запрещено для детей                6.2      24\n",
       "«0+» - для любой зрительской аудитории     6.2       2\n",
       "«12+» - для детей старше 12 лет            6.1      88\n",
       "«06+» - для детей старше 6 лет             5.9      61\n",
       "«16+» - для детей старше 16 лет            5.9     109"
      ]
     },
     "metadata": {},
     "output_type": "display_data"
    },
    {
     "data": {
      "text/html": [
       "<div>\n",
       "<style scoped>\n",
       "    .dataframe tbody tr th:only-of-type {\n",
       "        vertical-align: middle;\n",
       "    }\n",
       "\n",
       "    .dataframe tbody tr th {\n",
       "        vertical-align: top;\n",
       "    }\n",
       "\n",
       "    .dataframe thead tr th {\n",
       "        text-align: left;\n",
       "    }\n",
       "\n",
       "    .dataframe thead tr:last-of-type th {\n",
       "        text-align: right;\n",
       "    }\n",
       "</style>\n",
       "<table border=\"1\" class=\"dataframe\">\n",
       "  <thead>\n",
       "    <tr>\n",
       "      <th></th>\n",
       "      <th>mean</th>\n",
       "      <th>count</th>\n",
       "    </tr>\n",
       "    <tr>\n",
       "      <th></th>\n",
       "      <th>ratings</th>\n",
       "      <th>ratings</th>\n",
       "    </tr>\n",
       "    <tr>\n",
       "      <th>age_restriction</th>\n",
       "      <th></th>\n",
       "      <th></th>\n",
       "    </tr>\n",
       "  </thead>\n",
       "  <tbody>\n",
       "    <tr>\n",
       "      <th>«6+» - для детей старше 6 лет</th>\n",
       "      <td>6.5</td>\n",
       "      <td>48</td>\n",
       "    </tr>\n",
       "    <tr>\n",
       "      <th>«12+» - для детей старше 12 лет</th>\n",
       "      <td>6.5</td>\n",
       "      <td>195</td>\n",
       "    </tr>\n",
       "    <tr>\n",
       "      <th>«16+» - для детей старше 16 лет</th>\n",
       "      <td>6.2</td>\n",
       "      <td>171</td>\n",
       "    </tr>\n",
       "    <tr>\n",
       "      <th>«18+» - запрещено для детей</th>\n",
       "      <td>5.9</td>\n",
       "      <td>67</td>\n",
       "    </tr>\n",
       "    <tr>\n",
       "      <th>«0+» - для любой зрительской аудитории</th>\n",
       "      <td>5.5</td>\n",
       "      <td>42</td>\n",
       "    </tr>\n",
       "  </tbody>\n",
       "</table>\n",
       "</div>"
      ],
      "text/plain": [
       "                                          mean   count\n",
       "                                       ratings ratings\n",
       "age_restriction                                       \n",
       "«6+» - для детей старше 6 лет              6.5      48\n",
       "«12+» - для детей старше 12 лет            6.5     195\n",
       "«16+» - для детей старше 16 лет            6.2     171\n",
       "«18+» - запрещено для детей                5.9      67\n",
       "«0+» - для любой зрительской аудитории     5.5      42"
      ]
     },
     "metadata": {},
     "output_type": "display_data"
    }
   ],
   "source": [
    "display(df.pivot_table(values='ratings', index='age_restriction', aggfunc=[\n",
    "        'mean', 'count']).sort_values(by=('mean','ratings'), ascending=False))\n",
    "display(df_for_example.pivot_table(values='ratings', index='age_restriction',\n",
    "        aggfunc=['mean', 'count']).sort_values(by=('mean','ratings'), ascending=False))\n"
   ]
  },
  {
   "cell_type": "code",
   "execution_count": 57,
   "metadata": {},
   "outputs": [
    {
     "data": {
      "text/plain": [
       "age_restriction\n",
       "«0+» - для любой зрительской аудитории     -187,646,659.0\n",
       "«06+» - для детей старше 6 лет              187,873,679.4\n",
       "«12+» - для детей старше 12 лет           4,522,699,441.8\n",
       "«16+» - для детей старше 16 лет          -3,678,261,605.6\n",
       "«18+» - запрещено для детей              -1,489,622,783.1\n",
       "Name: payback, dtype: float64"
      ]
     },
     "execution_count": 57,
     "metadata": {},
     "output_type": "execute_result"
    }
   ],
   "source": [
    "df.groupby('age_restriction')['payback'].sum()"
   ]
  },
  {
   "cell_type": "code",
   "execution_count": 58,
   "metadata": {},
   "outputs": [
    {
     "data": {
      "text/plain": [
       "age_restriction\n",
       "«18+» - запрещено для детей              6.2\n",
       "«0+» - для любой зрительской аудитории   6.2\n",
       "«12+» - для детей старше 12 лет          6.1\n",
       "«06+» - для детей старше 6 лет           5.9\n",
       "«16+» - для детей старше 16 лет          5.9\n",
       "Name: ratings, dtype: float64"
      ]
     },
     "metadata": {},
     "output_type": "display_data"
    }
   ],
   "source": [
    "display(df.groupby('age_restriction')['ratings'].mean().sort_values(ascending=False))"
   ]
  },
  {
   "cell_type": "markdown",
   "metadata": {
    "id": "V2gYwMcPgFyd"
   },
   "source": [
    "### Шаг 5. Напишите общий вывод"
   ]
  },
  {
   "cell_type": "markdown",
   "metadata": {
    "id": "AYRg3dzXgFye"
   },
   "source": [
    "  Фильмы получившие поддержку: 95% единолично выпускаются Россией, и только 5% совместно с другими странами.  \n",
    "Самые финансируемые жанры: драма -> комедия -> мультфильмы, остальные жанры примерно поровну  \n",
    "Окупается всего 1/4 всех фильмов.  Однако суммы выделенные на окупившиеся и не окупившиеся фильмы примерно одинаковы.\n",
    "Общая сумма невозвратных средств - ~14млрд. рублей из них 4млрд.рублей из Министерства культуры, основная же часть финансируется фондом Кино. При этом Министерство Культуры всегда выделяет невозвратные средства, Фонд Кино может выделить средства \"в долг\".  \n",
    "По графикам видно, что средняя оценка фильмов с гос.поддержкой ниже фильмов без гос.поддержки.  \n",
    "Невозвратные средства, обычно предназначаются для фильмов либо  документальных, патриотических, либо несущих культурно-просветительскую функцию, в нашем случае мы видим, что к сожалению большинство финансируемых фильмов таковыми не являются. Они либо пропагандисткие, либо развлекательные... можем сделать предположение, что фильмы развлекательные имеют коррупционные корни поддержки.  \n",
    "Сравнивая рейтинги фильмов с гос.поддержкой и без, можно также сделать вывод что Фонд Кино совместно с Министерство культуры либо очень не умело выбирают киноленты для финансирования, либо ...  \n",
    "Резюмирую:\n",
    "- Количество выпускаемых фильмов с 2015 по 2019 не сказать что имеет какую то четкую тенденцию по изменению кол-ва, вроде фильмов стало больше, а вроде и в 2017г их было меньше всего.\n",
    "- Похожая ситуация и с выручкой: явной тенденции не наблюдается.\n",
    "- На основании анализа окупаемости фильмов по возрастным категориям, выявляется тенденция успешности в прокате фильмов возрастной категории 12+ и 6+ \n",
    "- Количество фильмов с гос.поддержкой упало по сравнению с 2015г, возможно связано с теми что фильмы 2015 были профинансированы еще в 2014г, и после очередного обвала рубля(в 2014г) финансирование кинематографа государством было сокращено. Далее показатель по-тихоньку приходил в норму.\n",
    "- Самый успешный(+3млрд.руб) в прокате фильм с гос.поддержкой: \"Холоп\"\n",
    "- Самый провальный(-2млрд.руб) в прокате фильм с гос.поддержкой: \"Тайна Печати Дракона\"\n",
    "- Самую большую невозвратную гос.поддержку(400млн) получили фильмы: \"Движение вверх\", \"Союз спасени\", \"Экипаж\"\n",
    "- По результатам анализа выборки картин режиссеров получивших гос.поддержку более чем на 2фильма за 5лет: \n",
    "  - Н.Хомерики получил максимальный объем гос.поддержки(3картины, 660млн)\n",
    "  - Максимальное кол-во картин выпущенных режиссером за 5лет и получившим гос.поддержку: 4фильма(С.Андреасян, Д.Дьяченко, Р.Давлетьяров)\n",
    "  - Самые провальными оказались фильмы Р.Давлетьярова(-365млн.руб) и коммерчески успешными фильмы Д.Дьяченко(+1,6млрд.руб)\n"
   ]
  }
 ],
 "metadata": {
  "ExecuteTimeLog": [
   {
    "duration": 537,
    "start_time": "2021-07-07T10:12:08.634Z"
   },
   {
    "duration": 206,
    "start_time": "2021-07-07T10:12:30.191Z"
   },
   {
    "duration": 227,
    "start_time": "2021-07-07T10:12:33.078Z"
   },
   {
    "duration": 153,
    "start_time": "2021-07-07T10:13:42.146Z"
   },
   {
    "duration": 233,
    "start_time": "2021-07-07T10:30:09.252Z"
   },
   {
    "duration": 19,
    "start_time": "2021-07-07T10:30:15.577Z"
   },
   {
    "duration": 18,
    "start_time": "2021-07-07T10:30:57.348Z"
   },
   {
    "duration": 19,
    "start_time": "2021-07-07T10:31:17.452Z"
   },
   {
    "duration": 21,
    "start_time": "2021-07-07T10:31:32.227Z"
   },
   {
    "duration": 27,
    "start_time": "2021-07-07T10:32:06.588Z"
   },
   {
    "duration": 23,
    "start_time": "2021-07-07T10:32:43.645Z"
   },
   {
    "duration": 24,
    "start_time": "2021-07-07T10:33:06.948Z"
   },
   {
    "duration": 7,
    "start_time": "2021-07-07T10:33:28.558Z"
   },
   {
    "duration": 23,
    "start_time": "2021-07-07T10:33:43.761Z"
   },
   {
    "duration": 28,
    "start_time": "2021-07-07T10:34:13.466Z"
   },
   {
    "duration": 23,
    "start_time": "2021-07-07T10:35:56.187Z"
   },
   {
    "duration": 6,
    "start_time": "2021-07-07T10:36:48.182Z"
   },
   {
    "duration": 14,
    "start_time": "2021-07-07T10:37:49.641Z"
   },
   {
    "duration": 6,
    "start_time": "2021-07-07T10:38:06.694Z"
   },
   {
    "duration": 6,
    "start_time": "2021-07-07T10:38:13.493Z"
   },
   {
    "duration": 19,
    "start_time": "2021-07-07T10:38:44.056Z"
   },
   {
    "duration": 186,
    "start_time": "2021-07-07T10:48:35.618Z"
   },
   {
    "duration": 24,
    "start_time": "2021-07-07T10:48:51.498Z"
   },
   {
    "duration": 20,
    "start_time": "2021-07-07T10:48:59.415Z"
   },
   {
    "duration": 20,
    "start_time": "2021-07-07T10:53:02.195Z"
   },
   {
    "duration": 188,
    "start_time": "2021-07-07T10:54:40.486Z"
   },
   {
    "duration": 115,
    "start_time": "2021-07-07T10:54:52.552Z"
   },
   {
    "duration": 214,
    "start_time": "2021-07-07T10:54:56.354Z"
   },
   {
    "duration": 47,
    "start_time": "2021-07-07T10:54:58.282Z"
   },
   {
    "duration": 217,
    "start_time": "2021-07-07T10:59:16.075Z"
   },
   {
    "duration": 51,
    "start_time": "2021-07-07T10:59:16.243Z"
   },
   {
    "duration": 578,
    "start_time": "2021-07-07T10:59:18.774Z"
   },
   {
    "duration": 161,
    "start_time": "2021-07-07T10:59:21.238Z"
   },
   {
    "duration": 59,
    "start_time": "2021-07-07T10:59:21.453Z"
   },
   {
    "duration": 3,
    "start_time": "2021-07-07T11:02:10.786Z"
   },
   {
    "duration": 13,
    "start_time": "2021-07-07T11:07:07.722Z"
   },
   {
    "duration": 26,
    "start_time": "2021-07-07T11:07:17.958Z"
   },
   {
    "duration": 22,
    "start_time": "2021-07-07T11:08:17.939Z"
   },
   {
    "duration": 212,
    "start_time": "2021-07-07T11:08:19.665Z"
   },
   {
    "duration": 21,
    "start_time": "2021-07-07T11:08:29.945Z"
   },
   {
    "duration": 31,
    "start_time": "2021-07-07T11:08:38.899Z"
   },
   {
    "duration": 23,
    "start_time": "2021-07-07T11:08:54.527Z"
   },
   {
    "duration": 8,
    "start_time": "2021-07-07T11:18:55.974Z"
   },
   {
    "duration": 7,
    "start_time": "2021-07-07T11:19:03.639Z"
   },
   {
    "duration": 7,
    "start_time": "2021-07-07T11:19:06.444Z"
   },
   {
    "duration": 578,
    "start_time": "2021-07-07T12:09:59.576Z"
   },
   {
    "duration": 195,
    "start_time": "2021-07-07T12:10:00.156Z"
   },
   {
    "duration": 115,
    "start_time": "2021-07-07T12:10:00.353Z"
   },
   {
    "duration": 3,
    "start_time": "2021-07-07T12:10:00.470Z"
   },
   {
    "duration": 32,
    "start_time": "2021-07-07T12:10:00.474Z"
   },
   {
    "duration": 23,
    "start_time": "2021-07-07T12:10:00.508Z"
   },
   {
    "duration": 19,
    "start_time": "2021-07-07T12:10:00.533Z"
   },
   {
    "duration": 44,
    "start_time": "2021-07-07T12:10:00.553Z"
   },
   {
    "duration": 7,
    "start_time": "2021-07-07T12:10:00.600Z"
   },
   {
    "duration": 7,
    "start_time": "2021-07-07T12:19:45.761Z"
   },
   {
    "duration": 21,
    "start_time": "2021-07-07T12:21:35.482Z"
   },
   {
    "duration": 21,
    "start_time": "2021-07-07T12:29:23.569Z"
   },
   {
    "duration": 525,
    "start_time": "2021-07-07T12:29:44.542Z"
   },
   {
    "duration": 214,
    "start_time": "2021-07-07T12:29:45.069Z"
   },
   {
    "duration": 92,
    "start_time": "2021-07-07T12:29:45.285Z"
   },
   {
    "duration": 3,
    "start_time": "2021-07-07T12:29:45.379Z"
   },
   {
    "duration": 28,
    "start_time": "2021-07-07T12:29:45.384Z"
   },
   {
    "duration": 23,
    "start_time": "2021-07-07T12:29:45.413Z"
   },
   {
    "duration": 21,
    "start_time": "2021-07-07T12:29:45.437Z"
   },
   {
    "duration": 41,
    "start_time": "2021-07-07T12:29:45.460Z"
   },
   {
    "duration": 7,
    "start_time": "2021-07-07T12:29:45.502Z"
   },
   {
    "duration": 20,
    "start_time": "2021-07-07T12:29:45.511Z"
   },
   {
    "duration": 12,
    "start_time": "2021-07-07T12:34:02.800Z"
   },
   {
    "duration": 7,
    "start_time": "2021-07-07T12:35:10.479Z"
   },
   {
    "duration": 8,
    "start_time": "2021-07-07T12:35:22.440Z"
   },
   {
    "duration": 6,
    "start_time": "2021-07-07T12:35:35.649Z"
   },
   {
    "duration": 6,
    "start_time": "2021-07-07T12:35:43.107Z"
   },
   {
    "duration": 22,
    "start_time": "2021-07-07T12:38:03.029Z"
   },
   {
    "duration": 10,
    "start_time": "2021-07-07T12:38:06.592Z"
   },
   {
    "duration": 563,
    "start_time": "2021-07-07T12:38:46.493Z"
   },
   {
    "duration": 265,
    "start_time": "2021-07-07T12:38:47.058Z"
   },
   {
    "duration": 94,
    "start_time": "2021-07-07T12:38:47.325Z"
   },
   {
    "duration": 3,
    "start_time": "2021-07-07T12:38:47.422Z"
   },
   {
    "duration": 30,
    "start_time": "2021-07-07T12:38:47.427Z"
   },
   {
    "duration": 16,
    "start_time": "2021-07-07T12:38:53.305Z"
   },
   {
    "duration": 10,
    "start_time": "2021-07-07T12:38:53.499Z"
   },
   {
    "duration": 8,
    "start_time": "2021-07-07T12:39:48.161Z"
   },
   {
    "duration": 27,
    "start_time": "2021-07-07T12:41:17.629Z"
   },
   {
    "duration": 17,
    "start_time": "2021-07-07T12:41:17.867Z"
   },
   {
    "duration": 21,
    "start_time": "2021-07-07T12:41:19.310Z"
   },
   {
    "duration": 7,
    "start_time": "2021-07-07T12:41:19.544Z"
   },
   {
    "duration": 20,
    "start_time": "2021-07-07T12:41:20.504Z"
   },
   {
    "duration": 554,
    "start_time": "2021-07-07T12:56:23.696Z"
   },
   {
    "duration": 200,
    "start_time": "2021-07-07T12:56:25.234Z"
   },
   {
    "duration": 119,
    "start_time": "2021-07-07T12:56:25.480Z"
   },
   {
    "duration": 4,
    "start_time": "2021-07-07T12:56:25.762Z"
   },
   {
    "duration": 26,
    "start_time": "2021-07-07T12:56:27.172Z"
   },
   {
    "duration": 12,
    "start_time": "2021-07-07T12:56:29.051Z"
   },
   {
    "duration": 10,
    "start_time": "2021-07-07T12:56:29.291Z"
   },
   {
    "duration": 8,
    "start_time": "2021-07-07T12:56:29.623Z"
   },
   {
    "duration": 28,
    "start_time": "2021-07-07T12:56:32.137Z"
   },
   {
    "duration": 19,
    "start_time": "2021-07-07T12:56:39.785Z"
   },
   {
    "duration": 20,
    "start_time": "2021-07-07T12:56:44.297Z"
   },
   {
    "duration": 7,
    "start_time": "2021-07-07T12:56:45.392Z"
   },
   {
    "duration": 23,
    "start_time": "2021-07-07T12:56:46.615Z"
   },
   {
    "duration": 4,
    "start_time": "2021-07-07T12:57:06.625Z"
   },
   {
    "duration": 32,
    "start_time": "2021-07-07T12:57:36.690Z"
   },
   {
    "duration": 18,
    "start_time": "2021-07-07T12:58:00.149Z"
   },
   {
    "duration": 15,
    "start_time": "2021-07-07T12:59:16.793Z"
   },
   {
    "duration": 7,
    "start_time": "2021-07-07T13:19:22.624Z"
   },
   {
    "duration": 6,
    "start_time": "2021-07-07T14:17:33.527Z"
   },
   {
    "duration": 9,
    "start_time": "2021-07-07T14:17:48.409Z"
   },
   {
    "duration": 8,
    "start_time": "2021-07-07T14:20:13.060Z"
   },
   {
    "duration": 8,
    "start_time": "2021-07-07T14:20:37.957Z"
   },
   {
    "duration": 8,
    "start_time": "2021-07-07T14:20:47.470Z"
   },
   {
    "duration": 9,
    "start_time": "2021-07-07T14:20:54.503Z"
   },
   {
    "duration": 10,
    "start_time": "2021-07-07T14:28:57.763Z"
   },
   {
    "duration": 3,
    "start_time": "2021-07-07T14:30:23.377Z"
   },
   {
    "duration": 3,
    "start_time": "2021-07-07T14:30:36.489Z"
   },
   {
    "duration": 103,
    "start_time": "2021-07-07T14:30:52.351Z"
   },
   {
    "duration": 8,
    "start_time": "2021-07-07T14:30:54.763Z"
   },
   {
    "duration": 8,
    "start_time": "2021-07-07T14:31:29.301Z"
   },
   {
    "duration": 13,
    "start_time": "2021-07-07T14:31:44.516Z"
   },
   {
    "duration": 7,
    "start_time": "2021-07-07T14:33:10.972Z"
   },
   {
    "duration": 11,
    "start_time": "2021-07-07T14:33:27.780Z"
   },
   {
    "duration": 8,
    "start_time": "2021-07-07T14:34:44.588Z"
   },
   {
    "duration": 57,
    "start_time": "2021-07-07T14:35:59.042Z"
   },
   {
    "duration": 3,
    "start_time": "2021-07-07T14:36:28.168Z"
   },
   {
    "duration": 5,
    "start_time": "2021-07-07T14:36:46.254Z"
   },
   {
    "duration": 4,
    "start_time": "2021-07-07T14:36:52.714Z"
   },
   {
    "duration": 3,
    "start_time": "2021-07-07T14:36:56.612Z"
   },
   {
    "duration": 4,
    "start_time": "2021-07-07T14:36:57.049Z"
   },
   {
    "duration": 3,
    "start_time": "2021-07-07T14:39:21.214Z"
   },
   {
    "duration": 7,
    "start_time": "2021-07-07T14:39:52.406Z"
   },
   {
    "duration": 11,
    "start_time": "2021-07-07T14:39:58.576Z"
   },
   {
    "duration": 9,
    "start_time": "2021-07-07T14:40:26.301Z"
   },
   {
    "duration": 10,
    "start_time": "2021-07-07T14:40:31.704Z"
   },
   {
    "duration": 11,
    "start_time": "2021-07-07T14:40:36.249Z"
   },
   {
    "duration": 10,
    "start_time": "2021-07-07T14:40:39.783Z"
   },
   {
    "duration": 9,
    "start_time": "2021-07-07T14:40:48.558Z"
   },
   {
    "duration": 10,
    "start_time": "2021-07-07T14:40:57.143Z"
   },
   {
    "duration": 9,
    "start_time": "2021-07-07T14:41:06.074Z"
   },
   {
    "duration": 4324,
    "start_time": "2021-07-07T14:41:22.004Z"
   },
   {
    "duration": 11,
    "start_time": "2021-07-07T14:41:33.392Z"
   },
   {
    "duration": 9,
    "start_time": "2021-07-07T14:41:39.288Z"
   },
   {
    "duration": 569,
    "start_time": "2021-07-07T14:42:14.387Z"
   },
   {
    "duration": 197,
    "start_time": "2021-07-07T14:42:14.959Z"
   },
   {
    "duration": 84,
    "start_time": "2021-07-07T14:42:16.052Z"
   },
   {
    "duration": 4,
    "start_time": "2021-07-07T14:42:16.900Z"
   },
   {
    "duration": 27,
    "start_time": "2021-07-07T14:42:19.898Z"
   },
   {
    "duration": 12,
    "start_time": "2021-07-07T14:42:21.577Z"
   },
   {
    "duration": 9,
    "start_time": "2021-07-07T14:42:21.813Z"
   },
   {
    "duration": 9,
    "start_time": "2021-07-07T14:42:22.569Z"
   },
   {
    "duration": 29,
    "start_time": "2021-07-07T14:42:25.837Z"
   },
   {
    "duration": 20,
    "start_time": "2021-07-07T14:42:27.003Z"
   },
   {
    "duration": 21,
    "start_time": "2021-07-07T14:42:28.767Z"
   },
   {
    "duration": 7,
    "start_time": "2021-07-07T14:42:29.838Z"
   },
   {
    "duration": 4,
    "start_time": "2021-07-07T14:43:25.493Z"
   },
   {
    "duration": 7,
    "start_time": "2021-07-07T14:43:26.573Z"
   },
   {
    "duration": 10,
    "start_time": "2021-07-07T14:43:31.639Z"
   },
   {
    "duration": 9,
    "start_time": "2021-07-07T14:43:32.046Z"
   },
   {
    "duration": 10,
    "start_time": "2021-07-07T14:43:33.301Z"
   },
   {
    "duration": 12,
    "start_time": "2021-07-07T14:43:33.658Z"
   },
   {
    "duration": 8,
    "start_time": "2021-07-07T14:43:34.552Z"
   },
   {
    "duration": 9,
    "start_time": "2021-07-07T14:43:35.058Z"
   },
   {
    "duration": 12,
    "start_time": "2021-07-07T14:43:35.914Z"
   },
   {
    "duration": 17,
    "start_time": "2021-07-07T14:45:34.368Z"
   },
   {
    "duration": 512,
    "start_time": "2021-07-07T14:51:58.236Z"
   },
   {
    "duration": 223,
    "start_time": "2021-07-07T14:51:58.750Z"
   },
   {
    "duration": 93,
    "start_time": "2021-07-07T14:51:58.977Z"
   },
   {
    "duration": 4,
    "start_time": "2021-07-07T14:51:59.071Z"
   },
   {
    "duration": 37,
    "start_time": "2021-07-07T14:51:59.077Z"
   },
   {
    "duration": 18,
    "start_time": "2021-07-07T14:51:59.116Z"
   },
   {
    "duration": 10,
    "start_time": "2021-07-07T14:51:59.137Z"
   },
   {
    "duration": 8,
    "start_time": "2021-07-07T14:51:59.149Z"
   },
   {
    "duration": 54,
    "start_time": "2021-07-07T14:51:59.158Z"
   },
   {
    "duration": 18,
    "start_time": "2021-07-07T14:51:59.213Z"
   },
   {
    "duration": 22,
    "start_time": "2021-07-07T14:51:59.232Z"
   },
   {
    "duration": 36,
    "start_time": "2021-07-07T14:51:59.255Z"
   },
   {
    "duration": 7,
    "start_time": "2021-07-07T14:51:59.293Z"
   },
   {
    "duration": 10,
    "start_time": "2021-07-07T14:51:59.302Z"
   },
   {
    "duration": 9,
    "start_time": "2021-07-07T14:51:59.313Z"
   },
   {
    "duration": 11,
    "start_time": "2021-07-07T14:51:59.324Z"
   },
   {
    "duration": 8,
    "start_time": "2021-07-07T14:51:59.337Z"
   },
   {
    "duration": 46,
    "start_time": "2021-07-07T14:51:59.347Z"
   },
   {
    "duration": 22,
    "start_time": "2021-07-07T14:51:59.395Z"
   },
   {
    "duration": 24,
    "start_time": "2021-07-07T14:57:32.911Z"
   },
   {
    "duration": 7,
    "start_time": "2021-07-07T14:58:22.070Z"
   },
   {
    "duration": 4,
    "start_time": "2021-07-07T14:59:11.239Z"
   },
   {
    "duration": 25,
    "start_time": "2021-07-07T15:07:22.208Z"
   },
   {
    "duration": 16,
    "start_time": "2021-07-07T15:08:25.560Z"
   },
   {
    "duration": 15,
    "start_time": "2021-07-07T15:08:40.647Z"
   },
   {
    "duration": 14,
    "start_time": "2021-07-07T15:08:46.669Z"
   },
   {
    "duration": 533,
    "start_time": "2021-07-07T15:18:07.440Z"
   },
   {
    "duration": 173,
    "start_time": "2021-07-07T15:18:07.974Z"
   },
   {
    "duration": 84,
    "start_time": "2021-07-07T15:18:08.149Z"
   },
   {
    "duration": 3,
    "start_time": "2021-07-07T15:18:08.235Z"
   },
   {
    "duration": 30,
    "start_time": "2021-07-07T15:18:08.240Z"
   },
   {
    "duration": 22,
    "start_time": "2021-07-07T15:18:08.272Z"
   },
   {
    "duration": 11,
    "start_time": "2021-07-07T15:18:08.295Z"
   },
   {
    "duration": 11,
    "start_time": "2021-07-07T15:18:08.309Z"
   },
   {
    "duration": 40,
    "start_time": "2021-07-07T15:18:08.322Z"
   },
   {
    "duration": 42,
    "start_time": "2021-07-07T15:18:08.364Z"
   },
   {
    "duration": 22,
    "start_time": "2021-07-07T15:18:08.408Z"
   },
   {
    "duration": 5,
    "start_time": "2021-07-07T15:18:08.432Z"
   },
   {
    "duration": 13,
    "start_time": "2021-07-07T15:18:08.439Z"
   },
   {
    "duration": 9,
    "start_time": "2021-07-07T15:18:08.454Z"
   },
   {
    "duration": 32,
    "start_time": "2021-07-07T15:18:08.465Z"
   },
   {
    "duration": 10,
    "start_time": "2021-07-07T15:18:08.501Z"
   },
   {
    "duration": 7,
    "start_time": "2021-07-07T15:18:08.513Z"
   },
   {
    "duration": 11,
    "start_time": "2021-07-07T15:18:08.521Z"
   },
   {
    "duration": 17,
    "start_time": "2021-07-07T15:18:08.534Z"
   },
   {
    "duration": 44,
    "start_time": "2021-07-07T15:18:08.553Z"
   },
   {
    "duration": 22,
    "start_time": "2021-07-07T15:18:08.599Z"
   },
   {
    "duration": 61,
    "start_time": "2021-07-07T15:18:08.622Z"
   },
   {
    "duration": 7,
    "start_time": "2021-07-07T15:18:39.457Z"
   },
   {
    "duration": 5,
    "start_time": "2021-07-07T16:05:17.020Z"
   },
   {
    "duration": 5,
    "start_time": "2021-07-07T16:51:28.794Z"
   },
   {
    "duration": 546,
    "start_time": "2021-07-07T16:52:26.306Z"
   },
   {
    "duration": 203,
    "start_time": "2021-07-07T16:52:27.523Z"
   },
   {
    "duration": 85,
    "start_time": "2021-07-07T16:52:27.736Z"
   },
   {
    "duration": 4,
    "start_time": "2021-07-07T16:52:27.899Z"
   },
   {
    "duration": 25,
    "start_time": "2021-07-07T16:52:28.674Z"
   },
   {
    "duration": 8,
    "start_time": "2021-07-07T16:52:32.956Z"
   },
   {
    "duration": 18,
    "start_time": "2021-07-07T16:52:35.616Z"
   },
   {
    "duration": 6,
    "start_time": "2021-07-07T16:52:36.913Z"
   },
   {
    "duration": 11,
    "start_time": "2021-07-07T16:52:40.258Z"
   },
   {
    "duration": 10,
    "start_time": "2021-07-07T16:52:46.251Z"
   },
   {
    "duration": 8,
    "start_time": "2021-07-07T16:52:47.182Z"
   },
   {
    "duration": 27,
    "start_time": "2021-07-07T16:53:20.391Z"
   },
   {
    "duration": 20,
    "start_time": "2021-07-07T16:53:22.022Z"
   },
   {
    "duration": 23,
    "start_time": "2021-07-07T16:53:23.690Z"
   },
   {
    "duration": 8,
    "start_time": "2021-07-07T16:53:24.261Z"
   },
   {
    "duration": 4,
    "start_time": "2021-07-07T16:53:38.733Z"
   },
   {
    "duration": 7,
    "start_time": "2021-07-07T16:53:40.445Z"
   },
   {
    "duration": 11,
    "start_time": "2021-07-07T16:53:41.348Z"
   },
   {
    "duration": 13,
    "start_time": "2021-07-07T16:53:45.250Z"
   },
   {
    "duration": 12,
    "start_time": "2021-07-07T16:53:45.467Z"
   },
   {
    "duration": 4,
    "start_time": "2021-07-07T16:55:32.704Z"
   },
   {
    "duration": 12,
    "start_time": "2021-07-07T16:55:49.012Z"
   },
   {
    "duration": 18,
    "start_time": "2021-07-07T16:55:49.547Z"
   },
   {
    "duration": 611,
    "start_time": "2021-07-07T16:58:35.156Z"
   },
   {
    "duration": 200,
    "start_time": "2021-07-07T16:58:35.770Z"
   },
   {
    "duration": 86,
    "start_time": "2021-07-07T16:58:35.972Z"
   },
   {
    "duration": 3,
    "start_time": "2021-07-07T16:58:36.060Z"
   },
   {
    "duration": 27,
    "start_time": "2021-07-07T16:58:36.065Z"
   },
   {
    "duration": 8,
    "start_time": "2021-07-07T16:58:36.094Z"
   },
   {
    "duration": 17,
    "start_time": "2021-07-07T16:58:36.103Z"
   },
   {
    "duration": 5,
    "start_time": "2021-07-07T16:58:36.123Z"
   },
   {
    "duration": 11,
    "start_time": "2021-07-07T16:58:36.130Z"
   },
   {
    "duration": 7,
    "start_time": "2021-07-07T16:58:36.143Z"
   },
   {
    "duration": 37,
    "start_time": "2021-07-07T16:58:36.152Z"
   },
   {
    "duration": 27,
    "start_time": "2021-07-07T16:58:36.191Z"
   },
   {
    "duration": 19,
    "start_time": "2021-07-07T16:58:36.219Z"
   },
   {
    "duration": 49,
    "start_time": "2021-07-07T16:58:36.240Z"
   },
   {
    "duration": 6,
    "start_time": "2021-07-07T16:58:36.291Z"
   },
   {
    "duration": 3,
    "start_time": "2021-07-07T16:58:36.299Z"
   },
   {
    "duration": 13,
    "start_time": "2021-07-07T16:58:36.304Z"
   },
   {
    "duration": 10,
    "start_time": "2021-07-07T16:58:36.319Z"
   },
   {
    "duration": 10,
    "start_time": "2021-07-07T16:58:36.331Z"
   },
   {
    "duration": 44,
    "start_time": "2021-07-07T16:58:36.343Z"
   },
   {
    "duration": 4,
    "start_time": "2021-07-07T16:58:36.388Z"
   },
   {
    "duration": 13,
    "start_time": "2021-07-07T16:58:36.394Z"
   },
   {
    "duration": 16,
    "start_time": "2021-07-07T16:58:36.410Z"
   },
   {
    "duration": 8,
    "start_time": "2021-07-07T17:02:31.629Z"
   },
   {
    "duration": 8,
    "start_time": "2021-07-07T17:02:34.308Z"
   },
   {
    "duration": 6,
    "start_time": "2021-07-07T17:05:13.483Z"
   },
   {
    "duration": 17,
    "start_time": "2021-07-07T17:05:20.606Z"
   },
   {
    "duration": 7,
    "start_time": "2021-07-07T17:05:34.638Z"
   },
   {
    "duration": 3,
    "start_time": "2021-07-07T17:06:31.883Z"
   },
   {
    "duration": 570,
    "start_time": "2021-07-07T17:06:37.165Z"
   },
   {
    "duration": 174,
    "start_time": "2021-07-07T17:06:37.737Z"
   },
   {
    "duration": 47,
    "start_time": "2021-07-07T17:06:37.913Z"
   },
   {
    "duration": 3,
    "start_time": "2021-07-07T17:06:37.962Z"
   },
   {
    "duration": 27,
    "start_time": "2021-07-07T17:06:37.967Z"
   },
   {
    "duration": 7,
    "start_time": "2021-07-07T17:06:37.996Z"
   },
   {
    "duration": 16,
    "start_time": "2021-07-07T17:06:38.005Z"
   },
   {
    "duration": 6,
    "start_time": "2021-07-07T17:06:38.024Z"
   },
   {
    "duration": 12,
    "start_time": "2021-07-07T17:06:38.031Z"
   },
   {
    "duration": 41,
    "start_time": "2021-07-07T17:06:38.045Z"
   },
   {
    "duration": 8,
    "start_time": "2021-07-07T17:06:38.088Z"
   },
   {
    "duration": 26,
    "start_time": "2021-07-07T17:06:38.098Z"
   },
   {
    "duration": 17,
    "start_time": "2021-07-07T17:06:38.126Z"
   },
   {
    "duration": 43,
    "start_time": "2021-07-07T17:06:38.144Z"
   },
   {
    "duration": 6,
    "start_time": "2021-07-07T17:06:38.188Z"
   },
   {
    "duration": 5,
    "start_time": "2021-07-07T17:06:38.195Z"
   },
   {
    "duration": 9,
    "start_time": "2021-07-07T17:06:38.201Z"
   },
   {
    "duration": 12,
    "start_time": "2021-07-07T17:06:38.212Z"
   },
   {
    "duration": 11,
    "start_time": "2021-07-07T17:06:38.226Z"
   },
   {
    "duration": 47,
    "start_time": "2021-07-07T17:06:38.239Z"
   },
   {
    "duration": 4,
    "start_time": "2021-07-07T17:06:38.288Z"
   },
   {
    "duration": 13,
    "start_time": "2021-07-07T17:06:38.293Z"
   },
   {
    "duration": 5,
    "start_time": "2021-07-07T17:06:38.309Z"
   },
   {
    "duration": 18,
    "start_time": "2021-07-07T17:06:38.325Z"
   },
   {
    "duration": 20,
    "start_time": "2021-07-07T17:07:02.805Z"
   },
   {
    "duration": 19,
    "start_time": "2021-07-07T17:07:08.527Z"
   },
   {
    "duration": 19,
    "start_time": "2021-07-07T17:07:12.758Z"
   },
   {
    "duration": 22,
    "start_time": "2021-07-07T17:07:17.497Z"
   },
   {
    "duration": 19,
    "start_time": "2021-07-07T17:07:19.645Z"
   },
   {
    "duration": 10,
    "start_time": "2021-07-07T17:07:34.239Z"
   },
   {
    "duration": 17,
    "start_time": "2021-07-07T17:07:54.144Z"
   },
   {
    "duration": 14,
    "start_time": "2021-07-07T17:08:14.357Z"
   },
   {
    "duration": 616,
    "start_time": "2021-07-07T17:08:45.254Z"
   },
   {
    "duration": 178,
    "start_time": "2021-07-07T17:08:45.872Z"
   },
   {
    "duration": 60,
    "start_time": "2021-07-07T17:08:46.054Z"
   },
   {
    "duration": 3,
    "start_time": "2021-07-07T17:08:46.116Z"
   },
   {
    "duration": 26,
    "start_time": "2021-07-07T17:08:46.121Z"
   },
   {
    "duration": 7,
    "start_time": "2021-07-07T17:08:46.149Z"
   },
   {
    "duration": 17,
    "start_time": "2021-07-07T17:08:46.158Z"
   },
   {
    "duration": 14,
    "start_time": "2021-07-07T17:08:46.176Z"
   },
   {
    "duration": 17,
    "start_time": "2021-07-07T17:08:46.193Z"
   },
   {
    "duration": 9,
    "start_time": "2021-07-07T17:08:46.211Z"
   },
   {
    "duration": 21,
    "start_time": "2021-07-07T17:08:46.221Z"
   },
   {
    "duration": 49,
    "start_time": "2021-07-07T17:08:46.244Z"
   },
   {
    "duration": 24,
    "start_time": "2021-07-07T17:08:46.295Z"
   },
   {
    "duration": 22,
    "start_time": "2021-07-07T17:08:46.321Z"
   },
   {
    "duration": 6,
    "start_time": "2021-07-07T17:08:46.345Z"
   },
   {
    "duration": 5,
    "start_time": "2021-07-07T17:08:46.353Z"
   },
   {
    "duration": 13,
    "start_time": "2021-07-07T17:08:46.386Z"
   },
   {
    "duration": 12,
    "start_time": "2021-07-07T17:08:46.402Z"
   },
   {
    "duration": 10,
    "start_time": "2021-07-07T17:08:46.415Z"
   },
   {
    "duration": 7,
    "start_time": "2021-07-07T17:08:46.427Z"
   },
   {
    "duration": 8,
    "start_time": "2021-07-07T17:08:46.435Z"
   },
   {
    "duration": 68,
    "start_time": "2021-07-07T17:08:46.446Z"
   },
   {
    "duration": 13,
    "start_time": "2021-07-07T17:08:46.516Z"
   },
   {
    "duration": 78,
    "start_time": "2021-07-07T17:08:46.530Z"
   },
   {
    "duration": 40,
    "start_time": "2021-07-07T17:09:08.185Z"
   },
   {
    "duration": 16,
    "start_time": "2021-07-07T17:09:19.324Z"
   },
   {
    "duration": 21,
    "start_time": "2021-07-07T17:09:23.290Z"
   },
   {
    "duration": 13,
    "start_time": "2021-07-07T17:09:54.812Z"
   },
   {
    "duration": 13,
    "start_time": "2021-07-07T17:10:02.039Z"
   },
   {
    "duration": 10,
    "start_time": "2021-07-07T17:10:29.632Z"
   },
   {
    "duration": 13,
    "start_time": "2021-07-07T17:10:52.372Z"
   },
   {
    "duration": 13,
    "start_time": "2021-07-07T17:11:17.270Z"
   },
   {
    "duration": 13,
    "start_time": "2021-07-07T17:14:59.284Z"
   },
   {
    "duration": 547,
    "start_time": "2021-07-07T17:18:52.403Z"
   },
   {
    "duration": 163,
    "start_time": "2021-07-07T17:18:52.952Z"
   },
   {
    "duration": 44,
    "start_time": "2021-07-07T17:18:53.117Z"
   },
   {
    "duration": 3,
    "start_time": "2021-07-07T17:18:53.162Z"
   },
   {
    "duration": 26,
    "start_time": "2021-07-07T17:18:53.167Z"
   },
   {
    "duration": 6,
    "start_time": "2021-07-07T17:18:53.195Z"
   },
   {
    "duration": 15,
    "start_time": "2021-07-07T17:18:53.203Z"
   },
   {
    "duration": 5,
    "start_time": "2021-07-07T17:18:53.220Z"
   },
   {
    "duration": 11,
    "start_time": "2021-07-07T17:18:53.228Z"
   },
   {
    "duration": 9,
    "start_time": "2021-07-07T17:18:53.241Z"
   },
   {
    "duration": 41,
    "start_time": "2021-07-07T17:18:53.252Z"
   },
   {
    "duration": 33,
    "start_time": "2021-07-07T17:18:53.295Z"
   },
   {
    "duration": 19,
    "start_time": "2021-07-07T17:18:53.330Z"
   },
   {
    "duration": 49,
    "start_time": "2021-07-07T17:18:53.350Z"
   },
   {
    "duration": 5,
    "start_time": "2021-07-07T17:18:53.401Z"
   },
   {
    "duration": 5,
    "start_time": "2021-07-07T17:18:53.408Z"
   },
   {
    "duration": 11,
    "start_time": "2021-07-07T17:18:53.414Z"
   },
   {
    "duration": 9,
    "start_time": "2021-07-07T17:18:53.427Z"
   },
   {
    "duration": 10,
    "start_time": "2021-07-07T17:18:53.437Z"
   },
   {
    "duration": 39,
    "start_time": "2021-07-07T17:18:53.448Z"
   },
   {
    "duration": 26,
    "start_time": "2021-07-07T17:18:55.799Z"
   },
   {
    "duration": 598,
    "start_time": "2021-07-07T17:20:17.862Z"
   },
   {
    "duration": 161,
    "start_time": "2021-07-07T17:20:18.462Z"
   },
   {
    "duration": 45,
    "start_time": "2021-07-07T17:20:18.626Z"
   },
   {
    "duration": 4,
    "start_time": "2021-07-07T17:20:18.673Z"
   },
   {
    "duration": 38,
    "start_time": "2021-07-07T17:20:26.877Z"
   },
   {
    "duration": 7,
    "start_time": "2021-07-07T17:20:37.405Z"
   },
   {
    "duration": 19,
    "start_time": "2021-07-07T17:20:51.534Z"
   },
   {
    "duration": 5,
    "start_time": "2021-07-07T17:20:57.228Z"
   },
   {
    "duration": 7,
    "start_time": "2021-07-07T17:21:08.235Z"
   },
   {
    "duration": 19,
    "start_time": "2021-07-07T17:21:42.158Z"
   },
   {
    "duration": 14,
    "start_time": "2021-07-07T17:21:50.225Z"
   },
   {
    "duration": 22,
    "start_time": "2021-07-07T17:22:54.104Z"
   },
   {
    "duration": 5,
    "start_time": "2021-07-07T17:22:56.371Z"
   },
   {
    "duration": 14,
    "start_time": "2021-07-07T17:22:58.316Z"
   },
   {
    "duration": 5,
    "start_time": "2021-07-07T17:22:58.493Z"
   },
   {
    "duration": 35,
    "start_time": "2021-07-07T17:22:59.666Z"
   },
   {
    "duration": 6,
    "start_time": "2021-07-07T17:23:02.410Z"
   },
   {
    "duration": 611,
    "start_time": "2021-07-07T17:24:59.664Z"
   },
   {
    "duration": 178,
    "start_time": "2021-07-07T17:25:01.945Z"
   },
   {
    "duration": 47,
    "start_time": "2021-07-07T17:25:02.125Z"
   },
   {
    "duration": 2,
    "start_time": "2021-07-07T17:25:07.903Z"
   },
   {
    "duration": 254,
    "start_time": "2021-07-07T17:25:08.232Z"
   },
   {
    "duration": 182,
    "start_time": "2021-07-07T17:25:08.671Z"
   },
   {
    "duration": 6,
    "start_time": "2021-07-07T17:25:13.104Z"
   },
   {
    "duration": 36,
    "start_time": "2021-07-07T17:25:13.662Z"
   },
   {
    "duration": 7,
    "start_time": "2021-07-07T17:25:14.528Z"
   },
   {
    "duration": 24,
    "start_time": "2021-07-07T17:25:27.982Z"
   },
   {
    "duration": 3,
    "start_time": "2021-07-07T17:25:48.982Z"
   },
   {
    "duration": 165,
    "start_time": "2021-07-07T17:25:48.987Z"
   },
   {
    "duration": 50,
    "start_time": "2021-07-07T17:25:49.154Z"
   },
   {
    "duration": 4,
    "start_time": "2021-07-07T17:25:49.206Z"
   },
   {
    "duration": 26,
    "start_time": "2021-07-07T17:25:49.212Z"
   },
   {
    "duration": 7,
    "start_time": "2021-07-07T17:25:49.240Z"
   },
   {
    "duration": 16,
    "start_time": "2021-07-07T17:25:49.249Z"
   },
   {
    "duration": 22,
    "start_time": "2021-07-07T17:25:49.266Z"
   },
   {
    "duration": 16,
    "start_time": "2021-07-07T17:25:49.291Z"
   },
   {
    "duration": 9,
    "start_time": "2021-07-07T17:25:49.309Z"
   },
   {
    "duration": 7,
    "start_time": "2021-07-07T17:25:49.319Z"
   },
   {
    "duration": 28,
    "start_time": "2021-07-07T17:25:49.328Z"
   },
   {
    "duration": 44,
    "start_time": "2021-07-07T17:25:49.357Z"
   },
   {
    "duration": 22,
    "start_time": "2021-07-07T17:25:49.403Z"
   },
   {
    "duration": 7,
    "start_time": "2021-07-07T17:25:49.427Z"
   },
   {
    "duration": 3,
    "start_time": "2021-07-07T17:25:49.436Z"
   },
   {
    "duration": 44,
    "start_time": "2021-07-07T17:25:49.441Z"
   },
   {
    "duration": 12,
    "start_time": "2021-07-07T17:25:49.488Z"
   },
   {
    "duration": 13,
    "start_time": "2021-07-07T17:25:49.502Z"
   },
   {
    "duration": 10,
    "start_time": "2021-07-07T17:25:49.516Z"
   },
   {
    "duration": 62,
    "start_time": "2021-07-07T17:25:49.527Z"
   },
   {
    "duration": 26,
    "start_time": "2021-07-07T17:26:51.809Z"
   },
   {
    "duration": 26,
    "start_time": "2021-07-07T17:26:55.759Z"
   },
   {
    "duration": 26,
    "start_time": "2021-07-07T17:27:04.501Z"
   },
   {
    "duration": 25,
    "start_time": "2021-07-07T17:28:24.859Z"
   },
   {
    "duration": 21,
    "start_time": "2021-07-07T17:28:55.250Z"
   },
   {
    "duration": 21,
    "start_time": "2021-07-07T17:28:58.885Z"
   },
   {
    "duration": 7,
    "start_time": "2021-07-07T17:45:40.972Z"
   },
   {
    "duration": 13,
    "start_time": "2021-07-07T17:45:42.529Z"
   },
   {
    "duration": 27,
    "start_time": "2021-07-07T17:45:51.026Z"
   },
   {
    "duration": 518,
    "start_time": "2021-07-07T17:46:15.532Z"
   },
   {
    "duration": 235,
    "start_time": "2021-07-07T17:46:16.053Z"
   },
   {
    "duration": 80,
    "start_time": "2021-07-07T17:46:16.292Z"
   },
   {
    "duration": 5,
    "start_time": "2021-07-07T17:46:16.373Z"
   },
   {
    "duration": 26,
    "start_time": "2021-07-07T17:46:16.380Z"
   },
   {
    "duration": 7,
    "start_time": "2021-07-07T17:46:16.408Z"
   },
   {
    "duration": 16,
    "start_time": "2021-07-07T17:46:16.418Z"
   },
   {
    "duration": 5,
    "start_time": "2021-07-07T17:46:16.436Z"
   },
   {
    "duration": 13,
    "start_time": "2021-07-07T17:46:16.442Z"
   },
   {
    "duration": 35,
    "start_time": "2021-07-07T17:46:16.456Z"
   },
   {
    "duration": 8,
    "start_time": "2021-07-07T17:46:16.493Z"
   },
   {
    "duration": 28,
    "start_time": "2021-07-07T17:46:16.502Z"
   },
   {
    "duration": 17,
    "start_time": "2021-07-07T17:46:16.532Z"
   },
   {
    "duration": 44,
    "start_time": "2021-07-07T17:46:16.551Z"
   },
   {
    "duration": 6,
    "start_time": "2021-07-07T17:46:16.597Z"
   },
   {
    "duration": 4,
    "start_time": "2021-07-07T17:46:16.605Z"
   },
   {
    "duration": 9,
    "start_time": "2021-07-07T17:46:16.610Z"
   },
   {
    "duration": 9,
    "start_time": "2021-07-07T17:46:16.621Z"
   },
   {
    "duration": 10,
    "start_time": "2021-07-07T17:46:16.632Z"
   },
   {
    "duration": 43,
    "start_time": "2021-07-07T17:46:16.644Z"
   },
   {
    "duration": 26,
    "start_time": "2021-07-07T17:46:16.689Z"
   },
   {
    "duration": 19,
    "start_time": "2021-07-07T17:46:16.718Z"
   },
   {
    "duration": 8,
    "start_time": "2021-07-07T17:46:16.738Z"
   },
   {
    "duration": 43,
    "start_time": "2021-07-07T17:46:16.747Z"
   },
   {
    "duration": 19,
    "start_time": "2021-07-07T17:46:16.791Z"
   },
   {
    "duration": 9,
    "start_time": "2021-07-07T17:46:16.812Z"
   },
   {
    "duration": 60,
    "start_time": "2021-07-07T17:46:16.822Z"
   },
   {
    "duration": -8,
    "start_time": "2021-07-07T17:46:16.892Z"
   },
   {
    "duration": 12,
    "start_time": "2021-07-07T17:48:47.707Z"
   },
   {
    "duration": 553,
    "start_time": "2021-07-07T18:10:09.350Z"
   },
   {
    "duration": 230,
    "start_time": "2021-07-07T18:10:09.905Z"
   },
   {
    "duration": 97,
    "start_time": "2021-07-07T18:10:10.137Z"
   },
   {
    "duration": 5,
    "start_time": "2021-07-07T18:10:10.236Z"
   },
   {
    "duration": 29,
    "start_time": "2021-07-07T18:10:10.242Z"
   },
   {
    "duration": 7,
    "start_time": "2021-07-07T18:10:10.272Z"
   },
   {
    "duration": 15,
    "start_time": "2021-07-07T18:10:10.281Z"
   },
   {
    "duration": 4,
    "start_time": "2021-07-07T18:10:10.299Z"
   },
   {
    "duration": 14,
    "start_time": "2021-07-07T18:10:10.305Z"
   },
   {
    "duration": 8,
    "start_time": "2021-07-07T18:10:10.321Z"
   },
   {
    "duration": 8,
    "start_time": "2021-07-07T18:10:10.331Z"
   },
   {
    "duration": 56,
    "start_time": "2021-07-07T18:10:10.341Z"
   },
   {
    "duration": 19,
    "start_time": "2021-07-07T18:10:10.399Z"
   },
   {
    "duration": 23,
    "start_time": "2021-07-07T18:10:10.419Z"
   },
   {
    "duration": 6,
    "start_time": "2021-07-07T18:10:10.444Z"
   },
   {
    "duration": 9,
    "start_time": "2021-07-07T18:10:10.451Z"
   },
   {
    "duration": 30,
    "start_time": "2021-07-07T18:10:10.462Z"
   },
   {
    "duration": 9,
    "start_time": "2021-07-07T18:10:10.494Z"
   },
   {
    "duration": 14,
    "start_time": "2021-07-07T18:10:10.505Z"
   },
   {
    "duration": 7,
    "start_time": "2021-07-07T18:10:10.521Z"
   },
   {
    "duration": 26,
    "start_time": "2021-07-07T18:10:10.530Z"
   },
   {
    "duration": 44,
    "start_time": "2021-07-07T18:10:10.558Z"
   },
   {
    "duration": 7,
    "start_time": "2021-07-07T18:10:10.605Z"
   },
   {
    "duration": 11,
    "start_time": "2021-07-07T18:10:10.614Z"
   },
   {
    "duration": 19,
    "start_time": "2021-07-07T18:10:10.626Z"
   },
   {
    "duration": 44,
    "start_time": "2021-07-07T18:10:10.646Z"
   },
   {
    "duration": 516,
    "start_time": "2021-07-07T18:14:00.826Z"
   },
   {
    "duration": 230,
    "start_time": "2021-07-07T18:14:01.344Z"
   },
   {
    "duration": 105,
    "start_time": "2021-07-07T18:14:01.576Z"
   },
   {
    "duration": 5,
    "start_time": "2021-07-07T18:14:01.683Z"
   },
   {
    "duration": 46,
    "start_time": "2021-07-07T18:14:01.690Z"
   },
   {
    "duration": 7,
    "start_time": "2021-07-07T18:14:01.738Z"
   },
   {
    "duration": 20,
    "start_time": "2021-07-07T18:14:01.747Z"
   },
   {
    "duration": 16,
    "start_time": "2021-07-07T18:14:01.769Z"
   },
   {
    "duration": 14,
    "start_time": "2021-07-07T18:14:01.787Z"
   },
   {
    "duration": 15,
    "start_time": "2021-07-07T18:14:01.803Z"
   },
   {
    "duration": 12,
    "start_time": "2021-07-07T18:14:01.820Z"
   },
   {
    "duration": 35,
    "start_time": "2021-07-07T18:14:01.833Z"
   },
   {
    "duration": 31,
    "start_time": "2021-07-07T18:14:01.869Z"
   },
   {
    "duration": 37,
    "start_time": "2021-07-07T18:14:01.902Z"
   },
   {
    "duration": 8,
    "start_time": "2021-07-07T18:14:01.942Z"
   },
   {
    "duration": 16,
    "start_time": "2021-07-07T18:14:01.952Z"
   },
   {
    "duration": 13,
    "start_time": "2021-07-07T18:14:01.970Z"
   },
   {
    "duration": 32,
    "start_time": "2021-07-07T18:14:01.985Z"
   },
   {
    "duration": 11,
    "start_time": "2021-07-07T18:14:02.019Z"
   },
   {
    "duration": 22,
    "start_time": "2021-07-07T18:14:02.031Z"
   },
   {
    "duration": 27,
    "start_time": "2021-07-07T18:14:02.055Z"
   },
   {
    "duration": 18,
    "start_time": "2021-07-07T18:14:02.084Z"
   },
   {
    "duration": 18,
    "start_time": "2021-07-07T18:14:02.106Z"
   },
   {
    "duration": 11,
    "start_time": "2021-07-07T18:14:02.126Z"
   },
   {
    "duration": 21,
    "start_time": "2021-07-07T18:14:02.138Z"
   },
   {
    "duration": 32,
    "start_time": "2021-07-07T18:14:02.161Z"
   },
   {
    "duration": 28,
    "start_time": "2021-07-07T18:14:44.295Z"
   },
   {
    "duration": 6,
    "start_time": "2021-07-07T18:15:05.834Z"
   },
   {
    "duration": 511,
    "start_time": "2021-07-07T18:15:41.541Z"
   },
   {
    "duration": 183,
    "start_time": "2021-07-07T18:15:42.054Z"
   },
   {
    "duration": 50,
    "start_time": "2021-07-07T18:15:42.239Z"
   },
   {
    "duration": 5,
    "start_time": "2021-07-07T18:15:42.291Z"
   },
   {
    "duration": 48,
    "start_time": "2021-07-07T18:15:42.297Z"
   },
   {
    "duration": 8,
    "start_time": "2021-07-07T18:15:42.346Z"
   },
   {
    "duration": 17,
    "start_time": "2021-07-07T18:15:42.356Z"
   },
   {
    "duration": 15,
    "start_time": "2021-07-07T18:15:42.375Z"
   },
   {
    "duration": 12,
    "start_time": "2021-07-07T18:15:42.392Z"
   },
   {
    "duration": 7,
    "start_time": "2021-07-07T18:15:42.406Z"
   },
   {
    "duration": 7,
    "start_time": "2021-07-07T18:15:42.415Z"
   },
   {
    "duration": 29,
    "start_time": "2021-07-07T18:15:42.423Z"
   },
   {
    "duration": 43,
    "start_time": "2021-07-07T18:15:42.453Z"
   },
   {
    "duration": 18,
    "start_time": "2021-07-07T18:15:42.497Z"
   },
   {
    "duration": 6,
    "start_time": "2021-07-07T18:15:42.516Z"
   },
   {
    "duration": 3,
    "start_time": "2021-07-07T18:15:42.523Z"
   },
   {
    "duration": 18,
    "start_time": "2021-07-07T18:15:42.528Z"
   },
   {
    "duration": 10,
    "start_time": "2021-07-07T18:15:42.547Z"
   },
   {
    "duration": 36,
    "start_time": "2021-07-07T18:15:42.559Z"
   },
   {
    "duration": 8,
    "start_time": "2021-07-07T18:15:42.597Z"
   },
   {
    "duration": 28,
    "start_time": "2021-07-07T18:15:42.606Z"
   },
   {
    "duration": 52,
    "start_time": "2021-07-07T18:15:42.635Z"
   },
   {
    "duration": 7,
    "start_time": "2021-07-07T18:15:42.690Z"
   },
   {
    "duration": 10,
    "start_time": "2021-07-07T18:15:42.699Z"
   },
   {
    "duration": 19,
    "start_time": "2021-07-07T18:15:42.711Z"
   },
   {
    "duration": 9,
    "start_time": "2021-07-07T18:15:42.732Z"
   },
   {
    "duration": 5,
    "start_time": "2021-07-07T18:15:42.743Z"
   },
   {
    "duration": 1450,
    "start_time": "2021-07-07T18:15:51.984Z"
   },
   {
    "duration": 161,
    "start_time": "2021-07-07T18:15:53.435Z"
   },
   {
    "duration": 124,
    "start_time": "2021-07-07T18:15:53.598Z"
   },
   {
    "duration": 5,
    "start_time": "2021-07-07T18:15:53.724Z"
   },
   {
    "duration": 34,
    "start_time": "2021-07-07T18:15:53.730Z"
   },
   {
    "duration": 7,
    "start_time": "2021-07-07T18:15:53.765Z"
   },
   {
    "duration": 15,
    "start_time": "2021-07-07T18:15:53.773Z"
   },
   {
    "duration": 5,
    "start_time": "2021-07-07T18:15:53.791Z"
   },
   {
    "duration": 19,
    "start_time": "2021-07-07T18:15:53.798Z"
   },
   {
    "duration": 9,
    "start_time": "2021-07-07T18:15:53.818Z"
   },
   {
    "duration": 19,
    "start_time": "2021-07-07T18:15:53.828Z"
   },
   {
    "duration": 27,
    "start_time": "2021-07-07T18:15:53.848Z"
   },
   {
    "duration": 16,
    "start_time": "2021-07-07T18:15:53.884Z"
   },
   {
    "duration": 29,
    "start_time": "2021-07-07T18:15:53.901Z"
   },
   {
    "duration": 5,
    "start_time": "2021-07-07T18:15:53.932Z"
   },
   {
    "duration": 15,
    "start_time": "2021-07-07T18:15:53.939Z"
   },
   {
    "duration": 13,
    "start_time": "2021-07-07T18:15:53.956Z"
   },
   {
    "duration": 20,
    "start_time": "2021-07-07T18:15:53.971Z"
   },
   {
    "duration": 14,
    "start_time": "2021-07-07T18:15:53.992Z"
   },
   {
    "duration": 9,
    "start_time": "2021-07-07T18:15:54.009Z"
   },
   {
    "duration": 28,
    "start_time": "2021-07-07T18:15:54.020Z"
   },
   {
    "duration": 50,
    "start_time": "2021-07-07T18:15:54.051Z"
   },
   {
    "duration": 8,
    "start_time": "2021-07-07T18:15:54.105Z"
   },
   {
    "duration": 11,
    "start_time": "2021-07-07T18:15:54.115Z"
   },
   {
    "duration": 20,
    "start_time": "2021-07-07T18:15:54.128Z"
   },
   {
    "duration": 13,
    "start_time": "2021-07-07T18:15:54.184Z"
   },
   {
    "duration": 7,
    "start_time": "2021-07-07T18:15:54.199Z"
   },
   {
    "duration": 7,
    "start_time": "2021-07-07T18:17:08.042Z"
   },
   {
    "duration": 8,
    "start_time": "2021-07-07T18:17:21.008Z"
   },
   {
    "duration": 7,
    "start_time": "2021-07-07T18:17:29.003Z"
   },
   {
    "duration": 8,
    "start_time": "2021-07-07T18:17:32.492Z"
   },
   {
    "duration": 9,
    "start_time": "2021-07-07T18:17:41.758Z"
   },
   {
    "duration": 255,
    "start_time": "2021-07-07T18:20:20.897Z"
   },
   {
    "duration": 173,
    "start_time": "2021-07-07T18:20:26.636Z"
   },
   {
    "duration": 7,
    "start_time": "2021-07-07T18:21:47.164Z"
   },
   {
    "duration": 254,
    "start_time": "2021-07-07T18:23:08.703Z"
   },
   {
    "duration": 21,
    "start_time": "2021-07-07T18:23:22.506Z"
   },
   {
    "duration": 315,
    "start_time": "2021-07-07T18:25:54.801Z"
   },
   {
    "duration": 34,
    "start_time": "2021-07-07T18:26:51.817Z"
   },
   {
    "duration": 327,
    "start_time": "2021-07-07T18:26:56.147Z"
   },
   {
    "duration": 342,
    "start_time": "2021-07-07T18:27:15.887Z"
   },
   {
    "duration": 302,
    "start_time": "2021-07-07T18:28:18.569Z"
   },
   {
    "duration": 226,
    "start_time": "2021-07-07T18:29:20.879Z"
   },
   {
    "duration": 207,
    "start_time": "2021-07-07T18:29:58.114Z"
   },
   {
    "duration": 140,
    "start_time": "2021-07-07T18:32:04.372Z"
   },
   {
    "duration": 158,
    "start_time": "2021-07-07T18:32:32.508Z"
   },
   {
    "duration": 145,
    "start_time": "2021-07-07T18:32:41.365Z"
   },
   {
    "duration": 132,
    "start_time": "2021-07-07T18:32:45.199Z"
   },
   {
    "duration": 11,
    "start_time": "2021-07-07T18:35:24.679Z"
   },
   {
    "duration": 268,
    "start_time": "2021-07-07T18:36:16.145Z"
   },
   {
    "duration": 227,
    "start_time": "2021-07-07T18:37:04.918Z"
   },
   {
    "duration": 3,
    "start_time": "2021-07-07T18:37:33.012Z"
   },
   {
    "duration": 671,
    "start_time": "2021-07-07T18:37:38.295Z"
   },
   {
    "duration": 54,
    "start_time": "2021-07-07T18:37:53.406Z"
   },
   {
    "duration": 631,
    "start_time": "2021-07-07T18:37:56.463Z"
   },
   {
    "duration": 19,
    "start_time": "2021-07-07T18:39:40.535Z"
   },
   {
    "duration": 20,
    "start_time": "2021-07-07T18:40:12.236Z"
   },
   {
    "duration": 633,
    "start_time": "2021-07-07T18:42:00.398Z"
   },
   {
    "duration": 218,
    "start_time": "2021-07-07T18:42:01.033Z"
   },
   {
    "duration": 49,
    "start_time": "2021-07-07T18:42:01.253Z"
   },
   {
    "duration": 5,
    "start_time": "2021-07-07T18:42:01.303Z"
   },
   {
    "duration": 27,
    "start_time": "2021-07-07T18:42:01.310Z"
   },
   {
    "duration": 8,
    "start_time": "2021-07-07T18:42:01.339Z"
   },
   {
    "duration": 20,
    "start_time": "2021-07-07T18:42:01.348Z"
   },
   {
    "duration": 6,
    "start_time": "2021-07-07T18:42:01.386Z"
   },
   {
    "duration": 16,
    "start_time": "2021-07-07T18:42:01.394Z"
   },
   {
    "duration": 9,
    "start_time": "2021-07-07T18:42:01.411Z"
   },
   {
    "duration": 11,
    "start_time": "2021-07-07T18:42:01.421Z"
   },
   {
    "duration": 31,
    "start_time": "2021-07-07T18:42:01.434Z"
   },
   {
    "duration": 18,
    "start_time": "2021-07-07T18:42:01.485Z"
   },
   {
    "duration": 23,
    "start_time": "2021-07-07T18:42:01.505Z"
   },
   {
    "duration": 6,
    "start_time": "2021-07-07T18:42:01.530Z"
   },
   {
    "duration": 10,
    "start_time": "2021-07-07T18:42:01.538Z"
   },
   {
    "duration": 13,
    "start_time": "2021-07-07T18:42:01.550Z"
   },
   {
    "duration": 24,
    "start_time": "2021-07-07T18:42:01.564Z"
   },
   {
    "duration": 20,
    "start_time": "2021-07-07T18:42:01.590Z"
   },
   {
    "duration": 8,
    "start_time": "2021-07-07T18:42:01.611Z"
   },
   {
    "duration": 31,
    "start_time": "2021-07-07T18:42:01.620Z"
   },
   {
    "duration": 39,
    "start_time": "2021-07-07T18:42:01.653Z"
   },
   {
    "duration": 8,
    "start_time": "2021-07-07T18:42:01.696Z"
   },
   {
    "duration": 13,
    "start_time": "2021-07-07T18:42:01.705Z"
   },
   {
    "duration": 20,
    "start_time": "2021-07-07T18:42:01.720Z"
   },
   {
    "duration": 12,
    "start_time": "2021-07-07T18:42:01.741Z"
   },
   {
    "duration": 35,
    "start_time": "2021-07-07T18:42:01.755Z"
   },
   {
    "duration": 14,
    "start_time": "2021-07-07T18:42:01.792Z"
   },
   {
    "duration": 188,
    "start_time": "2021-07-07T18:42:01.808Z"
   },
   {
    "duration": 19,
    "start_time": "2021-07-07T18:42:01.998Z"
   },
   {
    "duration": 175,
    "start_time": "2021-07-07T18:42:02.019Z"
   },
   {
    "duration": 134,
    "start_time": "2021-07-07T18:42:02.196Z"
   },
   {
    "duration": 10,
    "start_time": "2021-07-07T18:42:02.331Z"
   },
   {
    "duration": 19,
    "start_time": "2021-07-07T18:42:02.343Z"
   },
   {
    "duration": 628,
    "start_time": "2021-07-07T18:46:30.701Z"
   },
   {
    "duration": 183,
    "start_time": "2021-07-07T18:46:31.331Z"
   },
   {
    "duration": 48,
    "start_time": "2021-07-07T18:46:31.516Z"
   },
   {
    "duration": 5,
    "start_time": "2021-07-07T18:46:31.566Z"
   },
   {
    "duration": 28,
    "start_time": "2021-07-07T18:46:31.572Z"
   },
   {
    "duration": 8,
    "start_time": "2021-07-07T18:46:31.602Z"
   },
   {
    "duration": 19,
    "start_time": "2021-07-07T18:46:31.611Z"
   },
   {
    "duration": 6,
    "start_time": "2021-07-07T18:46:31.633Z"
   },
   {
    "duration": 17,
    "start_time": "2021-07-07T18:46:31.642Z"
   },
   {
    "duration": 10,
    "start_time": "2021-07-07T18:46:31.684Z"
   },
   {
    "duration": 9,
    "start_time": "2021-07-07T18:46:31.695Z"
   },
   {
    "duration": 28,
    "start_time": "2021-07-07T18:46:31.705Z"
   },
   {
    "duration": 18,
    "start_time": "2021-07-07T18:46:31.735Z"
   },
   {
    "duration": 48,
    "start_time": "2021-07-07T18:46:31.755Z"
   },
   {
    "duration": 6,
    "start_time": "2021-07-07T18:46:31.804Z"
   },
   {
    "duration": 4,
    "start_time": "2021-07-07T18:46:31.812Z"
   },
   {
    "duration": 9,
    "start_time": "2021-07-07T18:46:31.817Z"
   },
   {
    "duration": 10,
    "start_time": "2021-07-07T18:46:31.827Z"
   },
   {
    "duration": 12,
    "start_time": "2021-07-07T18:46:31.838Z"
   },
   {
    "duration": 39,
    "start_time": "2021-07-07T18:46:31.851Z"
   },
   {
    "duration": 24,
    "start_time": "2021-07-07T18:46:31.892Z"
   },
   {
    "duration": 15,
    "start_time": "2021-07-07T18:46:31.918Z"
   },
   {
    "duration": 7,
    "start_time": "2021-07-07T18:46:31.936Z"
   },
   {
    "duration": 8,
    "start_time": "2021-07-07T18:46:31.944Z"
   },
   {
    "duration": 19,
    "start_time": "2021-07-07T18:46:31.984Z"
   },
   {
    "duration": 10,
    "start_time": "2021-07-07T18:46:32.004Z"
   },
   {
    "duration": 5,
    "start_time": "2021-07-07T18:46:32.016Z"
   },
   {
    "duration": 9,
    "start_time": "2021-07-07T18:46:32.023Z"
   },
   {
    "duration": 199,
    "start_time": "2021-07-07T18:46:32.033Z"
   },
   {
    "duration": 19,
    "start_time": "2021-07-07T18:46:32.234Z"
   },
   {
    "duration": 159,
    "start_time": "2021-07-07T18:46:32.255Z"
   },
   {
    "duration": 134,
    "start_time": "2021-07-07T18:46:32.416Z"
   },
   {
    "duration": 10,
    "start_time": "2021-07-07T18:46:32.552Z"
   },
   {
    "duration": 34,
    "start_time": "2021-07-07T18:46:32.563Z"
   },
   {
    "duration": 1039,
    "start_time": "2021-07-08T08:41:09.419Z"
   },
   {
    "duration": 333,
    "start_time": "2021-07-08T08:41:10.459Z"
   },
   {
    "duration": 173,
    "start_time": "2021-07-08T08:41:10.794Z"
   },
   {
    "duration": 5,
    "start_time": "2021-07-08T08:41:10.968Z"
   },
   {
    "duration": 25,
    "start_time": "2021-07-08T08:41:10.975Z"
   },
   {
    "duration": 9,
    "start_time": "2021-07-08T08:41:11.002Z"
   },
   {
    "duration": 18,
    "start_time": "2021-07-08T08:41:11.013Z"
   },
   {
    "duration": 6,
    "start_time": "2021-07-08T08:41:11.033Z"
   },
   {
    "duration": 44,
    "start_time": "2021-07-08T08:41:11.042Z"
   },
   {
    "duration": 10,
    "start_time": "2021-07-08T08:41:11.088Z"
   },
   {
    "duration": 9,
    "start_time": "2021-07-08T08:41:11.100Z"
   },
   {
    "duration": 27,
    "start_time": "2021-07-08T08:41:11.111Z"
   },
   {
    "duration": 46,
    "start_time": "2021-07-08T08:41:11.140Z"
   },
   {
    "duration": 17,
    "start_time": "2021-07-08T08:41:11.187Z"
   },
   {
    "duration": 6,
    "start_time": "2021-07-08T08:41:11.206Z"
   },
   {
    "duration": 5,
    "start_time": "2021-07-08T08:41:11.213Z"
   },
   {
    "duration": 10,
    "start_time": "2021-07-08T08:41:11.219Z"
   },
   {
    "duration": 9,
    "start_time": "2021-07-08T08:41:11.230Z"
   },
   {
    "duration": 45,
    "start_time": "2021-07-08T08:41:11.241Z"
   },
   {
    "duration": 7,
    "start_time": "2021-07-08T08:41:11.287Z"
   },
   {
    "duration": 24,
    "start_time": "2021-07-08T08:41:11.296Z"
   },
   {
    "duration": 16,
    "start_time": "2021-07-08T08:41:11.322Z"
   },
   {
    "duration": 7,
    "start_time": "2021-07-08T08:41:11.341Z"
   },
   {
    "duration": 41,
    "start_time": "2021-07-08T08:41:11.349Z"
   },
   {
    "duration": 17,
    "start_time": "2021-07-08T08:41:11.391Z"
   },
   {
    "duration": 9,
    "start_time": "2021-07-08T08:41:11.410Z"
   },
   {
    "duration": 5,
    "start_time": "2021-07-08T08:41:11.421Z"
   },
   {
    "duration": 6,
    "start_time": "2021-07-08T08:41:11.428Z"
   },
   {
    "duration": 198,
    "start_time": "2021-07-08T08:41:11.435Z"
   },
   {
    "duration": 18,
    "start_time": "2021-07-08T08:41:11.635Z"
   },
   {
    "duration": 155,
    "start_time": "2021-07-08T08:41:11.655Z"
   },
   {
    "duration": 138,
    "start_time": "2021-07-08T08:41:11.811Z"
   },
   {
    "duration": 10,
    "start_time": "2021-07-08T08:41:11.950Z"
   },
   {
    "duration": 29,
    "start_time": "2021-07-08T08:41:11.961Z"
   },
   {
    "duration": 171,
    "start_time": "2021-07-08T08:47:44.522Z"
   },
   {
    "duration": 124,
    "start_time": "2021-07-08T08:47:46.872Z"
   },
   {
    "duration": 191,
    "start_time": "2021-07-08T08:47:58.148Z"
   },
   {
    "duration": 191,
    "start_time": "2021-07-08T08:48:07.412Z"
   },
   {
    "duration": 261,
    "start_time": "2021-07-08T08:48:10.385Z"
   },
   {
    "duration": 255,
    "start_time": "2021-07-08T08:48:14.494Z"
   },
   {
    "duration": 219,
    "start_time": "2021-07-08T08:48:22.752Z"
   },
   {
    "duration": 173,
    "start_time": "2021-07-08T08:49:06.395Z"
   },
   {
    "duration": 180,
    "start_time": "2021-07-08T08:49:21.011Z"
   },
   {
    "duration": 6,
    "start_time": "2021-07-08T08:50:31.697Z"
   },
   {
    "duration": 10,
    "start_time": "2021-07-08T08:50:47.394Z"
   },
   {
    "duration": 11,
    "start_time": "2021-07-08T08:53:49.332Z"
   },
   {
    "duration": 171,
    "start_time": "2021-07-08T08:54:28.408Z"
   },
   {
    "duration": 636,
    "start_time": "2021-07-08T09:02:48.385Z"
   },
   {
    "duration": 227,
    "start_time": "2021-07-08T09:02:49.023Z"
   },
   {
    "duration": 104,
    "start_time": "2021-07-08T09:02:49.252Z"
   },
   {
    "duration": 5,
    "start_time": "2021-07-08T09:02:49.358Z"
   },
   {
    "duration": 27,
    "start_time": "2021-07-08T09:02:49.365Z"
   },
   {
    "duration": 8,
    "start_time": "2021-07-08T09:02:49.394Z"
   },
   {
    "duration": 18,
    "start_time": "2021-07-08T09:02:49.404Z"
   },
   {
    "duration": 6,
    "start_time": "2021-07-08T09:02:49.424Z"
   },
   {
    "duration": 11,
    "start_time": "2021-07-08T09:02:49.433Z"
   },
   {
    "duration": 13,
    "start_time": "2021-07-08T09:02:49.485Z"
   },
   {
    "duration": 9,
    "start_time": "2021-07-08T09:02:49.500Z"
   },
   {
    "duration": 38,
    "start_time": "2021-07-08T09:02:49.511Z"
   },
   {
    "duration": 42,
    "start_time": "2021-07-08T09:02:49.551Z"
   },
   {
    "duration": 21,
    "start_time": "2021-07-08T09:02:49.594Z"
   },
   {
    "duration": 6,
    "start_time": "2021-07-08T09:02:49.616Z"
   },
   {
    "duration": 3,
    "start_time": "2021-07-08T09:02:49.623Z"
   },
   {
    "duration": 9,
    "start_time": "2021-07-08T09:02:49.628Z"
   },
   {
    "duration": 52,
    "start_time": "2021-07-08T09:02:49.638Z"
   },
   {
    "duration": 11,
    "start_time": "2021-07-08T09:02:49.692Z"
   },
   {
    "duration": 8,
    "start_time": "2021-07-08T09:02:49.704Z"
   },
   {
    "duration": 27,
    "start_time": "2021-07-08T09:02:49.713Z"
   },
   {
    "duration": 59,
    "start_time": "2021-07-08T09:02:49.741Z"
   },
   {
    "duration": 8,
    "start_time": "2021-07-08T09:02:49.803Z"
   },
   {
    "duration": 14,
    "start_time": "2021-07-08T09:02:49.813Z"
   },
   {
    "duration": 20,
    "start_time": "2021-07-08T09:02:49.829Z"
   },
   {
    "duration": 44,
    "start_time": "2021-07-08T09:02:49.851Z"
   },
   {
    "duration": 14,
    "start_time": "2021-07-08T09:02:49.896Z"
   },
   {
    "duration": 221,
    "start_time": "2021-07-08T09:02:49.912Z"
   },
   {
    "duration": 6,
    "start_time": "2021-07-08T09:02:50.134Z"
   },
   {
    "duration": 206,
    "start_time": "2021-07-08T09:02:50.142Z"
   },
   {
    "duration": 19,
    "start_time": "2021-07-08T09:02:50.350Z"
   },
   {
    "duration": 21,
    "start_time": "2021-07-08T09:02:50.370Z"
   },
   {
    "duration": 20,
    "start_time": "2021-07-08T09:02:50.393Z"
   },
   {
    "duration": 5,
    "start_time": "2021-07-08T09:02:50.414Z"
   },
   {
    "duration": 5,
    "start_time": "2021-07-08T09:03:34.173Z"
   },
   {
    "duration": 6,
    "start_time": "2021-07-08T09:04:49.062Z"
   },
   {
    "duration": 9,
    "start_time": "2021-07-08T09:04:50.118Z"
   },
   {
    "duration": 14,
    "start_time": "2021-07-08T09:04:58.512Z"
   },
   {
    "duration": 9,
    "start_time": "2021-07-08T09:05:10.988Z"
   },
   {
    "duration": 11,
    "start_time": "2021-07-08T09:05:11.743Z"
   },
   {
    "duration": 7,
    "start_time": "2021-07-08T09:05:25.677Z"
   },
   {
    "duration": 13,
    "start_time": "2021-07-08T09:05:47.189Z"
   },
   {
    "duration": 13,
    "start_time": "2021-07-08T09:05:54.755Z"
   },
   {
    "duration": 4,
    "start_time": "2021-07-08T09:06:29.189Z"
   },
   {
    "duration": 244,
    "start_time": "2021-07-08T09:06:29.195Z"
   },
   {
    "duration": 91,
    "start_time": "2021-07-08T09:06:29.441Z"
   },
   {
    "duration": 4,
    "start_time": "2021-07-08T09:06:29.534Z"
   },
   {
    "duration": 28,
    "start_time": "2021-07-08T09:06:29.540Z"
   },
   {
    "duration": 6,
    "start_time": "2021-07-08T09:06:29.570Z"
   },
   {
    "duration": 18,
    "start_time": "2021-07-08T09:06:29.578Z"
   },
   {
    "duration": 5,
    "start_time": "2021-07-08T09:06:29.597Z"
   },
   {
    "duration": 13,
    "start_time": "2021-07-08T09:06:29.605Z"
   },
   {
    "duration": 8,
    "start_time": "2021-07-08T09:06:29.620Z"
   },
   {
    "duration": 7,
    "start_time": "2021-07-08T09:06:29.630Z"
   },
   {
    "duration": 63,
    "start_time": "2021-07-08T09:06:29.639Z"
   },
   {
    "duration": 17,
    "start_time": "2021-07-08T09:06:29.704Z"
   },
   {
    "duration": 20,
    "start_time": "2021-07-08T09:06:29.723Z"
   },
   {
    "duration": 6,
    "start_time": "2021-07-08T09:06:29.745Z"
   },
   {
    "duration": 3,
    "start_time": "2021-07-08T09:06:29.752Z"
   },
   {
    "duration": 7,
    "start_time": "2021-07-08T09:06:29.785Z"
   },
   {
    "duration": 11,
    "start_time": "2021-07-08T09:06:29.794Z"
   },
   {
    "duration": 15,
    "start_time": "2021-07-08T09:06:29.807Z"
   },
   {
    "duration": 8,
    "start_time": "2021-07-08T09:06:29.823Z"
   },
   {
    "duration": 70,
    "start_time": "2021-07-08T09:06:29.832Z"
   },
   {
    "duration": 17,
    "start_time": "2021-07-08T09:06:29.903Z"
   },
   {
    "duration": 9,
    "start_time": "2021-07-08T09:06:29.921Z"
   },
   {
    "duration": 9,
    "start_time": "2021-07-08T09:06:29.932Z"
   },
   {
    "duration": 57,
    "start_time": "2021-07-08T09:06:29.942Z"
   },
   {
    "duration": 11,
    "start_time": "2021-07-08T09:06:30.001Z"
   },
   {
    "duration": 19,
    "start_time": "2021-07-08T09:06:30.016Z"
   },
   {
    "duration": 217,
    "start_time": "2021-07-08T09:06:30.037Z"
   },
   {
    "duration": 6,
    "start_time": "2021-07-08T09:06:30.255Z"
   },
   {
    "duration": 205,
    "start_time": "2021-07-08T09:06:30.263Z"
   },
   {
    "duration": 27,
    "start_time": "2021-07-08T09:06:30.470Z"
   },
   {
    "duration": 11,
    "start_time": "2021-07-08T09:06:30.500Z"
   },
   {
    "duration": 31,
    "start_time": "2021-07-08T09:06:30.513Z"
   },
   {
    "duration": 18,
    "start_time": "2021-07-08T09:06:30.546Z"
   },
   {
    "duration": 11,
    "start_time": "2021-07-08T09:06:30.566Z"
   },
   {
    "duration": 19,
    "start_time": "2021-07-08T09:06:30.579Z"
   },
   {
    "duration": 20,
    "start_time": "2021-07-08T09:06:49.466Z"
   },
   {
    "duration": 9,
    "start_time": "2021-07-08T09:06:51.994Z"
   },
   {
    "duration": 20,
    "start_time": "2021-07-08T09:06:52.273Z"
   },
   {
    "duration": 246,
    "start_time": "2021-07-08T09:10:21.272Z"
   },
   {
    "duration": 84,
    "start_time": "2021-07-08T09:10:21.436Z"
   },
   {
    "duration": 7,
    "start_time": "2021-07-08T09:10:37.608Z"
   },
   {
    "duration": 189,
    "start_time": "2021-07-08T09:10:38.573Z"
   },
   {
    "duration": 185,
    "start_time": "2021-07-08T09:10:53.181Z"
   },
   {
    "duration": 11,
    "start_time": "2021-07-08T09:10:59.549Z"
   },
   {
    "duration": 42,
    "start_time": "2021-07-08T09:10:59.709Z"
   },
   {
    "duration": 12,
    "start_time": "2021-07-08T09:11:02.857Z"
   },
   {
    "duration": 28,
    "start_time": "2021-07-08T09:11:10.062Z"
   },
   {
    "duration": 249,
    "start_time": "2021-07-08T09:11:37.388Z"
   },
   {
    "duration": 232,
    "start_time": "2021-07-08T09:11:49.485Z"
   },
   {
    "duration": 453,
    "start_time": "2021-07-08T09:12:01.546Z"
   },
   {
    "duration": 440,
    "start_time": "2021-07-08T09:12:12.347Z"
   },
   {
    "duration": 213,
    "start_time": "2021-07-08T09:13:32.196Z"
   },
   {
    "duration": 172,
    "start_time": "2021-07-08T09:14:07.400Z"
   },
   {
    "duration": 185,
    "start_time": "2021-07-08T09:14:14.905Z"
   },
   {
    "duration": 209,
    "start_time": "2021-07-08T09:14:40.109Z"
   },
   {
    "duration": 201,
    "start_time": "2021-07-08T09:14:54.506Z"
   },
   {
    "duration": 622,
    "start_time": "2021-07-08T09:18:14.497Z"
   },
   {
    "duration": 220,
    "start_time": "2021-07-08T09:18:15.121Z"
   },
   {
    "duration": 79,
    "start_time": "2021-07-08T09:18:15.343Z"
   },
   {
    "duration": 4,
    "start_time": "2021-07-08T09:18:15.425Z"
   },
   {
    "duration": 24,
    "start_time": "2021-07-08T09:18:15.431Z"
   },
   {
    "duration": 8,
    "start_time": "2021-07-08T09:18:15.457Z"
   },
   {
    "duration": 16,
    "start_time": "2021-07-08T09:18:15.466Z"
   },
   {
    "duration": 5,
    "start_time": "2021-07-08T09:18:15.484Z"
   },
   {
    "duration": 10,
    "start_time": "2021-07-08T09:18:15.493Z"
   },
   {
    "duration": 8,
    "start_time": "2021-07-08T09:18:15.504Z"
   },
   {
    "duration": 7,
    "start_time": "2021-07-08T09:18:15.513Z"
   },
   {
    "duration": 26,
    "start_time": "2021-07-08T09:18:15.522Z"
   },
   {
    "duration": 49,
    "start_time": "2021-07-08T09:18:15.550Z"
   },
   {
    "duration": 21,
    "start_time": "2021-07-08T09:18:15.601Z"
   },
   {
    "duration": 8,
    "start_time": "2021-07-08T09:18:15.624Z"
   },
   {
    "duration": 3,
    "start_time": "2021-07-08T09:18:15.634Z"
   },
   {
    "duration": 8,
    "start_time": "2021-07-08T09:18:15.639Z"
   },
   {
    "duration": 45,
    "start_time": "2021-07-08T09:18:15.649Z"
   },
   {
    "duration": 13,
    "start_time": "2021-07-08T09:18:15.696Z"
   },
   {
    "duration": 10,
    "start_time": "2021-07-08T09:18:15.711Z"
   },
   {
    "duration": 64,
    "start_time": "2021-07-08T09:18:15.722Z"
   },
   {
    "duration": 19,
    "start_time": "2021-07-08T09:18:15.788Z"
   },
   {
    "duration": 9,
    "start_time": "2021-07-08T09:18:15.809Z"
   },
   {
    "duration": 9,
    "start_time": "2021-07-08T09:18:15.820Z"
   },
   {
    "duration": 18,
    "start_time": "2021-07-08T09:18:15.831Z"
   },
   {
    "duration": 43,
    "start_time": "2021-07-08T09:18:15.851Z"
   },
   {
    "duration": 12,
    "start_time": "2021-07-08T09:18:15.897Z"
   },
   {
    "duration": 219,
    "start_time": "2021-07-08T09:18:15.911Z"
   },
   {
    "duration": 8,
    "start_time": "2021-07-08T09:18:16.132Z"
   },
   {
    "duration": 199,
    "start_time": "2021-07-08T09:18:16.141Z"
   },
   {
    "duration": 18,
    "start_time": "2021-07-08T09:18:16.341Z"
   },
   {
    "duration": 24,
    "start_time": "2021-07-08T09:18:16.361Z"
   },
   {
    "duration": 24,
    "start_time": "2021-07-08T09:18:16.387Z"
   },
   {
    "duration": 211,
    "start_time": "2021-07-08T09:18:16.413Z"
   },
   {
    "duration": 18,
    "start_time": "2021-07-08T09:18:16.626Z"
   },
   {
    "duration": 596,
    "start_time": "2021-07-08T10:06:33.623Z"
   },
   {
    "duration": 181,
    "start_time": "2021-07-08T10:06:34.221Z"
   },
   {
    "duration": 176,
    "start_time": "2021-07-08T10:06:34.635Z"
   },
   {
    "duration": 239,
    "start_time": "2021-07-08T10:06:55.572Z"
   },
   {
    "duration": 6,
    "start_time": "2021-07-08T10:06:57.687Z"
   },
   {
    "duration": 4,
    "start_time": "2021-07-08T10:07:03.956Z"
   },
   {
    "duration": 4,
    "start_time": "2021-07-08T10:07:10.376Z"
   },
   {
    "duration": 4,
    "start_time": "2021-07-08T10:17:19.889Z"
   },
   {
    "duration": 3,
    "start_time": "2021-07-08T10:19:19.407Z"
   },
   {
    "duration": 197,
    "start_time": "2021-07-08T10:19:19.412Z"
   },
   {
    "duration": 127,
    "start_time": "2021-07-08T10:19:19.611Z"
   },
   {
    "duration": 4,
    "start_time": "2021-07-08T10:19:19.740Z"
   },
   {
    "duration": 27,
    "start_time": "2021-07-08T10:19:19.746Z"
   },
   {
    "duration": 7,
    "start_time": "2021-07-08T10:19:19.775Z"
   },
   {
    "duration": 30,
    "start_time": "2021-07-08T10:19:19.784Z"
   },
   {
    "duration": 7,
    "start_time": "2021-07-08T10:19:19.817Z"
   },
   {
    "duration": 26,
    "start_time": "2021-07-08T10:19:19.826Z"
   },
   {
    "duration": 18,
    "start_time": "2021-07-08T10:19:19.854Z"
   },
   {
    "duration": 14,
    "start_time": "2021-07-08T10:19:19.874Z"
   },
   {
    "duration": 48,
    "start_time": "2021-07-08T10:19:19.890Z"
   },
   {
    "duration": 17,
    "start_time": "2021-07-08T10:19:19.940Z"
   },
   {
    "duration": 38,
    "start_time": "2021-07-08T10:19:19.959Z"
   },
   {
    "duration": 8,
    "start_time": "2021-07-08T10:19:19.999Z"
   },
   {
    "duration": 15,
    "start_time": "2021-07-08T10:19:20.009Z"
   },
   {
    "duration": 22,
    "start_time": "2021-07-08T10:19:20.026Z"
   },
   {
    "duration": 10,
    "start_time": "2021-07-08T10:19:20.050Z"
   },
   {
    "duration": 10,
    "start_time": "2021-07-08T10:19:20.062Z"
   },
   {
    "duration": 20,
    "start_time": "2021-07-08T10:19:20.073Z"
   },
   {
    "duration": 29,
    "start_time": "2021-07-08T10:19:20.095Z"
   },
   {
    "duration": 17,
    "start_time": "2021-07-08T10:19:20.126Z"
   },
   {
    "duration": 40,
    "start_time": "2021-07-08T10:19:20.146Z"
   },
   {
    "duration": 15,
    "start_time": "2021-07-08T10:19:20.189Z"
   },
   {
    "duration": 19,
    "start_time": "2021-07-08T10:19:20.206Z"
   },
   {
    "duration": 10,
    "start_time": "2021-07-08T10:19:20.226Z"
   },
   {
    "duration": 11,
    "start_time": "2021-07-08T10:19:20.238Z"
   },
   {
    "duration": 297,
    "start_time": "2021-07-08T10:19:20.250Z"
   },
   {
    "duration": 6,
    "start_time": "2021-07-08T10:19:20.549Z"
   },
   {
    "duration": 191,
    "start_time": "2021-07-08T10:19:20.557Z"
   },
   {
    "duration": 19,
    "start_time": "2021-07-08T10:19:20.750Z"
   },
   {
    "duration": 20,
    "start_time": "2021-07-08T10:19:20.771Z"
   },
   {
    "duration": 15,
    "start_time": "2021-07-08T10:19:20.793Z"
   },
   {
    "duration": 222,
    "start_time": "2021-07-08T10:19:20.809Z"
   },
   {
    "duration": 20,
    "start_time": "2021-07-08T10:19:21.033Z"
   },
   {
    "duration": 27,
    "start_time": "2021-07-08T10:45:04.055Z"
   },
   {
    "duration": 8,
    "start_time": "2021-07-08T10:45:08.478Z"
   },
   {
    "duration": 8,
    "start_time": "2021-07-08T10:45:31.982Z"
   },
   {
    "duration": 10,
    "start_time": "2021-07-08T10:46:01.221Z"
   },
   {
    "duration": 17,
    "start_time": "2021-07-08T10:46:40.011Z"
   },
   {
    "duration": 193,
    "start_time": "2021-07-08T10:48:19.471Z"
   },
   {
    "duration": 225,
    "start_time": "2021-07-08T10:49:26.480Z"
   },
   {
    "duration": 204,
    "start_time": "2021-07-08T10:49:59.992Z"
   },
   {
    "duration": 435,
    "start_time": "2021-07-08T10:50:06.779Z"
   },
   {
    "duration": 199,
    "start_time": "2021-07-08T10:50:14.891Z"
   },
   {
    "duration": 204,
    "start_time": "2021-07-08T10:50:18.501Z"
   },
   {
    "duration": 244,
    "start_time": "2021-07-08T10:50:23.359Z"
   },
   {
    "duration": 192,
    "start_time": "2021-07-08T10:50:29.135Z"
   },
   {
    "duration": 218,
    "start_time": "2021-07-08T10:50:33.092Z"
   },
   {
    "duration": 207,
    "start_time": "2021-07-08T10:52:45.381Z"
   },
   {
    "duration": 5,
    "start_time": "2021-07-08T10:53:34.641Z"
   },
   {
    "duration": 196,
    "start_time": "2021-07-08T10:53:41.478Z"
   },
   {
    "duration": 43,
    "start_time": "2021-07-08T10:53:50.335Z"
   },
   {
    "duration": 32,
    "start_time": "2021-07-08T10:53:55.294Z"
   },
   {
    "duration": 55,
    "start_time": "2021-07-08T10:54:09.675Z"
   },
   {
    "duration": 16,
    "start_time": "2021-07-08T10:54:12.260Z"
   },
   {
    "duration": 15,
    "start_time": "2021-07-08T10:54:49.150Z"
   },
   {
    "duration": 20,
    "start_time": "2021-07-08T10:56:07.596Z"
   },
   {
    "duration": 16,
    "start_time": "2021-07-08T10:58:26.276Z"
   },
   {
    "duration": 22,
    "start_time": "2021-07-08T10:59:00.486Z"
   },
   {
    "duration": 18,
    "start_time": "2021-07-08T11:02:09.653Z"
   },
   {
    "duration": 10,
    "start_time": "2021-07-08T11:03:44.331Z"
   },
   {
    "duration": 10,
    "start_time": "2021-07-08T11:03:54.055Z"
   },
   {
    "duration": 12,
    "start_time": "2021-07-08T11:04:41.967Z"
   },
   {
    "duration": 24,
    "start_time": "2021-07-08T11:07:30.732Z"
   },
   {
    "duration": 6,
    "start_time": "2021-07-08T11:07:37.364Z"
   },
   {
    "duration": 16,
    "start_time": "2021-07-08T11:08:01.819Z"
   },
   {
    "duration": 17,
    "start_time": "2021-07-08T11:09:47.488Z"
   },
   {
    "duration": 246,
    "start_time": "2021-07-08T11:10:00.830Z"
   },
   {
    "duration": 18,
    "start_time": "2021-07-08T11:13:55.195Z"
   },
   {
    "duration": 204,
    "start_time": "2021-07-08T11:14:04.951Z"
   },
   {
    "duration": 19,
    "start_time": "2021-07-08T11:15:10.613Z"
   },
   {
    "duration": 680,
    "start_time": "2021-07-08T11:16:25.793Z"
   },
   {
    "duration": 451,
    "start_time": "2021-07-08T11:16:40.313Z"
   },
   {
    "duration": 469,
    "start_time": "2021-07-08T11:17:21.286Z"
   },
   {
    "duration": 20,
    "start_time": "2021-07-08T11:19:12.554Z"
   },
   {
    "duration": 35,
    "start_time": "2021-07-08T11:20:05.484Z"
   },
   {
    "duration": 53,
    "start_time": "2021-07-08T11:21:40.050Z"
   },
   {
    "duration": 13,
    "start_time": "2021-07-08T11:22:26.059Z"
   },
   {
    "duration": 19,
    "start_time": "2021-07-08T11:22:47.419Z"
   },
   {
    "duration": 25,
    "start_time": "2021-07-08T11:23:19.958Z"
   },
   {
    "duration": 29,
    "start_time": "2021-07-08T11:23:25.415Z"
   },
   {
    "duration": 10,
    "start_time": "2021-07-08T11:24:45.138Z"
   },
   {
    "duration": 19,
    "start_time": "2021-07-08T11:24:54.498Z"
   },
   {
    "duration": 12,
    "start_time": "2021-07-08T11:25:32.225Z"
   },
   {
    "duration": 19,
    "start_time": "2021-07-08T11:25:37.092Z"
   },
   {
    "duration": 17,
    "start_time": "2021-07-08T11:25:58.116Z"
   },
   {
    "duration": 15,
    "start_time": "2021-07-08T11:26:02.258Z"
   },
   {
    "duration": 8,
    "start_time": "2021-07-08T11:26:59.682Z"
   },
   {
    "duration": 184,
    "start_time": "2021-07-08T11:27:21.894Z"
   },
   {
    "duration": 8,
    "start_time": "2021-07-08T11:27:23.824Z"
   },
   {
    "duration": 202,
    "start_time": "2021-07-08T11:27:23.962Z"
   },
   {
    "duration": 360,
    "start_time": "2021-07-08T11:28:33.215Z"
   },
   {
    "duration": 231,
    "start_time": "2021-07-08T11:32:05.542Z"
   },
   {
    "duration": 607,
    "start_time": "2021-07-08T11:36:27.854Z"
   },
   {
    "duration": 241,
    "start_time": "2021-07-08T11:36:28.463Z"
   },
   {
    "duration": 67,
    "start_time": "2021-07-08T11:36:28.709Z"
   },
   {
    "duration": 5,
    "start_time": "2021-07-08T11:36:28.778Z"
   },
   {
    "duration": 32,
    "start_time": "2021-07-08T11:36:28.784Z"
   },
   {
    "duration": 11,
    "start_time": "2021-07-08T11:36:28.819Z"
   },
   {
    "duration": 20,
    "start_time": "2021-07-08T11:36:28.834Z"
   },
   {
    "duration": 36,
    "start_time": "2021-07-08T11:36:28.857Z"
   },
   {
    "duration": 16,
    "start_time": "2021-07-08T11:36:28.895Z"
   },
   {
    "duration": 14,
    "start_time": "2021-07-08T11:36:28.913Z"
   },
   {
    "duration": 9,
    "start_time": "2021-07-08T11:36:28.930Z"
   },
   {
    "duration": 55,
    "start_time": "2021-07-08T11:36:28.941Z"
   },
   {
    "duration": 27,
    "start_time": "2021-07-08T11:36:28.999Z"
   },
   {
    "duration": 30,
    "start_time": "2021-07-08T11:36:29.028Z"
   },
   {
    "duration": 31,
    "start_time": "2021-07-08T11:36:29.060Z"
   },
   {
    "duration": 3,
    "start_time": "2021-07-08T11:36:29.093Z"
   },
   {
    "duration": 12,
    "start_time": "2021-07-08T11:36:29.099Z"
   },
   {
    "duration": 11,
    "start_time": "2021-07-08T11:36:29.112Z"
   },
   {
    "duration": 12,
    "start_time": "2021-07-08T11:36:29.125Z"
   },
   {
    "duration": 9,
    "start_time": "2021-07-08T11:36:29.139Z"
   },
   {
    "duration": 31,
    "start_time": "2021-07-08T11:36:29.191Z"
   },
   {
    "duration": 17,
    "start_time": "2021-07-08T11:36:29.226Z"
   },
   {
    "duration": 7,
    "start_time": "2021-07-08T11:36:29.245Z"
   },
   {
    "duration": 10,
    "start_time": "2021-07-08T11:36:29.254Z"
   },
   {
    "duration": 30,
    "start_time": "2021-07-08T11:36:29.292Z"
   },
   {
    "duration": 11,
    "start_time": "2021-07-08T11:36:29.324Z"
   },
   {
    "duration": 11,
    "start_time": "2021-07-08T11:36:29.337Z"
   },
   {
    "duration": 230,
    "start_time": "2021-07-08T11:36:29.349Z"
   },
   {
    "duration": 13,
    "start_time": "2021-07-08T11:36:29.588Z"
   },
   {
    "duration": 205,
    "start_time": "2021-07-08T11:36:29.603Z"
   },
   {
    "duration": 20,
    "start_time": "2021-07-08T11:36:29.810Z"
   },
   {
    "duration": 9,
    "start_time": "2021-07-08T11:36:29.832Z"
   },
   {
    "duration": 16,
    "start_time": "2021-07-08T11:36:29.843Z"
   },
   {
    "duration": 283,
    "start_time": "2021-07-08T11:36:29.861Z"
   },
   {
    "duration": 50,
    "start_time": "2021-07-08T11:36:30.146Z"
   },
   {
    "duration": 14,
    "start_time": "2021-07-08T11:36:30.198Z"
   },
   {
    "duration": 11,
    "start_time": "2021-07-08T11:36:30.214Z"
   },
   {
    "duration": 245,
    "start_time": "2021-07-08T11:36:30.227Z"
   },
   {
    "duration": 439,
    "start_time": "2021-07-08T11:36:30.474Z"
   },
   {
    "duration": 210,
    "start_time": "2021-07-08T11:36:30.915Z"
   },
   {
    "duration": 15,
    "start_time": "2021-07-08T11:36:31.127Z"
   },
   {
    "duration": 17,
    "start_time": "2021-07-08T11:38:20.451Z"
   },
   {
    "duration": 642,
    "start_time": "2021-07-08T11:46:17.881Z"
   },
   {
    "duration": 210,
    "start_time": "2021-07-08T11:46:18.525Z"
   },
   {
    "duration": 104,
    "start_time": "2021-07-08T11:46:18.741Z"
   },
   {
    "duration": 8,
    "start_time": "2021-07-08T11:46:18.847Z"
   },
   {
    "duration": 25,
    "start_time": "2021-07-08T11:46:18.857Z"
   },
   {
    "duration": 14,
    "start_time": "2021-07-08T11:46:18.884Z"
   },
   {
    "duration": 22,
    "start_time": "2021-07-08T11:46:18.900Z"
   },
   {
    "duration": 5,
    "start_time": "2021-07-08T11:46:18.924Z"
   },
   {
    "duration": 13,
    "start_time": "2021-07-08T11:46:18.931Z"
   },
   {
    "duration": 45,
    "start_time": "2021-07-08T11:46:18.946Z"
   },
   {
    "duration": 12,
    "start_time": "2021-07-08T11:46:18.993Z"
   },
   {
    "duration": 38,
    "start_time": "2021-07-08T11:46:19.006Z"
   },
   {
    "duration": 50,
    "start_time": "2021-07-08T11:46:19.046Z"
   },
   {
    "duration": 29,
    "start_time": "2021-07-08T11:46:19.099Z"
   },
   {
    "duration": 7,
    "start_time": "2021-07-08T11:46:19.130Z"
   },
   {
    "duration": 3,
    "start_time": "2021-07-08T11:46:19.139Z"
   },
   {
    "duration": 11,
    "start_time": "2021-07-08T11:46:19.144Z"
   },
   {
    "duration": 40,
    "start_time": "2021-07-08T11:46:19.157Z"
   },
   {
    "duration": 15,
    "start_time": "2021-07-08T11:46:19.199Z"
   },
   {
    "duration": 10,
    "start_time": "2021-07-08T11:46:19.217Z"
   },
   {
    "duration": 68,
    "start_time": "2021-07-08T11:46:19.230Z"
   },
   {
    "duration": 17,
    "start_time": "2021-07-08T11:46:19.301Z"
   },
   {
    "duration": 7,
    "start_time": "2021-07-08T11:46:19.321Z"
   },
   {
    "duration": 11,
    "start_time": "2021-07-08T11:46:19.330Z"
   },
   {
    "duration": 59,
    "start_time": "2021-07-08T11:46:19.343Z"
   },
   {
    "duration": 17,
    "start_time": "2021-07-08T11:46:19.405Z"
   },
   {
    "duration": 16,
    "start_time": "2021-07-08T11:46:19.424Z"
   },
   {
    "duration": 252,
    "start_time": "2021-07-08T11:46:19.443Z"
   },
   {
    "duration": 9,
    "start_time": "2021-07-08T11:46:19.697Z"
   },
   {
    "duration": 224,
    "start_time": "2021-07-08T11:46:19.708Z"
   },
   {
    "duration": 21,
    "start_time": "2021-07-08T11:46:19.934Z"
   },
   {
    "duration": 9,
    "start_time": "2021-07-08T11:46:19.956Z"
   },
   {
    "duration": 32,
    "start_time": "2021-07-08T11:46:19.967Z"
   },
   {
    "duration": 288,
    "start_time": "2021-07-08T11:46:20.004Z"
   },
   {
    "duration": 23,
    "start_time": "2021-07-08T11:46:20.300Z"
   },
   {
    "duration": 11,
    "start_time": "2021-07-08T11:46:20.325Z"
   },
   {
    "duration": 11,
    "start_time": "2021-07-08T11:46:20.339Z"
   },
   {
    "duration": 259,
    "start_time": "2021-07-08T11:46:20.352Z"
   },
   {
    "duration": 438,
    "start_time": "2021-07-08T11:46:20.613Z"
   },
   {
    "duration": 207,
    "start_time": "2021-07-08T11:46:21.054Z"
   },
   {
    "duration": 27,
    "start_time": "2021-07-08T11:46:21.262Z"
   },
   {
    "duration": 19,
    "start_time": "2021-07-08T11:46:21.291Z"
   },
   {
    "duration": 820,
    "start_time": "2021-07-08T11:49:01.655Z"
   },
   {
    "duration": 372,
    "start_time": "2021-07-08T11:49:02.478Z"
   },
   {
    "duration": 98,
    "start_time": "2021-07-08T11:49:02.853Z"
   },
   {
    "duration": 6,
    "start_time": "2021-07-08T11:49:02.953Z"
   },
   {
    "duration": 39,
    "start_time": "2021-07-08T11:49:02.960Z"
   },
   {
    "duration": 9,
    "start_time": "2021-07-08T11:49:03.003Z"
   },
   {
    "duration": 23,
    "start_time": "2021-07-08T11:49:03.014Z"
   },
   {
    "duration": 6,
    "start_time": "2021-07-08T11:49:03.041Z"
   },
   {
    "duration": 20,
    "start_time": "2021-07-08T11:49:03.049Z"
   },
   {
    "duration": 18,
    "start_time": "2021-07-08T11:49:03.084Z"
   },
   {
    "duration": 14,
    "start_time": "2021-07-08T11:49:03.104Z"
   },
   {
    "duration": 39,
    "start_time": "2021-07-08T11:49:03.119Z"
   },
   {
    "duration": 38,
    "start_time": "2021-07-08T11:49:03.160Z"
   },
   {
    "duration": 26,
    "start_time": "2021-07-08T11:49:03.200Z"
   },
   {
    "duration": 7,
    "start_time": "2021-07-08T11:49:03.227Z"
   },
   {
    "duration": 4,
    "start_time": "2021-07-08T11:49:03.236Z"
   },
   {
    "duration": 15,
    "start_time": "2021-07-08T11:49:03.243Z"
   },
   {
    "duration": 21,
    "start_time": "2021-07-08T11:49:03.285Z"
   },
   {
    "duration": 17,
    "start_time": "2021-07-08T11:49:03.309Z"
   },
   {
    "duration": 10,
    "start_time": "2021-07-08T11:49:03.328Z"
   },
   {
    "duration": 65,
    "start_time": "2021-07-08T11:49:03.340Z"
   },
   {
    "duration": 18,
    "start_time": "2021-07-08T11:49:03.407Z"
   },
   {
    "duration": 8,
    "start_time": "2021-07-08T11:49:03.428Z"
   },
   {
    "duration": 15,
    "start_time": "2021-07-08T11:49:03.438Z"
   },
   {
    "duration": 40,
    "start_time": "2021-07-08T11:49:03.455Z"
   },
   {
    "duration": 12,
    "start_time": "2021-07-08T11:49:03.497Z"
   },
   {
    "duration": 29,
    "start_time": "2021-07-08T11:49:03.511Z"
   },
   {
    "duration": 285,
    "start_time": "2021-07-08T11:49:03.542Z"
   },
   {
    "duration": 8,
    "start_time": "2021-07-08T11:49:03.829Z"
   },
   {
    "duration": 227,
    "start_time": "2021-07-08T11:49:03.838Z"
   },
   {
    "duration": 40,
    "start_time": "2021-07-08T11:49:04.066Z"
   },
   {
    "duration": 10,
    "start_time": "2021-07-08T11:49:04.108Z"
   },
   {
    "duration": 26,
    "start_time": "2021-07-08T11:49:04.121Z"
   },
   {
    "duration": 290,
    "start_time": "2021-07-08T11:49:04.149Z"
   },
   {
    "duration": 26,
    "start_time": "2021-07-08T11:49:04.441Z"
   },
   {
    "duration": 31,
    "start_time": "2021-07-08T11:49:04.470Z"
   },
   {
    "duration": 14,
    "start_time": "2021-07-08T11:49:04.503Z"
   },
   {
    "duration": 259,
    "start_time": "2021-07-08T11:49:04.521Z"
   },
   {
    "duration": 480,
    "start_time": "2021-07-08T11:49:04.782Z"
   },
   {
    "duration": 225,
    "start_time": "2021-07-08T11:49:05.264Z"
   },
   {
    "duration": 22,
    "start_time": "2021-07-08T11:49:05.491Z"
   },
   {
    "duration": 24,
    "start_time": "2021-07-08T11:49:05.515Z"
   },
   {
    "duration": 634,
    "start_time": "2021-07-08T11:52:24.960Z"
   },
   {
    "duration": 199,
    "start_time": "2021-07-08T11:52:25.599Z"
   },
   {
    "duration": 106,
    "start_time": "2021-07-08T11:52:25.803Z"
   },
   {
    "duration": 7,
    "start_time": "2021-07-08T11:52:25.911Z"
   },
   {
    "duration": 29,
    "start_time": "2021-07-08T11:52:25.920Z"
   },
   {
    "duration": 7,
    "start_time": "2021-07-08T11:52:25.951Z"
   },
   {
    "duration": 26,
    "start_time": "2021-07-08T11:52:25.961Z"
   },
   {
    "duration": 11,
    "start_time": "2021-07-08T11:52:25.990Z"
   },
   {
    "duration": 29,
    "start_time": "2021-07-08T11:52:26.005Z"
   },
   {
    "duration": 9,
    "start_time": "2021-07-08T11:52:26.036Z"
   },
   {
    "duration": 8,
    "start_time": "2021-07-08T11:52:26.047Z"
   },
   {
    "duration": 63,
    "start_time": "2021-07-08T11:52:26.057Z"
   },
   {
    "duration": 17,
    "start_time": "2021-07-08T11:52:26.122Z"
   },
   {
    "duration": 43,
    "start_time": "2021-07-08T11:52:26.142Z"
   },
   {
    "duration": 17,
    "start_time": "2021-07-08T11:52:26.187Z"
   },
   {
    "duration": 5,
    "start_time": "2021-07-08T11:52:26.206Z"
   },
   {
    "duration": 12,
    "start_time": "2021-07-08T11:52:26.212Z"
   },
   {
    "duration": 11,
    "start_time": "2021-07-08T11:52:26.226Z"
   },
   {
    "duration": 12,
    "start_time": "2021-07-08T11:52:26.238Z"
   },
   {
    "duration": 38,
    "start_time": "2021-07-08T11:52:26.252Z"
   },
   {
    "duration": 40,
    "start_time": "2021-07-08T11:52:26.292Z"
   },
   {
    "duration": 17,
    "start_time": "2021-07-08T11:52:26.336Z"
   },
   {
    "duration": 39,
    "start_time": "2021-07-08T11:52:26.355Z"
   },
   {
    "duration": 11,
    "start_time": "2021-07-08T11:52:26.395Z"
   },
   {
    "duration": 23,
    "start_time": "2021-07-08T11:52:26.408Z"
   },
   {
    "duration": 12,
    "start_time": "2021-07-08T11:52:26.432Z"
   },
   {
    "duration": 41,
    "start_time": "2021-07-08T11:52:26.446Z"
   },
   {
    "duration": 215,
    "start_time": "2021-07-08T11:52:26.493Z"
   },
   {
    "duration": 8,
    "start_time": "2021-07-08T11:52:26.710Z"
   },
   {
    "duration": 228,
    "start_time": "2021-07-08T11:52:26.720Z"
   },
   {
    "duration": 18,
    "start_time": "2021-07-08T11:52:26.950Z"
   },
   {
    "duration": 35,
    "start_time": "2021-07-08T11:52:26.969Z"
   },
   {
    "duration": 23,
    "start_time": "2021-07-08T11:52:27.006Z"
   },
   {
    "duration": 258,
    "start_time": "2021-07-08T11:52:27.030Z"
   },
   {
    "duration": 24,
    "start_time": "2021-07-08T11:52:27.290Z"
   },
   {
    "duration": 12,
    "start_time": "2021-07-08T11:52:27.316Z"
   },
   {
    "duration": 10,
    "start_time": "2021-07-08T11:52:27.329Z"
   },
   {
    "duration": 298,
    "start_time": "2021-07-08T11:52:27.341Z"
   },
   {
    "duration": 436,
    "start_time": "2021-07-08T11:52:27.641Z"
   },
   {
    "duration": 216,
    "start_time": "2021-07-08T11:52:28.079Z"
   },
   {
    "duration": 20,
    "start_time": "2021-07-08T11:52:28.297Z"
   },
   {
    "duration": 17,
    "start_time": "2021-07-08T11:52:28.319Z"
   }
  ],
  "colab": {
   "name": "DA+. Сборный проект 1. Шаблон (1).ipynb",
   "provenance": []
  },
  "kernelspec": {
   "display_name": "Python 3 (ipykernel)",
   "language": "python",
   "name": "python3"
  },
  "language_info": {
   "codemirror_mode": {
    "name": "ipython",
    "version": 3
   },
   "file_extension": ".py",
   "mimetype": "text/x-python",
   "name": "python",
   "nbconvert_exporter": "python",
   "pygments_lexer": "ipython3",
   "version": "3.10.0"
  },
  "toc": {
   "base_numbering": 1,
   "nav_menu": {},
   "number_sections": true,
   "sideBar": true,
   "skip_h1_title": true,
   "title_cell": "Table of Contents",
   "title_sidebar": "Contents",
   "toc_cell": false,
   "toc_position": {
    "height": "calc(100% - 180px)",
    "left": "10px",
    "top": "150px",
    "width": "375.391px"
   },
   "toc_section_display": true,
   "toc_window_display": false
  }
 },
 "nbformat": 4,
 "nbformat_minor": 1
}
